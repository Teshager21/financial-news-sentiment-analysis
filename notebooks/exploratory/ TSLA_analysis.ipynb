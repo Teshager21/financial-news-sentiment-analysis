{
 "cells": [
  {
   "cell_type": "markdown",
   "id": "8df97469",
   "metadata": {},
   "source": [
    "<div style=\"background-color:#f0f8ff; padding:10px; border-radius:10px;\">\n",
    "  <h1 style=\"text-align:center; color:#1a5276;\">\n",
    "    📈 TESLA Analysis\n",
    "  </h1>\n",
    "</div>"
   ]
  },
  {
   "cell_type": "code",
   "execution_count": 1,
   "id": "b7af41b3",
   "metadata": {},
   "outputs": [],
   "source": [
    "#auto loading\n",
    "%load_ext autoreload\n",
    "%autoreload 2"
   ]
  },
  {
   "cell_type": "markdown",
   "id": "09d14dde",
   "metadata": {},
   "source": [
    "## 🧱 1. Setup & Imports"
   ]
  },
  {
   "cell_type": "code",
   "execution_count": 2,
   "id": "71b654ef",
   "metadata": {},
   "outputs": [],
   "source": [
    "import warnings\n",
    "import pandas as pd\n",
    "from utils.ticker_analyzer import TickerAnalyzer\n",
    "from eda.data_quality_utils import DataQualityUtils\n",
    "from data.load_data import load_local_data"
   ]
  },
  {
   "cell_type": "code",
   "execution_count": 3,
   "id": "27c54ed8",
   "metadata": {},
   "outputs": [],
   "source": [
    "warnings.filterwarnings(\"ignore\")"
   ]
  },
  {
   "cell_type": "code",
   "execution_count": 4,
   "id": "219dcd86",
   "metadata": {},
   "outputs": [],
   "source": [
    "# variable\n",
    "TICKER= 'TSLA'"
   ]
  },
  {
   "cell_type": "code",
   "execution_count": 5,
   "id": "ac94d536",
   "metadata": {},
   "outputs": [],
   "source": [
    "#paths\n",
    "RAW_DATA_PATH='../../data/raw/yfinance_data/'+TICKER+'_historical_data.csv'\n",
    "CLEANED_DATA_PATH='../../data/interim/'+TICKER+'_historical_cleaned_data.csv'"
   ]
  },
  {
   "cell_type": "markdown",
   "id": "508c1dd7",
   "metadata": {},
   "source": [
    "### 📌 Project Overview"
   ]
  },
  {
   "cell_type": "markdown",
   "id": "5fe12101",
   "metadata": {},
   "source": [
    "#### AAPL Ticker Analysis 📊\n",
    "\n",
    "**Objective:**  \n",
    "This notebook applies the `TickerAnalyzer` class to analyze Apple Inc. (AAPL) stock performance. The analysis integrates:\n",
    "\n",
    "- Historical price data via `yfinance`\n",
    "- Technical indicators using `ta`\n",
    "- News sentiment analysis with `VADER`\n",
    "- Visualization of price movements vs. sentiment trends\n",
    "\n",
    "**Period:** Last 6 months (daily intervals)  \n",
    "**Tools:** Python, `yfinance`, `ta`, `vaderSentiment`, `matplotlib`\n",
    "\n",
    "---\n"
   ]
  },
  {
   "cell_type": "markdown",
   "id": "121c314e",
   "metadata": {},
   "source": [
    "## 📦 2. Data Loading & Overview  <a id= '2-data-loading--overview'></a>"
   ]
  },
  {
   "cell_type": "code",
   "execution_count": 6,
   "id": "d8971b5b",
   "metadata": {},
   "outputs": [
    {
     "name": "stderr",
     "output_type": "stream",
     "text": [
      "INFO:data.load_data:Loading data from: /home/teshager/Documents/10Academy/repositories/projects/financial-news-sentiment-analysis/data/raw/yfinance_data/TSLA_historical_data.csv (type=csv)\n"
     ]
    },
    {
     "name": "stderr",
     "output_type": "stream",
     "text": [
      "INFO:data.load_data:Data loaded successfully. Shape: (3545, 9)\n"
     ]
    },
    {
     "data": {
      "text/html": [
       "<div>\n",
       "<style scoped>\n",
       "    .dataframe tbody tr th:only-of-type {\n",
       "        vertical-align: middle;\n",
       "    }\n",
       "\n",
       "    .dataframe tbody tr th {\n",
       "        vertical-align: top;\n",
       "    }\n",
       "\n",
       "    .dataframe thead th {\n",
       "        text-align: right;\n",
       "    }\n",
       "</style>\n",
       "<table border=\"1\" class=\"dataframe\">\n",
       "  <thead>\n",
       "    <tr style=\"text-align: right;\">\n",
       "      <th></th>\n",
       "      <th>Date</th>\n",
       "      <th>Open</th>\n",
       "      <th>High</th>\n",
       "      <th>Low</th>\n",
       "      <th>Close</th>\n",
       "      <th>Adj Close</th>\n",
       "      <th>Volume</th>\n",
       "      <th>Dividends</th>\n",
       "      <th>Stock Splits</th>\n",
       "    </tr>\n",
       "  </thead>\n",
       "  <tbody>\n",
       "    <tr>\n",
       "      <th>0</th>\n",
       "      <td>2010-06-29</td>\n",
       "      <td>1.266667</td>\n",
       "      <td>1.666667</td>\n",
       "      <td>1.169333</td>\n",
       "      <td>1.592667</td>\n",
       "      <td>1.592667</td>\n",
       "      <td>281494500</td>\n",
       "      <td>0.0</td>\n",
       "      <td>0.0</td>\n",
       "    </tr>\n",
       "    <tr>\n",
       "      <th>1</th>\n",
       "      <td>2010-06-30</td>\n",
       "      <td>1.719333</td>\n",
       "      <td>2.028000</td>\n",
       "      <td>1.553333</td>\n",
       "      <td>1.588667</td>\n",
       "      <td>1.588667</td>\n",
       "      <td>257806500</td>\n",
       "      <td>0.0</td>\n",
       "      <td>0.0</td>\n",
       "    </tr>\n",
       "    <tr>\n",
       "      <th>2</th>\n",
       "      <td>2010-07-01</td>\n",
       "      <td>1.666667</td>\n",
       "      <td>1.728000</td>\n",
       "      <td>1.351333</td>\n",
       "      <td>1.464000</td>\n",
       "      <td>1.464000</td>\n",
       "      <td>123282000</td>\n",
       "      <td>0.0</td>\n",
       "      <td>0.0</td>\n",
       "    </tr>\n",
       "    <tr>\n",
       "      <th>3</th>\n",
       "      <td>2010-07-02</td>\n",
       "      <td>1.533333</td>\n",
       "      <td>1.540000</td>\n",
       "      <td>1.247333</td>\n",
       "      <td>1.280000</td>\n",
       "      <td>1.280000</td>\n",
       "      <td>77097000</td>\n",
       "      <td>0.0</td>\n",
       "      <td>0.0</td>\n",
       "    </tr>\n",
       "    <tr>\n",
       "      <th>4</th>\n",
       "      <td>2010-07-06</td>\n",
       "      <td>1.333333</td>\n",
       "      <td>1.333333</td>\n",
       "      <td>1.055333</td>\n",
       "      <td>1.074000</td>\n",
       "      <td>1.074000</td>\n",
       "      <td>103003500</td>\n",
       "      <td>0.0</td>\n",
       "      <td>0.0</td>\n",
       "    </tr>\n",
       "  </tbody>\n",
       "</table>\n",
       "</div>"
      ],
      "text/plain": [
       "         Date      Open      High       Low     Close  Adj Close     Volume  \\\n",
       "0  2010-06-29  1.266667  1.666667  1.169333  1.592667   1.592667  281494500   \n",
       "1  2010-06-30  1.719333  2.028000  1.553333  1.588667   1.588667  257806500   \n",
       "2  2010-07-01  1.666667  1.728000  1.351333  1.464000   1.464000  123282000   \n",
       "3  2010-07-02  1.533333  1.540000  1.247333  1.280000   1.280000   77097000   \n",
       "4  2010-07-06  1.333333  1.333333  1.055333  1.074000   1.074000  103003500   \n",
       "\n",
       "   Dividends  Stock Splits  \n",
       "0        0.0           0.0  \n",
       "1        0.0           0.0  \n",
       "2        0.0           0.0  \n",
       "3        0.0           0.0  \n",
       "4        0.0           0.0  "
      ]
     },
     "execution_count": 6,
     "metadata": {},
     "output_type": "execute_result"
    }
   ],
   "source": [
    "# Load the stock news sentiment data\n",
    "df = load_local_data(RAW_DATA_PATH,)\n",
    "df.head()"
   ]
  },
  {
   "cell_type": "markdown",
   "id": "637af4c7",
   "metadata": {},
   "source": [
    "### Dataset Overview"
   ]
  },
  {
   "cell_type": "code",
   "execution_count": 7,
   "id": "7d5ebc45",
   "metadata": {},
   "outputs": [
    {
     "data": {
      "text/html": [
       "<div>\n",
       "<style scoped>\n",
       "    .dataframe tbody tr th:only-of-type {\n",
       "        vertical-align: middle;\n",
       "    }\n",
       "\n",
       "    .dataframe tbody tr th {\n",
       "        vertical-align: top;\n",
       "    }\n",
       "\n",
       "    .dataframe thead th {\n",
       "        text-align: right;\n",
       "    }\n",
       "</style>\n",
       "<table border=\"1\" class=\"dataframe\">\n",
       "  <thead>\n",
       "    <tr style=\"text-align: right;\">\n",
       "      <th></th>\n",
       "      <th>Date</th>\n",
       "      <th>Open</th>\n",
       "      <th>High</th>\n",
       "      <th>Low</th>\n",
       "      <th>Close</th>\n",
       "      <th>Adj Close</th>\n",
       "      <th>Volume</th>\n",
       "      <th>Dividends</th>\n",
       "      <th>Stock Splits</th>\n",
       "    </tr>\n",
       "  </thead>\n",
       "  <tbody>\n",
       "    <tr>\n",
       "      <th>2287</th>\n",
       "      <td>2019-07-31</td>\n",
       "      <td>16.200001</td>\n",
       "      <td>16.445333</td>\n",
       "      <td>15.776667</td>\n",
       "      <td>16.107332</td>\n",
       "      <td>16.107332</td>\n",
       "      <td>137673000</td>\n",
       "      <td>0.0</td>\n",
       "      <td>0.0</td>\n",
       "    </tr>\n",
       "    <tr>\n",
       "      <th>1963</th>\n",
       "      <td>2018-04-17</td>\n",
       "      <td>19.257999</td>\n",
       "      <td>19.478001</td>\n",
       "      <td>18.834000</td>\n",
       "      <td>19.179333</td>\n",
       "      <td>19.179333</td>\n",
       "      <td>105000000</td>\n",
       "      <td>0.0</td>\n",
       "      <td>0.0</td>\n",
       "    </tr>\n",
       "    <tr>\n",
       "      <th>2218</th>\n",
       "      <td>2019-04-23</td>\n",
       "      <td>17.343332</td>\n",
       "      <td>17.706667</td>\n",
       "      <td>17.049999</td>\n",
       "      <td>17.593332</td>\n",
       "      <td>17.593332</td>\n",
       "      <td>164158500</td>\n",
       "      <td>0.0</td>\n",
       "      <td>0.0</td>\n",
       "    </tr>\n",
       "    <tr>\n",
       "      <th>734</th>\n",
       "      <td>2013-05-30</td>\n",
       "      <td>6.830667</td>\n",
       "      <td>7.302667</td>\n",
       "      <td>6.746667</td>\n",
       "      <td>6.996667</td>\n",
       "      <td>6.996667</td>\n",
       "      <td>242005500</td>\n",
       "      <td>0.0</td>\n",
       "      <td>0.0</td>\n",
       "    </tr>\n",
       "    <tr>\n",
       "      <th>3156</th>\n",
       "      <td>2023-01-11</td>\n",
       "      <td>122.089996</td>\n",
       "      <td>125.949997</td>\n",
       "      <td>120.510002</td>\n",
       "      <td>123.220001</td>\n",
       "      <td>123.220001</td>\n",
       "      <td>183810800</td>\n",
       "      <td>0.0</td>\n",
       "      <td>0.0</td>\n",
       "    </tr>\n",
       "    <tr>\n",
       "      <th>682</th>\n",
       "      <td>2013-03-15</td>\n",
       "      <td>2.442667</td>\n",
       "      <td>2.443333</td>\n",
       "      <td>2.347333</td>\n",
       "      <td>2.352667</td>\n",
       "      <td>2.352667</td>\n",
       "      <td>49194000</td>\n",
       "      <td>0.0</td>\n",
       "      <td>0.0</td>\n",
       "    </tr>\n",
       "    <tr>\n",
       "      <th>981</th>\n",
       "      <td>2014-05-22</td>\n",
       "      <td>13.356667</td>\n",
       "      <td>13.792000</td>\n",
       "      <td>13.304000</td>\n",
       "      <td>13.658667</td>\n",
       "      <td>13.658667</td>\n",
       "      <td>93217500</td>\n",
       "      <td>0.0</td>\n",
       "      <td>0.0</td>\n",
       "    </tr>\n",
       "    <tr>\n",
       "      <th>1278</th>\n",
       "      <td>2015-07-28</td>\n",
       "      <td>17.049999</td>\n",
       "      <td>17.693333</td>\n",
       "      <td>16.789333</td>\n",
       "      <td>17.654667</td>\n",
       "      <td>17.654667</td>\n",
       "      <td>58437000</td>\n",
       "      <td>0.0</td>\n",
       "      <td>0.0</td>\n",
       "    </tr>\n",
       "    <tr>\n",
       "      <th>2323</th>\n",
       "      <td>2019-09-20</td>\n",
       "      <td>16.432667</td>\n",
       "      <td>16.463333</td>\n",
       "      <td>15.877333</td>\n",
       "      <td>16.041332</td>\n",
       "      <td>16.041332</td>\n",
       "      <td>95295000</td>\n",
       "      <td>0.0</td>\n",
       "      <td>0.0</td>\n",
       "    </tr>\n",
       "    <tr>\n",
       "      <th>223</th>\n",
       "      <td>2011-05-17</td>\n",
       "      <td>1.800000</td>\n",
       "      <td>1.800000</td>\n",
       "      <td>1.714667</td>\n",
       "      <td>1.730667</td>\n",
       "      <td>1.730667</td>\n",
       "      <td>18513000</td>\n",
       "      <td>0.0</td>\n",
       "      <td>0.0</td>\n",
       "    </tr>\n",
       "  </tbody>\n",
       "</table>\n",
       "</div>"
      ],
      "text/plain": [
       "            Date        Open        High         Low       Close   Adj Close  \\\n",
       "2287  2019-07-31   16.200001   16.445333   15.776667   16.107332   16.107332   \n",
       "1963  2018-04-17   19.257999   19.478001   18.834000   19.179333   19.179333   \n",
       "2218  2019-04-23   17.343332   17.706667   17.049999   17.593332   17.593332   \n",
       "734   2013-05-30    6.830667    7.302667    6.746667    6.996667    6.996667   \n",
       "3156  2023-01-11  122.089996  125.949997  120.510002  123.220001  123.220001   \n",
       "682   2013-03-15    2.442667    2.443333    2.347333    2.352667    2.352667   \n",
       "981   2014-05-22   13.356667   13.792000   13.304000   13.658667   13.658667   \n",
       "1278  2015-07-28   17.049999   17.693333   16.789333   17.654667   17.654667   \n",
       "2323  2019-09-20   16.432667   16.463333   15.877333   16.041332   16.041332   \n",
       "223   2011-05-17    1.800000    1.800000    1.714667    1.730667    1.730667   \n",
       "\n",
       "         Volume  Dividends  Stock Splits  \n",
       "2287  137673000        0.0           0.0  \n",
       "1963  105000000        0.0           0.0  \n",
       "2218  164158500        0.0           0.0  \n",
       "734   242005500        0.0           0.0  \n",
       "3156  183810800        0.0           0.0  \n",
       "682    49194000        0.0           0.0  \n",
       "981    93217500        0.0           0.0  \n",
       "1278   58437000        0.0           0.0  \n",
       "2323   95295000        0.0           0.0  \n",
       "223    18513000        0.0           0.0  "
      ]
     },
     "execution_count": 7,
     "metadata": {},
     "output_type": "execute_result"
    }
   ],
   "source": [
    "#view sample data\n",
    "df.sample(10)"
   ]
  },
  {
   "cell_type": "code",
   "execution_count": 8,
   "id": "252de09b",
   "metadata": {},
   "outputs": [
    {
     "data": {
      "text/html": [
       "<div>\n",
       "<style scoped>\n",
       "    .dataframe tbody tr th:only-of-type {\n",
       "        vertical-align: middle;\n",
       "    }\n",
       "\n",
       "    .dataframe tbody tr th {\n",
       "        vertical-align: top;\n",
       "    }\n",
       "\n",
       "    .dataframe thead th {\n",
       "        text-align: right;\n",
       "    }\n",
       "</style>\n",
       "<table border=\"1\" class=\"dataframe\">\n",
       "  <thead>\n",
       "    <tr style=\"text-align: right;\">\n",
       "      <th></th>\n",
       "      <th>Date</th>\n",
       "      <th>Open</th>\n",
       "      <th>High</th>\n",
       "      <th>Low</th>\n",
       "      <th>Close</th>\n",
       "      <th>Adj Close</th>\n",
       "      <th>Volume</th>\n",
       "      <th>Dividends</th>\n",
       "      <th>Stock Splits</th>\n",
       "    </tr>\n",
       "  </thead>\n",
       "  <tbody>\n",
       "    <tr>\n",
       "      <th>3540</th>\n",
       "      <td>2024-07-24</td>\n",
       "      <td>225.419998</td>\n",
       "      <td>225.990005</td>\n",
       "      <td>214.710007</td>\n",
       "      <td>215.990005</td>\n",
       "      <td>215.990005</td>\n",
       "      <td>167942900</td>\n",
       "      <td>0.0</td>\n",
       "      <td>0.0</td>\n",
       "    </tr>\n",
       "    <tr>\n",
       "      <th>3541</th>\n",
       "      <td>2024-07-25</td>\n",
       "      <td>216.800003</td>\n",
       "      <td>226.000000</td>\n",
       "      <td>216.229996</td>\n",
       "      <td>220.250000</td>\n",
       "      <td>220.250000</td>\n",
       "      <td>100636500</td>\n",
       "      <td>0.0</td>\n",
       "      <td>0.0</td>\n",
       "    </tr>\n",
       "    <tr>\n",
       "      <th>3542</th>\n",
       "      <td>2024-07-26</td>\n",
       "      <td>221.190002</td>\n",
       "      <td>222.279999</td>\n",
       "      <td>215.330002</td>\n",
       "      <td>219.800003</td>\n",
       "      <td>219.800003</td>\n",
       "      <td>94604100</td>\n",
       "      <td>0.0</td>\n",
       "      <td>0.0</td>\n",
       "    </tr>\n",
       "    <tr>\n",
       "      <th>3543</th>\n",
       "      <td>2024-07-29</td>\n",
       "      <td>224.899994</td>\n",
       "      <td>234.270004</td>\n",
       "      <td>224.699997</td>\n",
       "      <td>232.100006</td>\n",
       "      <td>232.100006</td>\n",
       "      <td>129201800</td>\n",
       "      <td>0.0</td>\n",
       "      <td>0.0</td>\n",
       "    </tr>\n",
       "    <tr>\n",
       "      <th>3544</th>\n",
       "      <td>2024-07-30</td>\n",
       "      <td>232.250000</td>\n",
       "      <td>232.410004</td>\n",
       "      <td>220.000000</td>\n",
       "      <td>222.619995</td>\n",
       "      <td>222.619995</td>\n",
       "      <td>100560300</td>\n",
       "      <td>0.0</td>\n",
       "      <td>0.0</td>\n",
       "    </tr>\n",
       "  </tbody>\n",
       "</table>\n",
       "</div>"
      ],
      "text/plain": [
       "            Date        Open        High         Low       Close   Adj Close  \\\n",
       "3540  2024-07-24  225.419998  225.990005  214.710007  215.990005  215.990005   \n",
       "3541  2024-07-25  216.800003  226.000000  216.229996  220.250000  220.250000   \n",
       "3542  2024-07-26  221.190002  222.279999  215.330002  219.800003  219.800003   \n",
       "3543  2024-07-29  224.899994  234.270004  224.699997  232.100006  232.100006   \n",
       "3544  2024-07-30  232.250000  232.410004  220.000000  222.619995  222.619995   \n",
       "\n",
       "         Volume  Dividends  Stock Splits  \n",
       "3540  167942900        0.0           0.0  \n",
       "3541  100636500        0.0           0.0  \n",
       "3542   94604100        0.0           0.0  \n",
       "3543  129201800        0.0           0.0  \n",
       "3544  100560300        0.0           0.0  "
      ]
     },
     "execution_count": 8,
     "metadata": {},
     "output_type": "execute_result"
    }
   ],
   "source": [
    "#see the last rows\n",
    "df.tail()"
   ]
  },
  {
   "cell_type": "code",
   "execution_count": 9,
   "id": "fba08a7a",
   "metadata": {},
   "outputs": [
    {
     "data": {
      "text/plain": [
       "(3545, 9)"
      ]
     },
     "execution_count": 9,
     "metadata": {},
     "output_type": "execute_result"
    }
   ],
   "source": [
    "#shape of the dataset\n",
    "df.shape"
   ]
  },
  {
   "cell_type": "code",
   "execution_count": 10,
   "id": "fbb3ee50",
   "metadata": {},
   "outputs": [
    {
     "data": {
      "text/plain": [
       "Index(['Date', 'Open', 'High', 'Low', 'Close', 'Adj Close', 'Volume',\n",
       "       'Dividends', 'Stock Splits'],\n",
       "      dtype='object')"
      ]
     },
     "execution_count": 10,
     "metadata": {},
     "output_type": "execute_result"
    }
   ],
   "source": [
    "df.columns"
   ]
  },
  {
   "cell_type": "markdown",
   "id": "e2111194",
   "metadata": {},
   "source": [
    "## 📐 3. Data Types & Basic Stats <a id='3-data-types--basic-stats'></a>"
   ]
  },
  {
   "cell_type": "code",
   "execution_count": 11,
   "id": "5c2b1440",
   "metadata": {},
   "outputs": [
    {
     "data": {
      "text/html": [
       "<div>\n",
       "<style scoped>\n",
       "    .dataframe tbody tr th:only-of-type {\n",
       "        vertical-align: middle;\n",
       "    }\n",
       "\n",
       "    .dataframe tbody tr th {\n",
       "        vertical-align: top;\n",
       "    }\n",
       "\n",
       "    .dataframe thead th {\n",
       "        text-align: right;\n",
       "    }\n",
       "</style>\n",
       "<table border=\"1\" class=\"dataframe\">\n",
       "  <thead>\n",
       "    <tr style=\"text-align: right;\">\n",
       "      <th></th>\n",
       "      <th>count</th>\n",
       "      <th>mean</th>\n",
       "      <th>std</th>\n",
       "      <th>min</th>\n",
       "      <th>25%</th>\n",
       "      <th>50%</th>\n",
       "      <th>75%</th>\n",
       "      <th>max</th>\n",
       "    </tr>\n",
       "  </thead>\n",
       "  <tbody>\n",
       "    <tr>\n",
       "      <th>Open</th>\n",
       "      <td>3545.0</td>\n",
       "      <td>7.550566e+01</td>\n",
       "      <td>1.025305e+02</td>\n",
       "      <td>1.076000e+00</td>\n",
       "      <td>1.151667e+01</td>\n",
       "      <td>1.746333e+01</td>\n",
       "      <td>1.618800e+02</td>\n",
       "      <td>4.114700e+02</td>\n",
       "    </tr>\n",
       "    <tr>\n",
       "      <th>High</th>\n",
       "      <td>3545.0</td>\n",
       "      <td>7.715924e+01</td>\n",
       "      <td>1.048065e+02</td>\n",
       "      <td>1.108667e+00</td>\n",
       "      <td>1.186133e+01</td>\n",
       "      <td>1.768867e+01</td>\n",
       "      <td>1.653333e+02</td>\n",
       "      <td>4.144967e+02</td>\n",
       "    </tr>\n",
       "    <tr>\n",
       "      <th>Low</th>\n",
       "      <td>3545.0</td>\n",
       "      <td>7.374349e+01</td>\n",
       "      <td>1.000518e+02</td>\n",
       "      <td>9.986670e-01</td>\n",
       "      <td>1.121667e+01</td>\n",
       "      <td>1.710000e+01</td>\n",
       "      <td>1.583600e+02</td>\n",
       "      <td>4.056667e+02</td>\n",
       "    </tr>\n",
       "    <tr>\n",
       "      <th>Close</th>\n",
       "      <td>3545.0</td>\n",
       "      <td>7.548726e+01</td>\n",
       "      <td>1.024566e+02</td>\n",
       "      <td>1.053333e+00</td>\n",
       "      <td>1.156533e+01</td>\n",
       "      <td>1.745933e+01</td>\n",
       "      <td>1.614800e+02</td>\n",
       "      <td>4.099700e+02</td>\n",
       "    </tr>\n",
       "    <tr>\n",
       "      <th>Adj Close</th>\n",
       "      <td>3545.0</td>\n",
       "      <td>7.548726e+01</td>\n",
       "      <td>1.024566e+02</td>\n",
       "      <td>1.053333e+00</td>\n",
       "      <td>1.156533e+01</td>\n",
       "      <td>1.745933e+01</td>\n",
       "      <td>1.614800e+02</td>\n",
       "      <td>4.099700e+02</td>\n",
       "    </tr>\n",
       "    <tr>\n",
       "      <th>Volume</th>\n",
       "      <td>3545.0</td>\n",
       "      <td>9.699708e+07</td>\n",
       "      <td>7.866828e+07</td>\n",
       "      <td>1.777500e+06</td>\n",
       "      <td>4.770600e+07</td>\n",
       "      <td>8.250600e+07</td>\n",
       "      <td>1.228890e+08</td>\n",
       "      <td>9.140820e+08</td>\n",
       "    </tr>\n",
       "    <tr>\n",
       "      <th>Dividends</th>\n",
       "      <td>3545.0</td>\n",
       "      <td>0.000000e+00</td>\n",
       "      <td>0.000000e+00</td>\n",
       "      <td>0.000000e+00</td>\n",
       "      <td>0.000000e+00</td>\n",
       "      <td>0.000000e+00</td>\n",
       "      <td>0.000000e+00</td>\n",
       "      <td>0.000000e+00</td>\n",
       "    </tr>\n",
       "    <tr>\n",
       "      <th>Stock Splits</th>\n",
       "      <td>3545.0</td>\n",
       "      <td>2.256700e-03</td>\n",
       "      <td>9.792132e-02</td>\n",
       "      <td>0.000000e+00</td>\n",
       "      <td>0.000000e+00</td>\n",
       "      <td>0.000000e+00</td>\n",
       "      <td>0.000000e+00</td>\n",
       "      <td>5.000000e+00</td>\n",
       "    </tr>\n",
       "  </tbody>\n",
       "</table>\n",
       "</div>"
      ],
      "text/plain": [
       "               count          mean           std           min           25%  \\\n",
       "Open          3545.0  7.550566e+01  1.025305e+02  1.076000e+00  1.151667e+01   \n",
       "High          3545.0  7.715924e+01  1.048065e+02  1.108667e+00  1.186133e+01   \n",
       "Low           3545.0  7.374349e+01  1.000518e+02  9.986670e-01  1.121667e+01   \n",
       "Close         3545.0  7.548726e+01  1.024566e+02  1.053333e+00  1.156533e+01   \n",
       "Adj Close     3545.0  7.548726e+01  1.024566e+02  1.053333e+00  1.156533e+01   \n",
       "Volume        3545.0  9.699708e+07  7.866828e+07  1.777500e+06  4.770600e+07   \n",
       "Dividends     3545.0  0.000000e+00  0.000000e+00  0.000000e+00  0.000000e+00   \n",
       "Stock Splits  3545.0  2.256700e-03  9.792132e-02  0.000000e+00  0.000000e+00   \n",
       "\n",
       "                       50%           75%           max  \n",
       "Open          1.746333e+01  1.618800e+02  4.114700e+02  \n",
       "High          1.768867e+01  1.653333e+02  4.144967e+02  \n",
       "Low           1.710000e+01  1.583600e+02  4.056667e+02  \n",
       "Close         1.745933e+01  1.614800e+02  4.099700e+02  \n",
       "Adj Close     1.745933e+01  1.614800e+02  4.099700e+02  \n",
       "Volume        8.250600e+07  1.228890e+08  9.140820e+08  \n",
       "Dividends     0.000000e+00  0.000000e+00  0.000000e+00  \n",
       "Stock Splits  0.000000e+00  0.000000e+00  5.000000e+00  "
      ]
     },
     "execution_count": 11,
     "metadata": {},
     "output_type": "execute_result"
    }
   ],
   "source": [
    "#Numerical Columns\n",
    "df.describe().T"
   ]
  },
  {
   "cell_type": "code",
   "execution_count": 12,
   "id": "e32e8398",
   "metadata": {},
   "outputs": [
    {
     "data": {
      "text/html": [
       "<div>\n",
       "<style scoped>\n",
       "    .dataframe tbody tr th:only-of-type {\n",
       "        vertical-align: middle;\n",
       "    }\n",
       "\n",
       "    .dataframe tbody tr th {\n",
       "        vertical-align: top;\n",
       "    }\n",
       "\n",
       "    .dataframe thead th {\n",
       "        text-align: right;\n",
       "    }\n",
       "</style>\n",
       "<table border=\"1\" class=\"dataframe\">\n",
       "  <thead>\n",
       "    <tr style=\"text-align: right;\">\n",
       "      <th></th>\n",
       "      <th>count</th>\n",
       "      <th>unique</th>\n",
       "      <th>top</th>\n",
       "      <th>freq</th>\n",
       "    </tr>\n",
       "  </thead>\n",
       "  <tbody>\n",
       "    <tr>\n",
       "      <th>Date</th>\n",
       "      <td>3545</td>\n",
       "      <td>3545</td>\n",
       "      <td>2010-06-29</td>\n",
       "      <td>1</td>\n",
       "    </tr>\n",
       "  </tbody>\n",
       "</table>\n",
       "</div>"
      ],
      "text/plain": [
       "     count unique         top freq\n",
       "Date  3545   3545  2010-06-29    1"
      ]
     },
     "execution_count": 12,
     "metadata": {},
     "output_type": "execute_result"
    }
   ],
   "source": [
    "#for columns of object type\n",
    "df.describe(include=['O']).T"
   ]
  },
  {
   "cell_type": "code",
   "execution_count": 13,
   "id": "12c32634",
   "metadata": {},
   "outputs": [
    {
     "name": "stdout",
     "output_type": "stream",
     "text": [
      "<class 'pandas.core.frame.DataFrame'>\n",
      "RangeIndex: 3545 entries, 0 to 3544\n",
      "Data columns (total 9 columns):\n",
      " #   Column        Non-Null Count  Dtype  \n",
      "---  ------        --------------  -----  \n",
      " 0   Date          3545 non-null   object \n",
      " 1   Open          3545 non-null   float64\n",
      " 2   High          3545 non-null   float64\n",
      " 3   Low           3545 non-null   float64\n",
      " 4   Close         3545 non-null   float64\n",
      " 5   Adj Close     3545 non-null   float64\n",
      " 6   Volume        3545 non-null   int64  \n",
      " 7   Dividends     3545 non-null   float64\n",
      " 8   Stock Splits  3545 non-null   float64\n",
      "dtypes: float64(7), int64(1), object(1)\n",
      "memory usage: 249.4+ KB\n"
     ]
    }
   ],
   "source": [
    "# data types of the columns\n",
    "df.info()"
   ]
  },
  {
   "cell_type": "code",
   "execution_count": 14,
   "id": "9a2a7204",
   "metadata": {},
   "outputs": [
    {
     "data": {
      "text/plain": [
       "Date            3545\n",
       "Volume          3514\n",
       "Close           3343\n",
       "Adj Close       3343\n",
       "Low             3249\n",
       "Open            3238\n",
       "High            3233\n",
       "Stock Splits       3\n",
       "Dividends          1\n",
       "dtype: int64"
      ]
     },
     "execution_count": 14,
     "metadata": {},
     "output_type": "execute_result"
    }
   ],
   "source": [
    "#distinct values in each column\n",
    "df.nunique().sort_values(ascending=False)"
   ]
  },
  {
   "cell_type": "markdown",
   "id": "cd48a90b",
   "metadata": {},
   "source": [
    "## 🔍 4. Data Quality Analysis <a id='4-data-quality-analysis'></a>"
   ]
  },
  {
   "cell_type": "code",
   "execution_count": 15,
   "id": "fda7f18c",
   "metadata": {},
   "outputs": [],
   "source": [
    "#instantiate the DataQualityUtils class\n",
    "dq=DataQualityUtils(df)"
   ]
  },
  {
   "cell_type": "code",
   "execution_count": 16,
   "id": "402fd66b",
   "metadata": {},
   "outputs": [
    {
     "data": {
      "text/html": [
       "<div>\n",
       "<style scoped>\n",
       "    .dataframe tbody tr th:only-of-type {\n",
       "        vertical-align: middle;\n",
       "    }\n",
       "\n",
       "    .dataframe tbody tr th {\n",
       "        vertical-align: top;\n",
       "    }\n",
       "\n",
       "    .dataframe thead th {\n",
       "        text-align: right;\n",
       "    }\n",
       "</style>\n",
       "<table border=\"1\" class=\"dataframe\">\n",
       "  <thead>\n",
       "    <tr style=\"text-align: right;\">\n",
       "      <th></th>\n",
       "      <th>#missing_values</th>\n",
       "      <th>percentage</th>\n",
       "    </tr>\n",
       "  </thead>\n",
       "  <tbody>\n",
       "    <tr>\n",
       "      <th>Date</th>\n",
       "      <td>0</td>\n",
       "      <td>0.00%</td>\n",
       "    </tr>\n",
       "    <tr>\n",
       "      <th>Open</th>\n",
       "      <td>0</td>\n",
       "      <td>0.00%</td>\n",
       "    </tr>\n",
       "    <tr>\n",
       "      <th>High</th>\n",
       "      <td>0</td>\n",
       "      <td>0.00%</td>\n",
       "    </tr>\n",
       "    <tr>\n",
       "      <th>Low</th>\n",
       "      <td>0</td>\n",
       "      <td>0.00%</td>\n",
       "    </tr>\n",
       "    <tr>\n",
       "      <th>Close</th>\n",
       "      <td>0</td>\n",
       "      <td>0.00%</td>\n",
       "    </tr>\n",
       "    <tr>\n",
       "      <th>Adj Close</th>\n",
       "      <td>0</td>\n",
       "      <td>0.00%</td>\n",
       "    </tr>\n",
       "    <tr>\n",
       "      <th>Volume</th>\n",
       "      <td>0</td>\n",
       "      <td>0.00%</td>\n",
       "    </tr>\n",
       "    <tr>\n",
       "      <th>Dividends</th>\n",
       "      <td>0</td>\n",
       "      <td>0.00%</td>\n",
       "    </tr>\n",
       "    <tr>\n",
       "      <th>Stock Splits</th>\n",
       "      <td>0</td>\n",
       "      <td>0.00%</td>\n",
       "    </tr>\n",
       "  </tbody>\n",
       "</table>\n",
       "</div>"
      ],
      "text/plain": [
       "              #missing_values percentage\n",
       "Date                        0      0.00%\n",
       "Open                        0      0.00%\n",
       "High                        0      0.00%\n",
       "Low                         0      0.00%\n",
       "Close                       0      0.00%\n",
       "Adj Close                   0      0.00%\n",
       "Volume                      0      0.00%\n",
       "Dividends                   0      0.00%\n",
       "Stock Splits                0      0.00%"
      ]
     },
     "execution_count": 16,
     "metadata": {},
     "output_type": "execute_result"
    }
   ],
   "source": [
    "#count of missing values per column\n",
    "dq.summary()"
   ]
  },
  {
   "cell_type": "markdown",
   "id": "f3d4dbe5",
   "metadata": {},
   "source": [
    "### Missing Values"
   ]
  },
  {
   "cell_type": "code",
   "execution_count": 17,
   "id": "b322f8a8",
   "metadata": {},
   "outputs": [
    {
     "data": {
      "text/html": [
       "<div>\n",
       "<style scoped>\n",
       "    .dataframe tbody tr th:only-of-type {\n",
       "        vertical-align: middle;\n",
       "    }\n",
       "\n",
       "    .dataframe tbody tr th {\n",
       "        vertical-align: top;\n",
       "    }\n",
       "\n",
       "    .dataframe thead th {\n",
       "        text-align: right;\n",
       "    }\n",
       "</style>\n",
       "<table border=\"1\" class=\"dataframe\">\n",
       "  <thead>\n",
       "    <tr style=\"text-align: right;\">\n",
       "      <th></th>\n",
       "      <th>#missing_values</th>\n",
       "      <th>percentage</th>\n",
       "    </tr>\n",
       "  </thead>\n",
       "  <tbody>\n",
       "  </tbody>\n",
       "</table>\n",
       "</div>"
      ],
      "text/plain": [
       "Empty DataFrame\n",
       "Columns: [#missing_values, percentage]\n",
       "Index: []"
      ]
     },
     "execution_count": 17,
     "metadata": {},
     "output_type": "execute_result"
    }
   ],
   "source": [
    "#column with >5% nulls\n",
    "dq.columns_with_significant_missing_values(threshold=5)"
   ]
  },
  {
   "cell_type": "markdown",
   "id": "440dc15d",
   "metadata": {},
   "source": [
    "### Duplicates"
   ]
  },
  {
   "cell_type": "code",
   "execution_count": 18,
   "id": "5da9df66",
   "metadata": {},
   "outputs": [
    {
     "data": {
      "text/plain": [
       "0"
      ]
     },
     "execution_count": 18,
     "metadata": {},
     "output_type": "execute_result"
    }
   ],
   "source": [
    "#count duplicates\n",
    "dq.count_duplicates()"
   ]
  },
  {
   "cell_type": "markdown",
   "id": "b1c73167",
   "metadata": {},
   "source": [
    "### Invalid Values"
   ]
  },
  {
   "cell_type": "code",
   "execution_count": 19,
   "id": "d9e6b786",
   "metadata": {},
   "outputs": [
    {
     "data": {
      "text/plain": [
       "{}"
      ]
     },
     "execution_count": 19,
     "metadata": {},
     "output_type": "execute_result"
    }
   ],
   "source": [
    "dq.find_invalid_values()"
   ]
  },
  {
   "cell_type": "markdown",
   "id": "3aa9c9d5",
   "metadata": {},
   "source": [
    "## 🧹 5. Data Cleaning  <a id='5-data-cleaning'></a>"
   ]
  },
  {
   "cell_type": "code",
   "execution_count": 20,
   "id": "98dde7ed",
   "metadata": {},
   "outputs": [],
   "source": [
    "#saving the original dataset for later use\n",
    "df_original=df.copy()"
   ]
  },
  {
   "cell_type": "markdown",
   "id": "4581d672",
   "metadata": {},
   "source": [
    "### Inconsistencies and Inaccuracies"
   ]
  },
  {
   "cell_type": "code",
   "execution_count": 21,
   "id": "0fcea5f2",
   "metadata": {},
   "outputs": [],
   "source": [
    "#drop redundancies and clean column names\n",
    "df=dq.drop_redundant_columns()"
   ]
  },
  {
   "cell_type": "code",
   "execution_count": 22,
   "id": "a60f03c9",
   "metadata": {},
   "outputs": [
    {
     "name": "stdout",
     "output_type": "stream",
     "text": [
      "[Date] Converted: 3545/3545 (0 became NaT)\n"
     ]
    }
   ],
   "source": [
    "df=dq.convert_columns_to_datetime()"
   ]
  },
  {
   "cell_type": "code",
   "execution_count": 23,
   "id": "cad094ce",
   "metadata": {},
   "outputs": [
    {
     "name": "stdout",
     "output_type": "stream",
     "text": [
      "<class 'pandas.core.frame.DataFrame'>\n",
      "RangeIndex: 3545 entries, 0 to 3544\n",
      "Data columns (total 9 columns):\n",
      " #   Column        Non-Null Count  Dtype              \n",
      "---  ------        --------------  -----              \n",
      " 0   Date          3545 non-null   datetime64[ns, UTC]\n",
      " 1   Open          3545 non-null   float64            \n",
      " 2   High          3545 non-null   float64            \n",
      " 3   Low           3545 non-null   float64            \n",
      " 4   Close         3545 non-null   float64            \n",
      " 5   Adj Close     3545 non-null   float64            \n",
      " 6   Volume        3545 non-null   int64              \n",
      " 7   Dividends     3545 non-null   float64            \n",
      " 8   Stock Splits  3545 non-null   float64            \n",
      "dtypes: datetime64[ns, UTC](1), float64(7), int64(1)\n",
      "memory usage: 249.4 KB\n"
     ]
    }
   ],
   "source": [
    "df.info()"
   ]
  },
  {
   "cell_type": "code",
   "execution_count": 24,
   "id": "b210c10f",
   "metadata": {},
   "outputs": [
    {
     "data": {
      "text/plain": [
       "Index(['Date', 'Open', 'High', 'Low', 'Close', 'Adj Close', 'Volume',\n",
       "       'Dividends', 'Stock Splits'],\n",
       "      dtype='object')"
      ]
     },
     "execution_count": 24,
     "metadata": {},
     "output_type": "execute_result"
    }
   ],
   "source": [
    "df.columns"
   ]
  },
  {
   "cell_type": "code",
   "execution_count": 25,
   "id": "a443d88f",
   "metadata": {},
   "outputs": [
    {
     "data": {
      "text/html": [
       "<div>\n",
       "<style scoped>\n",
       "    .dataframe tbody tr th:only-of-type {\n",
       "        vertical-align: middle;\n",
       "    }\n",
       "\n",
       "    .dataframe tbody tr th {\n",
       "        vertical-align: top;\n",
       "    }\n",
       "\n",
       "    .dataframe thead th {\n",
       "        text-align: right;\n",
       "    }\n",
       "</style>\n",
       "<table border=\"1\" class=\"dataframe\">\n",
       "  <thead>\n",
       "    <tr style=\"text-align: right;\">\n",
       "      <th></th>\n",
       "      <th>Date</th>\n",
       "      <th>Open</th>\n",
       "      <th>High</th>\n",
       "      <th>Low</th>\n",
       "      <th>Close</th>\n",
       "      <th>Adj Close</th>\n",
       "      <th>Volume</th>\n",
       "      <th>Dividends</th>\n",
       "      <th>Stock Splits</th>\n",
       "    </tr>\n",
       "  </thead>\n",
       "  <tbody>\n",
       "    <tr>\n",
       "      <th>3347</th>\n",
       "      <td>2023-10-16 00:00:00+00:00</td>\n",
       "      <td>250.050003</td>\n",
       "      <td>255.399994</td>\n",
       "      <td>248.479996</td>\n",
       "      <td>253.919998</td>\n",
       "      <td>253.919998</td>\n",
       "      <td>88917200</td>\n",
       "      <td>0.0</td>\n",
       "      <td>0.0</td>\n",
       "    </tr>\n",
       "    <tr>\n",
       "      <th>174</th>\n",
       "      <td>2011-03-08 00:00:00+00:00</td>\n",
       "      <td>1.640000</td>\n",
       "      <td>1.664000</td>\n",
       "      <td>1.600000</td>\n",
       "      <td>1.644000</td>\n",
       "      <td>1.644000</td>\n",
       "      <td>20998500</td>\n",
       "      <td>0.0</td>\n",
       "      <td>0.0</td>\n",
       "    </tr>\n",
       "    <tr>\n",
       "      <th>1125</th>\n",
       "      <td>2014-12-16 00:00:00+00:00</td>\n",
       "      <td>13.392667</td>\n",
       "      <td>13.578667</td>\n",
       "      <td>13.024667</td>\n",
       "      <td>13.187333</td>\n",
       "      <td>13.187333</td>\n",
       "      <td>126391500</td>\n",
       "      <td>0.0</td>\n",
       "      <td>0.0</td>\n",
       "    </tr>\n",
       "    <tr>\n",
       "      <th>1863</th>\n",
       "      <td>2017-11-20 00:00:00+00:00</td>\n",
       "      <td>20.919333</td>\n",
       "      <td>21.033333</td>\n",
       "      <td>20.316668</td>\n",
       "      <td>20.582666</td>\n",
       "      <td>20.582666</td>\n",
       "      <td>123715500</td>\n",
       "      <td>0.0</td>\n",
       "      <td>0.0</td>\n",
       "    </tr>\n",
       "    <tr>\n",
       "      <th>2157</th>\n",
       "      <td>2019-01-24 00:00:00+00:00</td>\n",
       "      <td>18.868668</td>\n",
       "      <td>19.578667</td>\n",
       "      <td>18.618668</td>\n",
       "      <td>19.434000</td>\n",
       "      <td>19.434000</td>\n",
       "      <td>120183000</td>\n",
       "      <td>0.0</td>\n",
       "      <td>0.0</td>\n",
       "    </tr>\n",
       "    <tr>\n",
       "      <th>2841</th>\n",
       "      <td>2021-10-11 00:00:00+00:00</td>\n",
       "      <td>262.549988</td>\n",
       "      <td>267.079987</td>\n",
       "      <td>261.833344</td>\n",
       "      <td>263.980011</td>\n",
       "      <td>263.980011</td>\n",
       "      <td>42600900</td>\n",
       "      <td>0.0</td>\n",
       "      <td>0.0</td>\n",
       "    </tr>\n",
       "    <tr>\n",
       "      <th>2415</th>\n",
       "      <td>2020-02-03 00:00:00+00:00</td>\n",
       "      <td>44.912666</td>\n",
       "      <td>52.409332</td>\n",
       "      <td>44.901333</td>\n",
       "      <td>52.000000</td>\n",
       "      <td>52.000000</td>\n",
       "      <td>705975000</td>\n",
       "      <td>0.0</td>\n",
       "      <td>0.0</td>\n",
       "    </tr>\n",
       "    <tr>\n",
       "      <th>2728</th>\n",
       "      <td>2021-04-30 00:00:00+00:00</td>\n",
       "      <td>222.529999</td>\n",
       "      <td>238.490005</td>\n",
       "      <td>222.046661</td>\n",
       "      <td>236.479996</td>\n",
       "      <td>236.479996</td>\n",
       "      <td>122276100</td>\n",
       "      <td>0.0</td>\n",
       "      <td>0.0</td>\n",
       "    </tr>\n",
       "    <tr>\n",
       "      <th>426</th>\n",
       "      <td>2012-03-07 00:00:00+00:00</td>\n",
       "      <td>2.208000</td>\n",
       "      <td>2.220667</td>\n",
       "      <td>2.194000</td>\n",
       "      <td>2.208000</td>\n",
       "      <td>2.208000</td>\n",
       "      <td>5473500</td>\n",
       "      <td>0.0</td>\n",
       "      <td>0.0</td>\n",
       "    </tr>\n",
       "    <tr>\n",
       "      <th>2194</th>\n",
       "      <td>2019-03-19 00:00:00+00:00</td>\n",
       "      <td>17.833332</td>\n",
       "      <td>18.219999</td>\n",
       "      <td>17.563999</td>\n",
       "      <td>17.831333</td>\n",
       "      <td>17.831333</td>\n",
       "      <td>177009000</td>\n",
       "      <td>0.0</td>\n",
       "      <td>0.0</td>\n",
       "    </tr>\n",
       "  </tbody>\n",
       "</table>\n",
       "</div>"
      ],
      "text/plain": [
       "                          Date        Open        High         Low  \\\n",
       "3347 2023-10-16 00:00:00+00:00  250.050003  255.399994  248.479996   \n",
       "174  2011-03-08 00:00:00+00:00    1.640000    1.664000    1.600000   \n",
       "1125 2014-12-16 00:00:00+00:00   13.392667   13.578667   13.024667   \n",
       "1863 2017-11-20 00:00:00+00:00   20.919333   21.033333   20.316668   \n",
       "2157 2019-01-24 00:00:00+00:00   18.868668   19.578667   18.618668   \n",
       "2841 2021-10-11 00:00:00+00:00  262.549988  267.079987  261.833344   \n",
       "2415 2020-02-03 00:00:00+00:00   44.912666   52.409332   44.901333   \n",
       "2728 2021-04-30 00:00:00+00:00  222.529999  238.490005  222.046661   \n",
       "426  2012-03-07 00:00:00+00:00    2.208000    2.220667    2.194000   \n",
       "2194 2019-03-19 00:00:00+00:00   17.833332   18.219999   17.563999   \n",
       "\n",
       "           Close   Adj Close     Volume  Dividends  Stock Splits  \n",
       "3347  253.919998  253.919998   88917200        0.0           0.0  \n",
       "174     1.644000    1.644000   20998500        0.0           0.0  \n",
       "1125   13.187333   13.187333  126391500        0.0           0.0  \n",
       "1863   20.582666   20.582666  123715500        0.0           0.0  \n",
       "2157   19.434000   19.434000  120183000        0.0           0.0  \n",
       "2841  263.980011  263.980011   42600900        0.0           0.0  \n",
       "2415   52.000000   52.000000  705975000        0.0           0.0  \n",
       "2728  236.479996  236.479996  122276100        0.0           0.0  \n",
       "426     2.208000    2.208000    5473500        0.0           0.0  \n",
       "2194   17.831333   17.831333  177009000        0.0           0.0  "
      ]
     },
     "execution_count": 25,
     "metadata": {},
     "output_type": "execute_result"
    }
   ],
   "source": [
    "df.sample(10)"
   ]
  },
  {
   "cell_type": "code",
   "execution_count": 26,
   "id": "b1933a6a",
   "metadata": {},
   "outputs": [],
   "source": [
    "# Save to csv\n",
    "df.to_csv(CLEANED_DATA_PATH, index=False)"
   ]
  },
  {
   "cell_type": "markdown",
   "id": "15d7e3c6",
   "metadata": {},
   "source": [
    "## 6. Analyze"
   ]
  },
  {
   "cell_type": "code",
   "execution_count": 27,
   "id": "40454725",
   "metadata": {},
   "outputs": [
    {
     "data": {
      "text/html": [
       "<div>\n",
       "<style scoped>\n",
       "    .dataframe tbody tr th:only-of-type {\n",
       "        vertical-align: middle;\n",
       "    }\n",
       "\n",
       "    .dataframe tbody tr th {\n",
       "        vertical-align: top;\n",
       "    }\n",
       "\n",
       "    .dataframe thead th {\n",
       "        text-align: right;\n",
       "    }\n",
       "</style>\n",
       "<table border=\"1\" class=\"dataframe\">\n",
       "  <thead>\n",
       "    <tr style=\"text-align: right;\">\n",
       "      <th></th>\n",
       "      <th>Date</th>\n",
       "      <th>Open</th>\n",
       "      <th>High</th>\n",
       "      <th>Low</th>\n",
       "      <th>Close</th>\n",
       "      <th>Adj Close</th>\n",
       "      <th>Volume</th>\n",
       "      <th>Dividends</th>\n",
       "      <th>Stock Splits</th>\n",
       "    </tr>\n",
       "  </thead>\n",
       "  <tbody>\n",
       "    <tr>\n",
       "      <th>0</th>\n",
       "      <td>2010-06-29 00:00:00+00:00</td>\n",
       "      <td>1.266667</td>\n",
       "      <td>1.666667</td>\n",
       "      <td>1.169333</td>\n",
       "      <td>1.592667</td>\n",
       "      <td>1.592667</td>\n",
       "      <td>281494500</td>\n",
       "      <td>0.0</td>\n",
       "      <td>0.0</td>\n",
       "    </tr>\n",
       "    <tr>\n",
       "      <th>1</th>\n",
       "      <td>2010-06-30 00:00:00+00:00</td>\n",
       "      <td>1.719333</td>\n",
       "      <td>2.028000</td>\n",
       "      <td>1.553333</td>\n",
       "      <td>1.588667</td>\n",
       "      <td>1.588667</td>\n",
       "      <td>257806500</td>\n",
       "      <td>0.0</td>\n",
       "      <td>0.0</td>\n",
       "    </tr>\n",
       "    <tr>\n",
       "      <th>2</th>\n",
       "      <td>2010-07-01 00:00:00+00:00</td>\n",
       "      <td>1.666667</td>\n",
       "      <td>1.728000</td>\n",
       "      <td>1.351333</td>\n",
       "      <td>1.464000</td>\n",
       "      <td>1.464000</td>\n",
       "      <td>123282000</td>\n",
       "      <td>0.0</td>\n",
       "      <td>0.0</td>\n",
       "    </tr>\n",
       "    <tr>\n",
       "      <th>3</th>\n",
       "      <td>2010-07-02 00:00:00+00:00</td>\n",
       "      <td>1.533333</td>\n",
       "      <td>1.540000</td>\n",
       "      <td>1.247333</td>\n",
       "      <td>1.280000</td>\n",
       "      <td>1.280000</td>\n",
       "      <td>77097000</td>\n",
       "      <td>0.0</td>\n",
       "      <td>0.0</td>\n",
       "    </tr>\n",
       "    <tr>\n",
       "      <th>4</th>\n",
       "      <td>2010-07-06 00:00:00+00:00</td>\n",
       "      <td>1.333333</td>\n",
       "      <td>1.333333</td>\n",
       "      <td>1.055333</td>\n",
       "      <td>1.074000</td>\n",
       "      <td>1.074000</td>\n",
       "      <td>103003500</td>\n",
       "      <td>0.0</td>\n",
       "      <td>0.0</td>\n",
       "    </tr>\n",
       "    <tr>\n",
       "      <th>...</th>\n",
       "      <td>...</td>\n",
       "      <td>...</td>\n",
       "      <td>...</td>\n",
       "      <td>...</td>\n",
       "      <td>...</td>\n",
       "      <td>...</td>\n",
       "      <td>...</td>\n",
       "      <td>...</td>\n",
       "      <td>...</td>\n",
       "    </tr>\n",
       "    <tr>\n",
       "      <th>3540</th>\n",
       "      <td>2024-07-24 00:00:00+00:00</td>\n",
       "      <td>225.419998</td>\n",
       "      <td>225.990005</td>\n",
       "      <td>214.710007</td>\n",
       "      <td>215.990005</td>\n",
       "      <td>215.990005</td>\n",
       "      <td>167942900</td>\n",
       "      <td>0.0</td>\n",
       "      <td>0.0</td>\n",
       "    </tr>\n",
       "    <tr>\n",
       "      <th>3541</th>\n",
       "      <td>2024-07-25 00:00:00+00:00</td>\n",
       "      <td>216.800003</td>\n",
       "      <td>226.000000</td>\n",
       "      <td>216.229996</td>\n",
       "      <td>220.250000</td>\n",
       "      <td>220.250000</td>\n",
       "      <td>100636500</td>\n",
       "      <td>0.0</td>\n",
       "      <td>0.0</td>\n",
       "    </tr>\n",
       "    <tr>\n",
       "      <th>3542</th>\n",
       "      <td>2024-07-26 00:00:00+00:00</td>\n",
       "      <td>221.190002</td>\n",
       "      <td>222.279999</td>\n",
       "      <td>215.330002</td>\n",
       "      <td>219.800003</td>\n",
       "      <td>219.800003</td>\n",
       "      <td>94604100</td>\n",
       "      <td>0.0</td>\n",
       "      <td>0.0</td>\n",
       "    </tr>\n",
       "    <tr>\n",
       "      <th>3543</th>\n",
       "      <td>2024-07-29 00:00:00+00:00</td>\n",
       "      <td>224.899994</td>\n",
       "      <td>234.270004</td>\n",
       "      <td>224.699997</td>\n",
       "      <td>232.100006</td>\n",
       "      <td>232.100006</td>\n",
       "      <td>129201800</td>\n",
       "      <td>0.0</td>\n",
       "      <td>0.0</td>\n",
       "    </tr>\n",
       "    <tr>\n",
       "      <th>3544</th>\n",
       "      <td>2024-07-30 00:00:00+00:00</td>\n",
       "      <td>232.250000</td>\n",
       "      <td>232.410004</td>\n",
       "      <td>220.000000</td>\n",
       "      <td>222.619995</td>\n",
       "      <td>222.619995</td>\n",
       "      <td>100560300</td>\n",
       "      <td>0.0</td>\n",
       "      <td>0.0</td>\n",
       "    </tr>\n",
       "  </tbody>\n",
       "</table>\n",
       "<p>3545 rows × 9 columns</p>\n",
       "</div>"
      ],
      "text/plain": [
       "                          Date        Open        High         Low  \\\n",
       "0    2010-06-29 00:00:00+00:00    1.266667    1.666667    1.169333   \n",
       "1    2010-06-30 00:00:00+00:00    1.719333    2.028000    1.553333   \n",
       "2    2010-07-01 00:00:00+00:00    1.666667    1.728000    1.351333   \n",
       "3    2010-07-02 00:00:00+00:00    1.533333    1.540000    1.247333   \n",
       "4    2010-07-06 00:00:00+00:00    1.333333    1.333333    1.055333   \n",
       "...                        ...         ...         ...         ...   \n",
       "3540 2024-07-24 00:00:00+00:00  225.419998  225.990005  214.710007   \n",
       "3541 2024-07-25 00:00:00+00:00  216.800003  226.000000  216.229996   \n",
       "3542 2024-07-26 00:00:00+00:00  221.190002  222.279999  215.330002   \n",
       "3543 2024-07-29 00:00:00+00:00  224.899994  234.270004  224.699997   \n",
       "3544 2024-07-30 00:00:00+00:00  232.250000  232.410004  220.000000   \n",
       "\n",
       "           Close   Adj Close     Volume  Dividends  Stock Splits  \n",
       "0       1.592667    1.592667  281494500        0.0           0.0  \n",
       "1       1.588667    1.588667  257806500        0.0           0.0  \n",
       "2       1.464000    1.464000  123282000        0.0           0.0  \n",
       "3       1.280000    1.280000   77097000        0.0           0.0  \n",
       "4       1.074000    1.074000  103003500        0.0           0.0  \n",
       "...          ...         ...        ...        ...           ...  \n",
       "3540  215.990005  215.990005  167942900        0.0           0.0  \n",
       "3541  220.250000  220.250000  100636500        0.0           0.0  \n",
       "3542  219.800003  219.800003   94604100        0.0           0.0  \n",
       "3543  232.100006  232.100006  129201800        0.0           0.0  \n",
       "3544  222.619995  222.619995  100560300        0.0           0.0  \n",
       "\n",
       "[3545 rows x 9 columns]"
      ]
     },
     "execution_count": 27,
     "metadata": {},
     "output_type": "execute_result"
    }
   ],
   "source": [
    "# Load the ticker analyze\n",
    "ta = TickerAnalyzer(\"AAPL\")\n",
    "ta.load_price_data_from_csv(CLEANED_DATA_PATH)"
   ]
  },
  {
   "cell_type": "code",
   "execution_count": 28,
   "id": "ca5100ba",
   "metadata": {},
   "outputs": [],
   "source": [
    "# Instantiate the analyzer for a specific ticker (ticker is mostly for metadata here)\n",
    "analyzer = TickerAnalyzer(ticker=\"AAPL\", period=\"1y\", interval=\"1d\")"
   ]
  },
  {
   "cell_type": "code",
   "execution_count": 29,
   "id": "7a4ff3c1",
   "metadata": {},
   "outputs": [
    {
     "name": "stdout",
     "output_type": "stream",
     "text": [
      "Price Data Sample:\n",
      "                       Date      Open      High       Low     Close  \\\n",
      "0 2010-06-29 00:00:00+00:00  1.266667  1.666667  1.169333  1.592667   \n",
      "1 2010-06-30 00:00:00+00:00  1.719333  2.028000  1.553333  1.588667   \n",
      "2 2010-07-01 00:00:00+00:00  1.666667  1.728000  1.351333  1.464000   \n",
      "3 2010-07-02 00:00:00+00:00  1.533333  1.540000  1.247333  1.280000   \n",
      "4 2010-07-06 00:00:00+00:00  1.333333  1.333333  1.055333  1.074000   \n",
      "\n",
      "   Adj Close     Volume  Dividends  Stock Splits  \n",
      "0   1.592667  281494500        0.0           0.0  \n",
      "1   1.588667  257806500        0.0           0.0  \n",
      "2   1.464000  123282000        0.0           0.0  \n",
      "3   1.280000   77097000        0.0           0.0  \n",
      "4   1.074000  103003500        0.0           0.0  \n"
     ]
    }
   ],
   "source": [
    "# Load Price Data from CSV\n",
    "price_df = analyzer.load_price_data_from_csv(CLEANED_DATA_PATH)\n",
    "\n",
    "print(\"Price Data Sample:\")\n",
    "print(price_df.head())"
   ]
  },
  {
   "cell_type": "code",
   "execution_count": 30,
   "id": "7d831f9b",
   "metadata": {},
   "outputs": [
    {
     "name": "stdout",
     "output_type": "stream",
     "text": [
      "\n",
      "Price Data with Technical Indicators Sample:\n",
      "                       Date     Close  momentum_rsi     Volume  trend_macd\n",
      "0 2010-06-29 00:00:00+00:00  1.592667           NaN  281494500         NaN\n",
      "1 2010-06-30 00:00:00+00:00  1.588667           NaN  257806500         NaN\n",
      "2 2010-07-01 00:00:00+00:00  1.464000           NaN  123282000         NaN\n",
      "3 2010-07-02 00:00:00+00:00  1.280000           NaN   77097000         NaN\n",
      "4 2010-07-06 00:00:00+00:00  1.074000           NaN  103003500         NaN\n"
     ]
    }
   ],
   "source": [
    "# Add Technical Indicators ===\n",
    "analyzer.price_df.rename(\n",
    "    columns={\n",
    "        'date': 'Date',\n",
    "        'open': 'Open',\n",
    "        'high': 'High',\n",
    "        'low': 'Low',\n",
    "        'close': 'Close',\n",
    "        'volume': 'Volume'\n",
    "    }, inplace=True)\n",
    "price_with_indicators = analyzer.add_technical_indicators()\n",
    "print(\"\\nPrice Data with Technical Indicators Sample:\")\n",
    "print(price_with_indicators[['Date', 'Close','momentum_rsi', 'Volume','trend_macd']].head())"
   ]
  },
  {
   "cell_type": "code",
   "execution_count": 31,
   "id": "d2f1da39",
   "metadata": {},
   "outputs": [
    {
     "name": "stdout",
     "output_type": "stream",
     "text": [
      "{'Cumulative Return': 139.1300525523751, 'Annualized Volatility': 0.5694405497796355, 'Sharpe Ratio': 0.8653832806856596, 'Max Drawdown': -0.736322174421912, 'Calmar Ratio': 188.95268591035764}\n"
     ]
    },
    {
     "data": {
      "image/png": "[encoded data removed]",
      "text/plain": [
       "<Figure size 1500x1000 with 3 Axes>"
      ]
     },
     "metadata": {},
     "output_type": "display_data"
    }
   ],
   "source": [
    "metrics = analyzer.compute_financial_metrics()\n",
    "print(metrics)\n",
    "analyzer.plot_price_and_indicators()"
   ]
  }
 ],
 "metadata": {
  "kernelspec": {
   "display_name": "venv",
   "language": "python",
   "name": "python3"
  },
  "language_info": {
   "codemirror_mode": {
    "name": "ipython",
    "version": 3
   },
   "file_extension": ".py",
   "mimetype": "text/x-python",
   "name": "python",
   "nbconvert_exporter": "python",
   "pygments_lexer": "ipython3",
   "version": "3.10.12"
  }
 },
 "nbformat": 4,
 "nbformat_minor": 5
}
