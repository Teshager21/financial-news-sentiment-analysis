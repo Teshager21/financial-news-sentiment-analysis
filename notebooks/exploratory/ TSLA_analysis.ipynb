{
 "cells": [
  {
   "cell_type": "markdown",
   "id": "8df97469",
   "metadata": {},
   "source": [
    "<div style=\"background-color:#f0f8ff; padding:10px; border-radius:10px;\">\n",
    "  <h1 style=\"text-align:center; color:#1a5276;\">\n",
    "    📈 NVDIA Analysis\n",
    "  </h1>\n",
    "</div>"
   ]
  },
  {
   "cell_type": "code",
   "execution_count": 32,
   "id": "b7af41b3",
   "metadata": {},
   "outputs": [
    {
     "name": "stdout",
     "output_type": "stream",
     "text": [
      "The autoreload extension is already loaded. To reload it, use:\n",
      "  %reload_ext autoreload\n"
     ]
    }
   ],
   "source": [
    "#auto loading\n",
    "%load_ext autoreload\n",
    "%autoreload 2"
   ]
  },
  {
   "cell_type": "markdown",
   "id": "09d14dde",
   "metadata": {},
   "source": [
    "## 🧱 1. Setup & Imports"
   ]
  },
  {
   "cell_type": "code",
   "execution_count": 33,
   "id": "71b654ef",
   "metadata": {},
   "outputs": [],
   "source": [
    "import warnings\n",
    "import pandas as pd\n",
    "from utils.ticker_analyzer import TickerAnalyzer\n",
    "from eda.data_quality_utils import DataQualityUtils\n",
    "from data.load_data import load_local_data"
   ]
  },
  {
   "cell_type": "code",
   "execution_count": 34,
   "id": "27c54ed8",
   "metadata": {},
   "outputs": [],
   "source": [
    "warnings.filterwarnings(\"ignore\")"
   ]
  },
  {
   "cell_type": "code",
   "execution_count": 35,
   "id": "219dcd86",
   "metadata": {},
   "outputs": [],
   "source": [
    "# variable\n",
    "TICKER= 'NVDA'"
   ]
  },
  {
   "cell_type": "code",
   "execution_count": 36,
   "id": "ac94d536",
   "metadata": {},
   "outputs": [],
   "source": [
    "#paths\n",
    "RAW_DATA_PATH='../../data/raw/yfinance_data/'+TICKER+'_historical_data.csv'\n",
    "CLEANED_DATA_PATH='../../data/interim/'+TICKER+'_historical_cleaned_data.csv'"
   ]
  },
  {
   "cell_type": "markdown",
   "id": "508c1dd7",
   "metadata": {},
   "source": [
    "### 📌 Project Overview"
   ]
  },
  {
   "cell_type": "markdown",
   "id": "5fe12101",
   "metadata": {},
   "source": [
    "#### AAPL Ticker Analysis 📊\n",
    "\n",
    "**Objective:**  \n",
    "This notebook applies the `TickerAnalyzer` class to analyze Apple Inc. (AAPL) stock performance. The analysis integrates:\n",
    "\n",
    "- Historical price data via `yfinance`\n",
    "- Technical indicators using `ta`\n",
    "- News sentiment analysis with `VADER`\n",
    "- Visualization of price movements vs. sentiment trends\n",
    "\n",
    "**Period:** Last 6 months (daily intervals)  \n",
    "**Tools:** Python, `yfinance`, `ta`, `vaderSentiment`, `matplotlib`\n",
    "\n",
    "---\n"
   ]
  },
  {
   "cell_type": "markdown",
   "id": "121c314e",
   "metadata": {},
   "source": [
    "## 📦 2. Data Loading & Overview  <a id= '2-data-loading--overview'></a>"
   ]
  },
  {
   "cell_type": "code",
   "execution_count": 37,
   "id": "d8971b5b",
   "metadata": {},
   "outputs": [
    {
     "name": "stderr",
     "output_type": "stream",
     "text": [
      "INFO:data.load_data:Loading data from: /home/teshager/Documents/10Academy/repositories/projects/financial-news-sentiment-analysis/data/raw/yfinance_data/NVDA_historical_data.csv (type=csv)\n",
      "INFO:data.load_data:Data loaded successfully. Shape: (6421, 9)\n"
     ]
    },
    {
     "data": {
      "text/html": [
       "<div>\n",
       "<style scoped>\n",
       "    .dataframe tbody tr th:only-of-type {\n",
       "        vertical-align: middle;\n",
       "    }\n",
       "\n",
       "    .dataframe tbody tr th {\n",
       "        vertical-align: top;\n",
       "    }\n",
       "\n",
       "    .dataframe thead th {\n",
       "        text-align: right;\n",
       "    }\n",
       "</style>\n",
       "<table border=\"1\" class=\"dataframe\">\n",
       "  <thead>\n",
       "    <tr style=\"text-align: right;\">\n",
       "      <th></th>\n",
       "      <th>Date</th>\n",
       "      <th>Open</th>\n",
       "      <th>High</th>\n",
       "      <th>Low</th>\n",
       "      <th>Close</th>\n",
       "      <th>Adj Close</th>\n",
       "      <th>Volume</th>\n",
       "      <th>Dividends</th>\n",
       "      <th>Stock Splits</th>\n",
       "    </tr>\n",
       "  </thead>\n",
       "  <tbody>\n",
       "    <tr>\n",
       "      <th>0</th>\n",
       "      <td>1999-01-22</td>\n",
       "      <td>0.043750</td>\n",
       "      <td>0.048828</td>\n",
       "      <td>0.038802</td>\n",
       "      <td>0.041016</td>\n",
       "      <td>0.037621</td>\n",
       "      <td>2714688000</td>\n",
       "      <td>0.0</td>\n",
       "      <td>0.0</td>\n",
       "    </tr>\n",
       "    <tr>\n",
       "      <th>1</th>\n",
       "      <td>1999-01-25</td>\n",
       "      <td>0.044271</td>\n",
       "      <td>0.045833</td>\n",
       "      <td>0.041016</td>\n",
       "      <td>0.045313</td>\n",
       "      <td>0.041562</td>\n",
       "      <td>510480000</td>\n",
       "      <td>0.0</td>\n",
       "      <td>0.0</td>\n",
       "    </tr>\n",
       "    <tr>\n",
       "      <th>2</th>\n",
       "      <td>1999-01-26</td>\n",
       "      <td>0.045833</td>\n",
       "      <td>0.046745</td>\n",
       "      <td>0.041146</td>\n",
       "      <td>0.041797</td>\n",
       "      <td>0.038337</td>\n",
       "      <td>343200000</td>\n",
       "      <td>0.0</td>\n",
       "      <td>0.0</td>\n",
       "    </tr>\n",
       "    <tr>\n",
       "      <th>3</th>\n",
       "      <td>1999-01-27</td>\n",
       "      <td>0.041927</td>\n",
       "      <td>0.042969</td>\n",
       "      <td>0.039583</td>\n",
       "      <td>0.041667</td>\n",
       "      <td>0.038218</td>\n",
       "      <td>244368000</td>\n",
       "      <td>0.0</td>\n",
       "      <td>0.0</td>\n",
       "    </tr>\n",
       "    <tr>\n",
       "      <th>4</th>\n",
       "      <td>1999-01-28</td>\n",
       "      <td>0.041667</td>\n",
       "      <td>0.041927</td>\n",
       "      <td>0.041276</td>\n",
       "      <td>0.041536</td>\n",
       "      <td>0.038098</td>\n",
       "      <td>227520000</td>\n",
       "      <td>0.0</td>\n",
       "      <td>0.0</td>\n",
       "    </tr>\n",
       "  </tbody>\n",
       "</table>\n",
       "</div>"
      ],
      "text/plain": [
       "         Date      Open      High       Low     Close  Adj Close      Volume  \\\n",
       "0  1999-01-22  0.043750  0.048828  0.038802  0.041016   0.037621  2714688000   \n",
       "1  1999-01-25  0.044271  0.045833  0.041016  0.045313   0.041562   510480000   \n",
       "2  1999-01-26  0.045833  0.046745  0.041146  0.041797   0.038337   343200000   \n",
       "3  1999-01-27  0.041927  0.042969  0.039583  0.041667   0.038218   244368000   \n",
       "4  1999-01-28  0.041667  0.041927  0.041276  0.041536   0.038098   227520000   \n",
       "\n",
       "   Dividends  Stock Splits  \n",
       "0        0.0           0.0  \n",
       "1        0.0           0.0  \n",
       "2        0.0           0.0  \n",
       "3        0.0           0.0  \n",
       "4        0.0           0.0  "
      ]
     },
     "execution_count": 37,
     "metadata": {},
     "output_type": "execute_result"
    }
   ],
   "source": [
    "# Load the stock news sentiment data\n",
    "df = load_local_data(RAW_DATA_PATH,)\n",
    "df.head()"
   ]
  },
  {
   "cell_type": "markdown",
   "id": "637af4c7",
   "metadata": {},
   "source": [
    "### Dataset Overview"
   ]
  },
  {
   "cell_type": "code",
   "execution_count": 38,
   "id": "7d5ebc45",
   "metadata": {},
   "outputs": [
    {
     "data": {
      "text/html": [
       "<div>\n",
       "<style scoped>\n",
       "    .dataframe tbody tr th:only-of-type {\n",
       "        vertical-align: middle;\n",
       "    }\n",
       "\n",
       "    .dataframe tbody tr th {\n",
       "        vertical-align: top;\n",
       "    }\n",
       "\n",
       "    .dataframe thead th {\n",
       "        text-align: right;\n",
       "    }\n",
       "</style>\n",
       "<table border=\"1\" class=\"dataframe\">\n",
       "  <thead>\n",
       "    <tr style=\"text-align: right;\">\n",
       "      <th></th>\n",
       "      <th>Date</th>\n",
       "      <th>Open</th>\n",
       "      <th>High</th>\n",
       "      <th>Low</th>\n",
       "      <th>Close</th>\n",
       "      <th>Adj Close</th>\n",
       "      <th>Volume</th>\n",
       "      <th>Dividends</th>\n",
       "      <th>Stock Splits</th>\n",
       "    </tr>\n",
       "  </thead>\n",
       "  <tbody>\n",
       "    <tr>\n",
       "      <th>610</th>\n",
       "      <td>2001-06-22</td>\n",
       "      <td>0.380208</td>\n",
       "      <td>0.390375</td>\n",
       "      <td>0.375417</td>\n",
       "      <td>0.380417</td>\n",
       "      <td>0.348929</td>\n",
       "      <td>761184000</td>\n",
       "      <td>0.0</td>\n",
       "      <td>0.0</td>\n",
       "    </tr>\n",
       "    <tr>\n",
       "      <th>1553</th>\n",
       "      <td>2005-03-29</td>\n",
       "      <td>0.206833</td>\n",
       "      <td>0.209167</td>\n",
       "      <td>0.201583</td>\n",
       "      <td>0.202500</td>\n",
       "      <td>0.185738</td>\n",
       "      <td>587400000</td>\n",
       "      <td>0.0</td>\n",
       "      <td>0.0</td>\n",
       "    </tr>\n",
       "    <tr>\n",
       "      <th>5799</th>\n",
       "      <td>2022-02-07</td>\n",
       "      <td>24.372000</td>\n",
       "      <td>25.181999</td>\n",
       "      <td>24.202000</td>\n",
       "      <td>24.728001</td>\n",
       "      <td>24.690756</td>\n",
       "      <td>376868000</td>\n",
       "      <td>0.0</td>\n",
       "      <td>0.0</td>\n",
       "    </tr>\n",
       "    <tr>\n",
       "      <th>1012</th>\n",
       "      <td>2003-02-03</td>\n",
       "      <td>0.087583</td>\n",
       "      <td>0.089333</td>\n",
       "      <td>0.085833</td>\n",
       "      <td>0.087667</td>\n",
       "      <td>0.080411</td>\n",
       "      <td>755556000</td>\n",
       "      <td>0.0</td>\n",
       "      <td>0.0</td>\n",
       "    </tr>\n",
       "    <tr>\n",
       "      <th>3741</th>\n",
       "      <td>2013-12-04</td>\n",
       "      <td>0.392500</td>\n",
       "      <td>0.399750</td>\n",
       "      <td>0.391500</td>\n",
       "      <td>0.399000</td>\n",
       "      <td>0.376382</td>\n",
       "      <td>493176000</td>\n",
       "      <td>0.0</td>\n",
       "      <td>0.0</td>\n",
       "    </tr>\n",
       "    <tr>\n",
       "      <th>3367</th>\n",
       "      <td>2012-06-08</td>\n",
       "      <td>0.298250</td>\n",
       "      <td>0.304000</td>\n",
       "      <td>0.297750</td>\n",
       "      <td>0.303000</td>\n",
       "      <td>0.277920</td>\n",
       "      <td>370308000</td>\n",
       "      <td>0.0</td>\n",
       "      <td>0.0</td>\n",
       "    </tr>\n",
       "    <tr>\n",
       "      <th>930</th>\n",
       "      <td>2002-10-04</td>\n",
       "      <td>0.071250</td>\n",
       "      <td>0.073500</td>\n",
       "      <td>0.066667</td>\n",
       "      <td>0.067833</td>\n",
       "      <td>0.062218</td>\n",
       "      <td>529788000</td>\n",
       "      <td>0.0</td>\n",
       "      <td>0.0</td>\n",
       "    </tr>\n",
       "    <tr>\n",
       "      <th>6351</th>\n",
       "      <td>2024-04-19</td>\n",
       "      <td>83.150002</td>\n",
       "      <td>84.323997</td>\n",
       "      <td>75.606003</td>\n",
       "      <td>76.199997</td>\n",
       "      <td>76.193741</td>\n",
       "      <td>875198000</td>\n",
       "      <td>0.0</td>\n",
       "      <td>0.0</td>\n",
       "    </tr>\n",
       "    <tr>\n",
       "      <th>2540</th>\n",
       "      <td>2009-02-27</td>\n",
       "      <td>0.201250</td>\n",
       "      <td>0.211750</td>\n",
       "      <td>0.199750</td>\n",
       "      <td>0.207000</td>\n",
       "      <td>0.189866</td>\n",
       "      <td>755444000</td>\n",
       "      <td>0.0</td>\n",
       "      <td>0.0</td>\n",
       "    </tr>\n",
       "    <tr>\n",
       "      <th>4097</th>\n",
       "      <td>2015-05-06</td>\n",
       "      <td>0.553750</td>\n",
       "      <td>0.559000</td>\n",
       "      <td>0.545250</td>\n",
       "      <td>0.552500</td>\n",
       "      <td>0.532551</td>\n",
       "      <td>316484000</td>\n",
       "      <td>0.0</td>\n",
       "      <td>0.0</td>\n",
       "    </tr>\n",
       "  </tbody>\n",
       "</table>\n",
       "</div>"
      ],
      "text/plain": [
       "            Date       Open       High        Low      Close  Adj Close  \\\n",
       "610   2001-06-22   0.380208   0.390375   0.375417   0.380417   0.348929   \n",
       "1553  2005-03-29   0.206833   0.209167   0.201583   0.202500   0.185738   \n",
       "5799  2022-02-07  24.372000  25.181999  24.202000  24.728001  24.690756   \n",
       "1012  2003-02-03   0.087583   0.089333   0.085833   0.087667   0.080411   \n",
       "3741  2013-12-04   0.392500   0.399750   0.391500   0.399000   0.376382   \n",
       "3367  2012-06-08   0.298250   0.304000   0.297750   0.303000   0.277920   \n",
       "930   2002-10-04   0.071250   0.073500   0.066667   0.067833   0.062218   \n",
       "6351  2024-04-19  83.150002  84.323997  75.606003  76.199997  76.193741   \n",
       "2540  2009-02-27   0.201250   0.211750   0.199750   0.207000   0.189866   \n",
       "4097  2015-05-06   0.553750   0.559000   0.545250   0.552500   0.532551   \n",
       "\n",
       "         Volume  Dividends  Stock Splits  \n",
       "610   761184000        0.0           0.0  \n",
       "1553  587400000        0.0           0.0  \n",
       "5799  376868000        0.0           0.0  \n",
       "1012  755556000        0.0           0.0  \n",
       "3741  493176000        0.0           0.0  \n",
       "3367  370308000        0.0           0.0  \n",
       "930   529788000        0.0           0.0  \n",
       "6351  875198000        0.0           0.0  \n",
       "2540  755444000        0.0           0.0  \n",
       "4097  316484000        0.0           0.0  "
      ]
     },
     "execution_count": 38,
     "metadata": {},
     "output_type": "execute_result"
    }
   ],
   "source": [
    "#view sample data\n",
    "df.sample(10)"
   ]
  },
  {
   "cell_type": "code",
   "execution_count": 39,
   "id": "252de09b",
   "metadata": {},
   "outputs": [
    {
     "data": {
      "text/html": [
       "<div>\n",
       "<style scoped>\n",
       "    .dataframe tbody tr th:only-of-type {\n",
       "        vertical-align: middle;\n",
       "    }\n",
       "\n",
       "    .dataframe tbody tr th {\n",
       "        vertical-align: top;\n",
       "    }\n",
       "\n",
       "    .dataframe thead th {\n",
       "        text-align: right;\n",
       "    }\n",
       "</style>\n",
       "<table border=\"1\" class=\"dataframe\">\n",
       "  <thead>\n",
       "    <tr style=\"text-align: right;\">\n",
       "      <th></th>\n",
       "      <th>Date</th>\n",
       "      <th>Open</th>\n",
       "      <th>High</th>\n",
       "      <th>Low</th>\n",
       "      <th>Close</th>\n",
       "      <th>Adj Close</th>\n",
       "      <th>Volume</th>\n",
       "      <th>Dividends</th>\n",
       "      <th>Stock Splits</th>\n",
       "    </tr>\n",
       "  </thead>\n",
       "  <tbody>\n",
       "    <tr>\n",
       "      <th>6416</th>\n",
       "      <td>2024-07-24</td>\n",
       "      <td>119.169998</td>\n",
       "      <td>119.949997</td>\n",
       "      <td>113.440002</td>\n",
       "      <td>114.250000</td>\n",
       "      <td>114.250000</td>\n",
       "      <td>327776900</td>\n",
       "      <td>0.0</td>\n",
       "      <td>0.0</td>\n",
       "    </tr>\n",
       "    <tr>\n",
       "      <th>6417</th>\n",
       "      <td>2024-07-25</td>\n",
       "      <td>113.040001</td>\n",
       "      <td>116.629997</td>\n",
       "      <td>106.300003</td>\n",
       "      <td>112.279999</td>\n",
       "      <td>112.279999</td>\n",
       "      <td>460067000</td>\n",
       "      <td>0.0</td>\n",
       "      <td>0.0</td>\n",
       "    </tr>\n",
       "    <tr>\n",
       "      <th>6418</th>\n",
       "      <td>2024-07-26</td>\n",
       "      <td>116.190002</td>\n",
       "      <td>116.199997</td>\n",
       "      <td>111.580002</td>\n",
       "      <td>113.059998</td>\n",
       "      <td>113.059998</td>\n",
       "      <td>293399100</td>\n",
       "      <td>0.0</td>\n",
       "      <td>0.0</td>\n",
       "    </tr>\n",
       "    <tr>\n",
       "      <th>6419</th>\n",
       "      <td>2024-07-29</td>\n",
       "      <td>113.690002</td>\n",
       "      <td>116.279999</td>\n",
       "      <td>111.300003</td>\n",
       "      <td>111.589996</td>\n",
       "      <td>111.589996</td>\n",
       "      <td>248152100</td>\n",
       "      <td>0.0</td>\n",
       "      <td>0.0</td>\n",
       "    </tr>\n",
       "    <tr>\n",
       "      <th>6420</th>\n",
       "      <td>2024-07-30</td>\n",
       "      <td>111.519997</td>\n",
       "      <td>111.989998</td>\n",
       "      <td>102.540001</td>\n",
       "      <td>103.730003</td>\n",
       "      <td>103.730003</td>\n",
       "      <td>486833300</td>\n",
       "      <td>0.0</td>\n",
       "      <td>0.0</td>\n",
       "    </tr>\n",
       "  </tbody>\n",
       "</table>\n",
       "</div>"
      ],
      "text/plain": [
       "            Date        Open        High         Low       Close   Adj Close  \\\n",
       "6416  2024-07-24  119.169998  119.949997  113.440002  114.250000  114.250000   \n",
       "6417  2024-07-25  113.040001  116.629997  106.300003  112.279999  112.279999   \n",
       "6418  2024-07-26  116.190002  116.199997  111.580002  113.059998  113.059998   \n",
       "6419  2024-07-29  113.690002  116.279999  111.300003  111.589996  111.589996   \n",
       "6420  2024-07-30  111.519997  111.989998  102.540001  103.730003  103.730003   \n",
       "\n",
       "         Volume  Dividends  Stock Splits  \n",
       "6416  327776900        0.0           0.0  \n",
       "6417  460067000        0.0           0.0  \n",
       "6418  293399100        0.0           0.0  \n",
       "6419  248152100        0.0           0.0  \n",
       "6420  486833300        0.0           0.0  "
      ]
     },
     "execution_count": 39,
     "metadata": {},
     "output_type": "execute_result"
    }
   ],
   "source": [
    "#see the last rows\n",
    "df.tail()"
   ]
  },
  {
   "cell_type": "code",
   "execution_count": 40,
   "id": "fba08a7a",
   "metadata": {},
   "outputs": [
    {
     "data": {
      "text/plain": [
       "(6421, 9)"
      ]
     },
     "execution_count": 40,
     "metadata": {},
     "output_type": "execute_result"
    }
   ],
   "source": [
    "#shape of the dataset\n",
    "df.shape"
   ]
  },
  {
   "cell_type": "code",
   "execution_count": 41,
   "id": "fbb3ee50",
   "metadata": {},
   "outputs": [
    {
     "data": {
      "text/plain": [
       "Index(['Date', 'Open', 'High', 'Low', 'Close', 'Adj Close', 'Volume',\n",
       "       'Dividends', 'Stock Splits'],\n",
       "      dtype='object')"
      ]
     },
     "execution_count": 41,
     "metadata": {},
     "output_type": "execute_result"
    }
   ],
   "source": [
    "df.columns"
   ]
  },
  {
   "cell_type": "markdown",
   "id": "e2111194",
   "metadata": {},
   "source": [
    "## 📐 3. Data Types & Basic Stats <a id='3-data-types--basic-stats'></a>"
   ]
  },
  {
   "cell_type": "code",
   "execution_count": 42,
   "id": "5c2b1440",
   "metadata": {},
   "outputs": [
    {
     "data": {
      "text/html": [
       "<div>\n",
       "<style scoped>\n",
       "    .dataframe tbody tr th:only-of-type {\n",
       "        vertical-align: middle;\n",
       "    }\n",
       "\n",
       "    .dataframe tbody tr th {\n",
       "        vertical-align: top;\n",
       "    }\n",
       "\n",
       "    .dataframe thead th {\n",
       "        text-align: right;\n",
       "    }\n",
       "</style>\n",
       "<table border=\"1\" class=\"dataframe\">\n",
       "  <thead>\n",
       "    <tr style=\"text-align: right;\">\n",
       "      <th></th>\n",
       "      <th>count</th>\n",
       "      <th>mean</th>\n",
       "      <th>std</th>\n",
       "      <th>min</th>\n",
       "      <th>25%</th>\n",
       "      <th>50%</th>\n",
       "      <th>75%</th>\n",
       "      <th>max</th>\n",
       "    </tr>\n",
       "  </thead>\n",
       "  <tbody>\n",
       "    <tr>\n",
       "      <th>Open</th>\n",
       "      <td>6421.0</td>\n",
       "      <td>6.207884e+00</td>\n",
       "      <td>1.613833e+01</td>\n",
       "      <td>3.489600e-02</td>\n",
       "      <td>2.775000e-01</td>\n",
       "      <td>4.572500e-01</td>\n",
       "      <td>4.182500e+00</td>\n",
       "      <td>1.398000e+02</td>\n",
       "    </tr>\n",
       "    <tr>\n",
       "      <th>High</th>\n",
       "      <td>6421.0</td>\n",
       "      <td>6.320466e+00</td>\n",
       "      <td>1.642486e+01</td>\n",
       "      <td>3.554700e-02</td>\n",
       "      <td>2.862500e-01</td>\n",
       "      <td>4.647500e-01</td>\n",
       "      <td>4.235750e+00</td>\n",
       "      <td>1.407600e+02</td>\n",
       "    </tr>\n",
       "    <tr>\n",
       "      <th>Low</th>\n",
       "      <td>6421.0</td>\n",
       "      <td>6.085095e+00</td>\n",
       "      <td>1.579491e+01</td>\n",
       "      <td>3.333300e-02</td>\n",
       "      <td>2.695000e-01</td>\n",
       "      <td>4.507500e-01</td>\n",
       "      <td>4.116500e+00</td>\n",
       "      <td>1.324200e+02</td>\n",
       "    </tr>\n",
       "    <tr>\n",
       "      <th>Close</th>\n",
       "      <td>6421.0</td>\n",
       "      <td>6.207702e+00</td>\n",
       "      <td>1.611852e+01</td>\n",
       "      <td>3.411500e-02</td>\n",
       "      <td>2.767500e-01</td>\n",
       "      <td>4.570000e-01</td>\n",
       "      <td>4.175000e+00</td>\n",
       "      <td>1.355800e+02</td>\n",
       "    </tr>\n",
       "    <tr>\n",
       "      <th>Adj Close</th>\n",
       "      <td>6421.0</td>\n",
       "      <td>6.181334e+00</td>\n",
       "      <td>1.612135e+01</td>\n",
       "      <td>3.129119e-02</td>\n",
       "      <td>2.538425e-01</td>\n",
       "      <td>4.276375e-01</td>\n",
       "      <td>4.130434e+00</td>\n",
       "      <td>1.355800e+02</td>\n",
       "    </tr>\n",
       "    <tr>\n",
       "      <th>Volume</th>\n",
       "      <td>6421.0</td>\n",
       "      <td>6.060791e+08</td>\n",
       "      <td>4.323482e+08</td>\n",
       "      <td>1.968000e+07</td>\n",
       "      <td>3.456350e+08</td>\n",
       "      <td>5.070000e+08</td>\n",
       "      <td>7.362000e+08</td>\n",
       "      <td>9.230856e+09</td>\n",
       "    </tr>\n",
       "    <tr>\n",
       "      <th>Dividends</th>\n",
       "      <td>6421.0</td>\n",
       "      <td>2.548668e-05</td>\n",
       "      <td>3.155628e-04</td>\n",
       "      <td>0.000000e+00</td>\n",
       "      <td>0.000000e+00</td>\n",
       "      <td>0.000000e+00</td>\n",
       "      <td>0.000000e+00</td>\n",
       "      <td>1.000000e-02</td>\n",
       "    </tr>\n",
       "    <tr>\n",
       "      <th>Stock Splits</th>\n",
       "      <td>6421.0</td>\n",
       "      <td>3.348388e-03</td>\n",
       "      <td>1.423972e-01</td>\n",
       "      <td>0.000000e+00</td>\n",
       "      <td>0.000000e+00</td>\n",
       "      <td>0.000000e+00</td>\n",
       "      <td>0.000000e+00</td>\n",
       "      <td>1.000000e+01</td>\n",
       "    </tr>\n",
       "  </tbody>\n",
       "</table>\n",
       "</div>"
      ],
      "text/plain": [
       "               count          mean           std           min           25%  \\\n",
       "Open          6421.0  6.207884e+00  1.613833e+01  3.489600e-02  2.775000e-01   \n",
       "High          6421.0  6.320466e+00  1.642486e+01  3.554700e-02  2.862500e-01   \n",
       "Low           6421.0  6.085095e+00  1.579491e+01  3.333300e-02  2.695000e-01   \n",
       "Close         6421.0  6.207702e+00  1.611852e+01  3.411500e-02  2.767500e-01   \n",
       "Adj Close     6421.0  6.181334e+00  1.612135e+01  3.129119e-02  2.538425e-01   \n",
       "Volume        6421.0  6.060791e+08  4.323482e+08  1.968000e+07  3.456350e+08   \n",
       "Dividends     6421.0  2.548668e-05  3.155628e-04  0.000000e+00  0.000000e+00   \n",
       "Stock Splits  6421.0  3.348388e-03  1.423972e-01  0.000000e+00  0.000000e+00   \n",
       "\n",
       "                       50%           75%           max  \n",
       "Open          4.572500e-01  4.182500e+00  1.398000e+02  \n",
       "High          4.647500e-01  4.235750e+00  1.407600e+02  \n",
       "Low           4.507500e-01  4.116500e+00  1.324200e+02  \n",
       "Close         4.570000e-01  4.175000e+00  1.355800e+02  \n",
       "Adj Close     4.276375e-01  4.130434e+00  1.355800e+02  \n",
       "Volume        5.070000e+08  7.362000e+08  9.230856e+09  \n",
       "Dividends     0.000000e+00  0.000000e+00  1.000000e-02  \n",
       "Stock Splits  0.000000e+00  0.000000e+00  1.000000e+01  "
      ]
     },
     "execution_count": 42,
     "metadata": {},
     "output_type": "execute_result"
    }
   ],
   "source": [
    "#Numerical Columns\n",
    "df.describe().T"
   ]
  },
  {
   "cell_type": "code",
   "execution_count": 43,
   "id": "e32e8398",
   "metadata": {},
   "outputs": [
    {
     "data": {
      "text/html": [
       "<div>\n",
       "<style scoped>\n",
       "    .dataframe tbody tr th:only-of-type {\n",
       "        vertical-align: middle;\n",
       "    }\n",
       "\n",
       "    .dataframe tbody tr th {\n",
       "        vertical-align: top;\n",
       "    }\n",
       "\n",
       "    .dataframe thead th {\n",
       "        text-align: right;\n",
       "    }\n",
       "</style>\n",
       "<table border=\"1\" class=\"dataframe\">\n",
       "  <thead>\n",
       "    <tr style=\"text-align: right;\">\n",
       "      <th></th>\n",
       "      <th>count</th>\n",
       "      <th>unique</th>\n",
       "      <th>top</th>\n",
       "      <th>freq</th>\n",
       "    </tr>\n",
       "  </thead>\n",
       "  <tbody>\n",
       "    <tr>\n",
       "      <th>Date</th>\n",
       "      <td>6421</td>\n",
       "      <td>6421</td>\n",
       "      <td>1999-01-22</td>\n",
       "      <td>1</td>\n",
       "    </tr>\n",
       "  </tbody>\n",
       "</table>\n",
       "</div>"
      ],
      "text/plain": [
       "     count unique         top freq\n",
       "Date  6421   6421  1999-01-22    1"
      ]
     },
     "execution_count": 43,
     "metadata": {},
     "output_type": "execute_result"
    }
   ],
   "source": [
    "#for columns of object type\n",
    "df.describe(include=['O']).T"
   ]
  },
  {
   "cell_type": "code",
   "execution_count": 44,
   "id": "12c32634",
   "metadata": {},
   "outputs": [
    {
     "name": "stdout",
     "output_type": "stream",
     "text": [
      "<class 'pandas.core.frame.DataFrame'>\n",
      "RangeIndex: 6421 entries, 0 to 6420\n",
      "Data columns (total 9 columns):\n",
      " #   Column        Non-Null Count  Dtype  \n",
      "---  ------        --------------  -----  \n",
      " 0   Date          6421 non-null   object \n",
      " 1   Open          6421 non-null   float64\n",
      " 2   High          6421 non-null   float64\n",
      " 3   Low           6421 non-null   float64\n",
      " 4   Close         6421 non-null   float64\n",
      " 5   Adj Close     6421 non-null   float64\n",
      " 6   Volume        6421 non-null   int64  \n",
      " 7   Dividends     6421 non-null   float64\n",
      " 8   Stock Splits  6421 non-null   float64\n",
      "dtypes: float64(7), int64(1), object(1)\n",
      "memory usage: 451.6+ KB\n"
     ]
    }
   ],
   "source": [
    "# data types of the columns\n",
    "df.info()"
   ]
  },
  {
   "cell_type": "code",
   "execution_count": 45,
   "id": "9a2a7204",
   "metadata": {},
   "outputs": [
    {
     "data": {
      "text/plain": [
       "Date            6421\n",
       "Volume          6337\n",
       "Adj Close       5380\n",
       "Close           4980\n",
       "Open            4867\n",
       "High            4840\n",
       "Low             4829\n",
       "Dividends          9\n",
       "Stock Splits       5\n",
       "dtype: int64"
      ]
     },
     "execution_count": 45,
     "metadata": {},
     "output_type": "execute_result"
    }
   ],
   "source": [
    "#distinct values in each column\n",
    "df.nunique().sort_values(ascending=False)"
   ]
  },
  {
   "cell_type": "markdown",
   "id": "cd48a90b",
   "metadata": {},
   "source": [
    "## 🔍 4. Data Quality Analysis <a id='4-data-quality-analysis'></a>"
   ]
  },
  {
   "cell_type": "code",
   "execution_count": 46,
   "id": "fda7f18c",
   "metadata": {},
   "outputs": [],
   "source": [
    "#instantiate the DataQualityUtils class\n",
    "dq=DataQualityUtils(df)"
   ]
  },
  {
   "cell_type": "code",
   "execution_count": 47,
   "id": "402fd66b",
   "metadata": {},
   "outputs": [
    {
     "data": {
      "text/html": [
       "<div>\n",
       "<style scoped>\n",
       "    .dataframe tbody tr th:only-of-type {\n",
       "        vertical-align: middle;\n",
       "    }\n",
       "\n",
       "    .dataframe tbody tr th {\n",
       "        vertical-align: top;\n",
       "    }\n",
       "\n",
       "    .dataframe thead th {\n",
       "        text-align: right;\n",
       "    }\n",
       "</style>\n",
       "<table border=\"1\" class=\"dataframe\">\n",
       "  <thead>\n",
       "    <tr style=\"text-align: right;\">\n",
       "      <th></th>\n",
       "      <th>#missing_values</th>\n",
       "      <th>percentage</th>\n",
       "    </tr>\n",
       "  </thead>\n",
       "  <tbody>\n",
       "    <tr>\n",
       "      <th>Date</th>\n",
       "      <td>0</td>\n",
       "      <td>0.00%</td>\n",
       "    </tr>\n",
       "    <tr>\n",
       "      <th>Open</th>\n",
       "      <td>0</td>\n",
       "      <td>0.00%</td>\n",
       "    </tr>\n",
       "    <tr>\n",
       "      <th>High</th>\n",
       "      <td>0</td>\n",
       "      <td>0.00%</td>\n",
       "    </tr>\n",
       "    <tr>\n",
       "      <th>Low</th>\n",
       "      <td>0</td>\n",
       "      <td>0.00%</td>\n",
       "    </tr>\n",
       "    <tr>\n",
       "      <th>Close</th>\n",
       "      <td>0</td>\n",
       "      <td>0.00%</td>\n",
       "    </tr>\n",
       "    <tr>\n",
       "      <th>Adj Close</th>\n",
       "      <td>0</td>\n",
       "      <td>0.00%</td>\n",
       "    </tr>\n",
       "    <tr>\n",
       "      <th>Volume</th>\n",
       "      <td>0</td>\n",
       "      <td>0.00%</td>\n",
       "    </tr>\n",
       "    <tr>\n",
       "      <th>Dividends</th>\n",
       "      <td>0</td>\n",
       "      <td>0.00%</td>\n",
       "    </tr>\n",
       "    <tr>\n",
       "      <th>Stock Splits</th>\n",
       "      <td>0</td>\n",
       "      <td>0.00%</td>\n",
       "    </tr>\n",
       "  </tbody>\n",
       "</table>\n",
       "</div>"
      ],
      "text/plain": [
       "              #missing_values percentage\n",
       "Date                        0      0.00%\n",
       "Open                        0      0.00%\n",
       "High                        0      0.00%\n",
       "Low                         0      0.00%\n",
       "Close                       0      0.00%\n",
       "Adj Close                   0      0.00%\n",
       "Volume                      0      0.00%\n",
       "Dividends                   0      0.00%\n",
       "Stock Splits                0      0.00%"
      ]
     },
     "execution_count": 47,
     "metadata": {},
     "output_type": "execute_result"
    }
   ],
   "source": [
    "#count of missing values per column\n",
    "dq.summary()"
   ]
  },
  {
   "cell_type": "markdown",
   "id": "f3d4dbe5",
   "metadata": {},
   "source": [
    "### Missing Values"
   ]
  },
  {
   "cell_type": "code",
   "execution_count": 48,
   "id": "b322f8a8",
   "metadata": {},
   "outputs": [
    {
     "data": {
      "text/html": [
       "<div>\n",
       "<style scoped>\n",
       "    .dataframe tbody tr th:only-of-type {\n",
       "        vertical-align: middle;\n",
       "    }\n",
       "\n",
       "    .dataframe tbody tr th {\n",
       "        vertical-align: top;\n",
       "    }\n",
       "\n",
       "    .dataframe thead th {\n",
       "        text-align: right;\n",
       "    }\n",
       "</style>\n",
       "<table border=\"1\" class=\"dataframe\">\n",
       "  <thead>\n",
       "    <tr style=\"text-align: right;\">\n",
       "      <th></th>\n",
       "      <th>#missing_values</th>\n",
       "      <th>percentage</th>\n",
       "    </tr>\n",
       "  </thead>\n",
       "  <tbody>\n",
       "  </tbody>\n",
       "</table>\n",
       "</div>"
      ],
      "text/plain": [
       "Empty DataFrame\n",
       "Columns: [#missing_values, percentage]\n",
       "Index: []"
      ]
     },
     "execution_count": 48,
     "metadata": {},
     "output_type": "execute_result"
    }
   ],
   "source": [
    "#column with >5% nulls\n",
    "dq.columns_with_significant_missing_values(threshold=5)"
   ]
  },
  {
   "cell_type": "markdown",
   "id": "440dc15d",
   "metadata": {},
   "source": [
    "### Duplicates"
   ]
  },
  {
   "cell_type": "code",
   "execution_count": 49,
   "id": "5da9df66",
   "metadata": {},
   "outputs": [
    {
     "data": {
      "text/plain": [
       "0"
      ]
     },
     "execution_count": 49,
     "metadata": {},
     "output_type": "execute_result"
    }
   ],
   "source": [
    "#count duplicates\n",
    "dq.count_duplicates()"
   ]
  },
  {
   "cell_type": "markdown",
   "id": "b1c73167",
   "metadata": {},
   "source": [
    "### Invalid Values"
   ]
  },
  {
   "cell_type": "code",
   "execution_count": 50,
   "id": "d9e6b786",
   "metadata": {},
   "outputs": [
    {
     "data": {
      "text/plain": [
       "{}"
      ]
     },
     "execution_count": 50,
     "metadata": {},
     "output_type": "execute_result"
    }
   ],
   "source": [
    "dq.find_invalid_values()"
   ]
  },
  {
   "cell_type": "markdown",
   "id": "3aa9c9d5",
   "metadata": {},
   "source": [
    "## 🧹 5. Data Cleaning  <a id='5-data-cleaning'></a>"
   ]
  },
  {
   "cell_type": "code",
   "execution_count": 51,
   "id": "98dde7ed",
   "metadata": {},
   "outputs": [],
   "source": [
    "#saving the original dataset for later use\n",
    "df_original=df.copy()"
   ]
  },
  {
   "cell_type": "markdown",
   "id": "4581d672",
   "metadata": {},
   "source": [
    "### Inconsistencies and Inaccuracies"
   ]
  },
  {
   "cell_type": "code",
   "execution_count": 52,
   "id": "0fcea5f2",
   "metadata": {},
   "outputs": [],
   "source": [
    "#drop redundancies and clean column names\n",
    "df=dq.drop_redundant_columns()"
   ]
  },
  {
   "cell_type": "code",
   "execution_count": 53,
   "id": "a60f03c9",
   "metadata": {},
   "outputs": [
    {
     "name": "stdout",
     "output_type": "stream",
     "text": [
      "[Date] Converted: 6421/6421 (0 became NaT)\n"
     ]
    }
   ],
   "source": [
    "df=dq.convert_columns_to_datetime()"
   ]
  },
  {
   "cell_type": "code",
   "execution_count": 54,
   "id": "cad094ce",
   "metadata": {},
   "outputs": [
    {
     "name": "stdout",
     "output_type": "stream",
     "text": [
      "<class 'pandas.core.frame.DataFrame'>\n",
      "RangeIndex: 6421 entries, 0 to 6420\n",
      "Data columns (total 9 columns):\n",
      " #   Column        Non-Null Count  Dtype              \n",
      "---  ------        --------------  -----              \n",
      " 0   Date          6421 non-null   datetime64[ns, UTC]\n",
      " 1   Open          6421 non-null   float64            \n",
      " 2   High          6421 non-null   float64            \n",
      " 3   Low           6421 non-null   float64            \n",
      " 4   Close         6421 non-null   float64            \n",
      " 5   Adj Close     6421 non-null   float64            \n",
      " 6   Volume        6421 non-null   int64              \n",
      " 7   Dividends     6421 non-null   float64            \n",
      " 8   Stock Splits  6421 non-null   float64            \n",
      "dtypes: datetime64[ns, UTC](1), float64(7), int64(1)\n",
      "memory usage: 451.6 KB\n"
     ]
    }
   ],
   "source": [
    "df.info()"
   ]
  },
  {
   "cell_type": "code",
   "execution_count": 55,
   "id": "b210c10f",
   "metadata": {},
   "outputs": [
    {
     "data": {
      "text/plain": [
       "Index(['Date', 'Open', 'High', 'Low', 'Close', 'Adj Close', 'Volume',\n",
       "       'Dividends', 'Stock Splits'],\n",
       "      dtype='object')"
      ]
     },
     "execution_count": 55,
     "metadata": {},
     "output_type": "execute_result"
    }
   ],
   "source": [
    "df.columns"
   ]
  },
  {
   "cell_type": "code",
   "execution_count": 56,
   "id": "a443d88f",
   "metadata": {},
   "outputs": [
    {
     "data": {
      "text/html": [
       "<div>\n",
       "<style scoped>\n",
       "    .dataframe tbody tr th:only-of-type {\n",
       "        vertical-align: middle;\n",
       "    }\n",
       "\n",
       "    .dataframe tbody tr th {\n",
       "        vertical-align: top;\n",
       "    }\n",
       "\n",
       "    .dataframe thead th {\n",
       "        text-align: right;\n",
       "    }\n",
       "</style>\n",
       "<table border=\"1\" class=\"dataframe\">\n",
       "  <thead>\n",
       "    <tr style=\"text-align: right;\">\n",
       "      <th></th>\n",
       "      <th>Date</th>\n",
       "      <th>Open</th>\n",
       "      <th>High</th>\n",
       "      <th>Low</th>\n",
       "      <th>Close</th>\n",
       "      <th>Adj Close</th>\n",
       "      <th>Volume</th>\n",
       "      <th>Dividends</th>\n",
       "      <th>Stock Splits</th>\n",
       "    </tr>\n",
       "  </thead>\n",
       "  <tbody>\n",
       "    <tr>\n",
       "      <th>3050</th>\n",
       "      <td>2011-03-08 00:00:00+00:00</td>\n",
       "      <td>0.517250</td>\n",
       "      <td>0.520000</td>\n",
       "      <td>0.478000</td>\n",
       "      <td>0.488750</td>\n",
       "      <td>0.448295</td>\n",
       "      <td>1947184000</td>\n",
       "      <td>0.0</td>\n",
       "      <td>0.0</td>\n",
       "    </tr>\n",
       "    <tr>\n",
       "      <th>4993</th>\n",
       "      <td>2018-11-23 00:00:00+00:00</td>\n",
       "      <td>3.582750</td>\n",
       "      <td>3.739750</td>\n",
       "      <td>3.569750</td>\n",
       "      <td>3.625000</td>\n",
       "      <td>3.592784</td>\n",
       "      <td>411968000</td>\n",
       "      <td>0.0</td>\n",
       "      <td>0.0</td>\n",
       "    </tr>\n",
       "    <tr>\n",
       "      <th>4375</th>\n",
       "      <td>2016-06-13 00:00:00+00:00</td>\n",
       "      <td>1.156250</td>\n",
       "      <td>1.192500</td>\n",
       "      <td>1.156250</td>\n",
       "      <td>1.169750</td>\n",
       "      <td>1.148953</td>\n",
       "      <td>475588000</td>\n",
       "      <td>0.0</td>\n",
       "      <td>0.0</td>\n",
       "    </tr>\n",
       "    <tr>\n",
       "      <th>1187</th>\n",
       "      <td>2003-10-13 00:00:00+00:00</td>\n",
       "      <td>0.141000</td>\n",
       "      <td>0.143750</td>\n",
       "      <td>0.139917</td>\n",
       "      <td>0.140833</td>\n",
       "      <td>0.129176</td>\n",
       "      <td>434904000</td>\n",
       "      <td>0.0</td>\n",
       "      <td>0.0</td>\n",
       "    </tr>\n",
       "    <tr>\n",
       "      <th>610</th>\n",
       "      <td>2001-06-22 00:00:00+00:00</td>\n",
       "      <td>0.380208</td>\n",
       "      <td>0.390375</td>\n",
       "      <td>0.375417</td>\n",
       "      <td>0.380417</td>\n",
       "      <td>0.348929</td>\n",
       "      <td>761184000</td>\n",
       "      <td>0.0</td>\n",
       "      <td>0.0</td>\n",
       "    </tr>\n",
       "    <tr>\n",
       "      <th>3513</th>\n",
       "      <td>2013-01-09 00:00:00+00:00</td>\n",
       "      <td>0.314750</td>\n",
       "      <td>0.316250</td>\n",
       "      <td>0.303250</td>\n",
       "      <td>0.305250</td>\n",
       "      <td>0.281790</td>\n",
       "      <td>695020000</td>\n",
       "      <td>0.0</td>\n",
       "      <td>0.0</td>\n",
       "    </tr>\n",
       "    <tr>\n",
       "      <th>4023</th>\n",
       "      <td>2015-01-20 00:00:00+00:00</td>\n",
       "      <td>0.502500</td>\n",
       "      <td>0.505250</td>\n",
       "      <td>0.494250</td>\n",
       "      <td>0.500500</td>\n",
       "      <td>0.480578</td>\n",
       "      <td>140308000</td>\n",
       "      <td>0.0</td>\n",
       "      <td>0.0</td>\n",
       "    </tr>\n",
       "    <tr>\n",
       "      <th>4906</th>\n",
       "      <td>2018-07-23 00:00:00+00:00</td>\n",
       "      <td>6.245500</td>\n",
       "      <td>6.247250</td>\n",
       "      <td>6.082000</td>\n",
       "      <td>6.235250</td>\n",
       "      <td>6.176458</td>\n",
       "      <td>301584000</td>\n",
       "      <td>0.0</td>\n",
       "      <td>0.0</td>\n",
       "    </tr>\n",
       "    <tr>\n",
       "      <th>115</th>\n",
       "      <td>1999-07-08 00:00:00+00:00</td>\n",
       "      <td>0.040104</td>\n",
       "      <td>0.041406</td>\n",
       "      <td>0.038802</td>\n",
       "      <td>0.040755</td>\n",
       "      <td>0.037382</td>\n",
       "      <td>186048000</td>\n",
       "      <td>0.0</td>\n",
       "      <td>0.0</td>\n",
       "    </tr>\n",
       "    <tr>\n",
       "      <th>3803</th>\n",
       "      <td>2014-03-06 00:00:00+00:00</td>\n",
       "      <td>0.466750</td>\n",
       "      <td>0.469250</td>\n",
       "      <td>0.458750</td>\n",
       "      <td>0.459500</td>\n",
       "      <td>0.435410</td>\n",
       "      <td>290144000</td>\n",
       "      <td>0.0</td>\n",
       "      <td>0.0</td>\n",
       "    </tr>\n",
       "  </tbody>\n",
       "</table>\n",
       "</div>"
      ],
      "text/plain": [
       "                          Date      Open      High       Low     Close  \\\n",
       "3050 2011-03-08 00:00:00+00:00  0.517250  0.520000  0.478000  0.488750   \n",
       "4993 2018-11-23 00:00:00+00:00  3.582750  3.739750  3.569750  3.625000   \n",
       "4375 2016-06-13 00:00:00+00:00  1.156250  1.192500  1.156250  1.169750   \n",
       "1187 2003-10-13 00:00:00+00:00  0.141000  0.143750  0.139917  0.140833   \n",
       "610  2001-06-22 00:00:00+00:00  0.380208  0.390375  0.375417  0.380417   \n",
       "3513 2013-01-09 00:00:00+00:00  0.314750  0.316250  0.303250  0.305250   \n",
       "4023 2015-01-20 00:00:00+00:00  0.502500  0.505250  0.494250  0.500500   \n",
       "4906 2018-07-23 00:00:00+00:00  6.245500  6.247250  6.082000  6.235250   \n",
       "115  1999-07-08 00:00:00+00:00  0.040104  0.041406  0.038802  0.040755   \n",
       "3803 2014-03-06 00:00:00+00:00  0.466750  0.469250  0.458750  0.459500   \n",
       "\n",
       "      Adj Close      Volume  Dividends  Stock Splits  \n",
       "3050   0.448295  1947184000        0.0           0.0  \n",
       "4993   3.592784   411968000        0.0           0.0  \n",
       "4375   1.148953   475588000        0.0           0.0  \n",
       "1187   0.129176   434904000        0.0           0.0  \n",
       "610    0.348929   761184000        0.0           0.0  \n",
       "3513   0.281790   695020000        0.0           0.0  \n",
       "4023   0.480578   140308000        0.0           0.0  \n",
       "4906   6.176458   301584000        0.0           0.0  \n",
       "115    0.037382   186048000        0.0           0.0  \n",
       "3803   0.435410   290144000        0.0           0.0  "
      ]
     },
     "execution_count": 56,
     "metadata": {},
     "output_type": "execute_result"
    }
   ],
   "source": [
    "df.sample(10)"
   ]
  },
  {
   "cell_type": "code",
   "execution_count": 57,
   "id": "b1933a6a",
   "metadata": {},
   "outputs": [],
   "source": [
    "# Save to csv\n",
    "df.to_csv(CLEANED_DATA_PATH, index=False)"
   ]
  },
  {
   "cell_type": "markdown",
   "id": "15d7e3c6",
   "metadata": {},
   "source": [
    "## 6. Analyze"
   ]
  },
  {
   "cell_type": "code",
   "execution_count": 58,
   "id": "40454725",
   "metadata": {},
   "outputs": [
    {
     "data": {
      "text/html": [
       "<div>\n",
       "<style scoped>\n",
       "    .dataframe tbody tr th:only-of-type {\n",
       "        vertical-align: middle;\n",
       "    }\n",
       "\n",
       "    .dataframe tbody tr th {\n",
       "        vertical-align: top;\n",
       "    }\n",
       "\n",
       "    .dataframe thead th {\n",
       "        text-align: right;\n",
       "    }\n",
       "</style>\n",
       "<table border=\"1\" class=\"dataframe\">\n",
       "  <thead>\n",
       "    <tr style=\"text-align: right;\">\n",
       "      <th></th>\n",
       "      <th>Date</th>\n",
       "      <th>Open</th>\n",
       "      <th>High</th>\n",
       "      <th>Low</th>\n",
       "      <th>Close</th>\n",
       "      <th>Adj Close</th>\n",
       "      <th>Volume</th>\n",
       "      <th>Dividends</th>\n",
       "      <th>Stock Splits</th>\n",
       "    </tr>\n",
       "  </thead>\n",
       "  <tbody>\n",
       "    <tr>\n",
       "      <th>0</th>\n",
       "      <td>1999-01-22 00:00:00+00:00</td>\n",
       "      <td>0.043750</td>\n",
       "      <td>0.048828</td>\n",
       "      <td>0.038802</td>\n",
       "      <td>0.041016</td>\n",
       "      <td>0.037621</td>\n",
       "      <td>2714688000</td>\n",
       "      <td>0.0</td>\n",
       "      <td>0.0</td>\n",
       "    </tr>\n",
       "    <tr>\n",
       "      <th>1</th>\n",
       "      <td>1999-01-25 00:00:00+00:00</td>\n",
       "      <td>0.044271</td>\n",
       "      <td>0.045833</td>\n",
       "      <td>0.041016</td>\n",
       "      <td>0.045313</td>\n",
       "      <td>0.041562</td>\n",
       "      <td>510480000</td>\n",
       "      <td>0.0</td>\n",
       "      <td>0.0</td>\n",
       "    </tr>\n",
       "    <tr>\n",
       "      <th>2</th>\n",
       "      <td>1999-01-26 00:00:00+00:00</td>\n",
       "      <td>0.045833</td>\n",
       "      <td>0.046745</td>\n",
       "      <td>0.041146</td>\n",
       "      <td>0.041797</td>\n",
       "      <td>0.038337</td>\n",
       "      <td>343200000</td>\n",
       "      <td>0.0</td>\n",
       "      <td>0.0</td>\n",
       "    </tr>\n",
       "    <tr>\n",
       "      <th>3</th>\n",
       "      <td>1999-01-27 00:00:00+00:00</td>\n",
       "      <td>0.041927</td>\n",
       "      <td>0.042969</td>\n",
       "      <td>0.039583</td>\n",
       "      <td>0.041667</td>\n",
       "      <td>0.038218</td>\n",
       "      <td>244368000</td>\n",
       "      <td>0.0</td>\n",
       "      <td>0.0</td>\n",
       "    </tr>\n",
       "    <tr>\n",
       "      <th>4</th>\n",
       "      <td>1999-01-28 00:00:00+00:00</td>\n",
       "      <td>0.041667</td>\n",
       "      <td>0.041927</td>\n",
       "      <td>0.041276</td>\n",
       "      <td>0.041536</td>\n",
       "      <td>0.038098</td>\n",
       "      <td>227520000</td>\n",
       "      <td>0.0</td>\n",
       "      <td>0.0</td>\n",
       "    </tr>\n",
       "    <tr>\n",
       "      <th>...</th>\n",
       "      <td>...</td>\n",
       "      <td>...</td>\n",
       "      <td>...</td>\n",
       "      <td>...</td>\n",
       "      <td>...</td>\n",
       "      <td>...</td>\n",
       "      <td>...</td>\n",
       "      <td>...</td>\n",
       "      <td>...</td>\n",
       "    </tr>\n",
       "    <tr>\n",
       "      <th>6416</th>\n",
       "      <td>2024-07-24 00:00:00+00:00</td>\n",
       "      <td>119.169998</td>\n",
       "      <td>119.949997</td>\n",
       "      <td>113.440002</td>\n",
       "      <td>114.250000</td>\n",
       "      <td>114.250000</td>\n",
       "      <td>327776900</td>\n",
       "      <td>0.0</td>\n",
       "      <td>0.0</td>\n",
       "    </tr>\n",
       "    <tr>\n",
       "      <th>6417</th>\n",
       "      <td>2024-07-25 00:00:00+00:00</td>\n",
       "      <td>113.040001</td>\n",
       "      <td>116.629997</td>\n",
       "      <td>106.300003</td>\n",
       "      <td>112.279999</td>\n",
       "      <td>112.279999</td>\n",
       "      <td>460067000</td>\n",
       "      <td>0.0</td>\n",
       "      <td>0.0</td>\n",
       "    </tr>\n",
       "    <tr>\n",
       "      <th>6418</th>\n",
       "      <td>2024-07-26 00:00:00+00:00</td>\n",
       "      <td>116.190002</td>\n",
       "      <td>116.199997</td>\n",
       "      <td>111.580002</td>\n",
       "      <td>113.059998</td>\n",
       "      <td>113.059998</td>\n",
       "      <td>293399100</td>\n",
       "      <td>0.0</td>\n",
       "      <td>0.0</td>\n",
       "    </tr>\n",
       "    <tr>\n",
       "      <th>6419</th>\n",
       "      <td>2024-07-29 00:00:00+00:00</td>\n",
       "      <td>113.690002</td>\n",
       "      <td>116.279999</td>\n",
       "      <td>111.300003</td>\n",
       "      <td>111.589996</td>\n",
       "      <td>111.589996</td>\n",
       "      <td>248152100</td>\n",
       "      <td>0.0</td>\n",
       "      <td>0.0</td>\n",
       "    </tr>\n",
       "    <tr>\n",
       "      <th>6420</th>\n",
       "      <td>2024-07-30 00:00:00+00:00</td>\n",
       "      <td>111.519997</td>\n",
       "      <td>111.989998</td>\n",
       "      <td>102.540001</td>\n",
       "      <td>103.730003</td>\n",
       "      <td>103.730003</td>\n",
       "      <td>486833300</td>\n",
       "      <td>0.0</td>\n",
       "      <td>0.0</td>\n",
       "    </tr>\n",
       "  </tbody>\n",
       "</table>\n",
       "<p>6421 rows × 9 columns</p>\n",
       "</div>"
      ],
      "text/plain": [
       "                          Date        Open        High         Low  \\\n",
       "0    1999-01-22 00:00:00+00:00    0.043750    0.048828    0.038802   \n",
       "1    1999-01-25 00:00:00+00:00    0.044271    0.045833    0.041016   \n",
       "2    1999-01-26 00:00:00+00:00    0.045833    0.046745    0.041146   \n",
       "3    1999-01-27 00:00:00+00:00    0.041927    0.042969    0.039583   \n",
       "4    1999-01-28 00:00:00+00:00    0.041667    0.041927    0.041276   \n",
       "...                        ...         ...         ...         ...   \n",
       "6416 2024-07-24 00:00:00+00:00  119.169998  119.949997  113.440002   \n",
       "6417 2024-07-25 00:00:00+00:00  113.040001  116.629997  106.300003   \n",
       "6418 2024-07-26 00:00:00+00:00  116.190002  116.199997  111.580002   \n",
       "6419 2024-07-29 00:00:00+00:00  113.690002  116.279999  111.300003   \n",
       "6420 2024-07-30 00:00:00+00:00  111.519997  111.989998  102.540001   \n",
       "\n",
       "           Close   Adj Close      Volume  Dividends  Stock Splits  \n",
       "0       0.041016    0.037621  2714688000        0.0           0.0  \n",
       "1       0.045313    0.041562   510480000        0.0           0.0  \n",
       "2       0.041797    0.038337   343200000        0.0           0.0  \n",
       "3       0.041667    0.038218   244368000        0.0           0.0  \n",
       "4       0.041536    0.038098   227520000        0.0           0.0  \n",
       "...          ...         ...         ...        ...           ...  \n",
       "6416  114.250000  114.250000   327776900        0.0           0.0  \n",
       "6417  112.279999  112.279999   460067000        0.0           0.0  \n",
       "6418  113.059998  113.059998   293399100        0.0           0.0  \n",
       "6419  111.589996  111.589996   248152100        0.0           0.0  \n",
       "6420  103.730003  103.730003   486833300        0.0           0.0  \n",
       "\n",
       "[6421 rows x 9 columns]"
      ]
     },
     "execution_count": 58,
     "metadata": {},
     "output_type": "execute_result"
    }
   ],
   "source": [
    "# Load the ticker analyze\n",
    "ta = TickerAnalyzer(\"AAPL\")\n",
    "ta.load_price_data_from_csv(CLEANED_DATA_PATH)"
   ]
  },
  {
   "cell_type": "code",
   "execution_count": 59,
   "id": "ca5100ba",
   "metadata": {},
   "outputs": [],
   "source": [
    "# Instantiate the analyzer for a specific ticker (ticker is mostly for metadata here)\n",
    "analyzer = TickerAnalyzer(ticker=\"AAPL\", period=\"1y\", interval=\"1d\")"
   ]
  },
  {
   "cell_type": "code",
   "execution_count": 60,
   "id": "7a4ff3c1",
   "metadata": {},
   "outputs": [
    {
     "name": "stdout",
     "output_type": "stream",
     "text": [
      "Price Data Sample:\n",
      "                       Date      Open      High       Low     Close  \\\n",
      "0 1999-01-22 00:00:00+00:00  0.043750  0.048828  0.038802  0.041016   \n",
      "1 1999-01-25 00:00:00+00:00  0.044271  0.045833  0.041016  0.045313   \n",
      "2 1999-01-26 00:00:00+00:00  0.045833  0.046745  0.041146  0.041797   \n",
      "3 1999-01-27 00:00:00+00:00  0.041927  0.042969  0.039583  0.041667   \n",
      "4 1999-01-28 00:00:00+00:00  0.041667  0.041927  0.041276  0.041536   \n",
      "\n",
      "   Adj Close      Volume  Dividends  Stock Splits  \n",
      "0   0.037621  2714688000        0.0           0.0  \n",
      "1   0.041562   510480000        0.0           0.0  \n",
      "2   0.038337   343200000        0.0           0.0  \n",
      "3   0.038218   244368000        0.0           0.0  \n",
      "4   0.038098   227520000        0.0           0.0  \n"
     ]
    }
   ],
   "source": [
    "# Load Price Data from CSV\n",
    "price_df = analyzer.load_price_data_from_csv(CLEANED_DATA_PATH)\n",
    "\n",
    "print(\"Price Data Sample:\")\n",
    "print(price_df.head())"
   ]
  },
  {
   "cell_type": "code",
   "execution_count": 61,
   "id": "7d831f9b",
   "metadata": {},
   "outputs": [
    {
     "name": "stdout",
     "output_type": "stream",
     "text": [
      "\n",
      "Price Data with Technical Indicators Sample:\n",
      "                       Date     Close  momentum_rsi      Volume  trend_macd\n",
      "0 1999-01-22 00:00:00+00:00  0.041016           NaN  2714688000         NaN\n",
      "1 1999-01-25 00:00:00+00:00  0.045313           NaN   510480000         NaN\n",
      "2 1999-01-26 00:00:00+00:00  0.041797           NaN   343200000         NaN\n",
      "3 1999-01-27 00:00:00+00:00  0.041667           NaN   244368000         NaN\n",
      "4 1999-01-28 00:00:00+00:00  0.041536           NaN   227520000         NaN\n"
     ]
    }
   ],
   "source": [
    "# Add Technical Indicators ===\n",
    "analyzer.price_df.rename(\n",
    "    columns={\n",
    "        'date': 'Date',\n",
    "        'open': 'Open',\n",
    "        'high': 'High',\n",
    "        'low': 'Low',\n",
    "        'close': 'Close',\n",
    "        'volume': 'Volume'\n",
    "    }, inplace=True)\n",
    "price_with_indicators = analyzer.add_technical_indicators()\n",
    "print(\"\\nPrice Data with Technical Indicators Sample:\")\n",
    "print(price_with_indicators[['Date', 'Close','momentum_rsi', 'Volume','trend_macd']].head())"
   ]
  },
  {
   "cell_type": "code",
   "execution_count": 62,
   "id": "d2f1da39",
   "metadata": {},
   "outputs": [
    {
     "name": "stdout",
     "output_type": "stream",
     "text": [
      "{'Cumulative Return': 2288.188572871752, 'Annualized Volatility': 0.6010903147343262, 'Sharpe Ratio': 0.7769330464170732, 'Max Drawdown': -0.897224320424378, 'Calmar Ratio': 2550.2970893493634}\n"
     ]
    },
    {
     "data": {
      "image/png": "[encoded data removed]",
      "text/plain": [
       "<Figure size 1500x1000 with 3 Axes>"
      ]
     },
     "metadata": {},
     "output_type": "display_data"
    }
   ],
   "source": [
    "metrics = analyzer.compute_financial_metrics()\n",
    "print(metrics)\n",
    "analyzer.plot_price_and_indicators()"
   ]
  }
 ],
 "metadata": {
  "kernelspec": {
   "display_name": "venv",
   "language": "python",
   "name": "python3"
  },
  "language_info": {
   "codemirror_mode": {
    "name": "ipython",
    "version": 3
   },
   "file_extension": ".py",
   "mimetype": "text/x-python",
   "name": "python",
   "nbconvert_exporter": "python",
   "pygments_lexer": "ipython3",
   "version": "3.10.12"
  }
 },
 "nbformat": 4,
 "nbformat_minor": 5
}
