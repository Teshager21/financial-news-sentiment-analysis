{
 "cells": [
  {
   "cell_type": "markdown",
   "id": "8df97469",
   "metadata": {},
   "source": [
    "<div style=\"background-color:#f0f8ff; padding:10px; border-radius:10px;\">\n",
    "  <h1 style=\"text-align:center; color:#1a5276;\">\n",
    "    📈 GOOGLE Analysis\n",
    "  </h1>\n",
    "</div>"
   ]
  },
  {
   "cell_type": "code",
   "execution_count": 98,
   "id": "b7af41b3",
   "metadata": {},
   "outputs": [
    {
     "name": "stdout",
     "output_type": "stream",
     "text": [
      "The autoreload extension is already loaded. To reload it, use:\n",
      "  %reload_ext autoreload\n"
     ]
    }
   ],
   "source": [
    "#auto loading\n",
    "%load_ext autoreload\n",
    "%autoreload 2"
   ]
  },
  {
   "cell_type": "markdown",
   "id": "09d14dde",
   "metadata": {},
   "source": [
    "## 🧱 1. Setup & Imports"
   ]
  },
  {
   "cell_type": "code",
   "execution_count": 99,
   "id": "71b654ef",
   "metadata": {},
   "outputs": [],
   "source": [
    "import warnings\n",
    "import pandas as pd\n",
    "from utils.ticker_analyzer import TickerAnalyzer\n",
    "from eda.data_quality_utils import DataQualityUtils\n",
    "from data.load_data import load_local_data"
   ]
  },
  {
   "cell_type": "code",
   "execution_count": 100,
   "id": "27c54ed8",
   "metadata": {},
   "outputs": [],
   "source": [
    "warnings.filterwarnings(\"ignore\")"
   ]
  },
  {
   "cell_type": "code",
   "execution_count": 101,
   "id": "219dcd86",
   "metadata": {},
   "outputs": [],
   "source": [
    "# variable\n",
    "TICKER= 'GOOG'"
   ]
  },
  {
   "cell_type": "code",
   "execution_count": 102,
   "id": "ac94d536",
   "metadata": {},
   "outputs": [],
   "source": [
    "#paths\n",
    "RAW_DATA_PATH='../../data/raw/yfinance_data/'+TICKER+'_historical_data.csv'\n",
    "CLEANED_DATA_PATH='../../data/interim/'+TICKER+'_historical_cleaned_data.csv'"
   ]
  },
  {
   "cell_type": "markdown",
   "id": "508c1dd7",
   "metadata": {},
   "source": [
    "### 📌 Project Overview"
   ]
  },
  {
   "cell_type": "markdown",
   "id": "5fe12101",
   "metadata": {},
   "source": [
    "#### AAPL Ticker Analysis 📊\n",
    "\n",
    "**Objective:**  \n",
    "This notebook applies the `TickerAnalyzer` class to analyze Apple Inc. (AAPL) stock performance. The analysis integrates:\n",
    "\n",
    "- Historical price data via `yfinance`\n",
    "- Technical indicators using `ta`\n",
    "- News sentiment analysis with `VADER`\n",
    "- Visualization of price movements vs. sentiment trends\n",
    "\n",
    "**Period:** Last 6 months (daily intervals)  \n",
    "**Tools:** Python, `yfinance`, `ta`, `vaderSentiment`, `matplotlib`\n",
    "\n",
    "---\n"
   ]
  },
  {
   "cell_type": "markdown",
   "id": "121c314e",
   "metadata": {},
   "source": [
    "## 📦 2. Data Loading & Overview  <a id= '2-data-loading--overview'></a>"
   ]
  },
  {
   "cell_type": "code",
   "execution_count": 103,
   "id": "d8971b5b",
   "metadata": {},
   "outputs": [
    {
     "name": "stderr",
     "output_type": "stream",
     "text": [
      "INFO:data.load_data:Loading data from: /home/teshager/Documents/10Academy/repositories/projects/financial-news-sentiment-analysis/data/raw/yfinance_data/GOOG_historical_data.csv (type=csv)\n",
      "INFO:data.load_data:Data loaded successfully. Shape: (5020, 9)\n"
     ]
    },
    {
     "data": {
      "text/html": [
       "<div>\n",
       "<style scoped>\n",
       "    .dataframe tbody tr th:only-of-type {\n",
       "        vertical-align: middle;\n",
       "    }\n",
       "\n",
       "    .dataframe tbody tr th {\n",
       "        vertical-align: top;\n",
       "    }\n",
       "\n",
       "    .dataframe thead th {\n",
       "        text-align: right;\n",
       "    }\n",
       "</style>\n",
       "<table border=\"1\" class=\"dataframe\">\n",
       "  <thead>\n",
       "    <tr style=\"text-align: right;\">\n",
       "      <th></th>\n",
       "      <th>Date</th>\n",
       "      <th>Open</th>\n",
       "      <th>High</th>\n",
       "      <th>Low</th>\n",
       "      <th>Close</th>\n",
       "      <th>Adj Close</th>\n",
       "      <th>Volume</th>\n",
       "      <th>Dividends</th>\n",
       "      <th>Stock Splits</th>\n",
       "    </tr>\n",
       "  </thead>\n",
       "  <tbody>\n",
       "    <tr>\n",
       "      <th>0</th>\n",
       "      <td>2004-08-19</td>\n",
       "      <td>2.490664</td>\n",
       "      <td>2.591785</td>\n",
       "      <td>2.390042</td>\n",
       "      <td>2.499133</td>\n",
       "      <td>2.496292</td>\n",
       "      <td>897427216</td>\n",
       "      <td>0.0</td>\n",
       "      <td>0.0</td>\n",
       "    </tr>\n",
       "    <tr>\n",
       "      <th>1</th>\n",
       "      <td>2004-08-20</td>\n",
       "      <td>2.515820</td>\n",
       "      <td>2.716817</td>\n",
       "      <td>2.503118</td>\n",
       "      <td>2.697639</td>\n",
       "      <td>2.694573</td>\n",
       "      <td>458857488</td>\n",
       "      <td>0.0</td>\n",
       "      <td>0.0</td>\n",
       "    </tr>\n",
       "    <tr>\n",
       "      <th>2</th>\n",
       "      <td>2004-08-23</td>\n",
       "      <td>2.758411</td>\n",
       "      <td>2.826406</td>\n",
       "      <td>2.716070</td>\n",
       "      <td>2.724787</td>\n",
       "      <td>2.721690</td>\n",
       "      <td>366857939</td>\n",
       "      <td>0.0</td>\n",
       "      <td>0.0</td>\n",
       "    </tr>\n",
       "    <tr>\n",
       "      <th>3</th>\n",
       "      <td>2004-08-24</td>\n",
       "      <td>2.770615</td>\n",
       "      <td>2.779581</td>\n",
       "      <td>2.579581</td>\n",
       "      <td>2.611960</td>\n",
       "      <td>2.608991</td>\n",
       "      <td>306396159</td>\n",
       "      <td>0.0</td>\n",
       "      <td>0.0</td>\n",
       "    </tr>\n",
       "    <tr>\n",
       "      <th>4</th>\n",
       "      <td>2004-08-25</td>\n",
       "      <td>2.614201</td>\n",
       "      <td>2.689918</td>\n",
       "      <td>2.587302</td>\n",
       "      <td>2.640104</td>\n",
       "      <td>2.637103</td>\n",
       "      <td>184645512</td>\n",
       "      <td>0.0</td>\n",
       "      <td>0.0</td>\n",
       "    </tr>\n",
       "  </tbody>\n",
       "</table>\n",
       "</div>"
      ],
      "text/plain": [
       "         Date      Open      High       Low     Close  Adj Close     Volume  \\\n",
       "0  2004-08-19  2.490664  2.591785  2.390042  2.499133   2.496292  897427216   \n",
       "1  2004-08-20  2.515820  2.716817  2.503118  2.697639   2.694573  458857488   \n",
       "2  2004-08-23  2.758411  2.826406  2.716070  2.724787   2.721690  366857939   \n",
       "3  2004-08-24  2.770615  2.779581  2.579581  2.611960   2.608991  306396159   \n",
       "4  2004-08-25  2.614201  2.689918  2.587302  2.640104   2.637103  184645512   \n",
       "\n",
       "   Dividends  Stock Splits  \n",
       "0        0.0           0.0  \n",
       "1        0.0           0.0  \n",
       "2        0.0           0.0  \n",
       "3        0.0           0.0  \n",
       "4        0.0           0.0  "
      ]
     },
     "execution_count": 103,
     "metadata": {},
     "output_type": "execute_result"
    }
   ],
   "source": [
    "# Load the stock news sentiment data\n",
    "df = load_local_data(RAW_DATA_PATH,)\n",
    "df.head()"
   ]
  },
  {
   "cell_type": "markdown",
   "id": "637af4c7",
   "metadata": {},
   "source": [
    "### Dataset Overview"
   ]
  },
  {
   "cell_type": "code",
   "execution_count": 104,
   "id": "7d5ebc45",
   "metadata": {},
   "outputs": [
    {
     "data": {
      "text/html": [
       "<div>\n",
       "<style scoped>\n",
       "    .dataframe tbody tr th:only-of-type {\n",
       "        vertical-align: middle;\n",
       "    }\n",
       "\n",
       "    .dataframe tbody tr th {\n",
       "        vertical-align: top;\n",
       "    }\n",
       "\n",
       "    .dataframe thead th {\n",
       "        text-align: right;\n",
       "    }\n",
       "</style>\n",
       "<table border=\"1\" class=\"dataframe\">\n",
       "  <thead>\n",
       "    <tr style=\"text-align: right;\">\n",
       "      <th></th>\n",
       "      <th>Date</th>\n",
       "      <th>Open</th>\n",
       "      <th>High</th>\n",
       "      <th>Low</th>\n",
       "      <th>Close</th>\n",
       "      <th>Adj Close</th>\n",
       "      <th>Volume</th>\n",
       "      <th>Dividends</th>\n",
       "      <th>Stock Splits</th>\n",
       "    </tr>\n",
       "  </thead>\n",
       "  <tbody>\n",
       "    <tr>\n",
       "      <th>2472</th>\n",
       "      <td>2014-06-16</td>\n",
       "      <td>27.387808</td>\n",
       "      <td>27.405758</td>\n",
       "      <td>27.001865</td>\n",
       "      <td>27.139488</td>\n",
       "      <td>27.108641</td>\n",
       "      <td>34051232</td>\n",
       "      <td>0.0</td>\n",
       "      <td>0.0</td>\n",
       "    </tr>\n",
       "    <tr>\n",
       "      <th>974</th>\n",
       "      <td>2008-07-02</td>\n",
       "      <td>13.362663</td>\n",
       "      <td>13.459052</td>\n",
       "      <td>13.102389</td>\n",
       "      <td>13.126798</td>\n",
       "      <td>13.111876</td>\n",
       "      <td>169553154</td>\n",
       "      <td>0.0</td>\n",
       "      <td>0.0</td>\n",
       "    </tr>\n",
       "    <tr>\n",
       "      <th>3412</th>\n",
       "      <td>2018-03-09</td>\n",
       "      <td>56.799999</td>\n",
       "      <td>58.040001</td>\n",
       "      <td>56.623051</td>\n",
       "      <td>58.001999</td>\n",
       "      <td>57.936069</td>\n",
       "      <td>42560000</td>\n",
       "      <td>0.0</td>\n",
       "      <td>0.0</td>\n",
       "    </tr>\n",
       "    <tr>\n",
       "      <th>1015</th>\n",
       "      <td>2008-08-29</td>\n",
       "      <td>11.699896</td>\n",
       "      <td>11.731278</td>\n",
       "      <td>11.515089</td>\n",
       "      <td>11.538999</td>\n",
       "      <td>11.525883</td>\n",
       "      <td>154504960</td>\n",
       "      <td>0.0</td>\n",
       "      <td>0.0</td>\n",
       "    </tr>\n",
       "    <tr>\n",
       "      <th>2997</th>\n",
       "      <td>2016-07-15</td>\n",
       "      <td>36.286499</td>\n",
       "      <td>36.286999</td>\n",
       "      <td>35.952751</td>\n",
       "      <td>35.992500</td>\n",
       "      <td>35.951588</td>\n",
       "      <td>25586000</td>\n",
       "      <td>0.0</td>\n",
       "      <td>0.0</td>\n",
       "    </tr>\n",
       "    <tr>\n",
       "      <th>2311</th>\n",
       "      <td>2013-10-23</td>\n",
       "      <td>24.931549</td>\n",
       "      <td>25.772150</td>\n",
       "      <td>24.922335</td>\n",
       "      <td>25.688961</td>\n",
       "      <td>25.659761</td>\n",
       "      <td>106927293</td>\n",
       "      <td>0.0</td>\n",
       "      <td>0.0</td>\n",
       "    </tr>\n",
       "    <tr>\n",
       "      <th>2543</th>\n",
       "      <td>2014-09-25</td>\n",
       "      <td>29.297066</td>\n",
       "      <td>29.318506</td>\n",
       "      <td>28.630396</td>\n",
       "      <td>28.674274</td>\n",
       "      <td>28.641682</td>\n",
       "      <td>38519466</td>\n",
       "      <td>0.0</td>\n",
       "      <td>0.0</td>\n",
       "    </tr>\n",
       "    <tr>\n",
       "      <th>423</th>\n",
       "      <td>2006-04-25</td>\n",
       "      <td>10.949708</td>\n",
       "      <td>10.984826</td>\n",
       "      <td>10.610230</td>\n",
       "      <td>10.639122</td>\n",
       "      <td>10.627028</td>\n",
       "      <td>384194678</td>\n",
       "      <td>0.0</td>\n",
       "      <td>0.0</td>\n",
       "    </tr>\n",
       "    <tr>\n",
       "      <th>858</th>\n",
       "      <td>2008-01-16</td>\n",
       "      <td>15.665532</td>\n",
       "      <td>15.940003</td>\n",
       "      <td>14.992056</td>\n",
       "      <td>15.341247</td>\n",
       "      <td>15.323809</td>\n",
       "      <td>423983259</td>\n",
       "      <td>0.0</td>\n",
       "      <td>0.0</td>\n",
       "    </tr>\n",
       "    <tr>\n",
       "      <th>2955</th>\n",
       "      <td>2016-05-16</td>\n",
       "      <td>35.456501</td>\n",
       "      <td>35.924000</td>\n",
       "      <td>35.282501</td>\n",
       "      <td>35.824501</td>\n",
       "      <td>35.783779</td>\n",
       "      <td>26342000</td>\n",
       "      <td>0.0</td>\n",
       "      <td>0.0</td>\n",
       "    </tr>\n",
       "  </tbody>\n",
       "</table>\n",
       "</div>"
      ],
      "text/plain": [
       "            Date       Open       High        Low      Close  Adj Close  \\\n",
       "2472  2014-06-16  27.387808  27.405758  27.001865  27.139488  27.108641   \n",
       "974   2008-07-02  13.362663  13.459052  13.102389  13.126798  13.111876   \n",
       "3412  2018-03-09  56.799999  58.040001  56.623051  58.001999  57.936069   \n",
       "1015  2008-08-29  11.699896  11.731278  11.515089  11.538999  11.525883   \n",
       "2997  2016-07-15  36.286499  36.286999  35.952751  35.992500  35.951588   \n",
       "2311  2013-10-23  24.931549  25.772150  24.922335  25.688961  25.659761   \n",
       "2543  2014-09-25  29.297066  29.318506  28.630396  28.674274  28.641682   \n",
       "423   2006-04-25  10.949708  10.984826  10.610230  10.639122  10.627028   \n",
       "858   2008-01-16  15.665532  15.940003  14.992056  15.341247  15.323809   \n",
       "2955  2016-05-16  35.456501  35.924000  35.282501  35.824501  35.783779   \n",
       "\n",
       "         Volume  Dividends  Stock Splits  \n",
       "2472   34051232        0.0           0.0  \n",
       "974   169553154        0.0           0.0  \n",
       "3412   42560000        0.0           0.0  \n",
       "1015  154504960        0.0           0.0  \n",
       "2997   25586000        0.0           0.0  \n",
       "2311  106927293        0.0           0.0  \n",
       "2543   38519466        0.0           0.0  \n",
       "423   384194678        0.0           0.0  \n",
       "858   423983259        0.0           0.0  \n",
       "2955   26342000        0.0           0.0  "
      ]
     },
     "execution_count": 104,
     "metadata": {},
     "output_type": "execute_result"
    }
   ],
   "source": [
    "#view sample data\n",
    "df.sample(10)"
   ]
  },
  {
   "cell_type": "code",
   "execution_count": 105,
   "id": "252de09b",
   "metadata": {},
   "outputs": [
    {
     "data": {
      "text/html": [
       "<div>\n",
       "<style scoped>\n",
       "    .dataframe tbody tr th:only-of-type {\n",
       "        vertical-align: middle;\n",
       "    }\n",
       "\n",
       "    .dataframe tbody tr th {\n",
       "        vertical-align: top;\n",
       "    }\n",
       "\n",
       "    .dataframe thead th {\n",
       "        text-align: right;\n",
       "    }\n",
       "</style>\n",
       "<table border=\"1\" class=\"dataframe\">\n",
       "  <thead>\n",
       "    <tr style=\"text-align: right;\">\n",
       "      <th></th>\n",
       "      <th>Date</th>\n",
       "      <th>Open</th>\n",
       "      <th>High</th>\n",
       "      <th>Low</th>\n",
       "      <th>Close</th>\n",
       "      <th>Adj Close</th>\n",
       "      <th>Volume</th>\n",
       "      <th>Dividends</th>\n",
       "      <th>Stock Splits</th>\n",
       "    </tr>\n",
       "  </thead>\n",
       "  <tbody>\n",
       "    <tr>\n",
       "      <th>5015</th>\n",
       "      <td>2024-07-24</td>\n",
       "      <td>175.389999</td>\n",
       "      <td>177.949997</td>\n",
       "      <td>173.570007</td>\n",
       "      <td>174.369995</td>\n",
       "      <td>174.369995</td>\n",
       "      <td>31250700</td>\n",
       "      <td>0.0</td>\n",
       "      <td>0.0</td>\n",
       "    </tr>\n",
       "    <tr>\n",
       "      <th>5016</th>\n",
       "      <td>2024-07-25</td>\n",
       "      <td>174.250000</td>\n",
       "      <td>175.199997</td>\n",
       "      <td>169.050003</td>\n",
       "      <td>169.160004</td>\n",
       "      <td>169.160004</td>\n",
       "      <td>28967900</td>\n",
       "      <td>0.0</td>\n",
       "      <td>0.0</td>\n",
       "    </tr>\n",
       "    <tr>\n",
       "      <th>5017</th>\n",
       "      <td>2024-07-26</td>\n",
       "      <td>168.770004</td>\n",
       "      <td>169.839996</td>\n",
       "      <td>165.865005</td>\n",
       "      <td>168.679993</td>\n",
       "      <td>168.679993</td>\n",
       "      <td>25150100</td>\n",
       "      <td>0.0</td>\n",
       "      <td>0.0</td>\n",
       "    </tr>\n",
       "    <tr>\n",
       "      <th>5018</th>\n",
       "      <td>2024-07-29</td>\n",
       "      <td>170.500000</td>\n",
       "      <td>172.160004</td>\n",
       "      <td>169.720001</td>\n",
       "      <td>171.130005</td>\n",
       "      <td>171.130005</td>\n",
       "      <td>13768900</td>\n",
       "      <td>0.0</td>\n",
       "      <td>0.0</td>\n",
       "    </tr>\n",
       "    <tr>\n",
       "      <th>5019</th>\n",
       "      <td>2024-07-30</td>\n",
       "      <td>171.830002</td>\n",
       "      <td>172.949997</td>\n",
       "      <td>170.119995</td>\n",
       "      <td>171.860001</td>\n",
       "      <td>171.860001</td>\n",
       "      <td>13681400</td>\n",
       "      <td>0.0</td>\n",
       "      <td>0.0</td>\n",
       "    </tr>\n",
       "  </tbody>\n",
       "</table>\n",
       "</div>"
      ],
      "text/plain": [
       "            Date        Open        High         Low       Close   Adj Close  \\\n",
       "5015  2024-07-24  175.389999  177.949997  173.570007  174.369995  174.369995   \n",
       "5016  2024-07-25  174.250000  175.199997  169.050003  169.160004  169.160004   \n",
       "5017  2024-07-26  168.770004  169.839996  165.865005  168.679993  168.679993   \n",
       "5018  2024-07-29  170.500000  172.160004  169.720001  171.130005  171.130005   \n",
       "5019  2024-07-30  171.830002  172.949997  170.119995  171.860001  171.860001   \n",
       "\n",
       "        Volume  Dividends  Stock Splits  \n",
       "5015  31250700        0.0           0.0  \n",
       "5016  28967900        0.0           0.0  \n",
       "5017  25150100        0.0           0.0  \n",
       "5018  13768900        0.0           0.0  \n",
       "5019  13681400        0.0           0.0  "
      ]
     },
     "execution_count": 105,
     "metadata": {},
     "output_type": "execute_result"
    }
   ],
   "source": [
    "#see the last rows\n",
    "df.tail()"
   ]
  },
  {
   "cell_type": "code",
   "execution_count": 106,
   "id": "fba08a7a",
   "metadata": {},
   "outputs": [
    {
     "data": {
      "text/plain": [
       "(5020, 9)"
      ]
     },
     "execution_count": 106,
     "metadata": {},
     "output_type": "execute_result"
    }
   ],
   "source": [
    "#shape of the dataset\n",
    "df.shape"
   ]
  },
  {
   "cell_type": "code",
   "execution_count": 107,
   "id": "fbb3ee50",
   "metadata": {},
   "outputs": [
    {
     "data": {
      "text/plain": [
       "Index(['Date', 'Open', 'High', 'Low', 'Close', 'Adj Close', 'Volume',\n",
       "       'Dividends', 'Stock Splits'],\n",
       "      dtype='object')"
      ]
     },
     "execution_count": 107,
     "metadata": {},
     "output_type": "execute_result"
    }
   ],
   "source": [
    "df.columns"
   ]
  },
  {
   "cell_type": "markdown",
   "id": "e2111194",
   "metadata": {},
   "source": [
    "## 📐 3. Data Types & Basic Stats <a id='3-data-types--basic-stats'></a>"
   ]
  },
  {
   "cell_type": "code",
   "execution_count": 108,
   "id": "5c2b1440",
   "metadata": {},
   "outputs": [
    {
     "data": {
      "text/html": [
       "<div>\n",
       "<style scoped>\n",
       "    .dataframe tbody tr th:only-of-type {\n",
       "        vertical-align: middle;\n",
       "    }\n",
       "\n",
       "    .dataframe tbody tr th {\n",
       "        vertical-align: top;\n",
       "    }\n",
       "\n",
       "    .dataframe thead th {\n",
       "        text-align: right;\n",
       "    }\n",
       "</style>\n",
       "<table border=\"1\" class=\"dataframe\">\n",
       "  <thead>\n",
       "    <tr style=\"text-align: right;\">\n",
       "      <th></th>\n",
       "      <th>count</th>\n",
       "      <th>mean</th>\n",
       "      <th>std</th>\n",
       "      <th>min</th>\n",
       "      <th>25%</th>\n",
       "      <th>50%</th>\n",
       "      <th>75%</th>\n",
       "      <th>max</th>\n",
       "    </tr>\n",
       "  </thead>\n",
       "  <tbody>\n",
       "    <tr>\n",
       "      <th>Open</th>\n",
       "      <td>5020.0</td>\n",
       "      <td>4.525132e+01</td>\n",
       "      <td>4.333864e+01</td>\n",
       "      <td>2.470490</td>\n",
       "      <td>1.303470e+01</td>\n",
       "      <td>2.698221e+01</td>\n",
       "      <td>6.021513e+01</td>\n",
       "      <td>1.917500e+02</td>\n",
       "    </tr>\n",
       "    <tr>\n",
       "      <th>High</th>\n",
       "      <td>5020.0</td>\n",
       "      <td>4.572879e+01</td>\n",
       "      <td>4.381830e+01</td>\n",
       "      <td>2.534002</td>\n",
       "      <td>1.314542e+01</td>\n",
       "      <td>2.719490e+01</td>\n",
       "      <td>6.075838e+01</td>\n",
       "      <td>1.933100e+02</td>\n",
       "    </tr>\n",
       "    <tr>\n",
       "      <th>Low</th>\n",
       "      <td>5020.0</td>\n",
       "      <td>4.480059e+01</td>\n",
       "      <td>4.291817e+01</td>\n",
       "      <td>2.390042</td>\n",
       "      <td>1.288159e+01</td>\n",
       "      <td>2.679139e+01</td>\n",
       "      <td>5.981181e+01</td>\n",
       "      <td>1.906200e+02</td>\n",
       "    </tr>\n",
       "    <tr>\n",
       "      <th>Close</th>\n",
       "      <td>5020.0</td>\n",
       "      <td>4.527451e+01</td>\n",
       "      <td>4.337730e+01</td>\n",
       "      <td>2.490913</td>\n",
       "      <td>1.303209e+01</td>\n",
       "      <td>2.700593e+01</td>\n",
       "      <td>6.028025e+01</td>\n",
       "      <td>1.926600e+02</td>\n",
       "    </tr>\n",
       "    <tr>\n",
       "      <th>Adj Close</th>\n",
       "      <td>5020.0</td>\n",
       "      <td>4.522449e+01</td>\n",
       "      <td>4.333253e+01</td>\n",
       "      <td>2.488082</td>\n",
       "      <td>1.301728e+01</td>\n",
       "      <td>2.697523e+01</td>\n",
       "      <td>6.021173e+01</td>\n",
       "      <td>1.926600e+02</td>\n",
       "    </tr>\n",
       "    <tr>\n",
       "      <th>Volume</th>\n",
       "      <td>5020.0</td>\n",
       "      <td>1.157539e+08</td>\n",
       "      <td>1.497936e+08</td>\n",
       "      <td>158434.000000</td>\n",
       "      <td>2.733950e+07</td>\n",
       "      <td>5.585480e+07</td>\n",
       "      <td>1.425333e+08</td>\n",
       "      <td>1.650833e+09</td>\n",
       "    </tr>\n",
       "    <tr>\n",
       "      <th>Dividends</th>\n",
       "      <td>5020.0</td>\n",
       "      <td>3.984064e-05</td>\n",
       "      <td>2.822787e-03</td>\n",
       "      <td>0.000000</td>\n",
       "      <td>0.000000e+00</td>\n",
       "      <td>0.000000e+00</td>\n",
       "      <td>0.000000e+00</td>\n",
       "      <td>2.000000e-01</td>\n",
       "    </tr>\n",
       "    <tr>\n",
       "      <th>Stock Splits</th>\n",
       "      <td>5020.0</td>\n",
       "      <td>4.582619e-03</td>\n",
       "      <td>2.840335e-01</td>\n",
       "      <td>0.000000</td>\n",
       "      <td>0.000000e+00</td>\n",
       "      <td>0.000000e+00</td>\n",
       "      <td>0.000000e+00</td>\n",
       "      <td>2.000000e+01</td>\n",
       "    </tr>\n",
       "  </tbody>\n",
       "</table>\n",
       "</div>"
      ],
      "text/plain": [
       "               count          mean           std            min           25%  \\\n",
       "Open          5020.0  4.525132e+01  4.333864e+01       2.470490  1.303470e+01   \n",
       "High          5020.0  4.572879e+01  4.381830e+01       2.534002  1.314542e+01   \n",
       "Low           5020.0  4.480059e+01  4.291817e+01       2.390042  1.288159e+01   \n",
       "Close         5020.0  4.527451e+01  4.337730e+01       2.490913  1.303209e+01   \n",
       "Adj Close     5020.0  4.522449e+01  4.333253e+01       2.488082  1.301728e+01   \n",
       "Volume        5020.0  1.157539e+08  1.497936e+08  158434.000000  2.733950e+07   \n",
       "Dividends     5020.0  3.984064e-05  2.822787e-03       0.000000  0.000000e+00   \n",
       "Stock Splits  5020.0  4.582619e-03  2.840335e-01       0.000000  0.000000e+00   \n",
       "\n",
       "                       50%           75%           max  \n",
       "Open          2.698221e+01  6.021513e+01  1.917500e+02  \n",
       "High          2.719490e+01  6.075838e+01  1.933100e+02  \n",
       "Low           2.679139e+01  5.981181e+01  1.906200e+02  \n",
       "Close         2.700593e+01  6.028025e+01  1.926600e+02  \n",
       "Adj Close     2.697523e+01  6.021173e+01  1.926600e+02  \n",
       "Volume        5.585480e+07  1.425333e+08  1.650833e+09  \n",
       "Dividends     0.000000e+00  0.000000e+00  2.000000e-01  \n",
       "Stock Splits  0.000000e+00  0.000000e+00  2.000000e+01  "
      ]
     },
     "execution_count": 108,
     "metadata": {},
     "output_type": "execute_result"
    }
   ],
   "source": [
    "#Numerical Columns\n",
    "df.describe().T"
   ]
  },
  {
   "cell_type": "code",
   "execution_count": 109,
   "id": "e32e8398",
   "metadata": {},
   "outputs": [
    {
     "data": {
      "text/html": [
       "<div>\n",
       "<style scoped>\n",
       "    .dataframe tbody tr th:only-of-type {\n",
       "        vertical-align: middle;\n",
       "    }\n",
       "\n",
       "    .dataframe tbody tr th {\n",
       "        vertical-align: top;\n",
       "    }\n",
       "\n",
       "    .dataframe thead th {\n",
       "        text-align: right;\n",
       "    }\n",
       "</style>\n",
       "<table border=\"1\" class=\"dataframe\">\n",
       "  <thead>\n",
       "    <tr style=\"text-align: right;\">\n",
       "      <th></th>\n",
       "      <th>count</th>\n",
       "      <th>unique</th>\n",
       "      <th>top</th>\n",
       "      <th>freq</th>\n",
       "    </tr>\n",
       "  </thead>\n",
       "  <tbody>\n",
       "    <tr>\n",
       "      <th>Date</th>\n",
       "      <td>5020</td>\n",
       "      <td>5020</td>\n",
       "      <td>2004-08-19</td>\n",
       "      <td>1</td>\n",
       "    </tr>\n",
       "  </tbody>\n",
       "</table>\n",
       "</div>"
      ],
      "text/plain": [
       "     count unique         top freq\n",
       "Date  5020   5020  2004-08-19    1"
      ]
     },
     "execution_count": 109,
     "metadata": {},
     "output_type": "execute_result"
    }
   ],
   "source": [
    "#for columns of object type\n",
    "df.describe(include=['O']).T"
   ]
  },
  {
   "cell_type": "code",
   "execution_count": 110,
   "id": "12c32634",
   "metadata": {},
   "outputs": [
    {
     "name": "stdout",
     "output_type": "stream",
     "text": [
      "<class 'pandas.core.frame.DataFrame'>\n",
      "RangeIndex: 5020 entries, 0 to 5019\n",
      "Data columns (total 9 columns):\n",
      " #   Column        Non-Null Count  Dtype  \n",
      "---  ------        --------------  -----  \n",
      " 0   Date          5020 non-null   object \n",
      " 1   Open          5020 non-null   float64\n",
      " 2   High          5020 non-null   float64\n",
      " 3   Low           5020 non-null   float64\n",
      " 4   Close         5020 non-null   float64\n",
      " 5   Adj Close     5020 non-null   float64\n",
      " 6   Volume        5020 non-null   int64  \n",
      " 7   Dividends     5020 non-null   float64\n",
      " 8   Stock Splits  5020 non-null   float64\n",
      "dtypes: float64(7), int64(1), object(1)\n",
      "memory usage: 353.1+ KB\n"
     ]
    }
   ],
   "source": [
    "# data types of the columns\n",
    "df.info()"
   ]
  },
  {
   "cell_type": "code",
   "execution_count": 111,
   "id": "9a2a7204",
   "metadata": {},
   "outputs": [
    {
     "data": {
      "text/plain": [
       "Date            5020\n",
       "Close           4923\n",
       "Adj Close       4923\n",
       "Volume          4907\n",
       "Low             4904\n",
       "High            4869\n",
       "Open            4865\n",
       "Stock Splits       4\n",
       "Dividends          2\n",
       "dtype: int64"
      ]
     },
     "execution_count": 111,
     "metadata": {},
     "output_type": "execute_result"
    }
   ],
   "source": [
    "#distinct values in each column\n",
    "df.nunique().sort_values(ascending=False)"
   ]
  },
  {
   "cell_type": "markdown",
   "id": "cd48a90b",
   "metadata": {},
   "source": [
    "## 🔍 4. Data Quality Analysis <a id='4-data-quality-analysis'></a>"
   ]
  },
  {
   "cell_type": "code",
   "execution_count": 112,
   "id": "fda7f18c",
   "metadata": {},
   "outputs": [],
   "source": [
    "#instantiate the DataQualityUtils class\n",
    "dq=DataQualityUtils(df)"
   ]
  },
  {
   "cell_type": "code",
   "execution_count": 113,
   "id": "402fd66b",
   "metadata": {},
   "outputs": [
    {
     "data": {
      "text/html": [
       "<div>\n",
       "<style scoped>\n",
       "    .dataframe tbody tr th:only-of-type {\n",
       "        vertical-align: middle;\n",
       "    }\n",
       "\n",
       "    .dataframe tbody tr th {\n",
       "        vertical-align: top;\n",
       "    }\n",
       "\n",
       "    .dataframe thead th {\n",
       "        text-align: right;\n",
       "    }\n",
       "</style>\n",
       "<table border=\"1\" class=\"dataframe\">\n",
       "  <thead>\n",
       "    <tr style=\"text-align: right;\">\n",
       "      <th></th>\n",
       "      <th>#missing_values</th>\n",
       "      <th>percentage</th>\n",
       "    </tr>\n",
       "  </thead>\n",
       "  <tbody>\n",
       "    <tr>\n",
       "      <th>Date</th>\n",
       "      <td>0</td>\n",
       "      <td>0.00%</td>\n",
       "    </tr>\n",
       "    <tr>\n",
       "      <th>Open</th>\n",
       "      <td>0</td>\n",
       "      <td>0.00%</td>\n",
       "    </tr>\n",
       "    <tr>\n",
       "      <th>High</th>\n",
       "      <td>0</td>\n",
       "      <td>0.00%</td>\n",
       "    </tr>\n",
       "    <tr>\n",
       "      <th>Low</th>\n",
       "      <td>0</td>\n",
       "      <td>0.00%</td>\n",
       "    </tr>\n",
       "    <tr>\n",
       "      <th>Close</th>\n",
       "      <td>0</td>\n",
       "      <td>0.00%</td>\n",
       "    </tr>\n",
       "    <tr>\n",
       "      <th>Adj Close</th>\n",
       "      <td>0</td>\n",
       "      <td>0.00%</td>\n",
       "    </tr>\n",
       "    <tr>\n",
       "      <th>Volume</th>\n",
       "      <td>0</td>\n",
       "      <td>0.00%</td>\n",
       "    </tr>\n",
       "    <tr>\n",
       "      <th>Dividends</th>\n",
       "      <td>0</td>\n",
       "      <td>0.00%</td>\n",
       "    </tr>\n",
       "    <tr>\n",
       "      <th>Stock Splits</th>\n",
       "      <td>0</td>\n",
       "      <td>0.00%</td>\n",
       "    </tr>\n",
       "  </tbody>\n",
       "</table>\n",
       "</div>"
      ],
      "text/plain": [
       "              #missing_values percentage\n",
       "Date                        0      0.00%\n",
       "Open                        0      0.00%\n",
       "High                        0      0.00%\n",
       "Low                         0      0.00%\n",
       "Close                       0      0.00%\n",
       "Adj Close                   0      0.00%\n",
       "Volume                      0      0.00%\n",
       "Dividends                   0      0.00%\n",
       "Stock Splits                0      0.00%"
      ]
     },
     "execution_count": 113,
     "metadata": {},
     "output_type": "execute_result"
    }
   ],
   "source": [
    "#count of missing values per column\n",
    "dq.summary()"
   ]
  },
  {
   "cell_type": "markdown",
   "id": "f3d4dbe5",
   "metadata": {},
   "source": [
    "### Missing Values"
   ]
  },
  {
   "cell_type": "code",
   "execution_count": 114,
   "id": "b322f8a8",
   "metadata": {},
   "outputs": [
    {
     "data": {
      "text/html": [
       "<div>\n",
       "<style scoped>\n",
       "    .dataframe tbody tr th:only-of-type {\n",
       "        vertical-align: middle;\n",
       "    }\n",
       "\n",
       "    .dataframe tbody tr th {\n",
       "        vertical-align: top;\n",
       "    }\n",
       "\n",
       "    .dataframe thead th {\n",
       "        text-align: right;\n",
       "    }\n",
       "</style>\n",
       "<table border=\"1\" class=\"dataframe\">\n",
       "  <thead>\n",
       "    <tr style=\"text-align: right;\">\n",
       "      <th></th>\n",
       "      <th>#missing_values</th>\n",
       "      <th>percentage</th>\n",
       "    </tr>\n",
       "  </thead>\n",
       "  <tbody>\n",
       "  </tbody>\n",
       "</table>\n",
       "</div>"
      ],
      "text/plain": [
       "Empty DataFrame\n",
       "Columns: [#missing_values, percentage]\n",
       "Index: []"
      ]
     },
     "execution_count": 114,
     "metadata": {},
     "output_type": "execute_result"
    }
   ],
   "source": [
    "#column with >5% nulls\n",
    "dq.columns_with_significant_missing_values(threshold=5)"
   ]
  },
  {
   "cell_type": "markdown",
   "id": "440dc15d",
   "metadata": {},
   "source": [
    "### Duplicates"
   ]
  },
  {
   "cell_type": "code",
   "execution_count": 115,
   "id": "5da9df66",
   "metadata": {},
   "outputs": [
    {
     "data": {
      "text/plain": [
       "0"
      ]
     },
     "execution_count": 115,
     "metadata": {},
     "output_type": "execute_result"
    }
   ],
   "source": [
    "#count duplicates\n",
    "dq.count_duplicates()"
   ]
  },
  {
   "cell_type": "markdown",
   "id": "b1c73167",
   "metadata": {},
   "source": [
    "### Invalid Values"
   ]
  },
  {
   "cell_type": "code",
   "execution_count": 116,
   "id": "d9e6b786",
   "metadata": {},
   "outputs": [
    {
     "data": {
      "text/plain": [
       "{}"
      ]
     },
     "execution_count": 116,
     "metadata": {},
     "output_type": "execute_result"
    }
   ],
   "source": [
    "dq.find_invalid_values()"
   ]
  },
  {
   "cell_type": "markdown",
   "id": "3aa9c9d5",
   "metadata": {},
   "source": [
    "## 🧹 5. Data Cleaning  <a id='5-data-cleaning'></a>"
   ]
  },
  {
   "cell_type": "code",
   "execution_count": 117,
   "id": "98dde7ed",
   "metadata": {},
   "outputs": [],
   "source": [
    "#saving the original dataset for later use\n",
    "df_original=df.copy()"
   ]
  },
  {
   "cell_type": "markdown",
   "id": "4581d672",
   "metadata": {},
   "source": [
    "### Inconsistencies and Inaccuracies"
   ]
  },
  {
   "cell_type": "code",
   "execution_count": 118,
   "id": "0fcea5f2",
   "metadata": {},
   "outputs": [],
   "source": [
    "#drop redundancies and clean column names\n",
    "df=dq.drop_redundant_columns()"
   ]
  },
  {
   "cell_type": "code",
   "execution_count": 119,
   "id": "a60f03c9",
   "metadata": {},
   "outputs": [
    {
     "name": "stdout",
     "output_type": "stream",
     "text": [
      "[Date] Converted: 5020/5020 (0 became NaT)\n"
     ]
    }
   ],
   "source": [
    "df=dq.convert_columns_to_datetime()"
   ]
  },
  {
   "cell_type": "code",
   "execution_count": 120,
   "id": "cad094ce",
   "metadata": {},
   "outputs": [
    {
     "name": "stdout",
     "output_type": "stream",
     "text": [
      "<class 'pandas.core.frame.DataFrame'>\n",
      "RangeIndex: 5020 entries, 0 to 5019\n",
      "Data columns (total 9 columns):\n",
      " #   Column        Non-Null Count  Dtype              \n",
      "---  ------        --------------  -----              \n",
      " 0   Date          5020 non-null   datetime64[ns, UTC]\n",
      " 1   Open          5020 non-null   float64            \n",
      " 2   High          5020 non-null   float64            \n",
      " 3   Low           5020 non-null   float64            \n",
      " 4   Close         5020 non-null   float64            \n",
      " 5   Adj Close     5020 non-null   float64            \n",
      " 6   Volume        5020 non-null   int64              \n",
      " 7   Dividends     5020 non-null   float64            \n",
      " 8   Stock Splits  5020 non-null   float64            \n",
      "dtypes: datetime64[ns, UTC](1), float64(7), int64(1)\n",
      "memory usage: 353.1 KB\n"
     ]
    }
   ],
   "source": [
    "df.info()"
   ]
  },
  {
   "cell_type": "code",
   "execution_count": 121,
   "id": "b210c10f",
   "metadata": {},
   "outputs": [
    {
     "data": {
      "text/plain": [
       "Index(['Date', 'Open', 'High', 'Low', 'Close', 'Adj Close', 'Volume',\n",
       "       'Dividends', 'Stock Splits'],\n",
       "      dtype='object')"
      ]
     },
     "execution_count": 121,
     "metadata": {},
     "output_type": "execute_result"
    }
   ],
   "source": [
    "df.columns"
   ]
  },
  {
   "cell_type": "code",
   "execution_count": 122,
   "id": "a443d88f",
   "metadata": {},
   "outputs": [
    {
     "data": {
      "text/html": [
       "<div>\n",
       "<style scoped>\n",
       "    .dataframe tbody tr th:only-of-type {\n",
       "        vertical-align: middle;\n",
       "    }\n",
       "\n",
       "    .dataframe tbody tr th {\n",
       "        vertical-align: top;\n",
       "    }\n",
       "\n",
       "    .dataframe thead th {\n",
       "        text-align: right;\n",
       "    }\n",
       "</style>\n",
       "<table border=\"1\" class=\"dataframe\">\n",
       "  <thead>\n",
       "    <tr style=\"text-align: right;\">\n",
       "      <th></th>\n",
       "      <th>Date</th>\n",
       "      <th>Open</th>\n",
       "      <th>High</th>\n",
       "      <th>Low</th>\n",
       "      <th>Close</th>\n",
       "      <th>Adj Close</th>\n",
       "      <th>Volume</th>\n",
       "      <th>Dividends</th>\n",
       "      <th>Stock Splits</th>\n",
       "    </tr>\n",
       "  </thead>\n",
       "  <tbody>\n",
       "    <tr>\n",
       "      <th>490</th>\n",
       "      <td>2006-07-31 00:00:00+00:00</td>\n",
       "      <td>9.663778</td>\n",
       "      <td>9.692919</td>\n",
       "      <td>9.546966</td>\n",
       "      <td>9.628908</td>\n",
       "      <td>9.617964</td>\n",
       "      <td>184500973</td>\n",
       "      <td>0.0</td>\n",
       "      <td>0.0</td>\n",
       "    </tr>\n",
       "    <tr>\n",
       "      <th>1010</th>\n",
       "      <td>2008-08-22 00:00:00+00:00</td>\n",
       "      <td>12.241615</td>\n",
       "      <td>12.325800</td>\n",
       "      <td>12.191304</td>\n",
       "      <td>12.218950</td>\n",
       "      <td>12.205062</td>\n",
       "      <td>92232419</td>\n",
       "      <td>0.0</td>\n",
       "      <td>0.0</td>\n",
       "    </tr>\n",
       "    <tr>\n",
       "      <th>4381</th>\n",
       "      <td>2022-01-12 00:00:00+00:00</td>\n",
       "      <td>141.554504</td>\n",
       "      <td>142.814255</td>\n",
       "      <td>141.112000</td>\n",
       "      <td>141.647995</td>\n",
       "      <td>141.486984</td>\n",
       "      <td>23642000</td>\n",
       "      <td>0.0</td>\n",
       "      <td>0.0</td>\n",
       "    </tr>\n",
       "    <tr>\n",
       "      <th>144</th>\n",
       "      <td>2005-03-16 00:00:00+00:00</td>\n",
       "      <td>4.401004</td>\n",
       "      <td>4.448576</td>\n",
       "      <td>4.358912</td>\n",
       "      <td>4.373607</td>\n",
       "      <td>4.368636</td>\n",
       "      <td>285317446</td>\n",
       "      <td>0.0</td>\n",
       "      <td>0.0</td>\n",
       "    </tr>\n",
       "    <tr>\n",
       "      <th>2011</th>\n",
       "      <td>2012-08-13 00:00:00+00:00</td>\n",
       "      <td>16.125059</td>\n",
       "      <td>16.442122</td>\n",
       "      <td>16.106628</td>\n",
       "      <td>16.438635</td>\n",
       "      <td>16.419950</td>\n",
       "      <td>131205956</td>\n",
       "      <td>0.0</td>\n",
       "      <td>0.0</td>\n",
       "    </tr>\n",
       "    <tr>\n",
       "      <th>420</th>\n",
       "      <td>2006-04-20 00:00:00+00:00</td>\n",
       "      <td>10.236880</td>\n",
       "      <td>10.361164</td>\n",
       "      <td>10.166892</td>\n",
       "      <td>10.336257</td>\n",
       "      <td>10.324508</td>\n",
       "      <td>492699864</td>\n",
       "      <td>0.0</td>\n",
       "      <td>0.0</td>\n",
       "    </tr>\n",
       "    <tr>\n",
       "      <th>1392</th>\n",
       "      <td>2010-03-02 00:00:00+00:00</td>\n",
       "      <td>13.337010</td>\n",
       "      <td>13.590559</td>\n",
       "      <td>13.325303</td>\n",
       "      <td>13.475989</td>\n",
       "      <td>13.460671</td>\n",
       "      <td>174925214</td>\n",
       "      <td>0.0</td>\n",
       "      <td>0.0</td>\n",
       "    </tr>\n",
       "    <tr>\n",
       "      <th>3343</th>\n",
       "      <td>2017-11-28 00:00:00+00:00</td>\n",
       "      <td>52.754501</td>\n",
       "      <td>53.118752</td>\n",
       "      <td>52.000000</td>\n",
       "      <td>52.370499</td>\n",
       "      <td>52.310970</td>\n",
       "      <td>28488000</td>\n",
       "      <td>0.0</td>\n",
       "      <td>0.0</td>\n",
       "    </tr>\n",
       "    <tr>\n",
       "      <th>3357</th>\n",
       "      <td>2017-12-18 00:00:00+00:00</td>\n",
       "      <td>53.304001</td>\n",
       "      <td>53.924500</td>\n",
       "      <td>53.099998</td>\n",
       "      <td>53.856998</td>\n",
       "      <td>53.795780</td>\n",
       "      <td>31092000</td>\n",
       "      <td>0.0</td>\n",
       "      <td>0.0</td>\n",
       "    </tr>\n",
       "    <tr>\n",
       "      <th>1490</th>\n",
       "      <td>2010-07-21 00:00:00+00:00</td>\n",
       "      <td>12.054816</td>\n",
       "      <td>12.097157</td>\n",
       "      <td>11.841366</td>\n",
       "      <td>11.892922</td>\n",
       "      <td>11.879404</td>\n",
       "      <td>131675710</td>\n",
       "      <td>0.0</td>\n",
       "      <td>0.0</td>\n",
       "    </tr>\n",
       "  </tbody>\n",
       "</table>\n",
       "</div>"
      ],
      "text/plain": [
       "                          Date        Open        High         Low  \\\n",
       "490  2006-07-31 00:00:00+00:00    9.663778    9.692919    9.546966   \n",
       "1010 2008-08-22 00:00:00+00:00   12.241615   12.325800   12.191304   \n",
       "4381 2022-01-12 00:00:00+00:00  141.554504  142.814255  141.112000   \n",
       "144  2005-03-16 00:00:00+00:00    4.401004    4.448576    4.358912   \n",
       "2011 2012-08-13 00:00:00+00:00   16.125059   16.442122   16.106628   \n",
       "420  2006-04-20 00:00:00+00:00   10.236880   10.361164   10.166892   \n",
       "1392 2010-03-02 00:00:00+00:00   13.337010   13.590559   13.325303   \n",
       "3343 2017-11-28 00:00:00+00:00   52.754501   53.118752   52.000000   \n",
       "3357 2017-12-18 00:00:00+00:00   53.304001   53.924500   53.099998   \n",
       "1490 2010-07-21 00:00:00+00:00   12.054816   12.097157   11.841366   \n",
       "\n",
       "           Close   Adj Close     Volume  Dividends  Stock Splits  \n",
       "490     9.628908    9.617964  184500973        0.0           0.0  \n",
       "1010   12.218950   12.205062   92232419        0.0           0.0  \n",
       "4381  141.647995  141.486984   23642000        0.0           0.0  \n",
       "144     4.373607    4.368636  285317446        0.0           0.0  \n",
       "2011   16.438635   16.419950  131205956        0.0           0.0  \n",
       "420    10.336257   10.324508  492699864        0.0           0.0  \n",
       "1392   13.475989   13.460671  174925214        0.0           0.0  \n",
       "3343   52.370499   52.310970   28488000        0.0           0.0  \n",
       "3357   53.856998   53.795780   31092000        0.0           0.0  \n",
       "1490   11.892922   11.879404  131675710        0.0           0.0  "
      ]
     },
     "execution_count": 122,
     "metadata": {},
     "output_type": "execute_result"
    }
   ],
   "source": [
    "df.sample(10)"
   ]
  },
  {
   "cell_type": "code",
   "execution_count": 123,
   "id": "b1933a6a",
   "metadata": {},
   "outputs": [],
   "source": [
    "# Save to csv\n",
    "df.to_csv(CLEANED_DATA_PATH, index=False)"
   ]
  },
  {
   "cell_type": "markdown",
   "id": "15d7e3c6",
   "metadata": {},
   "source": [
    "## 6. Analyze"
   ]
  },
  {
   "cell_type": "code",
   "execution_count": 124,
   "id": "40454725",
   "metadata": {},
   "outputs": [
    {
     "data": {
      "text/html": [
       "<div>\n",
       "<style scoped>\n",
       "    .dataframe tbody tr th:only-of-type {\n",
       "        vertical-align: middle;\n",
       "    }\n",
       "\n",
       "    .dataframe tbody tr th {\n",
       "        vertical-align: top;\n",
       "    }\n",
       "\n",
       "    .dataframe thead th {\n",
       "        text-align: right;\n",
       "    }\n",
       "</style>\n",
       "<table border=\"1\" class=\"dataframe\">\n",
       "  <thead>\n",
       "    <tr style=\"text-align: right;\">\n",
       "      <th></th>\n",
       "      <th>Date</th>\n",
       "      <th>Open</th>\n",
       "      <th>High</th>\n",
       "      <th>Low</th>\n",
       "      <th>Close</th>\n",
       "      <th>Adj Close</th>\n",
       "      <th>Volume</th>\n",
       "      <th>Dividends</th>\n",
       "      <th>Stock Splits</th>\n",
       "    </tr>\n",
       "  </thead>\n",
       "  <tbody>\n",
       "    <tr>\n",
       "      <th>0</th>\n",
       "      <td>2004-08-19 00:00:00+00:00</td>\n",
       "      <td>2.490664</td>\n",
       "      <td>2.591785</td>\n",
       "      <td>2.390042</td>\n",
       "      <td>2.499133</td>\n",
       "      <td>2.496292</td>\n",
       "      <td>897427216</td>\n",
       "      <td>0.0</td>\n",
       "      <td>0.0</td>\n",
       "    </tr>\n",
       "    <tr>\n",
       "      <th>1</th>\n",
       "      <td>2004-08-20 00:00:00+00:00</td>\n",
       "      <td>2.515820</td>\n",
       "      <td>2.716817</td>\n",
       "      <td>2.503118</td>\n",
       "      <td>2.697639</td>\n",
       "      <td>2.694573</td>\n",
       "      <td>458857488</td>\n",
       "      <td>0.0</td>\n",
       "      <td>0.0</td>\n",
       "    </tr>\n",
       "    <tr>\n",
       "      <th>2</th>\n",
       "      <td>2004-08-23 00:00:00+00:00</td>\n",
       "      <td>2.758411</td>\n",
       "      <td>2.826406</td>\n",
       "      <td>2.716070</td>\n",
       "      <td>2.724787</td>\n",
       "      <td>2.721690</td>\n",
       "      <td>366857939</td>\n",
       "      <td>0.0</td>\n",
       "      <td>0.0</td>\n",
       "    </tr>\n",
       "    <tr>\n",
       "      <th>3</th>\n",
       "      <td>2004-08-24 00:00:00+00:00</td>\n",
       "      <td>2.770615</td>\n",
       "      <td>2.779581</td>\n",
       "      <td>2.579581</td>\n",
       "      <td>2.611960</td>\n",
       "      <td>2.608991</td>\n",
       "      <td>306396159</td>\n",
       "      <td>0.0</td>\n",
       "      <td>0.0</td>\n",
       "    </tr>\n",
       "    <tr>\n",
       "      <th>4</th>\n",
       "      <td>2004-08-25 00:00:00+00:00</td>\n",
       "      <td>2.614201</td>\n",
       "      <td>2.689918</td>\n",
       "      <td>2.587302</td>\n",
       "      <td>2.640104</td>\n",
       "      <td>2.637103</td>\n",
       "      <td>184645512</td>\n",
       "      <td>0.0</td>\n",
       "      <td>0.0</td>\n",
       "    </tr>\n",
       "    <tr>\n",
       "      <th>...</th>\n",
       "      <td>...</td>\n",
       "      <td>...</td>\n",
       "      <td>...</td>\n",
       "      <td>...</td>\n",
       "      <td>...</td>\n",
       "      <td>...</td>\n",
       "      <td>...</td>\n",
       "      <td>...</td>\n",
       "      <td>...</td>\n",
       "    </tr>\n",
       "    <tr>\n",
       "      <th>5015</th>\n",
       "      <td>2024-07-24 00:00:00+00:00</td>\n",
       "      <td>175.389999</td>\n",
       "      <td>177.949997</td>\n",
       "      <td>173.570007</td>\n",
       "      <td>174.369995</td>\n",
       "      <td>174.369995</td>\n",
       "      <td>31250700</td>\n",
       "      <td>0.0</td>\n",
       "      <td>0.0</td>\n",
       "    </tr>\n",
       "    <tr>\n",
       "      <th>5016</th>\n",
       "      <td>2024-07-25 00:00:00+00:00</td>\n",
       "      <td>174.250000</td>\n",
       "      <td>175.199997</td>\n",
       "      <td>169.050003</td>\n",
       "      <td>169.160004</td>\n",
       "      <td>169.160004</td>\n",
       "      <td>28967900</td>\n",
       "      <td>0.0</td>\n",
       "      <td>0.0</td>\n",
       "    </tr>\n",
       "    <tr>\n",
       "      <th>5017</th>\n",
       "      <td>2024-07-26 00:00:00+00:00</td>\n",
       "      <td>168.770004</td>\n",
       "      <td>169.839996</td>\n",
       "      <td>165.865005</td>\n",
       "      <td>168.679993</td>\n",
       "      <td>168.679993</td>\n",
       "      <td>25150100</td>\n",
       "      <td>0.0</td>\n",
       "      <td>0.0</td>\n",
       "    </tr>\n",
       "    <tr>\n",
       "      <th>5018</th>\n",
       "      <td>2024-07-29 00:00:00+00:00</td>\n",
       "      <td>170.500000</td>\n",
       "      <td>172.160004</td>\n",
       "      <td>169.720001</td>\n",
       "      <td>171.130005</td>\n",
       "      <td>171.130005</td>\n",
       "      <td>13768900</td>\n",
       "      <td>0.0</td>\n",
       "      <td>0.0</td>\n",
       "    </tr>\n",
       "    <tr>\n",
       "      <th>5019</th>\n",
       "      <td>2024-07-30 00:00:00+00:00</td>\n",
       "      <td>171.830002</td>\n",
       "      <td>172.949997</td>\n",
       "      <td>170.119995</td>\n",
       "      <td>171.860001</td>\n",
       "      <td>171.860001</td>\n",
       "      <td>13681400</td>\n",
       "      <td>0.0</td>\n",
       "      <td>0.0</td>\n",
       "    </tr>\n",
       "  </tbody>\n",
       "</table>\n",
       "<p>5020 rows × 9 columns</p>\n",
       "</div>"
      ],
      "text/plain": [
       "                          Date        Open        High         Low  \\\n",
       "0    2004-08-19 00:00:00+00:00    2.490664    2.591785    2.390042   \n",
       "1    2004-08-20 00:00:00+00:00    2.515820    2.716817    2.503118   \n",
       "2    2004-08-23 00:00:00+00:00    2.758411    2.826406    2.716070   \n",
       "3    2004-08-24 00:00:00+00:00    2.770615    2.779581    2.579581   \n",
       "4    2004-08-25 00:00:00+00:00    2.614201    2.689918    2.587302   \n",
       "...                        ...         ...         ...         ...   \n",
       "5015 2024-07-24 00:00:00+00:00  175.389999  177.949997  173.570007   \n",
       "5016 2024-07-25 00:00:00+00:00  174.250000  175.199997  169.050003   \n",
       "5017 2024-07-26 00:00:00+00:00  168.770004  169.839996  165.865005   \n",
       "5018 2024-07-29 00:00:00+00:00  170.500000  172.160004  169.720001   \n",
       "5019 2024-07-30 00:00:00+00:00  171.830002  172.949997  170.119995   \n",
       "\n",
       "           Close   Adj Close     Volume  Dividends  Stock Splits  \n",
       "0       2.499133    2.496292  897427216        0.0           0.0  \n",
       "1       2.697639    2.694573  458857488        0.0           0.0  \n",
       "2       2.724787    2.721690  366857939        0.0           0.0  \n",
       "3       2.611960    2.608991  306396159        0.0           0.0  \n",
       "4       2.640104    2.637103  184645512        0.0           0.0  \n",
       "...          ...         ...        ...        ...           ...  \n",
       "5015  174.369995  174.369995   31250700        0.0           0.0  \n",
       "5016  169.160004  169.160004   28967900        0.0           0.0  \n",
       "5017  168.679993  168.679993   25150100        0.0           0.0  \n",
       "5018  171.130005  171.130005   13768900        0.0           0.0  \n",
       "5019  171.860001  171.860001   13681400        0.0           0.0  \n",
       "\n",
       "[5020 rows x 9 columns]"
      ]
     },
     "execution_count": 124,
     "metadata": {},
     "output_type": "execute_result"
    }
   ],
   "source": [
    "# Load the ticker analyze\n",
    "ta = TickerAnalyzer(\"AAPL\")\n",
    "ta.load_price_data_from_csv(CLEANED_DATA_PATH)"
   ]
  },
  {
   "cell_type": "code",
   "execution_count": 125,
   "id": "ca5100ba",
   "metadata": {},
   "outputs": [],
   "source": [
    "# Instantiate the analyzer for a specific ticker (ticker is mostly for metadata here)\n",
    "analyzer = TickerAnalyzer(ticker=\"AAPL\", period=\"1y\", interval=\"1d\")"
   ]
  },
  {
   "cell_type": "code",
   "execution_count": 126,
   "id": "7a4ff3c1",
   "metadata": {},
   "outputs": [
    {
     "name": "stdout",
     "output_type": "stream",
     "text": [
      "Price Data Sample:\n",
      "                       Date      Open      High       Low     Close  \\\n",
      "0 2004-08-19 00:00:00+00:00  2.490664  2.591785  2.390042  2.499133   \n",
      "1 2004-08-20 00:00:00+00:00  2.515820  2.716817  2.503118  2.697639   \n",
      "2 2004-08-23 00:00:00+00:00  2.758411  2.826406  2.716070  2.724787   \n",
      "3 2004-08-24 00:00:00+00:00  2.770615  2.779581  2.579581  2.611960   \n",
      "4 2004-08-25 00:00:00+00:00  2.614201  2.689918  2.587302  2.640104   \n",
      "\n",
      "   Adj Close     Volume  Dividends  Stock Splits  \n",
      "0   2.496292  897427216        0.0           0.0  \n",
      "1   2.694573  458857488        0.0           0.0  \n",
      "2   2.721690  366857939        0.0           0.0  \n",
      "3   2.608991  306396159        0.0           0.0  \n",
      "4   2.637103  184645512        0.0           0.0  \n"
     ]
    }
   ],
   "source": [
    "# Load Price Data from CSV\n",
    "price_df = analyzer.load_price_data_from_csv(CLEANED_DATA_PATH)\n",
    "\n",
    "print(\"Price Data Sample:\")\n",
    "print(price_df.head())"
   ]
  },
  {
   "cell_type": "code",
   "execution_count": 127,
   "id": "7d831f9b",
   "metadata": {},
   "outputs": [
    {
     "name": "stdout",
     "output_type": "stream",
     "text": [
      "\n",
      "Price Data with Technical Indicators Sample:\n",
      "                       Date     Close  momentum_rsi     Volume  trend_macd\n",
      "0 2004-08-19 00:00:00+00:00  2.499133           NaN  897427216         NaN\n",
      "1 2004-08-20 00:00:00+00:00  2.697639           NaN  458857488         NaN\n",
      "2 2004-08-23 00:00:00+00:00  2.724787           NaN  366857939         NaN\n",
      "3 2004-08-24 00:00:00+00:00  2.611960           NaN  306396159         NaN\n",
      "4 2004-08-25 00:00:00+00:00  2.640104           NaN  184645512         NaN\n"
     ]
    }
   ],
   "source": [
    "# Add Technical Indicators ===\n",
    "analyzer.price_df.rename(\n",
    "    columns={\n",
    "        'date': 'Date',\n",
    "        'open': 'Open',\n",
    "        'high': 'High',\n",
    "        'low': 'Low',\n",
    "        'close': 'Close',\n",
    "        'volume': 'Volume'\n",
    "    }, inplace=True)\n",
    "price_with_indicators = analyzer.add_technical_indicators()\n",
    "print(\"\\nPrice Data with Technical Indicators Sample:\")\n",
    "print(price_with_indicators[['Date', 'Close','momentum_rsi', 'Volume','trend_macd']].head())"
   ]
  },
  {
   "cell_type": "code",
   "execution_count": 128,
   "id": "d2f1da39",
   "metadata": {},
   "outputs": [
    {
     "name": "stdout",
     "output_type": "stream",
     "text": [
      "{'Cumulative Return': 62.70756107222469, 'Annualized Volatility': 0.3066668478935509, 'Sharpe Ratio': 0.7799639563337155, 'Max Drawdown': -0.6529476078105549, 'Calmar Ratio': 96.03766109580197}\n"
     ]
    },
    {
     "data": {
      "image/png": "[encoded data removed]",
      "text/plain": [
       "<Figure size 1500x1000 with 3 Axes>"
      ]
     },
     "metadata": {},
     "output_type": "display_data"
    }
   ],
   "source": [
    "metrics = analyzer.compute_financial_metrics()\n",
    "print(metrics)\n",
    "analyzer.plot_price_and_indicators()"
   ]
  }
 ],
 "metadata": {
  "kernelspec": {
   "display_name": "venv",
   "language": "python",
   "name": "python3"
  },
  "language_info": {
   "codemirror_mode": {
    "name": "ipython",
    "version": 3
   },
   "file_extension": ".py",
   "mimetype": "text/x-python",
   "name": "python",
   "nbconvert_exporter": "python",
   "pygments_lexer": "ipython3",
   "version": "3.10.12"
  }
 },
 "nbformat": 4,
 "nbformat_minor": 5
}
