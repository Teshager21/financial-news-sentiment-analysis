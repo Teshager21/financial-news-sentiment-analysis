{
 "cells": [
  {
   "cell_type": "markdown",
   "id": "0a43ea9e",
   "metadata": {},
   "source": [
    "# Explore News Sentiments"
   ]
  },
  {
   "cell_type": "code",
   "execution_count": 118,
   "id": "02bf5162",
   "metadata": {},
   "outputs": [
    {
     "name": "stdout",
     "output_type": "stream",
     "text": [
      "The autoreload extension is already loaded. To reload it, use:\n",
      "  %reload_ext autoreload\n"
     ]
    }
   ],
   "source": [
    "#auto loading\n",
    "%load_ext autoreload\n",
    "%autoreload 2"
   ]
  },
  {
   "cell_type": "markdown",
   "id": "e06556f2",
   "metadata": {},
   "source": [
    "#### Imports"
   ]
  },
  {
   "cell_type": "code",
   "execution_count": 149,
   "id": "a8e59bde",
   "metadata": {},
   "outputs": [],
   "source": [
    "import os\n",
    "import warnings\n",
    "\n",
    "# Import necessary libraries\n",
    "import numpy as numpy\n",
    "import pandas as pd\n",
    "from data.load_data import load_local_data\n",
    "from eda.data_quality_utils import DataQualityUtils\n",
    "from eda.textual_eda import TextualEDA\n",
    "from eda.visualizer import DataVisualizer"
   ]
  },
  {
   "cell_type": "code",
   "execution_count": 150,
   "id": "1de84879",
   "metadata": {},
   "outputs": [],
   "source": [
    "warnings.filterwarnings(\"ignore\", category=FutureWarning)"
   ]
  },
  {
   "cell_type": "markdown",
   "id": "8d629978",
   "metadata": {},
   "source": [
    "## 📦 2. Data Loading & Overview  <a id= '2-data-loading--overview'></a>"
   ]
  },
  {
   "cell_type": "code",
   "execution_count": 120,
   "id": "ef32faaf",
   "metadata": {},
   "outputs": [
    {
     "name": "stderr",
     "output_type": "stream",
     "text": [
      "INFO:data.load_data:Loading data from: /home/teshager/Documents/10Academy/repositories/projects/financial-news-sentiment-analysis/data/raw/raw_analyst_ratings.csv (type=csv)\n",
      "INFO:data.load_data:Data loaded successfully. Shape: (1407328, 6)\n"
     ]
    },
    {
     "data": {
      "text/html": [
       "<div>\n",
       "<style scoped>\n",
       "    .dataframe tbody tr th:only-of-type {\n",
       "        vertical-align: middle;\n",
       "    }\n",
       "\n",
       "    .dataframe tbody tr th {\n",
       "        vertical-align: top;\n",
       "    }\n",
       "\n",
       "    .dataframe thead th {\n",
       "        text-align: right;\n",
       "    }\n",
       "</style>\n",
       "<table border=\"1\" class=\"dataframe\">\n",
       "  <thead>\n",
       "    <tr style=\"text-align: right;\">\n",
       "      <th></th>\n",
       "      <th>Unnamed: 0</th>\n",
       "      <th>headline</th>\n",
       "      <th>url</th>\n",
       "      <th>publisher</th>\n",
       "      <th>date</th>\n",
       "      <th>stock</th>\n",
       "    </tr>\n",
       "  </thead>\n",
       "  <tbody>\n",
       "    <tr>\n",
       "      <th>0</th>\n",
       "      <td>0</td>\n",
       "      <td>Stocks That Hit 52-Week Highs On Friday</td>\n",
       "      <td>https://www.benzinga.com/news/20/06/16190091/s...</td>\n",
       "      <td>Benzinga Insights</td>\n",
       "      <td>2020-06-05 10:30:54-04:00</td>\n",
       "      <td>A</td>\n",
       "    </tr>\n",
       "    <tr>\n",
       "      <th>1</th>\n",
       "      <td>1</td>\n",
       "      <td>Stocks That Hit 52-Week Highs On Wednesday</td>\n",
       "      <td>https://www.benzinga.com/news/20/06/16170189/s...</td>\n",
       "      <td>Benzinga Insights</td>\n",
       "      <td>2020-06-03 10:45:20-04:00</td>\n",
       "      <td>A</td>\n",
       "    </tr>\n",
       "    <tr>\n",
       "      <th>2</th>\n",
       "      <td>2</td>\n",
       "      <td>71 Biggest Movers From Friday</td>\n",
       "      <td>https://www.benzinga.com/news/20/05/16103463/7...</td>\n",
       "      <td>Lisa Levin</td>\n",
       "      <td>2020-05-26 04:30:07-04:00</td>\n",
       "      <td>A</td>\n",
       "    </tr>\n",
       "    <tr>\n",
       "      <th>3</th>\n",
       "      <td>3</td>\n",
       "      <td>46 Stocks Moving In Friday's Mid-Day Session</td>\n",
       "      <td>https://www.benzinga.com/news/20/05/16095921/4...</td>\n",
       "      <td>Lisa Levin</td>\n",
       "      <td>2020-05-22 12:45:06-04:00</td>\n",
       "      <td>A</td>\n",
       "    </tr>\n",
       "    <tr>\n",
       "      <th>4</th>\n",
       "      <td>4</td>\n",
       "      <td>B of A Securities Maintains Neutral on Agilent...</td>\n",
       "      <td>https://www.benzinga.com/news/20/05/16095304/b...</td>\n",
       "      <td>Vick Meyer</td>\n",
       "      <td>2020-05-22 11:38:59-04:00</td>\n",
       "      <td>A</td>\n",
       "    </tr>\n",
       "  </tbody>\n",
       "</table>\n",
       "</div>"
      ],
      "text/plain": [
       "   Unnamed: 0                                           headline  \\\n",
       "0           0            Stocks That Hit 52-Week Highs On Friday   \n",
       "1           1         Stocks That Hit 52-Week Highs On Wednesday   \n",
       "2           2                      71 Biggest Movers From Friday   \n",
       "3           3       46 Stocks Moving In Friday's Mid-Day Session   \n",
       "4           4  B of A Securities Maintains Neutral on Agilent...   \n",
       "\n",
       "                                                 url          publisher  \\\n",
       "0  https://www.benzinga.com/news/20/06/16190091/s...  Benzinga Insights   \n",
       "1  https://www.benzinga.com/news/20/06/16170189/s...  Benzinga Insights   \n",
       "2  https://www.benzinga.com/news/20/05/16103463/7...         Lisa Levin   \n",
       "3  https://www.benzinga.com/news/20/05/16095921/4...         Lisa Levin   \n",
       "4  https://www.benzinga.com/news/20/05/16095304/b...         Vick Meyer   \n",
       "\n",
       "                        date stock  \n",
       "0  2020-06-05 10:30:54-04:00     A  \n",
       "1  2020-06-03 10:45:20-04:00     A  \n",
       "2  2020-05-26 04:30:07-04:00     A  \n",
       "3  2020-05-22 12:45:06-04:00     A  \n",
       "4  2020-05-22 11:38:59-04:00     A  "
      ]
     },
     "execution_count": 120,
     "metadata": {},
     "output_type": "execute_result"
    }
   ],
   "source": [
    "# Load the stock news sentiment data\n",
    "df = load_local_data(\"../raw/raw_analyst_ratings.csv\")\n",
    "df.head()"
   ]
  },
  {
   "cell_type": "markdown",
   "id": "b7434573",
   "metadata": {},
   "source": [
    "## Inspecting Dataset"
   ]
  },
  {
   "cell_type": "code",
   "execution_count": 121,
   "id": "1c64ea46",
   "metadata": {},
   "outputs": [
    {
     "data": {
      "text/html": [
       "<div>\n",
       "<style scoped>\n",
       "    .dataframe tbody tr th:only-of-type {\n",
       "        vertical-align: middle;\n",
       "    }\n",
       "\n",
       "    .dataframe tbody tr th {\n",
       "        vertical-align: top;\n",
       "    }\n",
       "\n",
       "    .dataframe thead th {\n",
       "        text-align: right;\n",
       "    }\n",
       "</style>\n",
       "<table border=\"1\" class=\"dataframe\">\n",
       "  <thead>\n",
       "    <tr style=\"text-align: right;\">\n",
       "      <th></th>\n",
       "      <th>Unnamed: 0</th>\n",
       "      <th>headline</th>\n",
       "      <th>url</th>\n",
       "      <th>publisher</th>\n",
       "      <th>date</th>\n",
       "      <th>stock</th>\n",
       "    </tr>\n",
       "  </thead>\n",
       "  <tbody>\n",
       "    <tr>\n",
       "      <th>202437</th>\n",
       "      <td>203616</td>\n",
       "      <td>PreMarket Opening NYSE Imbalance Update: Squar...</td>\n",
       "      <td>https://www.benzinga.com/pre-market-outlook/18...</td>\n",
       "      <td>Paul Quintaro</td>\n",
       "      <td>2018-02-01 00:00:00</td>\n",
       "      <td>C</td>\n",
       "    </tr>\n",
       "    <tr>\n",
       "      <th>764946</th>\n",
       "      <td>768833</td>\n",
       "      <td>Legg Mason Spokesperson Says No News Related t...</td>\n",
       "      <td>https://www.benzinga.com/news/12/02/2331954/le...</td>\n",
       "      <td>Charles Gross</td>\n",
       "      <td>2012-02-09 00:00:00</td>\n",
       "      <td>LM</td>\n",
       "    </tr>\n",
       "    <tr>\n",
       "      <th>82384</th>\n",
       "      <td>83143</td>\n",
       "      <td>AOL Names Stephen Bromberg Executive Editor, A...</td>\n",
       "      <td>https://www.benzinga.com/news/11/01/765523/aol...</td>\n",
       "      <td>Benzinga Staff</td>\n",
       "      <td>2011-01-10 00:00:00</td>\n",
       "      <td>AOL</td>\n",
       "    </tr>\n",
       "    <tr>\n",
       "      <th>1137206</th>\n",
       "      <td>1142796</td>\n",
       "      <td>16 Consumer Cyclical Stocks Moving In Tuesday'...</td>\n",
       "      <td>https://www.benzinga.com/pre-market-outlook/20...</td>\n",
       "      <td>Benzinga Insights</td>\n",
       "      <td>2020-04-28 00:00:00</td>\n",
       "      <td>SIX</td>\n",
       "    </tr>\n",
       "    <tr>\n",
       "      <th>149238</th>\n",
       "      <td>150277</td>\n",
       "      <td>The Daily Biotech Pulse: Verastem's Chinese Du...</td>\n",
       "      <td>https://www.benzinga.com/general/biotech/18/09...</td>\n",
       "      <td>Shanthi Rexaline</td>\n",
       "      <td>2018-09-26 00:00:00</td>\n",
       "      <td>BDX</td>\n",
       "    </tr>\n",
       "    <tr>\n",
       "      <th>592129</th>\n",
       "      <td>595243</td>\n",
       "      <td>BMO Capital Highlights This Week's MedTech Ear...</td>\n",
       "      <td>https://www.benzinga.com/analyst-ratings/analy...</td>\n",
       "      <td>Taylor Cox</td>\n",
       "      <td>2016-08-01 00:00:00</td>\n",
       "      <td>HAE</td>\n",
       "    </tr>\n",
       "    <tr>\n",
       "      <th>1233300</th>\n",
       "      <td>1239160</td>\n",
       "      <td>Top 4 Stocks In The Auto Manufacturers-Major I...</td>\n",
       "      <td>https://www.benzinga.com/trading-ideas/14/07/4...</td>\n",
       "      <td>Monica Gerson</td>\n",
       "      <td>2014-07-08 00:00:00</td>\n",
       "      <td>TM</td>\n",
       "    </tr>\n",
       "    <tr>\n",
       "      <th>1275561</th>\n",
       "      <td>1281666</td>\n",
       "      <td>Yield Curve Normalization Lifts Leveraged Bond...</td>\n",
       "      <td>https://www.benzinga.com/trading-ideas/long-id...</td>\n",
       "      <td>ETF Professor</td>\n",
       "      <td>2019-04-08 09:32:11-04:00</td>\n",
       "      <td>TYD</td>\n",
       "    </tr>\n",
       "    <tr>\n",
       "      <th>571196</th>\n",
       "      <td>574225</td>\n",
       "      <td>Benzinga's Top Upgrades, Downgrades For Septem...</td>\n",
       "      <td>https://www.benzinga.com/analyst-ratings/upgra...</td>\n",
       "      <td>Lisa Levin</td>\n",
       "      <td>2017-09-21 00:00:00</td>\n",
       "      <td>GPRK</td>\n",
       "    </tr>\n",
       "    <tr>\n",
       "      <th>617770</th>\n",
       "      <td>620964</td>\n",
       "      <td>96 Stocks Moving In Wednesday's Mid-Day Session</td>\n",
       "      <td>https://www.benzinga.com/news/20/03/15582552/9...</td>\n",
       "      <td>Lisa Levin</td>\n",
       "      <td>2020-03-18 00:00:00</td>\n",
       "      <td>HMY</td>\n",
       "    </tr>\n",
       "  </tbody>\n",
       "</table>\n",
       "</div>"
      ],
      "text/plain": [
       "         Unnamed: 0                                           headline  \\\n",
       "202437       203616  PreMarket Opening NYSE Imbalance Update: Squar...   \n",
       "764946       768833  Legg Mason Spokesperson Says No News Related t...   \n",
       "82384         83143  AOL Names Stephen Bromberg Executive Editor, A...   \n",
       "1137206     1142796  16 Consumer Cyclical Stocks Moving In Tuesday'...   \n",
       "149238       150277  The Daily Biotech Pulse: Verastem's Chinese Du...   \n",
       "592129       595243  BMO Capital Highlights This Week's MedTech Ear...   \n",
       "1233300     1239160  Top 4 Stocks In The Auto Manufacturers-Major I...   \n",
       "1275561     1281666  Yield Curve Normalization Lifts Leveraged Bond...   \n",
       "571196       574225  Benzinga's Top Upgrades, Downgrades For Septem...   \n",
       "617770       620964    96 Stocks Moving In Wednesday's Mid-Day Session   \n",
       "\n",
       "                                                       url          publisher  \\\n",
       "202437   https://www.benzinga.com/pre-market-outlook/18...      Paul Quintaro   \n",
       "764946   https://www.benzinga.com/news/12/02/2331954/le...      Charles Gross   \n",
       "82384    https://www.benzinga.com/news/11/01/765523/aol...     Benzinga Staff   \n",
       "1137206  https://www.benzinga.com/pre-market-outlook/20...  Benzinga Insights   \n",
       "149238   https://www.benzinga.com/general/biotech/18/09...   Shanthi Rexaline   \n",
       "592129   https://www.benzinga.com/analyst-ratings/analy...         Taylor Cox   \n",
       "1233300  https://www.benzinga.com/trading-ideas/14/07/4...      Monica Gerson   \n",
       "1275561  https://www.benzinga.com/trading-ideas/long-id...      ETF Professor   \n",
       "571196   https://www.benzinga.com/analyst-ratings/upgra...         Lisa Levin   \n",
       "617770   https://www.benzinga.com/news/20/03/15582552/9...         Lisa Levin   \n",
       "\n",
       "                              date stock  \n",
       "202437         2018-02-01 00:00:00     C  \n",
       "764946         2012-02-09 00:00:00    LM  \n",
       "82384          2011-01-10 00:00:00   AOL  \n",
       "1137206        2020-04-28 00:00:00   SIX  \n",
       "149238         2018-09-26 00:00:00   BDX  \n",
       "592129         2016-08-01 00:00:00   HAE  \n",
       "1233300        2014-07-08 00:00:00    TM  \n",
       "1275561  2019-04-08 09:32:11-04:00   TYD  \n",
       "571196         2017-09-21 00:00:00  GPRK  \n",
       "617770         2020-03-18 00:00:00   HMY  "
      ]
     },
     "execution_count": 121,
     "metadata": {},
     "output_type": "execute_result"
    }
   ],
   "source": [
    "#view sample data\n",
    "df.sample(10)"
   ]
  },
  {
   "cell_type": "code",
   "execution_count": 122,
   "id": "25c281eb",
   "metadata": {},
   "outputs": [
    {
     "data": {
      "text/html": [
       "<div>\n",
       "<style scoped>\n",
       "    .dataframe tbody tr th:only-of-type {\n",
       "        vertical-align: middle;\n",
       "    }\n",
       "\n",
       "    .dataframe tbody tr th {\n",
       "        vertical-align: top;\n",
       "    }\n",
       "\n",
       "    .dataframe thead th {\n",
       "        text-align: right;\n",
       "    }\n",
       "</style>\n",
       "<table border=\"1\" class=\"dataframe\">\n",
       "  <thead>\n",
       "    <tr style=\"text-align: right;\">\n",
       "      <th></th>\n",
       "      <th>Unnamed: 0</th>\n",
       "      <th>headline</th>\n",
       "      <th>url</th>\n",
       "      <th>publisher</th>\n",
       "      <th>date</th>\n",
       "      <th>stock</th>\n",
       "    </tr>\n",
       "  </thead>\n",
       "  <tbody>\n",
       "    <tr>\n",
       "      <th>1407323</th>\n",
       "      <td>1413844</td>\n",
       "      <td>Top Narrow Based Indexes For August 29</td>\n",
       "      <td>https://www.benzinga.com/news/11/08/1888782/to...</td>\n",
       "      <td>Monica Gerson</td>\n",
       "      <td>2011-08-29 00:00:00</td>\n",
       "      <td>ZX</td>\n",
       "    </tr>\n",
       "    <tr>\n",
       "      <th>1407324</th>\n",
       "      <td>1413845</td>\n",
       "      <td>Recap: Wednesday's Top Percentage Gainers and ...</td>\n",
       "      <td>https://www.benzinga.com/news/earnings/11/06/1...</td>\n",
       "      <td>Benjamin Lee</td>\n",
       "      <td>2011-06-22 00:00:00</td>\n",
       "      <td>ZX</td>\n",
       "    </tr>\n",
       "    <tr>\n",
       "      <th>1407325</th>\n",
       "      <td>1413846</td>\n",
       "      <td>UPDATE: Oppenheimer Color on China Zenix Auto ...</td>\n",
       "      <td>https://www.benzinga.com/analyst-ratings/analy...</td>\n",
       "      <td>BenzingaStaffL</td>\n",
       "      <td>2011-06-21 00:00:00</td>\n",
       "      <td>ZX</td>\n",
       "    </tr>\n",
       "    <tr>\n",
       "      <th>1407326</th>\n",
       "      <td>1413847</td>\n",
       "      <td>Oppenheimer Initiates China Zenix At Outperfor...</td>\n",
       "      <td>https://www.benzinga.com/analyst-ratings/price...</td>\n",
       "      <td>Joe Young</td>\n",
       "      <td>2011-06-21 00:00:00</td>\n",
       "      <td>ZX</td>\n",
       "    </tr>\n",
       "    <tr>\n",
       "      <th>1407327</th>\n",
       "      <td>1413848</td>\n",
       "      <td>China Zenix Auto International Opens For Tradi...</td>\n",
       "      <td>https://www.benzinga.com/news/ipos/11/05/10789...</td>\n",
       "      <td>Allie Wickman</td>\n",
       "      <td>2011-05-12 00:00:00</td>\n",
       "      <td>ZX</td>\n",
       "    </tr>\n",
       "  </tbody>\n",
       "</table>\n",
       "</div>"
      ],
      "text/plain": [
       "         Unnamed: 0                                           headline  \\\n",
       "1407323     1413844             Top Narrow Based Indexes For August 29   \n",
       "1407324     1413845  Recap: Wednesday's Top Percentage Gainers and ...   \n",
       "1407325     1413846  UPDATE: Oppenheimer Color on China Zenix Auto ...   \n",
       "1407326     1413847  Oppenheimer Initiates China Zenix At Outperfor...   \n",
       "1407327     1413848  China Zenix Auto International Opens For Tradi...   \n",
       "\n",
       "                                                       url       publisher  \\\n",
       "1407323  https://www.benzinga.com/news/11/08/1888782/to...   Monica Gerson   \n",
       "1407324  https://www.benzinga.com/news/earnings/11/06/1...    Benjamin Lee   \n",
       "1407325  https://www.benzinga.com/analyst-ratings/analy...  BenzingaStaffL   \n",
       "1407326  https://www.benzinga.com/analyst-ratings/price...       Joe Young   \n",
       "1407327  https://www.benzinga.com/news/ipos/11/05/10789...   Allie Wickman   \n",
       "\n",
       "                        date stock  \n",
       "1407323  2011-08-29 00:00:00    ZX  \n",
       "1407324  2011-06-22 00:00:00    ZX  \n",
       "1407325  2011-06-21 00:00:00    ZX  \n",
       "1407326  2011-06-21 00:00:00    ZX  \n",
       "1407327  2011-05-12 00:00:00    ZX  "
      ]
     },
     "execution_count": 122,
     "metadata": {},
     "output_type": "execute_result"
    }
   ],
   "source": [
    "#see the last rows\n",
    "df.tail()"
   ]
  },
  {
   "cell_type": "code",
   "execution_count": 123,
   "id": "9236b263",
   "metadata": {},
   "outputs": [
    {
     "data": {
      "text/plain": [
       "(1407328, 6)"
      ]
     },
     "execution_count": 123,
     "metadata": {},
     "output_type": "execute_result"
    }
   ],
   "source": [
    "#shape of the dataset\n",
    "df.shape"
   ]
  },
  {
   "cell_type": "code",
   "execution_count": 124,
   "id": "84384b64",
   "metadata": {},
   "outputs": [
    {
     "data": {
      "text/plain": [
       "Index(['Unnamed: 0', 'headline', 'url', 'publisher', 'date', 'stock'], dtype='object')"
      ]
     },
     "execution_count": 124,
     "metadata": {},
     "output_type": "execute_result"
    }
   ],
   "source": [
    "df.columns"
   ]
  },
  {
   "cell_type": "markdown",
   "id": "1f68d28b",
   "metadata": {},
   "source": [
    "## 📐 3. Data Types & Basic Stats <a id='3-data-types--basic-stats'></a>"
   ]
  },
  {
   "cell_type": "code",
   "execution_count": 125,
   "id": "c7b5f785",
   "metadata": {},
   "outputs": [
    {
     "data": {
      "text/html": [
       "<div>\n",
       "<style scoped>\n",
       "    .dataframe tbody tr th:only-of-type {\n",
       "        vertical-align: middle;\n",
       "    }\n",
       "\n",
       "    .dataframe tbody tr th {\n",
       "        vertical-align: top;\n",
       "    }\n",
       "\n",
       "    .dataframe thead th {\n",
       "        text-align: right;\n",
       "    }\n",
       "</style>\n",
       "<table border=\"1\" class=\"dataframe\">\n",
       "  <thead>\n",
       "    <tr style=\"text-align: right;\">\n",
       "      <th></th>\n",
       "      <th>count</th>\n",
       "      <th>mean</th>\n",
       "      <th>std</th>\n",
       "      <th>min</th>\n",
       "      <th>25%</th>\n",
       "      <th>50%</th>\n",
       "      <th>75%</th>\n",
       "      <th>max</th>\n",
       "    </tr>\n",
       "  </thead>\n",
       "  <tbody>\n",
       "    <tr>\n",
       "      <th>Unnamed: 0</th>\n",
       "      <td>1407328.0</td>\n",
       "      <td>707245.39645</td>\n",
       "      <td>408100.91044</td>\n",
       "      <td>0.0</td>\n",
       "      <td>353812.75</td>\n",
       "      <td>707239.5</td>\n",
       "      <td>1060710.25</td>\n",
       "      <td>1413848.0</td>\n",
       "    </tr>\n",
       "  </tbody>\n",
       "</table>\n",
       "</div>"
      ],
      "text/plain": [
       "                count          mean           std  min        25%       50%  \\\n",
       "Unnamed: 0  1407328.0  707245.39645  408100.91044  0.0  353812.75  707239.5   \n",
       "\n",
       "                   75%        max  \n",
       "Unnamed: 0  1060710.25  1413848.0  "
      ]
     },
     "execution_count": 125,
     "metadata": {},
     "output_type": "execute_result"
    }
   ],
   "source": [
    "#Numerical Columns\n",
    "df.describe().T"
   ]
  },
  {
   "cell_type": "code",
   "execution_count": 126,
   "id": "92d70da0",
   "metadata": {},
   "outputs": [
    {
     "data": {
      "text/html": [
       "<div>\n",
       "<style scoped>\n",
       "    .dataframe tbody tr th:only-of-type {\n",
       "        vertical-align: middle;\n",
       "    }\n",
       "\n",
       "    .dataframe tbody tr th {\n",
       "        vertical-align: top;\n",
       "    }\n",
       "\n",
       "    .dataframe thead th {\n",
       "        text-align: right;\n",
       "    }\n",
       "</style>\n",
       "<table border=\"1\" class=\"dataframe\">\n",
       "  <thead>\n",
       "    <tr style=\"text-align: right;\">\n",
       "      <th></th>\n",
       "      <th>count</th>\n",
       "      <th>unique</th>\n",
       "      <th>top</th>\n",
       "      <th>freq</th>\n",
       "    </tr>\n",
       "  </thead>\n",
       "  <tbody>\n",
       "    <tr>\n",
       "      <th>headline</th>\n",
       "      <td>1407328</td>\n",
       "      <td>845770</td>\n",
       "      <td>Benzinga's Top Upgrades</td>\n",
       "      <td>5449</td>\n",
       "    </tr>\n",
       "    <tr>\n",
       "      <th>url</th>\n",
       "      <td>1407328</td>\n",
       "      <td>883429</td>\n",
       "      <td>https://www.benzinga.com/news/20/03/15538835/s...</td>\n",
       "      <td>1704</td>\n",
       "    </tr>\n",
       "    <tr>\n",
       "      <th>publisher</th>\n",
       "      <td>1407328</td>\n",
       "      <td>1034</td>\n",
       "      <td>Paul Quintaro</td>\n",
       "      <td>228373</td>\n",
       "    </tr>\n",
       "    <tr>\n",
       "      <th>date</th>\n",
       "      <td>1407328</td>\n",
       "      <td>39957</td>\n",
       "      <td>2020-03-12 00:00:00</td>\n",
       "      <td>1766</td>\n",
       "    </tr>\n",
       "    <tr>\n",
       "      <th>stock</th>\n",
       "      <td>1407328</td>\n",
       "      <td>6204</td>\n",
       "      <td>MRK</td>\n",
       "      <td>3333</td>\n",
       "    </tr>\n",
       "  </tbody>\n",
       "</table>\n",
       "</div>"
      ],
      "text/plain": [
       "             count  unique                                                top  \\\n",
       "headline   1407328  845770                            Benzinga's Top Upgrades   \n",
       "url        1407328  883429  https://www.benzinga.com/news/20/03/15538835/s...   \n",
       "publisher  1407328    1034                                      Paul Quintaro   \n",
       "date       1407328   39957                                2020-03-12 00:00:00   \n",
       "stock      1407328    6204                                                MRK   \n",
       "\n",
       "             freq  \n",
       "headline     5449  \n",
       "url          1704  \n",
       "publisher  228373  \n",
       "date         1766  \n",
       "stock        3333  "
      ]
     },
     "execution_count": 126,
     "metadata": {},
     "output_type": "execute_result"
    }
   ],
   "source": [
    "#for columns of object type\n",
    "df.describe(include=['O']).T"
   ]
  },
  {
   "cell_type": "code",
   "execution_count": 127,
   "id": "463bf332",
   "metadata": {},
   "outputs": [
    {
     "name": "stdout",
     "output_type": "stream",
     "text": [
      "<class 'pandas.core.frame.DataFrame'>\n",
      "RangeIndex: 1407328 entries, 0 to 1407327\n",
      "Data columns (total 6 columns):\n",
      " #   Column      Non-Null Count    Dtype \n",
      "---  ------      --------------    ----- \n",
      " 0   Unnamed: 0  1407328 non-null  int64 \n",
      " 1   headline    1407328 non-null  object\n",
      " 2   url         1407328 non-null  object\n",
      " 3   publisher   1407328 non-null  object\n",
      " 4   date        1407328 non-null  object\n",
      " 5   stock       1407328 non-null  object\n",
      "dtypes: int64(1), object(5)\n",
      "memory usage: 64.4+ MB\n"
     ]
    }
   ],
   "source": [
    "# data types of the columns\n",
    "df.info()"
   ]
  },
  {
   "cell_type": "code",
   "execution_count": 128,
   "id": "2207021c",
   "metadata": {},
   "outputs": [
    {
     "data": {
      "text/plain": [
       "Unnamed: 0    1407328\n",
       "url            883429\n",
       "headline       845770\n",
       "date            39957\n",
       "stock            6204\n",
       "publisher        1034\n",
       "dtype: int64"
      ]
     },
     "execution_count": 128,
     "metadata": {},
     "output_type": "execute_result"
    }
   ],
   "source": [
    "#distinct values in each column\n",
    "df.nunique().sort_values(ascending=False)"
   ]
  },
  {
   "cell_type": "markdown",
   "id": "23fa7d99",
   "metadata": {},
   "source": [
    "## 🔍 4. Data Quality Analysis <a id='4-data-quality-analysis'></a>"
   ]
  },
  {
   "cell_type": "code",
   "execution_count": 129,
   "id": "6c6a1c39",
   "metadata": {},
   "outputs": [],
   "source": [
    "#instantiate the DataQualityUtils class\n",
    "dq=DataQualityUtils(df)"
   ]
  },
  {
   "cell_type": "code",
   "execution_count": 130,
   "id": "85088798",
   "metadata": {},
   "outputs": [
    {
     "data": {
      "text/html": [
       "<div>\n",
       "<style scoped>\n",
       "    .dataframe tbody tr th:only-of-type {\n",
       "        vertical-align: middle;\n",
       "    }\n",
       "\n",
       "    .dataframe tbody tr th {\n",
       "        vertical-align: top;\n",
       "    }\n",
       "\n",
       "    .dataframe thead th {\n",
       "        text-align: right;\n",
       "    }\n",
       "</style>\n",
       "<table border=\"1\" class=\"dataframe\">\n",
       "  <thead>\n",
       "    <tr style=\"text-align: right;\">\n",
       "      <th></th>\n",
       "      <th>#missing_values</th>\n",
       "      <th>percentage</th>\n",
       "    </tr>\n",
       "  </thead>\n",
       "  <tbody>\n",
       "    <tr>\n",
       "      <th>Unnamed: 0</th>\n",
       "      <td>0</td>\n",
       "      <td>0.00%</td>\n",
       "    </tr>\n",
       "    <tr>\n",
       "      <th>headline</th>\n",
       "      <td>0</td>\n",
       "      <td>0.00%</td>\n",
       "    </tr>\n",
       "    <tr>\n",
       "      <th>url</th>\n",
       "      <td>0</td>\n",
       "      <td>0.00%</td>\n",
       "    </tr>\n",
       "    <tr>\n",
       "      <th>publisher</th>\n",
       "      <td>0</td>\n",
       "      <td>0.00%</td>\n",
       "    </tr>\n",
       "    <tr>\n",
       "      <th>date</th>\n",
       "      <td>0</td>\n",
       "      <td>0.00%</td>\n",
       "    </tr>\n",
       "    <tr>\n",
       "      <th>stock</th>\n",
       "      <td>0</td>\n",
       "      <td>0.00%</td>\n",
       "    </tr>\n",
       "  </tbody>\n",
       "</table>\n",
       "</div>"
      ],
      "text/plain": [
       "            #missing_values percentage\n",
       "Unnamed: 0                0      0.00%\n",
       "headline                  0      0.00%\n",
       "url                       0      0.00%\n",
       "publisher                 0      0.00%\n",
       "date                      0      0.00%\n",
       "stock                     0      0.00%"
      ]
     },
     "execution_count": 130,
     "metadata": {},
     "output_type": "execute_result"
    }
   ],
   "source": [
    "#count of missing values per column\n",
    "dq.summary()"
   ]
  },
  {
   "cell_type": "markdown",
   "id": "4e32c045",
   "metadata": {},
   "source": [
    "### Missing Values"
   ]
  },
  {
   "cell_type": "code",
   "execution_count": 131,
   "id": "5ce10850",
   "metadata": {},
   "outputs": [
    {
     "data": {
      "text/html": [
       "<div>\n",
       "<style scoped>\n",
       "    .dataframe tbody tr th:only-of-type {\n",
       "        vertical-align: middle;\n",
       "    }\n",
       "\n",
       "    .dataframe tbody tr th {\n",
       "        vertical-align: top;\n",
       "    }\n",
       "\n",
       "    .dataframe thead th {\n",
       "        text-align: right;\n",
       "    }\n",
       "</style>\n",
       "<table border=\"1\" class=\"dataframe\">\n",
       "  <thead>\n",
       "    <tr style=\"text-align: right;\">\n",
       "      <th></th>\n",
       "      <th>#missing_values</th>\n",
       "      <th>percentage</th>\n",
       "    </tr>\n",
       "  </thead>\n",
       "  <tbody>\n",
       "  </tbody>\n",
       "</table>\n",
       "</div>"
      ],
      "text/plain": [
       "Empty DataFrame\n",
       "Columns: [#missing_values, percentage]\n",
       "Index: []"
      ]
     },
     "execution_count": 131,
     "metadata": {},
     "output_type": "execute_result"
    }
   ],
   "source": [
    "#column with >5% nulls\n",
    "dq.columns_with_significant_missing_values(threshold=5)"
   ]
  },
  {
   "cell_type": "markdown",
   "id": "12516541",
   "metadata": {},
   "source": [
    "### Duplicates"
   ]
  },
  {
   "cell_type": "code",
   "execution_count": 132,
   "id": "388b307a",
   "metadata": {},
   "outputs": [
    {
     "data": {
      "text/plain": [
       "0"
      ]
     },
     "execution_count": 132,
     "metadata": {},
     "output_type": "execute_result"
    }
   ],
   "source": [
    "#count duplicates\n",
    "dq.count_duplicates()"
   ]
  },
  {
   "cell_type": "markdown",
   "id": "38ebd576",
   "metadata": {},
   "source": [
    "### Invalid Values"
   ]
  },
  {
   "cell_type": "code",
   "execution_count": 133,
   "id": "2c2ab764",
   "metadata": {},
   "outputs": [
    {
     "data": {
      "text/plain": [
       "{}"
      ]
     },
     "execution_count": 133,
     "metadata": {},
     "output_type": "execute_result"
    }
   ],
   "source": [
    "dq.find_invalid_values()"
   ]
  },
  {
   "cell_type": "markdown",
   "id": "1c1b0418",
   "metadata": {},
   "source": [
    "## 🧹 5. Data Cleaning  <a id='5-data-cleaning'></a>"
   ]
  },
  {
   "cell_type": "code",
   "execution_count": 134,
   "id": "c767518a",
   "metadata": {},
   "outputs": [],
   "source": [
    "#saving the original dataset for later use\n",
    "df_original=df.copy()"
   ]
  },
  {
   "cell_type": "markdown",
   "id": "5b4c791f",
   "metadata": {},
   "source": [
    "### Inconsistencies and Inaccuracies"
   ]
  },
  {
   "cell_type": "code",
   "execution_count": 135,
   "id": "a1a4f117",
   "metadata": {},
   "outputs": [],
   "source": [
    "#drop redundancies and clean column names\n",
    "df=dq.clean_dataframe()"
   ]
  },
  {
   "cell_type": "code",
   "execution_count": 136,
   "id": "5487c5ee",
   "metadata": {},
   "outputs": [],
   "source": [
    "df=dq.convert_columns_to_datetime()"
   ]
  },
  {
   "cell_type": "code",
   "execution_count": 137,
   "id": "abbc718d",
   "metadata": {},
   "outputs": [
    {
     "name": "stdout",
     "output_type": "stream",
     "text": [
      "<class 'pandas.core.frame.DataFrame'>\n",
      "RangeIndex: 1407328 entries, 0 to 1407327\n",
      "Data columns (total 5 columns):\n",
      " #   Column     Non-Null Count    Dtype                    \n",
      "---  ------     --------------    -----                    \n",
      " 0   headline   1407328 non-null  object                   \n",
      " 1   url        1407328 non-null  object                   \n",
      " 2   publisher  1407328 non-null  object                   \n",
      " 3   date       55987 non-null    datetime64[ns, UTC-04:00]\n",
      " 4   stock      1407328 non-null  object                   \n",
      "dtypes: datetime64[ns, UTC-04:00](1), object(4)\n",
      "memory usage: 53.7+ MB\n"
     ]
    }
   ],
   "source": [
    "df.info()"
   ]
  },
  {
   "cell_type": "code",
   "execution_count": 138,
   "id": "2f83abc5",
   "metadata": {},
   "outputs": [
    {
     "data": {
      "text/plain": [
       "Index(['headline', 'url', 'publisher', 'date', 'stock'], dtype='object')"
      ]
     },
     "execution_count": 138,
     "metadata": {},
     "output_type": "execute_result"
    }
   ],
   "source": [
    "df.columns"
   ]
  },
  {
   "cell_type": "code",
   "execution_count": 139,
   "id": "9dc46928",
   "metadata": {},
   "outputs": [
    {
     "data": {
      "text/html": [
       "<div>\n",
       "<style scoped>\n",
       "    .dataframe tbody tr th:only-of-type {\n",
       "        vertical-align: middle;\n",
       "    }\n",
       "\n",
       "    .dataframe tbody tr th {\n",
       "        vertical-align: top;\n",
       "    }\n",
       "\n",
       "    .dataframe thead th {\n",
       "        text-align: right;\n",
       "    }\n",
       "</style>\n",
       "<table border=\"1\" class=\"dataframe\">\n",
       "  <thead>\n",
       "    <tr style=\"text-align: right;\">\n",
       "      <th></th>\n",
       "      <th>headline</th>\n",
       "      <th>url</th>\n",
       "      <th>publisher</th>\n",
       "      <th>date</th>\n",
       "      <th>stock</th>\n",
       "    </tr>\n",
       "  </thead>\n",
       "  <tbody>\n",
       "    <tr>\n",
       "      <th>1218819</th>\n",
       "      <td>Textainer Says Expecting Improved Results in Q3</td>\n",
       "      <td>https://www.benzinga.com/news/14/08/4761543/te...</td>\n",
       "      <td>Hal Lindon</td>\n",
       "      <td>NaT</td>\n",
       "      <td>TGH</td>\n",
       "    </tr>\n",
       "    <tr>\n",
       "      <th>952041</th>\n",
       "      <td>Onconova Therapeutics Reports Partnership With...</td>\n",
       "      <td>https://www.benzinga.com/news/19/08/14246844/o...</td>\n",
       "      <td>Benzinga Newsdesk</td>\n",
       "      <td>NaT</td>\n",
       "      <td>ONTX</td>\n",
       "    </tr>\n",
       "    <tr>\n",
       "      <th>1261622</th>\n",
       "      <td>TheStreet Appoints Woody Marshall as Chairpers...</td>\n",
       "      <td>https://www.benzinga.com/news/11/02/827687/the...</td>\n",
       "      <td>Benzinga Staff</td>\n",
       "      <td>NaT</td>\n",
       "      <td>TST</td>\n",
       "    </tr>\n",
       "    <tr>\n",
       "      <th>687987</th>\n",
       "      <td>Morgan Keegan Maintains Outperform Rating on J...</td>\n",
       "      <td>https://www.benzinga.com/analyst-ratings/analy...</td>\n",
       "      <td>Steven Anfield</td>\n",
       "      <td>NaT</td>\n",
       "      <td>JACK</td>\n",
       "    </tr>\n",
       "    <tr>\n",
       "      <th>497663</th>\n",
       "      <td>Foot Locker Pops And Drops</td>\n",
       "      <td>https://www.benzinga.com/trading-ideas/technic...</td>\n",
       "      <td>Joel Elconin</td>\n",
       "      <td>NaT</td>\n",
       "      <td>FL</td>\n",
       "    </tr>\n",
       "    <tr>\n",
       "      <th>786904</th>\n",
       "      <td>La-Z-Boy Reports Q4 EPS $0.38 vs. Est. $0.38, ...</td>\n",
       "      <td>https://www.benzinga.com/news/earnings/15/06/5...</td>\n",
       "      <td>Hal Lindon</td>\n",
       "      <td>NaT</td>\n",
       "      <td>LZB</td>\n",
       "    </tr>\n",
       "    <tr>\n",
       "      <th>1066613</th>\n",
       "      <td>Stocks That Hit 52-Week Lows On Thursday</td>\n",
       "      <td>https://www.benzinga.com/news/20/03/15538835/s...</td>\n",
       "      <td>Lisa Levin</td>\n",
       "      <td>2020-03-12 12:10:12-04:00</td>\n",
       "      <td>RDI</td>\n",
       "    </tr>\n",
       "    <tr>\n",
       "      <th>1171412</th>\n",
       "      <td>Mid-Afternoon Market Update: Markets Down Slig...</td>\n",
       "      <td>https://www.benzinga.com/news/earnings/13/01/3...</td>\n",
       "      <td>Jake L'Ecuyer</td>\n",
       "      <td>NaT</td>\n",
       "      <td>SPWR</td>\n",
       "    </tr>\n",
       "    <tr>\n",
       "      <th>690851</th>\n",
       "      <td>Wells Fargo Initiates Coverage on Trucking/Tra...</td>\n",
       "      <td>https://www.benzinga.com/news/14/09/4888592/we...</td>\n",
       "      <td>Paul Quintaro</td>\n",
       "      <td>NaT</td>\n",
       "      <td>JBHT</td>\n",
       "    </tr>\n",
       "    <tr>\n",
       "      <th>342555</th>\n",
       "      <td>Financials Take Lead 11-29-2010</td>\n",
       "      <td>https://www.benzinga.com/10/11/650333/financia...</td>\n",
       "      <td>optionsXpress</td>\n",
       "      <td>NaT</td>\n",
       "      <td>DD</td>\n",
       "    </tr>\n",
       "  </tbody>\n",
       "</table>\n",
       "</div>"
      ],
      "text/plain": [
       "                                                  headline  \\\n",
       "1218819    Textainer Says Expecting Improved Results in Q3   \n",
       "952041   Onconova Therapeutics Reports Partnership With...   \n",
       "1261622  TheStreet Appoints Woody Marshall as Chairpers...   \n",
       "687987   Morgan Keegan Maintains Outperform Rating on J...   \n",
       "497663                          Foot Locker Pops And Drops   \n",
       "786904   La-Z-Boy Reports Q4 EPS $0.38 vs. Est. $0.38, ...   \n",
       "1066613           Stocks That Hit 52-Week Lows On Thursday   \n",
       "1171412  Mid-Afternoon Market Update: Markets Down Slig...   \n",
       "690851   Wells Fargo Initiates Coverage on Trucking/Tra...   \n",
       "342555                     Financials Take Lead 11-29-2010   \n",
       "\n",
       "                                                       url          publisher  \\\n",
       "1218819  https://www.benzinga.com/news/14/08/4761543/te...         Hal Lindon   \n",
       "952041   https://www.benzinga.com/news/19/08/14246844/o...  Benzinga Newsdesk   \n",
       "1261622  https://www.benzinga.com/news/11/02/827687/the...     Benzinga Staff   \n",
       "687987   https://www.benzinga.com/analyst-ratings/analy...     Steven Anfield   \n",
       "497663   https://www.benzinga.com/trading-ideas/technic...       Joel Elconin   \n",
       "786904   https://www.benzinga.com/news/earnings/15/06/5...         Hal Lindon   \n",
       "1066613  https://www.benzinga.com/news/20/03/15538835/s...         Lisa Levin   \n",
       "1171412  https://www.benzinga.com/news/earnings/13/01/3...      Jake L'Ecuyer   \n",
       "690851   https://www.benzinga.com/news/14/09/4888592/we...      Paul Quintaro   \n",
       "342555   https://www.benzinga.com/10/11/650333/financia...      optionsXpress   \n",
       "\n",
       "                             date stock  \n",
       "1218819                       NaT   TGH  \n",
       "952041                        NaT  ONTX  \n",
       "1261622                       NaT   TST  \n",
       "687987                        NaT  JACK  \n",
       "497663                        NaT    FL  \n",
       "786904                        NaT   LZB  \n",
       "1066613 2020-03-12 12:10:12-04:00   RDI  \n",
       "1171412                       NaT  SPWR  \n",
       "690851                        NaT  JBHT  \n",
       "342555                        NaT    DD  "
      ]
     },
     "execution_count": 139,
     "metadata": {},
     "output_type": "execute_result"
    }
   ],
   "source": [
    "df.sample(10)"
   ]
  },
  {
   "cell_type": "code",
   "execution_count": 140,
   "id": "388d358b",
   "metadata": {},
   "outputs": [],
   "source": [
    "# Save to csv\n",
    "df.to_csv(\"../../data/interim/cleaned_analyst_ratings\", index=False)"
   ]
  },
  {
   "cell_type": "code",
   "execution_count": 141,
   "id": "f24ed46a",
   "metadata": {},
   "outputs": [],
   "source": [
    "# Initialize the EDA class\n",
    "\n",
    "eda = TextualEDA(df, source_col=\"publisher\")"
   ]
  },
  {
   "cell_type": "code",
   "execution_count": 142,
   "id": "c7f31b6f",
   "metadata": {},
   "outputs": [
    {
     "name": "stdout",
     "output_type": "stream",
     "text": [
      "Headline Length Stats:\n",
      "count    1.407328e+06\n",
      "mean     7.312051e+01\n",
      "std      4.073531e+01\n",
      "min      3.000000e+00\n",
      "25%      4.700000e+01\n",
      "50%      6.400000e+01\n",
      "75%      8.700000e+01\n",
      "max      5.120000e+02\n",
      "Name: headline_length, dtype: float64\n"
     ]
    }
   ],
   "source": [
    "# Headline length statistics\n",
    "print(\"Headline Length Stats:\")\n",
    "print(eda.headline_length_stats())"
   ]
  },
  {
   "cell_type": "code",
   "execution_count": 151,
   "id": "d4933ef7",
   "metadata": {},
   "outputs": [],
   "source": [
    "viz = DataVisualizer(df)"
   ]
  },
  {
   "cell_type": "code",
   "execution_count": 152,
   "id": "7abac22b",
   "metadata": {},
   "outputs": [
    {
     "name": "stdout",
     "output_type": "stream",
     "text": [
      "\n",
      "Articles per Publisher:\n",
      "publisher\n",
      "Benzinga Newsdesk    14750\n",
      "Lisa Levin           12408\n",
      "ETF Professor         4362\n",
      "Paul Quintaro         4212\n",
      "Benzinga Newsdesk     3177\n",
      "                     ...  \n",
      "John Harris              1\n",
      "Alex Biles               1\n",
      "Ilir Shkurti             1\n",
      "Kyle Dennis              1\n",
      "Usman Rafi               1\n",
      "Name: count, Length: 225, dtype: int64\n"
     ]
    }
   ],
   "source": [
    "# Articles per publisher\n",
    "print(\"\\nArticles per Publisher:\")\n",
    "print(eda.articles_per_publisher()) "
   ]
  },
  {
   "cell_type": "code",
   "execution_count": 153,
   "id": "c65e4f68",
   "metadata": {},
   "outputs": [
    {
     "data": {
      "image/png": "[encoded data removed]",
      "text/plain": [
       "<Figure size 1200x600 with 1 Axes>"
      ]
     },
     "metadata": {},
     "output_type": "display_data"
    }
   ],
   "source": [
    "viz.plot_articles_per_publisher()"
   ]
  },
  {
   "cell_type": "code",
   "execution_count": 144,
   "id": "d28837f6",
   "metadata": {},
   "outputs": [
    {
     "name": "stdout",
     "output_type": "stream",
     "text": [
      "\n",
      "Weekday Distribution:\n",
      "date\n",
      "Thursday     12688\n",
      "Wednesday    11891\n",
      "Tuesday      11002\n",
      "Monday       10322\n",
      "Friday        9381\n",
      "Sunday         436\n",
      "Saturday       267\n",
      "Name: count, dtype: int64\n"
     ]
    }
   ],
   "source": [
    "print(\"\\nWeekday Distribution:\")\n",
    "print(eda.weekday_distribution())"
   ]
  },
  {
   "cell_type": "code",
   "execution_count": 154,
   "id": "6504bb9b",
   "metadata": {},
   "outputs": [
    {
     "name": "stderr",
     "output_type": "stream",
     "text": [
      "INFO:matplotlib.category:Using categorical units to plot a list of strings that are all parsable as floats or dates. If these strings should be plotted as numbers, cast to the appropriate data type before plotting.\n",
      "INFO:matplotlib.category:Using categorical units to plot a list of strings that are all parsable as floats or dates. If these strings should be plotted as numbers, cast to the appropriate data type before plotting.\n"
     ]
    },
    {
     "data": {
      "image/png": "[encoded data removed]",
      "text/plain": [
       "<Figure size 1000x500 with 1 Axes>"
      ]
     },
     "metadata": {},
     "output_type": "display_data"
    }
   ],
   "source": [
    "viz.plot_weekday_distribution()"
   ]
  },
  {
   "cell_type": "code",
   "execution_count": 145,
   "id": "689985a2",
   "metadata": {},
   "outputs": [
    {
     "name": "stdout",
     "output_type": "stream",
     "text": [
      "\n",
      "Daily Article Counts:\n",
      "date\n",
      "2020-06-07     25\n",
      "2020-06-08    765\n",
      "2020-06-09    804\n",
      "2020-06-10    806\n",
      "2020-06-11    544\n",
      "Name: count, dtype: int64\n"
     ]
    }
   ],
   "source": [
    "# Publication trends\n",
    "daily_counts, weekday_distribution = eda.publication_trends()\n",
    "print(\"\\nDaily Article Counts:\")\n",
    "print(daily_counts.tail())"
   ]
  },
  {
   "cell_type": "code",
   "execution_count": 155,
   "id": "5bdbc4d5",
   "metadata": {},
   "outputs": [
    {
     "name": "stdout",
     "output_type": "stream",
     "text": [
      "Headline Length Statistics:\n",
      "count    1.407328e+06\n",
      "mean     7.312051e+01\n",
      "std      4.073531e+01\n",
      "min      3.000000e+00\n",
      "25%      4.700000e+01\n",
      "50%      6.400000e+01\n",
      "75%      8.700000e+01\n",
      "max      5.120000e+02\n",
      "Name: headline, dtype: float64\n"
     ]
    },
    {
     "data": {
      "image/png": "[encoded data removed]",
      "text/plain": [
       "<Figure size 1000x600 with 1 Axes>"
      ]
     },
     "metadata": {},
     "output_type": "display_data"
    }
   ],
   "source": [
    "viz.plot_headline_length_distribution()"
   ]
  }
 ],
 "metadata": {
  "kernelspec": {
   "display_name": "venv",
   "language": "python",
   "name": "python3"
  },
  "language_info": {
   "codemirror_mode": {
    "name": "ipython",
    "version": 3
   },
   "file_extension": ".py",
   "mimetype": "text/x-python",
   "name": "python",
   "nbconvert_exporter": "python",
   "pygments_lexer": "ipython3",
   "version": "3.10.12"
  }
 },
 "nbformat": 4,
 "nbformat_minor": 5
}
