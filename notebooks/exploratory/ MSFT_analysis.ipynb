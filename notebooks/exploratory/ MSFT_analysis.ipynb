{
 "cells": [
  {
   "cell_type": "markdown",
   "id": "8df97469",
   "metadata": {},
   "source": [
    "<div style=\"background-color:#f0f8ff; padding:10px; border-radius:10px;\">\n",
    "  <h1 style=\"text-align:center; color:#1a5276;\">\n",
    "    📈 MSFT Analysis\n",
    "  </h1>\n",
    "</div>"
   ]
  },
  {
   "cell_type": "code",
   "execution_count": 1,
   "id": "b7af41b3",
   "metadata": {},
   "outputs": [],
   "source": [
    "#auto loading\n",
    "%load_ext autoreload\n",
    "%autoreload 2"
   ]
  },
  {
   "cell_type": "markdown",
   "id": "09d14dde",
   "metadata": {},
   "source": [
    "## 🧱 1. Setup & Imports"
   ]
  },
  {
   "cell_type": "code",
   "execution_count": 2,
   "id": "71b654ef",
   "metadata": {},
   "outputs": [],
   "source": [
    "import warnings\n",
    "import pandas as pd\n",
    "from utils.ticker_analyzer import TickerAnalyzer\n",
    "from eda.data_quality_utils import DataQualityUtils\n",
    "from data.load_data import load_local_data"
   ]
  },
  {
   "cell_type": "code",
   "execution_count": 3,
   "id": "27c54ed8",
   "metadata": {},
   "outputs": [],
   "source": [
    "warnings.filterwarnings(\"ignore\")"
   ]
  },
  {
   "cell_type": "code",
   "execution_count": 4,
   "id": "219dcd86",
   "metadata": {},
   "outputs": [],
   "source": [
    "# variable\n",
    "TICKER= 'MSFT'"
   ]
  },
  {
   "cell_type": "code",
   "execution_count": 5,
   "id": "ac94d536",
   "metadata": {},
   "outputs": [],
   "source": [
    "#paths\n",
    "RAW_DATA_PATH='../../data/raw/yfinance_data/'+TICKER+'_historical_data.csv'\n",
    "CLEANED_DATA_PATH='../../data/interim/'+TICKER+'_historical_cleaned_data.csv'"
   ]
  },
  {
   "cell_type": "markdown",
   "id": "508c1dd7",
   "metadata": {},
   "source": [
    "### 📌 Project Overview"
   ]
  },
  {
   "cell_type": "markdown",
   "id": "5fe12101",
   "metadata": {},
   "source": [
    "#### AAPL Ticker Analysis 📊\n",
    "\n",
    "**Objective:**  \n",
    "This notebook applies the `TickerAnalyzer` class to analyze Apple Inc. (AAPL) stock performance. The analysis integrates:\n",
    "\n",
    "- Historical price data via `yfinance`\n",
    "- Technical indicators using `ta`\n",
    "- News sentiment analysis with `VADER`\n",
    "- Visualization of price movements vs. sentiment trends\n",
    "\n",
    "**Period:** Last 6 months (daily intervals)  \n",
    "**Tools:** Python, `yfinance`, `ta`, `vaderSentiment`, `matplotlib`\n",
    "\n",
    "---\n"
   ]
  },
  {
   "cell_type": "markdown",
   "id": "121c314e",
   "metadata": {},
   "source": [
    "## 📦 2. Data Loading & Overview  <a id= '2-data-loading--overview'></a>"
   ]
  },
  {
   "cell_type": "code",
   "execution_count": 6,
   "id": "d8971b5b",
   "metadata": {},
   "outputs": [
    {
     "name": "stderr",
     "output_type": "stream",
     "text": [
      "INFO:data.load_data:Loading data from: /home/teshager/Documents/10Academy/repositories/projects/financial-news-sentiment-analysis/data/raw/yfinance_data/MSFT_historical_data.csv (type=csv)\n",
      "INFO:data.load_data:Data loaded successfully. Shape: (9672, 9)\n"
     ]
    },
    {
     "data": {
      "text/html": [
       "<div>\n",
       "<style scoped>\n",
       "    .dataframe tbody tr th:only-of-type {\n",
       "        vertical-align: middle;\n",
       "    }\n",
       "\n",
       "    .dataframe tbody tr th {\n",
       "        vertical-align: top;\n",
       "    }\n",
       "\n",
       "    .dataframe thead th {\n",
       "        text-align: right;\n",
       "    }\n",
       "</style>\n",
       "<table border=\"1\" class=\"dataframe\">\n",
       "  <thead>\n",
       "    <tr style=\"text-align: right;\">\n",
       "      <th></th>\n",
       "      <th>Date</th>\n",
       "      <th>Open</th>\n",
       "      <th>High</th>\n",
       "      <th>Low</th>\n",
       "      <th>Close</th>\n",
       "      <th>Adj Close</th>\n",
       "      <th>Volume</th>\n",
       "      <th>Dividends</th>\n",
       "      <th>Stock Splits</th>\n",
       "    </tr>\n",
       "  </thead>\n",
       "  <tbody>\n",
       "    <tr>\n",
       "      <th>0</th>\n",
       "      <td>1986-03-13</td>\n",
       "      <td>0.088542</td>\n",
       "      <td>0.101563</td>\n",
       "      <td>0.088542</td>\n",
       "      <td>0.097222</td>\n",
       "      <td>0.059946</td>\n",
       "      <td>1031788800</td>\n",
       "      <td>0.0</td>\n",
       "      <td>0.0</td>\n",
       "    </tr>\n",
       "    <tr>\n",
       "      <th>1</th>\n",
       "      <td>1986-03-14</td>\n",
       "      <td>0.097222</td>\n",
       "      <td>0.102431</td>\n",
       "      <td>0.097222</td>\n",
       "      <td>0.100694</td>\n",
       "      <td>0.062087</td>\n",
       "      <td>308160000</td>\n",
       "      <td>0.0</td>\n",
       "      <td>0.0</td>\n",
       "    </tr>\n",
       "    <tr>\n",
       "      <th>2</th>\n",
       "      <td>1986-03-17</td>\n",
       "      <td>0.100694</td>\n",
       "      <td>0.103299</td>\n",
       "      <td>0.100694</td>\n",
       "      <td>0.102431</td>\n",
       "      <td>0.063158</td>\n",
       "      <td>133171200</td>\n",
       "      <td>0.0</td>\n",
       "      <td>0.0</td>\n",
       "    </tr>\n",
       "    <tr>\n",
       "      <th>3</th>\n",
       "      <td>1986-03-18</td>\n",
       "      <td>0.102431</td>\n",
       "      <td>0.103299</td>\n",
       "      <td>0.098958</td>\n",
       "      <td>0.099826</td>\n",
       "      <td>0.061552</td>\n",
       "      <td>67766400</td>\n",
       "      <td>0.0</td>\n",
       "      <td>0.0</td>\n",
       "    </tr>\n",
       "    <tr>\n",
       "      <th>4</th>\n",
       "      <td>1986-03-19</td>\n",
       "      <td>0.099826</td>\n",
       "      <td>0.100694</td>\n",
       "      <td>0.097222</td>\n",
       "      <td>0.098090</td>\n",
       "      <td>0.060482</td>\n",
       "      <td>47894400</td>\n",
       "      <td>0.0</td>\n",
       "      <td>0.0</td>\n",
       "    </tr>\n",
       "  </tbody>\n",
       "</table>\n",
       "</div>"
      ],
      "text/plain": [
       "         Date      Open      High       Low     Close  Adj Close      Volume  \\\n",
       "0  1986-03-13  0.088542  0.101563  0.088542  0.097222   0.059946  1031788800   \n",
       "1  1986-03-14  0.097222  0.102431  0.097222  0.100694   0.062087   308160000   \n",
       "2  1986-03-17  0.100694  0.103299  0.100694  0.102431   0.063158   133171200   \n",
       "3  1986-03-18  0.102431  0.103299  0.098958  0.099826   0.061552    67766400   \n",
       "4  1986-03-19  0.099826  0.100694  0.097222  0.098090   0.060482    47894400   \n",
       "\n",
       "   Dividends  Stock Splits  \n",
       "0        0.0           0.0  \n",
       "1        0.0           0.0  \n",
       "2        0.0           0.0  \n",
       "3        0.0           0.0  \n",
       "4        0.0           0.0  "
      ]
     },
     "execution_count": 6,
     "metadata": {},
     "output_type": "execute_result"
    }
   ],
   "source": [
    "# Load the stock news sentiment data\n",
    "df = load_local_data(RAW_DATA_PATH,)\n",
    "df.head()"
   ]
  },
  {
   "cell_type": "markdown",
   "id": "637af4c7",
   "metadata": {},
   "source": [
    "### Dataset Overview"
   ]
  },
  {
   "cell_type": "code",
   "execution_count": 7,
   "id": "7d5ebc45",
   "metadata": {},
   "outputs": [
    {
     "data": {
      "text/html": [
       "<div>\n",
       "<style scoped>\n",
       "    .dataframe tbody tr th:only-of-type {\n",
       "        vertical-align: middle;\n",
       "    }\n",
       "\n",
       "    .dataframe tbody tr th {\n",
       "        vertical-align: top;\n",
       "    }\n",
       "\n",
       "    .dataframe thead th {\n",
       "        text-align: right;\n",
       "    }\n",
       "</style>\n",
       "<table border=\"1\" class=\"dataframe\">\n",
       "  <thead>\n",
       "    <tr style=\"text-align: right;\">\n",
       "      <th></th>\n",
       "      <th>Date</th>\n",
       "      <th>Open</th>\n",
       "      <th>High</th>\n",
       "      <th>Low</th>\n",
       "      <th>Close</th>\n",
       "      <th>Adj Close</th>\n",
       "      <th>Volume</th>\n",
       "      <th>Dividends</th>\n",
       "      <th>Stock Splits</th>\n",
       "    </tr>\n",
       "  </thead>\n",
       "  <tbody>\n",
       "    <tr>\n",
       "      <th>6228</th>\n",
       "      <td>2010-11-19</td>\n",
       "      <td>25.799999</td>\n",
       "      <td>25.830000</td>\n",
       "      <td>25.600000</td>\n",
       "      <td>25.690001</td>\n",
       "      <td>19.783030</td>\n",
       "      <td>52423200</td>\n",
       "      <td>0.0</td>\n",
       "      <td>0.0</td>\n",
       "    </tr>\n",
       "    <tr>\n",
       "      <th>1139</th>\n",
       "      <td>1990-09-13</td>\n",
       "      <td>0.805556</td>\n",
       "      <td>0.812500</td>\n",
       "      <td>0.791667</td>\n",
       "      <td>0.798611</td>\n",
       "      <td>0.492419</td>\n",
       "      <td>49867200</td>\n",
       "      <td>0.0</td>\n",
       "      <td>0.0</td>\n",
       "    </tr>\n",
       "    <tr>\n",
       "      <th>350</th>\n",
       "      <td>1987-07-31</td>\n",
       "      <td>0.335069</td>\n",
       "      <td>0.335069</td>\n",
       "      <td>0.319444</td>\n",
       "      <td>0.326389</td>\n",
       "      <td>0.201249</td>\n",
       "      <td>186624000</td>\n",
       "      <td>0.0</td>\n",
       "      <td>0.0</td>\n",
       "    </tr>\n",
       "    <tr>\n",
       "      <th>1575</th>\n",
       "      <td>1992-06-04</td>\n",
       "      <td>2.567708</td>\n",
       "      <td>2.572917</td>\n",
       "      <td>2.552083</td>\n",
       "      <td>2.554688</td>\n",
       "      <td>1.575205</td>\n",
       "      <td>41755200</td>\n",
       "      <td>0.0</td>\n",
       "      <td>0.0</td>\n",
       "    </tr>\n",
       "    <tr>\n",
       "      <th>7201</th>\n",
       "      <td>2014-10-03</td>\n",
       "      <td>45.980000</td>\n",
       "      <td>46.299999</td>\n",
       "      <td>45.610001</td>\n",
       "      <td>46.090000</td>\n",
       "      <td>39.407825</td>\n",
       "      <td>32453200</td>\n",
       "      <td>0.0</td>\n",
       "      <td>0.0</td>\n",
       "    </tr>\n",
       "    <tr>\n",
       "      <th>8721</th>\n",
       "      <td>2020-10-16</td>\n",
       "      <td>220.149994</td>\n",
       "      <td>222.289993</td>\n",
       "      <td>219.320007</td>\n",
       "      <td>219.660004</td>\n",
       "      <td>212.196777</td>\n",
       "      <td>26057900</td>\n",
       "      <td>0.0</td>\n",
       "      <td>0.0</td>\n",
       "    </tr>\n",
       "    <tr>\n",
       "      <th>3525</th>\n",
       "      <td>2000-02-23</td>\n",
       "      <td>46.750000</td>\n",
       "      <td>47.875000</td>\n",
       "      <td>46.031250</td>\n",
       "      <td>47.125000</td>\n",
       "      <td>29.056974</td>\n",
       "      <td>75847200</td>\n",
       "      <td>0.0</td>\n",
       "      <td>0.0</td>\n",
       "    </tr>\n",
       "    <tr>\n",
       "      <th>120</th>\n",
       "      <td>1986-09-03</td>\n",
       "      <td>0.095486</td>\n",
       "      <td>0.095486</td>\n",
       "      <td>0.091146</td>\n",
       "      <td>0.093750</td>\n",
       "      <td>0.057806</td>\n",
       "      <td>18316800</td>\n",
       "      <td>0.0</td>\n",
       "      <td>0.0</td>\n",
       "    </tr>\n",
       "    <tr>\n",
       "      <th>2169</th>\n",
       "      <td>1994-10-10</td>\n",
       "      <td>3.398438</td>\n",
       "      <td>3.460938</td>\n",
       "      <td>3.398438</td>\n",
       "      <td>3.421875</td>\n",
       "      <td>2.109908</td>\n",
       "      <td>39480000</td>\n",
       "      <td>0.0</td>\n",
       "      <td>0.0</td>\n",
       "    </tr>\n",
       "    <tr>\n",
       "      <th>5946</th>\n",
       "      <td>2009-10-08</td>\n",
       "      <td>25.440001</td>\n",
       "      <td>25.900000</td>\n",
       "      <td>25.219999</td>\n",
       "      <td>25.670000</td>\n",
       "      <td>19.279100</td>\n",
       "      <td>60521300</td>\n",
       "      <td>0.0</td>\n",
       "      <td>0.0</td>\n",
       "    </tr>\n",
       "  </tbody>\n",
       "</table>\n",
       "</div>"
      ],
      "text/plain": [
       "            Date        Open        High         Low       Close   Adj Close  \\\n",
       "6228  2010-11-19   25.799999   25.830000   25.600000   25.690001   19.783030   \n",
       "1139  1990-09-13    0.805556    0.812500    0.791667    0.798611    0.492419   \n",
       "350   1987-07-31    0.335069    0.335069    0.319444    0.326389    0.201249   \n",
       "1575  1992-06-04    2.567708    2.572917    2.552083    2.554688    1.575205   \n",
       "7201  2014-10-03   45.980000   46.299999   45.610001   46.090000   39.407825   \n",
       "8721  2020-10-16  220.149994  222.289993  219.320007  219.660004  212.196777   \n",
       "3525  2000-02-23   46.750000   47.875000   46.031250   47.125000   29.056974   \n",
       "120   1986-09-03    0.095486    0.095486    0.091146    0.093750    0.057806   \n",
       "2169  1994-10-10    3.398438    3.460938    3.398438    3.421875    2.109908   \n",
       "5946  2009-10-08   25.440001   25.900000   25.219999   25.670000   19.279100   \n",
       "\n",
       "         Volume  Dividends  Stock Splits  \n",
       "6228   52423200        0.0           0.0  \n",
       "1139   49867200        0.0           0.0  \n",
       "350   186624000        0.0           0.0  \n",
       "1575   41755200        0.0           0.0  \n",
       "7201   32453200        0.0           0.0  \n",
       "8721   26057900        0.0           0.0  \n",
       "3525   75847200        0.0           0.0  \n",
       "120    18316800        0.0           0.0  \n",
       "2169   39480000        0.0           0.0  \n",
       "5946   60521300        0.0           0.0  "
      ]
     },
     "execution_count": 7,
     "metadata": {},
     "output_type": "execute_result"
    }
   ],
   "source": [
    "#view sample data\n",
    "df.sample(10)"
   ]
  },
  {
   "cell_type": "code",
   "execution_count": 8,
   "id": "252de09b",
   "metadata": {},
   "outputs": [
    {
     "data": {
      "text/html": [
       "<div>\n",
       "<style scoped>\n",
       "    .dataframe tbody tr th:only-of-type {\n",
       "        vertical-align: middle;\n",
       "    }\n",
       "\n",
       "    .dataframe tbody tr th {\n",
       "        vertical-align: top;\n",
       "    }\n",
       "\n",
       "    .dataframe thead th {\n",
       "        text-align: right;\n",
       "    }\n",
       "</style>\n",
       "<table border=\"1\" class=\"dataframe\">\n",
       "  <thead>\n",
       "    <tr style=\"text-align: right;\">\n",
       "      <th></th>\n",
       "      <th>Date</th>\n",
       "      <th>Open</th>\n",
       "      <th>High</th>\n",
       "      <th>Low</th>\n",
       "      <th>Close</th>\n",
       "      <th>Adj Close</th>\n",
       "      <th>Volume</th>\n",
       "      <th>Dividends</th>\n",
       "      <th>Stock Splits</th>\n",
       "    </tr>\n",
       "  </thead>\n",
       "  <tbody>\n",
       "    <tr>\n",
       "      <th>9667</th>\n",
       "      <td>2024-07-24</td>\n",
       "      <td>440.450012</td>\n",
       "      <td>441.480011</td>\n",
       "      <td>427.589996</td>\n",
       "      <td>428.899994</td>\n",
       "      <td>428.128326</td>\n",
       "      <td>26805800</td>\n",
       "      <td>0.0</td>\n",
       "      <td>0.0</td>\n",
       "    </tr>\n",
       "    <tr>\n",
       "      <th>9668</th>\n",
       "      <td>2024-07-25</td>\n",
       "      <td>428.799988</td>\n",
       "      <td>429.799988</td>\n",
       "      <td>417.510010</td>\n",
       "      <td>418.399994</td>\n",
       "      <td>417.647217</td>\n",
       "      <td>29943800</td>\n",
       "      <td>0.0</td>\n",
       "      <td>0.0</td>\n",
       "    </tr>\n",
       "    <tr>\n",
       "      <th>9669</th>\n",
       "      <td>2024-07-26</td>\n",
       "      <td>418.200012</td>\n",
       "      <td>428.920013</td>\n",
       "      <td>417.269989</td>\n",
       "      <td>425.269989</td>\n",
       "      <td>424.504852</td>\n",
       "      <td>23583800</td>\n",
       "      <td>0.0</td>\n",
       "      <td>0.0</td>\n",
       "    </tr>\n",
       "    <tr>\n",
       "      <th>9670</th>\n",
       "      <td>2024-07-29</td>\n",
       "      <td>431.579987</td>\n",
       "      <td>432.149994</td>\n",
       "      <td>424.700012</td>\n",
       "      <td>426.730011</td>\n",
       "      <td>425.962250</td>\n",
       "      <td>15125800</td>\n",
       "      <td>0.0</td>\n",
       "      <td>0.0</td>\n",
       "    </tr>\n",
       "    <tr>\n",
       "      <th>9671</th>\n",
       "      <td>2024-07-30</td>\n",
       "      <td>427.720001</td>\n",
       "      <td>429.049988</td>\n",
       "      <td>417.359985</td>\n",
       "      <td>422.920013</td>\n",
       "      <td>422.159119</td>\n",
       "      <td>32687600</td>\n",
       "      <td>0.0</td>\n",
       "      <td>0.0</td>\n",
       "    </tr>\n",
       "  </tbody>\n",
       "</table>\n",
       "</div>"
      ],
      "text/plain": [
       "            Date        Open        High         Low       Close   Adj Close  \\\n",
       "9667  2024-07-24  440.450012  441.480011  427.589996  428.899994  428.128326   \n",
       "9668  2024-07-25  428.799988  429.799988  417.510010  418.399994  417.647217   \n",
       "9669  2024-07-26  418.200012  428.920013  417.269989  425.269989  424.504852   \n",
       "9670  2024-07-29  431.579987  432.149994  424.700012  426.730011  425.962250   \n",
       "9671  2024-07-30  427.720001  429.049988  417.359985  422.920013  422.159119   \n",
       "\n",
       "        Volume  Dividends  Stock Splits  \n",
       "9667  26805800        0.0           0.0  \n",
       "9668  29943800        0.0           0.0  \n",
       "9669  23583800        0.0           0.0  \n",
       "9670  15125800        0.0           0.0  \n",
       "9671  32687600        0.0           0.0  "
      ]
     },
     "execution_count": 8,
     "metadata": {},
     "output_type": "execute_result"
    }
   ],
   "source": [
    "#see the last rows\n",
    "df.tail()"
   ]
  },
  {
   "cell_type": "code",
   "execution_count": 9,
   "id": "fba08a7a",
   "metadata": {},
   "outputs": [
    {
     "data": {
      "text/plain": [
       "(9672, 9)"
      ]
     },
     "execution_count": 9,
     "metadata": {},
     "output_type": "execute_result"
    }
   ],
   "source": [
    "#shape of the dataset\n",
    "df.shape"
   ]
  },
  {
   "cell_type": "code",
   "execution_count": 10,
   "id": "fbb3ee50",
   "metadata": {},
   "outputs": [
    {
     "data": {
      "text/plain": [
       "Index(['Date', 'Open', 'High', 'Low', 'Close', 'Adj Close', 'Volume',\n",
       "       'Dividends', 'Stock Splits'],\n",
       "      dtype='object')"
      ]
     },
     "execution_count": 10,
     "metadata": {},
     "output_type": "execute_result"
    }
   ],
   "source": [
    "df.columns"
   ]
  },
  {
   "cell_type": "markdown",
   "id": "e2111194",
   "metadata": {},
   "source": [
    "## 📐 3. Data Types & Basic Stats <a id='3-data-types--basic-stats'></a>"
   ]
  },
  {
   "cell_type": "code",
   "execution_count": 11,
   "id": "5c2b1440",
   "metadata": {},
   "outputs": [
    {
     "data": {
      "text/html": [
       "<div>\n",
       "<style scoped>\n",
       "    .dataframe tbody tr th:only-of-type {\n",
       "        vertical-align: middle;\n",
       "    }\n",
       "\n",
       "    .dataframe tbody tr th {\n",
       "        vertical-align: top;\n",
       "    }\n",
       "\n",
       "    .dataframe thead th {\n",
       "        text-align: right;\n",
       "    }\n",
       "</style>\n",
       "<table border=\"1\" class=\"dataframe\">\n",
       "  <thead>\n",
       "    <tr style=\"text-align: right;\">\n",
       "      <th></th>\n",
       "      <th>count</th>\n",
       "      <th>mean</th>\n",
       "      <th>std</th>\n",
       "      <th>min</th>\n",
       "      <th>25%</th>\n",
       "      <th>50%</th>\n",
       "      <th>75%</th>\n",
       "      <th>max</th>\n",
       "    </tr>\n",
       "  </thead>\n",
       "  <tbody>\n",
       "    <tr>\n",
       "      <th>Open</th>\n",
       "      <td>9672.0</td>\n",
       "      <td>5.840220e+01</td>\n",
       "      <td>9.012230e+01</td>\n",
       "      <td>8.854200e-02</td>\n",
       "      <td>5.695313e+00</td>\n",
       "      <td>2.730500e+01</td>\n",
       "      <td>4.668750e+01</td>\n",
       "      <td>4.670000e+02</td>\n",
       "    </tr>\n",
       "    <tr>\n",
       "      <th>High</th>\n",
       "      <td>9672.0</td>\n",
       "      <td>5.900307e+01</td>\n",
       "      <td>9.095864e+01</td>\n",
       "      <td>9.201400e-02</td>\n",
       "      <td>5.770508e+00</td>\n",
       "      <td>2.760000e+01</td>\n",
       "      <td>4.710000e+01</td>\n",
       "      <td>4.683500e+02</td>\n",
       "    </tr>\n",
       "    <tr>\n",
       "      <th>Low</th>\n",
       "      <td>9672.0</td>\n",
       "      <td>5.778476e+01</td>\n",
       "      <td>8.923255e+01</td>\n",
       "      <td>8.854200e-02</td>\n",
       "      <td>5.617188e+00</td>\n",
       "      <td>2.708500e+01</td>\n",
       "      <td>4.613867e+01</td>\n",
       "      <td>4.644600e+02</td>\n",
       "    </tr>\n",
       "    <tr>\n",
       "      <th>Close</th>\n",
       "      <td>9672.0</td>\n",
       "      <td>5.841768e+01</td>\n",
       "      <td>9.014679e+01</td>\n",
       "      <td>9.027800e-02</td>\n",
       "      <td>5.695313e+00</td>\n",
       "      <td>2.734188e+01</td>\n",
       "      <td>4.665719e+01</td>\n",
       "      <td>4.675600e+02</td>\n",
       "    </tr>\n",
       "    <tr>\n",
       "      <th>Adj Close</th>\n",
       "      <td>9672.0</td>\n",
       "      <td>5.271937e+01</td>\n",
       "      <td>9.006646e+01</td>\n",
       "      <td>5.566487e-02</td>\n",
       "      <td>3.511695e+00</td>\n",
       "      <td>1.914554e+01</td>\n",
       "      <td>3.833904e+01</td>\n",
       "      <td>4.667188e+02</td>\n",
       "    </tr>\n",
       "    <tr>\n",
       "      <th>Volume</th>\n",
       "      <td>9672.0</td>\n",
       "      <td>5.677678e+07</td>\n",
       "      <td>3.814123e+07</td>\n",
       "      <td>2.304000e+06</td>\n",
       "      <td>3.206982e+07</td>\n",
       "      <td>4.990225e+07</td>\n",
       "      <td>7.071788e+07</td>\n",
       "      <td>1.031789e+09</td>\n",
       "    </tr>\n",
       "    <tr>\n",
       "      <th>Dividends</th>\n",
       "      <td>9672.0</td>\n",
       "      <td>2.981803e-03</td>\n",
       "      <td>4.652388e-02</td>\n",
       "      <td>0.000000e+00</td>\n",
       "      <td>0.000000e+00</td>\n",
       "      <td>0.000000e+00</td>\n",
       "      <td>0.000000e+00</td>\n",
       "      <td>3.080000e+00</td>\n",
       "    </tr>\n",
       "    <tr>\n",
       "      <th>Stock Splits</th>\n",
       "      <td>9672.0</td>\n",
       "      <td>1.757651e-03</td>\n",
       "      <td>5.794370e-02</td>\n",
       "      <td>0.000000e+00</td>\n",
       "      <td>0.000000e+00</td>\n",
       "      <td>0.000000e+00</td>\n",
       "      <td>0.000000e+00</td>\n",
       "      <td>2.000000e+00</td>\n",
       "    </tr>\n",
       "  </tbody>\n",
       "</table>\n",
       "</div>"
      ],
      "text/plain": [
       "               count          mean           std           min           25%  \\\n",
       "Open          9672.0  5.840220e+01  9.012230e+01  8.854200e-02  5.695313e+00   \n",
       "High          9672.0  5.900307e+01  9.095864e+01  9.201400e-02  5.770508e+00   \n",
       "Low           9672.0  5.778476e+01  8.923255e+01  8.854200e-02  5.617188e+00   \n",
       "Close         9672.0  5.841768e+01  9.014679e+01  9.027800e-02  5.695313e+00   \n",
       "Adj Close     9672.0  5.271937e+01  9.006646e+01  5.566487e-02  3.511695e+00   \n",
       "Volume        9672.0  5.677678e+07  3.814123e+07  2.304000e+06  3.206982e+07   \n",
       "Dividends     9672.0  2.981803e-03  4.652388e-02  0.000000e+00  0.000000e+00   \n",
       "Stock Splits  9672.0  1.757651e-03  5.794370e-02  0.000000e+00  0.000000e+00   \n",
       "\n",
       "                       50%           75%           max  \n",
       "Open          2.730500e+01  4.668750e+01  4.670000e+02  \n",
       "High          2.760000e+01  4.710000e+01  4.683500e+02  \n",
       "Low           2.708500e+01  4.613867e+01  4.644600e+02  \n",
       "Close         2.734188e+01  4.665719e+01  4.675600e+02  \n",
       "Adj Close     1.914554e+01  3.833904e+01  4.667188e+02  \n",
       "Volume        4.990225e+07  7.071788e+07  1.031789e+09  \n",
       "Dividends     0.000000e+00  0.000000e+00  3.080000e+00  \n",
       "Stock Splits  0.000000e+00  0.000000e+00  2.000000e+00  "
      ]
     },
     "execution_count": 11,
     "metadata": {},
     "output_type": "execute_result"
    }
   ],
   "source": [
    "#Numerical Columns\n",
    "df.describe().T"
   ]
  },
  {
   "cell_type": "code",
   "execution_count": 12,
   "id": "e32e8398",
   "metadata": {},
   "outputs": [
    {
     "data": {
      "text/html": [
       "<div>\n",
       "<style scoped>\n",
       "    .dataframe tbody tr th:only-of-type {\n",
       "        vertical-align: middle;\n",
       "    }\n",
       "\n",
       "    .dataframe tbody tr th {\n",
       "        vertical-align: top;\n",
       "    }\n",
       "\n",
       "    .dataframe thead th {\n",
       "        text-align: right;\n",
       "    }\n",
       "</style>\n",
       "<table border=\"1\" class=\"dataframe\">\n",
       "  <thead>\n",
       "    <tr style=\"text-align: right;\">\n",
       "      <th></th>\n",
       "      <th>count</th>\n",
       "      <th>unique</th>\n",
       "      <th>top</th>\n",
       "      <th>freq</th>\n",
       "    </tr>\n",
       "  </thead>\n",
       "  <tbody>\n",
       "    <tr>\n",
       "      <th>Date</th>\n",
       "      <td>9672</td>\n",
       "      <td>9672</td>\n",
       "      <td>1986-03-13</td>\n",
       "      <td>1</td>\n",
       "    </tr>\n",
       "  </tbody>\n",
       "</table>\n",
       "</div>"
      ],
      "text/plain": [
       "     count unique         top freq\n",
       "Date  9672   9672  1986-03-13    1"
      ]
     },
     "execution_count": 12,
     "metadata": {},
     "output_type": "execute_result"
    }
   ],
   "source": [
    "#for columns of object type\n",
    "df.describe(include=['O']).T"
   ]
  },
  {
   "cell_type": "code",
   "execution_count": 13,
   "id": "12c32634",
   "metadata": {},
   "outputs": [
    {
     "name": "stdout",
     "output_type": "stream",
     "text": [
      "<class 'pandas.core.frame.DataFrame'>\n",
      "RangeIndex: 9672 entries, 0 to 9671\n",
      "Data columns (total 9 columns):\n",
      " #   Column        Non-Null Count  Dtype  \n",
      "---  ------        --------------  -----  \n",
      " 0   Date          9672 non-null   object \n",
      " 1   Open          9672 non-null   float64\n",
      " 2   High          9672 non-null   float64\n",
      " 3   Low           9672 non-null   float64\n",
      " 4   Close         9672 non-null   float64\n",
      " 5   Adj Close     9672 non-null   float64\n",
      " 6   Volume        9672 non-null   int64  \n",
      " 7   Dividends     9672 non-null   float64\n",
      " 8   Stock Splits  9672 non-null   float64\n",
      "dtypes: float64(7), int64(1), object(1)\n",
      "memory usage: 680.2+ KB\n"
     ]
    }
   ],
   "source": [
    "# data types of the columns\n",
    "df.info()"
   ]
  },
  {
   "cell_type": "code",
   "execution_count": 14,
   "id": "9a2a7204",
   "metadata": {},
   "outputs": [
    {
     "data": {
      "text/plain": [
       "Date            9672\n",
       "Volume          9480\n",
       "Adj Close       7568\n",
       "Close           5939\n",
       "Open            5790\n",
       "Low             5745\n",
       "High            5725\n",
       "Dividends         21\n",
       "Stock Splits       3\n",
       "dtype: int64"
      ]
     },
     "execution_count": 14,
     "metadata": {},
     "output_type": "execute_result"
    }
   ],
   "source": [
    "#distinct values in each column\n",
    "df.nunique().sort_values(ascending=False)"
   ]
  },
  {
   "cell_type": "markdown",
   "id": "cd48a90b",
   "metadata": {},
   "source": [
    "## 🔍 4. Data Quality Analysis <a id='4-data-quality-analysis'></a>"
   ]
  },
  {
   "cell_type": "code",
   "execution_count": 15,
   "id": "fda7f18c",
   "metadata": {},
   "outputs": [],
   "source": [
    "#instantiate the DataQualityUtils class\n",
    "dq=DataQualityUtils(df)"
   ]
  },
  {
   "cell_type": "code",
   "execution_count": 16,
   "id": "402fd66b",
   "metadata": {},
   "outputs": [
    {
     "data": {
      "text/html": [
       "<div>\n",
       "<style scoped>\n",
       "    .dataframe tbody tr th:only-of-type {\n",
       "        vertical-align: middle;\n",
       "    }\n",
       "\n",
       "    .dataframe tbody tr th {\n",
       "        vertical-align: top;\n",
       "    }\n",
       "\n",
       "    .dataframe thead th {\n",
       "        text-align: right;\n",
       "    }\n",
       "</style>\n",
       "<table border=\"1\" class=\"dataframe\">\n",
       "  <thead>\n",
       "    <tr style=\"text-align: right;\">\n",
       "      <th></th>\n",
       "      <th>#missing_values</th>\n",
       "      <th>percentage</th>\n",
       "    </tr>\n",
       "  </thead>\n",
       "  <tbody>\n",
       "    <tr>\n",
       "      <th>Date</th>\n",
       "      <td>0</td>\n",
       "      <td>0.00%</td>\n",
       "    </tr>\n",
       "    <tr>\n",
       "      <th>Open</th>\n",
       "      <td>0</td>\n",
       "      <td>0.00%</td>\n",
       "    </tr>\n",
       "    <tr>\n",
       "      <th>High</th>\n",
       "      <td>0</td>\n",
       "      <td>0.00%</td>\n",
       "    </tr>\n",
       "    <tr>\n",
       "      <th>Low</th>\n",
       "      <td>0</td>\n",
       "      <td>0.00%</td>\n",
       "    </tr>\n",
       "    <tr>\n",
       "      <th>Close</th>\n",
       "      <td>0</td>\n",
       "      <td>0.00%</td>\n",
       "    </tr>\n",
       "    <tr>\n",
       "      <th>Adj Close</th>\n",
       "      <td>0</td>\n",
       "      <td>0.00%</td>\n",
       "    </tr>\n",
       "    <tr>\n",
       "      <th>Volume</th>\n",
       "      <td>0</td>\n",
       "      <td>0.00%</td>\n",
       "    </tr>\n",
       "    <tr>\n",
       "      <th>Dividends</th>\n",
       "      <td>0</td>\n",
       "      <td>0.00%</td>\n",
       "    </tr>\n",
       "    <tr>\n",
       "      <th>Stock Splits</th>\n",
       "      <td>0</td>\n",
       "      <td>0.00%</td>\n",
       "    </tr>\n",
       "  </tbody>\n",
       "</table>\n",
       "</div>"
      ],
      "text/plain": [
       "              #missing_values percentage\n",
       "Date                        0      0.00%\n",
       "Open                        0      0.00%\n",
       "High                        0      0.00%\n",
       "Low                         0      0.00%\n",
       "Close                       0      0.00%\n",
       "Adj Close                   0      0.00%\n",
       "Volume                      0      0.00%\n",
       "Dividends                   0      0.00%\n",
       "Stock Splits                0      0.00%"
      ]
     },
     "execution_count": 16,
     "metadata": {},
     "output_type": "execute_result"
    }
   ],
   "source": [
    "#count of missing values per column\n",
    "dq.summary()"
   ]
  },
  {
   "cell_type": "markdown",
   "id": "f3d4dbe5",
   "metadata": {},
   "source": [
    "### Missing Values"
   ]
  },
  {
   "cell_type": "code",
   "execution_count": 17,
   "id": "b322f8a8",
   "metadata": {},
   "outputs": [
    {
     "data": {
      "text/html": [
       "<div>\n",
       "<style scoped>\n",
       "    .dataframe tbody tr th:only-of-type {\n",
       "        vertical-align: middle;\n",
       "    }\n",
       "\n",
       "    .dataframe tbody tr th {\n",
       "        vertical-align: top;\n",
       "    }\n",
       "\n",
       "    .dataframe thead th {\n",
       "        text-align: right;\n",
       "    }\n",
       "</style>\n",
       "<table border=\"1\" class=\"dataframe\">\n",
       "  <thead>\n",
       "    <tr style=\"text-align: right;\">\n",
       "      <th></th>\n",
       "      <th>#missing_values</th>\n",
       "      <th>percentage</th>\n",
       "    </tr>\n",
       "  </thead>\n",
       "  <tbody>\n",
       "  </tbody>\n",
       "</table>\n",
       "</div>"
      ],
      "text/plain": [
       "Empty DataFrame\n",
       "Columns: [#missing_values, percentage]\n",
       "Index: []"
      ]
     },
     "execution_count": 17,
     "metadata": {},
     "output_type": "execute_result"
    }
   ],
   "source": [
    "#column with >5% nulls\n",
    "dq.columns_with_significant_missing_values(threshold=5)"
   ]
  },
  {
   "cell_type": "markdown",
   "id": "440dc15d",
   "metadata": {},
   "source": [
    "### Duplicates"
   ]
  },
  {
   "cell_type": "code",
   "execution_count": 18,
   "id": "5da9df66",
   "metadata": {},
   "outputs": [
    {
     "data": {
      "text/plain": [
       "0"
      ]
     },
     "execution_count": 18,
     "metadata": {},
     "output_type": "execute_result"
    }
   ],
   "source": [
    "#count duplicates\n",
    "dq.count_duplicates()"
   ]
  },
  {
   "cell_type": "markdown",
   "id": "b1c73167",
   "metadata": {},
   "source": [
    "### Invalid Values"
   ]
  },
  {
   "cell_type": "code",
   "execution_count": 19,
   "id": "d9e6b786",
   "metadata": {},
   "outputs": [
    {
     "data": {
      "text/plain": [
       "{}"
      ]
     },
     "execution_count": 19,
     "metadata": {},
     "output_type": "execute_result"
    }
   ],
   "source": [
    "dq.find_invalid_values()"
   ]
  },
  {
   "cell_type": "markdown",
   "id": "3aa9c9d5",
   "metadata": {},
   "source": [
    "## 🧹 5. Data Cleaning  <a id='5-data-cleaning'></a>"
   ]
  },
  {
   "cell_type": "code",
   "execution_count": 20,
   "id": "98dde7ed",
   "metadata": {},
   "outputs": [],
   "source": [
    "#saving the original dataset for later use\n",
    "df_original=df.copy()"
   ]
  },
  {
   "cell_type": "markdown",
   "id": "4581d672",
   "metadata": {},
   "source": [
    "### Inconsistencies and Inaccuracies"
   ]
  },
  {
   "cell_type": "code",
   "execution_count": 21,
   "id": "0fcea5f2",
   "metadata": {},
   "outputs": [],
   "source": [
    "#drop redundancies and clean column names\n",
    "df=dq.drop_redundant_columns()"
   ]
  },
  {
   "cell_type": "code",
   "execution_count": 22,
   "id": "a60f03c9",
   "metadata": {},
   "outputs": [
    {
     "name": "stdout",
     "output_type": "stream",
     "text": [
      "[Date] Converted: 9672/9672 (0 became NaT)\n"
     ]
    }
   ],
   "source": [
    "df=dq.convert_columns_to_datetime()"
   ]
  },
  {
   "cell_type": "code",
   "execution_count": 23,
   "id": "cad094ce",
   "metadata": {},
   "outputs": [
    {
     "name": "stdout",
     "output_type": "stream",
     "text": [
      "<class 'pandas.core.frame.DataFrame'>\n",
      "RangeIndex: 9672 entries, 0 to 9671\n",
      "Data columns (total 9 columns):\n",
      " #   Column        Non-Null Count  Dtype              \n",
      "---  ------        --------------  -----              \n",
      " 0   Date          9672 non-null   datetime64[ns, UTC]\n",
      " 1   Open          9672 non-null   float64            \n",
      " 2   High          9672 non-null   float64            \n",
      " 3   Low           9672 non-null   float64            \n",
      " 4   Close         9672 non-null   float64            \n",
      " 5   Adj Close     9672 non-null   float64            \n",
      " 6   Volume        9672 non-null   int64              \n",
      " 7   Dividends     9672 non-null   float64            \n",
      " 8   Stock Splits  9672 non-null   float64            \n",
      "dtypes: datetime64[ns, UTC](1), float64(7), int64(1)\n",
      "memory usage: 680.2 KB\n"
     ]
    }
   ],
   "source": [
    "df.info()"
   ]
  },
  {
   "cell_type": "code",
   "execution_count": 24,
   "id": "b210c10f",
   "metadata": {},
   "outputs": [
    {
     "data": {
      "text/plain": [
       "Index(['Date', 'Open', 'High', 'Low', 'Close', 'Adj Close', 'Volume',\n",
       "       'Dividends', 'Stock Splits'],\n",
       "      dtype='object')"
      ]
     },
     "execution_count": 24,
     "metadata": {},
     "output_type": "execute_result"
    }
   ],
   "source": [
    "df.columns"
   ]
  },
  {
   "cell_type": "code",
   "execution_count": 25,
   "id": "a443d88f",
   "metadata": {},
   "outputs": [
    {
     "data": {
      "text/html": [
       "<div>\n",
       "<style scoped>\n",
       "    .dataframe tbody tr th:only-of-type {\n",
       "        vertical-align: middle;\n",
       "    }\n",
       "\n",
       "    .dataframe tbody tr th {\n",
       "        vertical-align: top;\n",
       "    }\n",
       "\n",
       "    .dataframe thead th {\n",
       "        text-align: right;\n",
       "    }\n",
       "</style>\n",
       "<table border=\"1\" class=\"dataframe\">\n",
       "  <thead>\n",
       "    <tr style=\"text-align: right;\">\n",
       "      <th></th>\n",
       "      <th>Date</th>\n",
       "      <th>Open</th>\n",
       "      <th>High</th>\n",
       "      <th>Low</th>\n",
       "      <th>Close</th>\n",
       "      <th>Adj Close</th>\n",
       "      <th>Volume</th>\n",
       "      <th>Dividends</th>\n",
       "      <th>Stock Splits</th>\n",
       "    </tr>\n",
       "  </thead>\n",
       "  <tbody>\n",
       "    <tr>\n",
       "      <th>8245</th>\n",
       "      <td>2018-11-26 00:00:00+00:00</td>\n",
       "      <td>104.790001</td>\n",
       "      <td>106.629997</td>\n",
       "      <td>104.580002</td>\n",
       "      <td>106.470001</td>\n",
       "      <td>100.554047</td>\n",
       "      <td>32336200</td>\n",
       "      <td>0.0</td>\n",
       "      <td>0.0</td>\n",
       "    </tr>\n",
       "    <tr>\n",
       "      <th>418</th>\n",
       "      <td>1987-11-05 00:00:00+00:00</td>\n",
       "      <td>0.340278</td>\n",
       "      <td>0.355903</td>\n",
       "      <td>0.338542</td>\n",
       "      <td>0.350694</td>\n",
       "      <td>0.216236</td>\n",
       "      <td>81432000</td>\n",
       "      <td>0.0</td>\n",
       "      <td>0.0</td>\n",
       "    </tr>\n",
       "    <tr>\n",
       "      <th>6061</th>\n",
       "      <td>2010-03-25 00:00:00+00:00</td>\n",
       "      <td>29.830000</td>\n",
       "      <td>30.570000</td>\n",
       "      <td>29.799999</td>\n",
       "      <td>30.010000</td>\n",
       "      <td>22.744081</td>\n",
       "      <td>73168700</td>\n",
       "      <td>0.0</td>\n",
       "      <td>0.0</td>\n",
       "    </tr>\n",
       "    <tr>\n",
       "      <th>2759</th>\n",
       "      <td>1997-02-07 00:00:00+00:00</td>\n",
       "      <td>12.296875</td>\n",
       "      <td>12.562500</td>\n",
       "      <td>12.187500</td>\n",
       "      <td>12.546875</td>\n",
       "      <td>7.736324</td>\n",
       "      <td>62448000</td>\n",
       "      <td>0.0</td>\n",
       "      <td>0.0</td>\n",
       "    </tr>\n",
       "    <tr>\n",
       "      <th>2918</th>\n",
       "      <td>1997-09-25 00:00:00+00:00</td>\n",
       "      <td>16.609375</td>\n",
       "      <td>16.765625</td>\n",
       "      <td>16.507812</td>\n",
       "      <td>16.593750</td>\n",
       "      <td>10.231607</td>\n",
       "      <td>39272000</td>\n",
       "      <td>0.0</td>\n",
       "      <td>0.0</td>\n",
       "    </tr>\n",
       "    <tr>\n",
       "      <th>8663</th>\n",
       "      <td>2020-07-27 00:00:00+00:00</td>\n",
       "      <td>201.470001</td>\n",
       "      <td>203.970001</td>\n",
       "      <td>200.860001</td>\n",
       "      <td>203.850006</td>\n",
       "      <td>196.449097</td>\n",
       "      <td>30160900</td>\n",
       "      <td>0.0</td>\n",
       "      <td>0.0</td>\n",
       "    </tr>\n",
       "    <tr>\n",
       "      <th>622</th>\n",
       "      <td>1988-08-26 00:00:00+00:00</td>\n",
       "      <td>0.352431</td>\n",
       "      <td>0.359375</td>\n",
       "      <td>0.352431</td>\n",
       "      <td>0.356771</td>\n",
       "      <td>0.219983</td>\n",
       "      <td>24451200</td>\n",
       "      <td>0.0</td>\n",
       "      <td>0.0</td>\n",
       "    </tr>\n",
       "    <tr>\n",
       "      <th>9531</th>\n",
       "      <td>2024-01-08 00:00:00+00:00</td>\n",
       "      <td>369.299988</td>\n",
       "      <td>375.200012</td>\n",
       "      <td>369.010010</td>\n",
       "      <td>374.690002</td>\n",
       "      <td>372.653351</td>\n",
       "      <td>23134000</td>\n",
       "      <td>0.0</td>\n",
       "      <td>0.0</td>\n",
       "    </tr>\n",
       "    <tr>\n",
       "      <th>1563</th>\n",
       "      <td>1992-05-18 00:00:00+00:00</td>\n",
       "      <td>2.307292</td>\n",
       "      <td>2.364583</td>\n",
       "      <td>2.302083</td>\n",
       "      <td>2.348958</td>\n",
       "      <td>1.448353</td>\n",
       "      <td>37526400</td>\n",
       "      <td>0.0</td>\n",
       "      <td>0.0</td>\n",
       "    </tr>\n",
       "    <tr>\n",
       "      <th>9500</th>\n",
       "      <td>2023-11-21 00:00:00+00:00</td>\n",
       "      <td>375.670013</td>\n",
       "      <td>376.220001</td>\n",
       "      <td>371.119995</td>\n",
       "      <td>373.070007</td>\n",
       "      <td>371.042145</td>\n",
       "      <td>28423100</td>\n",
       "      <td>0.0</td>\n",
       "      <td>0.0</td>\n",
       "    </tr>\n",
       "  </tbody>\n",
       "</table>\n",
       "</div>"
      ],
      "text/plain": [
       "                          Date        Open        High         Low  \\\n",
       "8245 2018-11-26 00:00:00+00:00  104.790001  106.629997  104.580002   \n",
       "418  1987-11-05 00:00:00+00:00    0.340278    0.355903    0.338542   \n",
       "6061 2010-03-25 00:00:00+00:00   29.830000   30.570000   29.799999   \n",
       "2759 1997-02-07 00:00:00+00:00   12.296875   12.562500   12.187500   \n",
       "2918 1997-09-25 00:00:00+00:00   16.609375   16.765625   16.507812   \n",
       "8663 2020-07-27 00:00:00+00:00  201.470001  203.970001  200.860001   \n",
       "622  1988-08-26 00:00:00+00:00    0.352431    0.359375    0.352431   \n",
       "9531 2024-01-08 00:00:00+00:00  369.299988  375.200012  369.010010   \n",
       "1563 1992-05-18 00:00:00+00:00    2.307292    2.364583    2.302083   \n",
       "9500 2023-11-21 00:00:00+00:00  375.670013  376.220001  371.119995   \n",
       "\n",
       "           Close   Adj Close    Volume  Dividends  Stock Splits  \n",
       "8245  106.470001  100.554047  32336200        0.0           0.0  \n",
       "418     0.350694    0.216236  81432000        0.0           0.0  \n",
       "6061   30.010000   22.744081  73168700        0.0           0.0  \n",
       "2759   12.546875    7.736324  62448000        0.0           0.0  \n",
       "2918   16.593750   10.231607  39272000        0.0           0.0  \n",
       "8663  203.850006  196.449097  30160900        0.0           0.0  \n",
       "622     0.356771    0.219983  24451200        0.0           0.0  \n",
       "9531  374.690002  372.653351  23134000        0.0           0.0  \n",
       "1563    2.348958    1.448353  37526400        0.0           0.0  \n",
       "9500  373.070007  371.042145  28423100        0.0           0.0  "
      ]
     },
     "execution_count": 25,
     "metadata": {},
     "output_type": "execute_result"
    }
   ],
   "source": [
    "df.sample(10)"
   ]
  },
  {
   "cell_type": "code",
   "execution_count": 26,
   "id": "b1933a6a",
   "metadata": {},
   "outputs": [],
   "source": [
    "# Save to csv\n",
    "df.to_csv(CLEANED_DATA_PATH, index=False)"
   ]
  },
  {
   "cell_type": "markdown",
   "id": "15d7e3c6",
   "metadata": {},
   "source": [
    "## 6. Analyze"
   ]
  },
  {
   "cell_type": "code",
   "execution_count": 27,
   "id": "40454725",
   "metadata": {},
   "outputs": [
    {
     "data": {
      "text/html": [
       "<div>\n",
       "<style scoped>\n",
       "    .dataframe tbody tr th:only-of-type {\n",
       "        vertical-align: middle;\n",
       "    }\n",
       "\n",
       "    .dataframe tbody tr th {\n",
       "        vertical-align: top;\n",
       "    }\n",
       "\n",
       "    .dataframe thead th {\n",
       "        text-align: right;\n",
       "    }\n",
       "</style>\n",
       "<table border=\"1\" class=\"dataframe\">\n",
       "  <thead>\n",
       "    <tr style=\"text-align: right;\">\n",
       "      <th></th>\n",
       "      <th>Date</th>\n",
       "      <th>Open</th>\n",
       "      <th>High</th>\n",
       "      <th>Low</th>\n",
       "      <th>Close</th>\n",
       "      <th>Adj Close</th>\n",
       "      <th>Volume</th>\n",
       "      <th>Dividends</th>\n",
       "      <th>Stock Splits</th>\n",
       "    </tr>\n",
       "  </thead>\n",
       "  <tbody>\n",
       "    <tr>\n",
       "      <th>0</th>\n",
       "      <td>1986-03-13 00:00:00+00:00</td>\n",
       "      <td>0.088542</td>\n",
       "      <td>0.101563</td>\n",
       "      <td>0.088542</td>\n",
       "      <td>0.097222</td>\n",
       "      <td>0.059946</td>\n",
       "      <td>1031788800</td>\n",
       "      <td>0.0</td>\n",
       "      <td>0.0</td>\n",
       "    </tr>\n",
       "    <tr>\n",
       "      <th>1</th>\n",
       "      <td>1986-03-14 00:00:00+00:00</td>\n",
       "      <td>0.097222</td>\n",
       "      <td>0.102431</td>\n",
       "      <td>0.097222</td>\n",
       "      <td>0.100694</td>\n",
       "      <td>0.062087</td>\n",
       "      <td>308160000</td>\n",
       "      <td>0.0</td>\n",
       "      <td>0.0</td>\n",
       "    </tr>\n",
       "    <tr>\n",
       "      <th>2</th>\n",
       "      <td>1986-03-17 00:00:00+00:00</td>\n",
       "      <td>0.100694</td>\n",
       "      <td>0.103299</td>\n",
       "      <td>0.100694</td>\n",
       "      <td>0.102431</td>\n",
       "      <td>0.063158</td>\n",
       "      <td>133171200</td>\n",
       "      <td>0.0</td>\n",
       "      <td>0.0</td>\n",
       "    </tr>\n",
       "    <tr>\n",
       "      <th>3</th>\n",
       "      <td>1986-03-18 00:00:00+00:00</td>\n",
       "      <td>0.102431</td>\n",
       "      <td>0.103299</td>\n",
       "      <td>0.098958</td>\n",
       "      <td>0.099826</td>\n",
       "      <td>0.061552</td>\n",
       "      <td>67766400</td>\n",
       "      <td>0.0</td>\n",
       "      <td>0.0</td>\n",
       "    </tr>\n",
       "    <tr>\n",
       "      <th>4</th>\n",
       "      <td>1986-03-19 00:00:00+00:00</td>\n",
       "      <td>0.099826</td>\n",
       "      <td>0.100694</td>\n",
       "      <td>0.097222</td>\n",
       "      <td>0.098090</td>\n",
       "      <td>0.060482</td>\n",
       "      <td>47894400</td>\n",
       "      <td>0.0</td>\n",
       "      <td>0.0</td>\n",
       "    </tr>\n",
       "    <tr>\n",
       "      <th>...</th>\n",
       "      <td>...</td>\n",
       "      <td>...</td>\n",
       "      <td>...</td>\n",
       "      <td>...</td>\n",
       "      <td>...</td>\n",
       "      <td>...</td>\n",
       "      <td>...</td>\n",
       "      <td>...</td>\n",
       "      <td>...</td>\n",
       "    </tr>\n",
       "    <tr>\n",
       "      <th>9667</th>\n",
       "      <td>2024-07-24 00:00:00+00:00</td>\n",
       "      <td>440.450012</td>\n",
       "      <td>441.480011</td>\n",
       "      <td>427.589996</td>\n",
       "      <td>428.899994</td>\n",
       "      <td>428.128326</td>\n",
       "      <td>26805800</td>\n",
       "      <td>0.0</td>\n",
       "      <td>0.0</td>\n",
       "    </tr>\n",
       "    <tr>\n",
       "      <th>9668</th>\n",
       "      <td>2024-07-25 00:00:00+00:00</td>\n",
       "      <td>428.799988</td>\n",
       "      <td>429.799988</td>\n",
       "      <td>417.510010</td>\n",
       "      <td>418.399994</td>\n",
       "      <td>417.647217</td>\n",
       "      <td>29943800</td>\n",
       "      <td>0.0</td>\n",
       "      <td>0.0</td>\n",
       "    </tr>\n",
       "    <tr>\n",
       "      <th>9669</th>\n",
       "      <td>2024-07-26 00:00:00+00:00</td>\n",
       "      <td>418.200012</td>\n",
       "      <td>428.920013</td>\n",
       "      <td>417.269989</td>\n",
       "      <td>425.269989</td>\n",
       "      <td>424.504852</td>\n",
       "      <td>23583800</td>\n",
       "      <td>0.0</td>\n",
       "      <td>0.0</td>\n",
       "    </tr>\n",
       "    <tr>\n",
       "      <th>9670</th>\n",
       "      <td>2024-07-29 00:00:00+00:00</td>\n",
       "      <td>431.579987</td>\n",
       "      <td>432.149994</td>\n",
       "      <td>424.700012</td>\n",
       "      <td>426.730011</td>\n",
       "      <td>425.962250</td>\n",
       "      <td>15125800</td>\n",
       "      <td>0.0</td>\n",
       "      <td>0.0</td>\n",
       "    </tr>\n",
       "    <tr>\n",
       "      <th>9671</th>\n",
       "      <td>2024-07-30 00:00:00+00:00</td>\n",
       "      <td>427.720001</td>\n",
       "      <td>429.049988</td>\n",
       "      <td>417.359985</td>\n",
       "      <td>422.920013</td>\n",
       "      <td>422.159119</td>\n",
       "      <td>32687600</td>\n",
       "      <td>0.0</td>\n",
       "      <td>0.0</td>\n",
       "    </tr>\n",
       "  </tbody>\n",
       "</table>\n",
       "<p>9672 rows × 9 columns</p>\n",
       "</div>"
      ],
      "text/plain": [
       "                          Date        Open        High         Low  \\\n",
       "0    1986-03-13 00:00:00+00:00    0.088542    0.101563    0.088542   \n",
       "1    1986-03-14 00:00:00+00:00    0.097222    0.102431    0.097222   \n",
       "2    1986-03-17 00:00:00+00:00    0.100694    0.103299    0.100694   \n",
       "3    1986-03-18 00:00:00+00:00    0.102431    0.103299    0.098958   \n",
       "4    1986-03-19 00:00:00+00:00    0.099826    0.100694    0.097222   \n",
       "...                        ...         ...         ...         ...   \n",
       "9667 2024-07-24 00:00:00+00:00  440.450012  441.480011  427.589996   \n",
       "9668 2024-07-25 00:00:00+00:00  428.799988  429.799988  417.510010   \n",
       "9669 2024-07-26 00:00:00+00:00  418.200012  428.920013  417.269989   \n",
       "9670 2024-07-29 00:00:00+00:00  431.579987  432.149994  424.700012   \n",
       "9671 2024-07-30 00:00:00+00:00  427.720001  429.049988  417.359985   \n",
       "\n",
       "           Close   Adj Close      Volume  Dividends  Stock Splits  \n",
       "0       0.097222    0.059946  1031788800        0.0           0.0  \n",
       "1       0.100694    0.062087   308160000        0.0           0.0  \n",
       "2       0.102431    0.063158   133171200        0.0           0.0  \n",
       "3       0.099826    0.061552    67766400        0.0           0.0  \n",
       "4       0.098090    0.060482    47894400        0.0           0.0  \n",
       "...          ...         ...         ...        ...           ...  \n",
       "9667  428.899994  428.128326    26805800        0.0           0.0  \n",
       "9668  418.399994  417.647217    29943800        0.0           0.0  \n",
       "9669  425.269989  424.504852    23583800        0.0           0.0  \n",
       "9670  426.730011  425.962250    15125800        0.0           0.0  \n",
       "9671  422.920013  422.159119    32687600        0.0           0.0  \n",
       "\n",
       "[9672 rows x 9 columns]"
      ]
     },
     "execution_count": 27,
     "metadata": {},
     "output_type": "execute_result"
    }
   ],
   "source": [
    "# Load the ticker analyze\n",
    "ta = TickerAnalyzer(\"AAPL\")\n",
    "ta.load_price_data_from_csv(CLEANED_DATA_PATH)"
   ]
  },
  {
   "cell_type": "code",
   "execution_count": 28,
   "id": "ca5100ba",
   "metadata": {},
   "outputs": [],
   "source": [
    "# Instantiate the analyzer for a specific ticker (ticker is mostly for metadata here)\n",
    "analyzer = TickerAnalyzer(ticker=\"AAPL\", period=\"1y\", interval=\"1d\")"
   ]
  },
  {
   "cell_type": "code",
   "execution_count": 29,
   "id": "7a4ff3c1",
   "metadata": {},
   "outputs": [
    {
     "name": "stdout",
     "output_type": "stream",
     "text": [
      "Price Data Sample:\n",
      "                       Date      Open      High       Low     Close  \\\n",
      "0 1986-03-13 00:00:00+00:00  0.088542  0.101563  0.088542  0.097222   \n",
      "1 1986-03-14 00:00:00+00:00  0.097222  0.102431  0.097222  0.100694   \n",
      "2 1986-03-17 00:00:00+00:00  0.100694  0.103299  0.100694  0.102431   \n",
      "3 1986-03-18 00:00:00+00:00  0.102431  0.103299  0.098958  0.099826   \n",
      "4 1986-03-19 00:00:00+00:00  0.099826  0.100694  0.097222  0.098090   \n",
      "\n",
      "   Adj Close      Volume  Dividends  Stock Splits  \n",
      "0   0.059946  1031788800        0.0           0.0  \n",
      "1   0.062087   308160000        0.0           0.0  \n",
      "2   0.063158   133171200        0.0           0.0  \n",
      "3   0.061552    67766400        0.0           0.0  \n",
      "4   0.060482    47894400        0.0           0.0  \n"
     ]
    }
   ],
   "source": [
    "# Load Price Data from CSV\n",
    "price_df = analyzer.load_price_data_from_csv(CLEANED_DATA_PATH)\n",
    "\n",
    "print(\"Price Data Sample:\")\n",
    "print(price_df.head())"
   ]
  },
  {
   "cell_type": "code",
   "execution_count": 30,
   "id": "7d831f9b",
   "metadata": {},
   "outputs": [
    {
     "name": "stdout",
     "output_type": "stream",
     "text": [
      "\n",
      "Price Data with Technical Indicators Sample:\n",
      "                       Date     Close  momentum_rsi      Volume  trend_macd\n",
      "0 1986-03-13 00:00:00+00:00  0.097222           NaN  1031788800         NaN\n",
      "1 1986-03-14 00:00:00+00:00  0.100694           NaN   308160000         NaN\n",
      "2 1986-03-17 00:00:00+00:00  0.102431           NaN   133171200         NaN\n",
      "3 1986-03-18 00:00:00+00:00  0.099826           NaN    67766400         NaN\n",
      "4 1986-03-19 00:00:00+00:00  0.098090           NaN    47894400         NaN\n"
     ]
    }
   ],
   "source": [
    "# Add Technical Indicators ===\n",
    "analyzer.price_df.rename(\n",
    "    columns={\n",
    "        'date': 'Date',\n",
    "        'open': 'Open',\n",
    "        'high': 'High',\n",
    "        'low': 'Low',\n",
    "        'close': 'Close',\n",
    "        'volume': 'Volume'\n",
    "    }, inplace=True)\n",
    "price_with_indicators = analyzer.add_technical_indicators()\n",
    "print(\"\\nPrice Data with Technical Indicators Sample:\")\n",
    "print(price_with_indicators[['Date', 'Close','momentum_rsi', 'Volume','trend_macd']].head())"
   ]
  },
  {
   "cell_type": "code",
   "execution_count": 31,
   "id": "d2f1da39",
   "metadata": {},
   "outputs": [
    {
     "name": "stdout",
     "output_type": "stream",
     "text": [
      "{'Cumulative Return': 4199.051744886396, 'Annualized Volatility': 0.3353677248890819, 'Sharpe Ratio': 0.7598702737807871, 'Max Drawdown': -0.7456453369396807, 'Calmar Ratio': 5631.432984105257}\n"
     ]
    },
    {
     "data": {
      "image/png": "[encoded data removed]",
      "text/plain": [
       "<Figure size 1500x1000 with 3 Axes>"
      ]
     },
     "metadata": {},
     "output_type": "display_data"
    }
   ],
   "source": [
    "metrics = analyzer.compute_financial_metrics()\n",
    "print(metrics)\n",
    "analyzer.plot_price_and_indicators()"
   ]
  }
 ],
 "metadata": {
  "kernelspec": {
   "display_name": "venv",
   "language": "python",
   "name": "python3"
  },
  "language_info": {
   "codemirror_mode": {
    "name": "ipython",
    "version": 3
   },
   "file_extension": ".py",
   "mimetype": "text/x-python",
   "name": "python",
   "nbconvert_exporter": "python",
   "pygments_lexer": "ipython3",
   "version": "3.10.12"
  }
 },
 "nbformat": 4,
 "nbformat_minor": 5
}
