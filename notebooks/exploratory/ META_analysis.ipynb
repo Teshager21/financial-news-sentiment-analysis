{
 "cells": [
  {
   "cell_type": "markdown",
   "id": "8df97469",
   "metadata": {},
   "source": [
    "<div style=\"background-color:#f0f8ff; padding:10px; border-radius:10px;\">\n",
    "  <h1 style=\"text-align:center; color:#1a5276;\">\n",
    "    📈 META Analysis\n",
    "  </h1>\n",
    "</div>"
   ]
  },
  {
   "cell_type": "code",
   "execution_count": 1,
   "id": "b7af41b3",
   "metadata": {},
   "outputs": [],
   "source": [
    "#auto loading\n",
    "%load_ext autoreload\n",
    "%autoreload 2"
   ]
  },
  {
   "cell_type": "markdown",
   "id": "09d14dde",
   "metadata": {},
   "source": [
    "## 🧱 1. Setup & Imports"
   ]
  },
  {
   "cell_type": "code",
   "execution_count": 2,
   "id": "71b654ef",
   "metadata": {},
   "outputs": [],
   "source": [
    "import warnings\n",
    "import pandas as pd\n",
    "from utils.ticker_analyzer import TickerAnalyzer\n",
    "from eda.data_quality_utils import DataQualityUtils\n",
    "from data.load_data import load_local_data"
   ]
  },
  {
   "cell_type": "code",
   "execution_count": 3,
   "id": "27c54ed8",
   "metadata": {},
   "outputs": [],
   "source": [
    "warnings.filterwarnings(\"ignore\")"
   ]
  },
  {
   "cell_type": "code",
   "execution_count": 4,
   "id": "219dcd86",
   "metadata": {},
   "outputs": [],
   "source": [
    "# variable\n",
    "TICKER= 'META'"
   ]
  },
  {
   "cell_type": "code",
   "execution_count": 5,
   "id": "ac94d536",
   "metadata": {},
   "outputs": [],
   "source": [
    "#paths\n",
    "RAW_DATA_PATH='../../data/raw/yfinance_data/'+TICKER+'_historical_data.csv'\n",
    "CLEANED_DATA_PATH='../../data/interim/'+TICKER+'_historical_cleaned_data.csv'"
   ]
  },
  {
   "cell_type": "markdown",
   "id": "508c1dd7",
   "metadata": {},
   "source": [
    "### 📌 Project Overview"
   ]
  },
  {
   "cell_type": "markdown",
   "id": "5fe12101",
   "metadata": {},
   "source": [
    "#### AAPL Ticker Analysis 📊\n",
    "\n",
    "**Objective:**  \n",
    "This notebook applies the `TickerAnalyzer` class to analyze Apple Inc. (AAPL) stock performance. The analysis integrates:\n",
    "\n",
    "- Historical price data via `yfinance`\n",
    "- Technical indicators using `ta`\n",
    "- News sentiment analysis with `VADER`\n",
    "- Visualization of price movements vs. sentiment trends\n",
    "\n",
    "**Period:** Last 6 months (daily intervals)  \n",
    "**Tools:** Python, `yfinance`, `ta`, `vaderSentiment`, `matplotlib`\n",
    "\n",
    "---\n"
   ]
  },
  {
   "cell_type": "markdown",
   "id": "121c314e",
   "metadata": {},
   "source": [
    "## 📦 2. Data Loading & Overview  <a id= '2-data-loading--overview'></a>"
   ]
  },
  {
   "cell_type": "code",
   "execution_count": 6,
   "id": "d8971b5b",
   "metadata": {},
   "outputs": [
    {
     "name": "stderr",
     "output_type": "stream",
     "text": [
      "INFO:data.load_data:Loading data from: /home/teshager/Documents/10Academy/repositories/projects/financial-news-sentiment-analysis/data/raw/yfinance_data/META_historical_data.csv (type=csv)\n",
      "INFO:data.load_data:Data loaded successfully. Shape: (2926, 9)\n"
     ]
    },
    {
     "data": {
      "text/html": [
       "<div>\n",
       "<style scoped>\n",
       "    .dataframe tbody tr th:only-of-type {\n",
       "        vertical-align: middle;\n",
       "    }\n",
       "\n",
       "    .dataframe tbody tr th {\n",
       "        vertical-align: top;\n",
       "    }\n",
       "\n",
       "    .dataframe thead th {\n",
       "        text-align: right;\n",
       "    }\n",
       "</style>\n",
       "<table border=\"1\" class=\"dataframe\">\n",
       "  <thead>\n",
       "    <tr style=\"text-align: right;\">\n",
       "      <th></th>\n",
       "      <th>Date</th>\n",
       "      <th>Open</th>\n",
       "      <th>High</th>\n",
       "      <th>Low</th>\n",
       "      <th>Close</th>\n",
       "      <th>Adj Close</th>\n",
       "      <th>Volume</th>\n",
       "      <th>Dividends</th>\n",
       "      <th>Stock Splits</th>\n",
       "    </tr>\n",
       "  </thead>\n",
       "  <tbody>\n",
       "    <tr>\n",
       "      <th>0</th>\n",
       "      <td>2012-12-12</td>\n",
       "      <td>28.000000</td>\n",
       "      <td>28.139999</td>\n",
       "      <td>27.370001</td>\n",
       "      <td>27.580000</td>\n",
       "      <td>27.523441</td>\n",
       "      <td>46704200</td>\n",
       "      <td>0.0</td>\n",
       "      <td>0.0</td>\n",
       "    </tr>\n",
       "    <tr>\n",
       "      <th>1</th>\n",
       "      <td>2012-12-13</td>\n",
       "      <td>27.590000</td>\n",
       "      <td>28.750000</td>\n",
       "      <td>27.430000</td>\n",
       "      <td>28.240000</td>\n",
       "      <td>28.182087</td>\n",
       "      <td>81051600</td>\n",
       "      <td>0.0</td>\n",
       "      <td>0.0</td>\n",
       "    </tr>\n",
       "    <tr>\n",
       "      <th>2</th>\n",
       "      <td>2012-12-14</td>\n",
       "      <td>28.180000</td>\n",
       "      <td>28.330000</td>\n",
       "      <td>26.760000</td>\n",
       "      <td>26.809999</td>\n",
       "      <td>26.755020</td>\n",
       "      <td>91631600</td>\n",
       "      <td>0.0</td>\n",
       "      <td>0.0</td>\n",
       "    </tr>\n",
       "    <tr>\n",
       "      <th>3</th>\n",
       "      <td>2012-12-17</td>\n",
       "      <td>26.770000</td>\n",
       "      <td>27.000000</td>\n",
       "      <td>26.320000</td>\n",
       "      <td>26.750000</td>\n",
       "      <td>26.695143</td>\n",
       "      <td>57742500</td>\n",
       "      <td>0.0</td>\n",
       "      <td>0.0</td>\n",
       "    </tr>\n",
       "    <tr>\n",
       "      <th>4</th>\n",
       "      <td>2012-12-18</td>\n",
       "      <td>26.959999</td>\n",
       "      <td>27.910000</td>\n",
       "      <td>26.900000</td>\n",
       "      <td>27.709999</td>\n",
       "      <td>27.653173</td>\n",
       "      <td>60512900</td>\n",
       "      <td>0.0</td>\n",
       "      <td>0.0</td>\n",
       "    </tr>\n",
       "  </tbody>\n",
       "</table>\n",
       "</div>"
      ],
      "text/plain": [
       "         Date       Open       High        Low      Close  Adj Close  \\\n",
       "0  2012-12-12  28.000000  28.139999  27.370001  27.580000  27.523441   \n",
       "1  2012-12-13  27.590000  28.750000  27.430000  28.240000  28.182087   \n",
       "2  2012-12-14  28.180000  28.330000  26.760000  26.809999  26.755020   \n",
       "3  2012-12-17  26.770000  27.000000  26.320000  26.750000  26.695143   \n",
       "4  2012-12-18  26.959999  27.910000  26.900000  27.709999  27.653173   \n",
       "\n",
       "     Volume  Dividends  Stock Splits  \n",
       "0  46704200        0.0           0.0  \n",
       "1  81051600        0.0           0.0  \n",
       "2  91631600        0.0           0.0  \n",
       "3  57742500        0.0           0.0  \n",
       "4  60512900        0.0           0.0  "
      ]
     },
     "execution_count": 6,
     "metadata": {},
     "output_type": "execute_result"
    }
   ],
   "source": [
    "# Load the stock news sentiment data\n",
    "df = load_local_data(RAW_DATA_PATH,)\n",
    "df.head()"
   ]
  },
  {
   "cell_type": "markdown",
   "id": "637af4c7",
   "metadata": {},
   "source": [
    "### Dataset Overview"
   ]
  },
  {
   "cell_type": "code",
   "execution_count": 7,
   "id": "7d5ebc45",
   "metadata": {},
   "outputs": [
    {
     "data": {
      "text/html": [
       "<div>\n",
       "<style scoped>\n",
       "    .dataframe tbody tr th:only-of-type {\n",
       "        vertical-align: middle;\n",
       "    }\n",
       "\n",
       "    .dataframe tbody tr th {\n",
       "        vertical-align: top;\n",
       "    }\n",
       "\n",
       "    .dataframe thead th {\n",
       "        text-align: right;\n",
       "    }\n",
       "</style>\n",
       "<table border=\"1\" class=\"dataframe\">\n",
       "  <thead>\n",
       "    <tr style=\"text-align: right;\">\n",
       "      <th></th>\n",
       "      <th>Date</th>\n",
       "      <th>Open</th>\n",
       "      <th>High</th>\n",
       "      <th>Low</th>\n",
       "      <th>Close</th>\n",
       "      <th>Adj Close</th>\n",
       "      <th>Volume</th>\n",
       "      <th>Dividends</th>\n",
       "      <th>Stock Splits</th>\n",
       "    </tr>\n",
       "  </thead>\n",
       "  <tbody>\n",
       "    <tr>\n",
       "      <th>199</th>\n",
       "      <td>2013-09-27</td>\n",
       "      <td>50.290001</td>\n",
       "      <td>51.279999</td>\n",
       "      <td>49.860001</td>\n",
       "      <td>51.240002</td>\n",
       "      <td>51.134922</td>\n",
       "      <td>81410500</td>\n",
       "      <td>0.0</td>\n",
       "      <td>0.0</td>\n",
       "    </tr>\n",
       "    <tr>\n",
       "      <th>537</th>\n",
       "      <td>2015-02-02</td>\n",
       "      <td>76.110001</td>\n",
       "      <td>76.139999</td>\n",
       "      <td>73.750000</td>\n",
       "      <td>74.989998</td>\n",
       "      <td>74.836220</td>\n",
       "      <td>41955300</td>\n",
       "      <td>0.0</td>\n",
       "      <td>0.0</td>\n",
       "    </tr>\n",
       "    <tr>\n",
       "      <th>1805</th>\n",
       "      <td>2020-02-14</td>\n",
       "      <td>214.000000</td>\n",
       "      <td>214.929993</td>\n",
       "      <td>212.649994</td>\n",
       "      <td>214.179993</td>\n",
       "      <td>213.740768</td>\n",
       "      <td>10741700</td>\n",
       "      <td>0.0</td>\n",
       "      <td>0.0</td>\n",
       "    </tr>\n",
       "    <tr>\n",
       "      <th>222</th>\n",
       "      <td>2013-10-30</td>\n",
       "      <td>50.000000</td>\n",
       "      <td>50.209999</td>\n",
       "      <td>48.750000</td>\n",
       "      <td>49.009998</td>\n",
       "      <td>48.909492</td>\n",
       "      <td>127073000</td>\n",
       "      <td>0.0</td>\n",
       "      <td>0.0</td>\n",
       "    </tr>\n",
       "    <tr>\n",
       "      <th>2265</th>\n",
       "      <td>2021-12-10</td>\n",
       "      <td>332.559998</td>\n",
       "      <td>335.029999</td>\n",
       "      <td>326.369995</td>\n",
       "      <td>329.750000</td>\n",
       "      <td>329.073761</td>\n",
       "      <td>14528000</td>\n",
       "      <td>0.0</td>\n",
       "      <td>0.0</td>\n",
       "    </tr>\n",
       "    <tr>\n",
       "      <th>1440</th>\n",
       "      <td>2018-08-31</td>\n",
       "      <td>177.149994</td>\n",
       "      <td>177.619995</td>\n",
       "      <td>174.979996</td>\n",
       "      <td>175.729996</td>\n",
       "      <td>175.369629</td>\n",
       "      <td>18065200</td>\n",
       "      <td>0.0</td>\n",
       "      <td>0.0</td>\n",
       "    </tr>\n",
       "    <tr>\n",
       "      <th>2886</th>\n",
       "      <td>2024-06-03</td>\n",
       "      <td>470.859985</td>\n",
       "      <td>479.600006</td>\n",
       "      <td>468.239990</td>\n",
       "      <td>477.489990</td>\n",
       "      <td>477.016388</td>\n",
       "      <td>11279400</td>\n",
       "      <td>0.0</td>\n",
       "      <td>0.0</td>\n",
       "    </tr>\n",
       "    <tr>\n",
       "      <th>1294</th>\n",
       "      <td>2018-02-02</td>\n",
       "      <td>192.039993</td>\n",
       "      <td>194.210007</td>\n",
       "      <td>189.979996</td>\n",
       "      <td>190.279999</td>\n",
       "      <td>189.889786</td>\n",
       "      <td>26677500</td>\n",
       "      <td>0.0</td>\n",
       "      <td>0.0</td>\n",
       "    </tr>\n",
       "    <tr>\n",
       "      <th>2290</th>\n",
       "      <td>2022-01-18</td>\n",
       "      <td>323.290009</td>\n",
       "      <td>324.209991</td>\n",
       "      <td>317.640015</td>\n",
       "      <td>318.149994</td>\n",
       "      <td>317.497559</td>\n",
       "      <td>22645600</td>\n",
       "      <td>0.0</td>\n",
       "      <td>0.0</td>\n",
       "    </tr>\n",
       "    <tr>\n",
       "      <th>2334</th>\n",
       "      <td>2022-03-22</td>\n",
       "      <td>211.369995</td>\n",
       "      <td>219.460007</td>\n",
       "      <td>210.179993</td>\n",
       "      <td>216.649994</td>\n",
       "      <td>216.205704</td>\n",
       "      <td>31998800</td>\n",
       "      <td>0.0</td>\n",
       "      <td>0.0</td>\n",
       "    </tr>\n",
       "  </tbody>\n",
       "</table>\n",
       "</div>"
      ],
      "text/plain": [
       "            Date        Open        High         Low       Close   Adj Close  \\\n",
       "199   2013-09-27   50.290001   51.279999   49.860001   51.240002   51.134922   \n",
       "537   2015-02-02   76.110001   76.139999   73.750000   74.989998   74.836220   \n",
       "1805  2020-02-14  214.000000  214.929993  212.649994  214.179993  213.740768   \n",
       "222   2013-10-30   50.000000   50.209999   48.750000   49.009998   48.909492   \n",
       "2265  2021-12-10  332.559998  335.029999  326.369995  329.750000  329.073761   \n",
       "1440  2018-08-31  177.149994  177.619995  174.979996  175.729996  175.369629   \n",
       "2886  2024-06-03  470.859985  479.600006  468.239990  477.489990  477.016388   \n",
       "1294  2018-02-02  192.039993  194.210007  189.979996  190.279999  189.889786   \n",
       "2290  2022-01-18  323.290009  324.209991  317.640015  318.149994  317.497559   \n",
       "2334  2022-03-22  211.369995  219.460007  210.179993  216.649994  216.205704   \n",
       "\n",
       "         Volume  Dividends  Stock Splits  \n",
       "199    81410500        0.0           0.0  \n",
       "537    41955300        0.0           0.0  \n",
       "1805   10741700        0.0           0.0  \n",
       "222   127073000        0.0           0.0  \n",
       "2265   14528000        0.0           0.0  \n",
       "1440   18065200        0.0           0.0  \n",
       "2886   11279400        0.0           0.0  \n",
       "1294   26677500        0.0           0.0  \n",
       "2290   22645600        0.0           0.0  \n",
       "2334   31998800        0.0           0.0  "
      ]
     },
     "execution_count": 7,
     "metadata": {},
     "output_type": "execute_result"
    }
   ],
   "source": [
    "#view sample data\n",
    "df.sample(10)"
   ]
  },
  {
   "cell_type": "code",
   "execution_count": 8,
   "id": "252de09b",
   "metadata": {},
   "outputs": [
    {
     "data": {
      "text/html": [
       "<div>\n",
       "<style scoped>\n",
       "    .dataframe tbody tr th:only-of-type {\n",
       "        vertical-align: middle;\n",
       "    }\n",
       "\n",
       "    .dataframe tbody tr th {\n",
       "        vertical-align: top;\n",
       "    }\n",
       "\n",
       "    .dataframe thead th {\n",
       "        text-align: right;\n",
       "    }\n",
       "</style>\n",
       "<table border=\"1\" class=\"dataframe\">\n",
       "  <thead>\n",
       "    <tr style=\"text-align: right;\">\n",
       "      <th></th>\n",
       "      <th>Date</th>\n",
       "      <th>Open</th>\n",
       "      <th>High</th>\n",
       "      <th>Low</th>\n",
       "      <th>Close</th>\n",
       "      <th>Adj Close</th>\n",
       "      <th>Volume</th>\n",
       "      <th>Dividends</th>\n",
       "      <th>Stock Splits</th>\n",
       "    </tr>\n",
       "  </thead>\n",
       "  <tbody>\n",
       "    <tr>\n",
       "      <th>2921</th>\n",
       "      <td>2024-07-24</td>\n",
       "      <td>472.309998</td>\n",
       "      <td>476.299988</td>\n",
       "      <td>460.579987</td>\n",
       "      <td>461.269989</td>\n",
       "      <td>461.269989</td>\n",
       "      <td>17649700</td>\n",
       "      <td>0.0</td>\n",
       "      <td>0.0</td>\n",
       "    </tr>\n",
       "    <tr>\n",
       "      <th>2922</th>\n",
       "      <td>2024-07-25</td>\n",
       "      <td>463.260010</td>\n",
       "      <td>463.549988</td>\n",
       "      <td>442.649994</td>\n",
       "      <td>453.410004</td>\n",
       "      <td>453.410004</td>\n",
       "      <td>18240500</td>\n",
       "      <td>0.0</td>\n",
       "      <td>0.0</td>\n",
       "    </tr>\n",
       "    <tr>\n",
       "      <th>2923</th>\n",
       "      <td>2024-07-26</td>\n",
       "      <td>464.200012</td>\n",
       "      <td>469.769989</td>\n",
       "      <td>459.420013</td>\n",
       "      <td>465.700012</td>\n",
       "      <td>465.700012</td>\n",
       "      <td>14222400</td>\n",
       "      <td>0.0</td>\n",
       "      <td>0.0</td>\n",
       "    </tr>\n",
       "    <tr>\n",
       "      <th>2924</th>\n",
       "      <td>2024-07-29</td>\n",
       "      <td>469.880005</td>\n",
       "      <td>473.959991</td>\n",
       "      <td>465.019989</td>\n",
       "      <td>465.709991</td>\n",
       "      <td>465.709991</td>\n",
       "      <td>11339600</td>\n",
       "      <td>0.0</td>\n",
       "      <td>0.0</td>\n",
       "    </tr>\n",
       "    <tr>\n",
       "      <th>2925</th>\n",
       "      <td>2024-07-30</td>\n",
       "      <td>467.000000</td>\n",
       "      <td>472.730011</td>\n",
       "      <td>456.700012</td>\n",
       "      <td>463.190002</td>\n",
       "      <td>463.190002</td>\n",
       "      <td>11390400</td>\n",
       "      <td>0.0</td>\n",
       "      <td>0.0</td>\n",
       "    </tr>\n",
       "  </tbody>\n",
       "</table>\n",
       "</div>"
      ],
      "text/plain": [
       "            Date        Open        High         Low       Close   Adj Close  \\\n",
       "2921  2024-07-24  472.309998  476.299988  460.579987  461.269989  461.269989   \n",
       "2922  2024-07-25  463.260010  463.549988  442.649994  453.410004  453.410004   \n",
       "2923  2024-07-26  464.200012  469.769989  459.420013  465.700012  465.700012   \n",
       "2924  2024-07-29  469.880005  473.959991  465.019989  465.709991  465.709991   \n",
       "2925  2024-07-30  467.000000  472.730011  456.700012  463.190002  463.190002   \n",
       "\n",
       "        Volume  Dividends  Stock Splits  \n",
       "2921  17649700        0.0           0.0  \n",
       "2922  18240500        0.0           0.0  \n",
       "2923  14222400        0.0           0.0  \n",
       "2924  11339600        0.0           0.0  \n",
       "2925  11390400        0.0           0.0  "
      ]
     },
     "execution_count": 8,
     "metadata": {},
     "output_type": "execute_result"
    }
   ],
   "source": [
    "#see the last rows\n",
    "df.tail()"
   ]
  },
  {
   "cell_type": "code",
   "execution_count": 9,
   "id": "fba08a7a",
   "metadata": {},
   "outputs": [
    {
     "data": {
      "text/plain": [
       "(2926, 9)"
      ]
     },
     "execution_count": 9,
     "metadata": {},
     "output_type": "execute_result"
    }
   ],
   "source": [
    "#shape of the dataset\n",
    "df.shape"
   ]
  },
  {
   "cell_type": "code",
   "execution_count": 10,
   "id": "fbb3ee50",
   "metadata": {},
   "outputs": [
    {
     "data": {
      "text/plain": [
       "Index(['Date', 'Open', 'High', 'Low', 'Close', 'Adj Close', 'Volume',\n",
       "       'Dividends', 'Stock Splits'],\n",
       "      dtype='object')"
      ]
     },
     "execution_count": 10,
     "metadata": {},
     "output_type": "execute_result"
    }
   ],
   "source": [
    "df.columns"
   ]
  },
  {
   "cell_type": "markdown",
   "id": "e2111194",
   "metadata": {},
   "source": [
    "## 📐 3. Data Types & Basic Stats <a id='3-data-types--basic-stats'></a>"
   ]
  },
  {
   "cell_type": "code",
   "execution_count": 11,
   "id": "5c2b1440",
   "metadata": {},
   "outputs": [
    {
     "data": {
      "text/html": [
       "<div>\n",
       "<style scoped>\n",
       "    .dataframe tbody tr th:only-of-type {\n",
       "        vertical-align: middle;\n",
       "    }\n",
       "\n",
       "    .dataframe tbody tr th {\n",
       "        vertical-align: top;\n",
       "    }\n",
       "\n",
       "    .dataframe thead th {\n",
       "        text-align: right;\n",
       "    }\n",
       "</style>\n",
       "<table border=\"1\" class=\"dataframe\">\n",
       "  <thead>\n",
       "    <tr style=\"text-align: right;\">\n",
       "      <th></th>\n",
       "      <th>count</th>\n",
       "      <th>mean</th>\n",
       "      <th>std</th>\n",
       "      <th>min</th>\n",
       "      <th>25%</th>\n",
       "      <th>50%</th>\n",
       "      <th>75%</th>\n",
       "      <th>max</th>\n",
       "    </tr>\n",
       "  </thead>\n",
       "  <tbody>\n",
       "    <tr>\n",
       "      <th>Open</th>\n",
       "      <td>2926.0</td>\n",
       "      <td>1.795572e+02</td>\n",
       "      <td>1.088649e+02</td>\n",
       "      <td>2.299000e+01</td>\n",
       "      <td>9.776750e+01</td>\n",
       "      <td>1.668700e+02</td>\n",
       "      <td>2.314500e+02</td>\n",
       "      <td>5.423500e+02</td>\n",
       "    </tr>\n",
       "    <tr>\n",
       "      <th>High</th>\n",
       "      <td>2926.0</td>\n",
       "      <td>1.818753e+02</td>\n",
       "      <td>1.102562e+02</td>\n",
       "      <td>2.309000e+01</td>\n",
       "      <td>9.877250e+01</td>\n",
       "      <td>1.688500e+02</td>\n",
       "      <td>2.349350e+02</td>\n",
       "      <td>5.428100e+02</td>\n",
       "    </tr>\n",
       "    <tr>\n",
       "      <th>Low</th>\n",
       "      <td>2926.0</td>\n",
       "      <td>1.773178e+02</td>\n",
       "      <td>1.075111e+02</td>\n",
       "      <td>2.267000e+01</td>\n",
       "      <td>9.589000e+01</td>\n",
       "      <td>1.642100e+02</td>\n",
       "      <td>2.286875e+02</td>\n",
       "      <td>5.283600e+02</td>\n",
       "    </tr>\n",
       "    <tr>\n",
       "      <th>Close</th>\n",
       "      <td>2926.0</td>\n",
       "      <td>1.796495e+02</td>\n",
       "      <td>1.089070e+02</td>\n",
       "      <td>2.290000e+01</td>\n",
       "      <td>9.738250e+01</td>\n",
       "      <td>1.668550e+02</td>\n",
       "      <td>2.324250e+02</td>\n",
       "      <td>5.399100e+02</td>\n",
       "    </tr>\n",
       "    <tr>\n",
       "      <th>Adj Close</th>\n",
       "      <td>2926.0</td>\n",
       "      <td>1.793059e+02</td>\n",
       "      <td>1.087551e+02</td>\n",
       "      <td>2.285304e+01</td>\n",
       "      <td>9.718279e+01</td>\n",
       "      <td>1.665128e+02</td>\n",
       "      <td>2.319484e+02</td>\n",
       "      <td>5.399100e+02</td>\n",
       "    </tr>\n",
       "    <tr>\n",
       "      <th>Volume</th>\n",
       "      <td>2926.0</td>\n",
       "      <td>2.872083e+07</td>\n",
       "      <td>2.269811e+07</td>\n",
       "      <td>5.467500e+06</td>\n",
       "      <td>1.571308e+07</td>\n",
       "      <td>2.176100e+07</td>\n",
       "      <td>3.294468e+07</td>\n",
       "      <td>3.654579e+08</td>\n",
       "    </tr>\n",
       "    <tr>\n",
       "      <th>Dividends</th>\n",
       "      <td>2926.0</td>\n",
       "      <td>3.417635e-04</td>\n",
       "      <td>1.306994e-02</td>\n",
       "      <td>0.000000e+00</td>\n",
       "      <td>0.000000e+00</td>\n",
       "      <td>0.000000e+00</td>\n",
       "      <td>0.000000e+00</td>\n",
       "      <td>5.000000e-01</td>\n",
       "    </tr>\n",
       "    <tr>\n",
       "      <th>Stock Splits</th>\n",
       "      <td>2926.0</td>\n",
       "      <td>0.000000e+00</td>\n",
       "      <td>0.000000e+00</td>\n",
       "      <td>0.000000e+00</td>\n",
       "      <td>0.000000e+00</td>\n",
       "      <td>0.000000e+00</td>\n",
       "      <td>0.000000e+00</td>\n",
       "      <td>0.000000e+00</td>\n",
       "    </tr>\n",
       "  </tbody>\n",
       "</table>\n",
       "</div>"
      ],
      "text/plain": [
       "               count          mean           std           min           25%  \\\n",
       "Open          2926.0  1.795572e+02  1.088649e+02  2.299000e+01  9.776750e+01   \n",
       "High          2926.0  1.818753e+02  1.102562e+02  2.309000e+01  9.877250e+01   \n",
       "Low           2926.0  1.773178e+02  1.075111e+02  2.267000e+01  9.589000e+01   \n",
       "Close         2926.0  1.796495e+02  1.089070e+02  2.290000e+01  9.738250e+01   \n",
       "Adj Close     2926.0  1.793059e+02  1.087551e+02  2.285304e+01  9.718279e+01   \n",
       "Volume        2926.0  2.872083e+07  2.269811e+07  5.467500e+06  1.571308e+07   \n",
       "Dividends     2926.0  3.417635e-04  1.306994e-02  0.000000e+00  0.000000e+00   \n",
       "Stock Splits  2926.0  0.000000e+00  0.000000e+00  0.000000e+00  0.000000e+00   \n",
       "\n",
       "                       50%           75%           max  \n",
       "Open          1.668700e+02  2.314500e+02  5.423500e+02  \n",
       "High          1.688500e+02  2.349350e+02  5.428100e+02  \n",
       "Low           1.642100e+02  2.286875e+02  5.283600e+02  \n",
       "Close         1.668550e+02  2.324250e+02  5.399100e+02  \n",
       "Adj Close     1.665128e+02  2.319484e+02  5.399100e+02  \n",
       "Volume        2.176100e+07  3.294468e+07  3.654579e+08  \n",
       "Dividends     0.000000e+00  0.000000e+00  5.000000e-01  \n",
       "Stock Splits  0.000000e+00  0.000000e+00  0.000000e+00  "
      ]
     },
     "execution_count": 11,
     "metadata": {},
     "output_type": "execute_result"
    }
   ],
   "source": [
    "#Numerical Columns\n",
    "df.describe().T"
   ]
  },
  {
   "cell_type": "code",
   "execution_count": 12,
   "id": "e32e8398",
   "metadata": {},
   "outputs": [
    {
     "data": {
      "text/html": [
       "<div>\n",
       "<style scoped>\n",
       "    .dataframe tbody tr th:only-of-type {\n",
       "        vertical-align: middle;\n",
       "    }\n",
       "\n",
       "    .dataframe tbody tr th {\n",
       "        vertical-align: top;\n",
       "    }\n",
       "\n",
       "    .dataframe thead th {\n",
       "        text-align: right;\n",
       "    }\n",
       "</style>\n",
       "<table border=\"1\" class=\"dataframe\">\n",
       "  <thead>\n",
       "    <tr style=\"text-align: right;\">\n",
       "      <th></th>\n",
       "      <th>count</th>\n",
       "      <th>unique</th>\n",
       "      <th>top</th>\n",
       "      <th>freq</th>\n",
       "    </tr>\n",
       "  </thead>\n",
       "  <tbody>\n",
       "    <tr>\n",
       "      <th>Date</th>\n",
       "      <td>2926</td>\n",
       "      <td>2926</td>\n",
       "      <td>2012-12-12</td>\n",
       "      <td>1</td>\n",
       "    </tr>\n",
       "  </tbody>\n",
       "</table>\n",
       "</div>"
      ],
      "text/plain": [
       "     count unique         top freq\n",
       "Date  2926   2926  2012-12-12    1"
      ]
     },
     "execution_count": 12,
     "metadata": {},
     "output_type": "execute_result"
    }
   ],
   "source": [
    "#for columns of object type\n",
    "df.describe(include=['O']).T"
   ]
  },
  {
   "cell_type": "code",
   "execution_count": 13,
   "id": "12c32634",
   "metadata": {},
   "outputs": [
    {
     "name": "stdout",
     "output_type": "stream",
     "text": [
      "<class 'pandas.core.frame.DataFrame'>\n",
      "RangeIndex: 2926 entries, 0 to 2925\n",
      "Data columns (total 9 columns):\n",
      " #   Column        Non-Null Count  Dtype  \n",
      "---  ------        --------------  -----  \n",
      " 0   Date          2926 non-null   object \n",
      " 1   Open          2926 non-null   float64\n",
      " 2   High          2926 non-null   float64\n",
      " 3   Low           2926 non-null   float64\n",
      " 4   Close         2926 non-null   float64\n",
      " 5   Adj Close     2926 non-null   float64\n",
      " 6   Volume        2926 non-null   int64  \n",
      " 7   Dividends     2926 non-null   float64\n",
      " 8   Stock Splits  2926 non-null   float64\n",
      "dtypes: float64(7), int64(1), object(1)\n",
      "memory usage: 205.9+ KB\n"
     ]
    }
   ],
   "source": [
    "# data types of the columns\n",
    "df.info()"
   ]
  },
  {
   "cell_type": "code",
   "execution_count": 14,
   "id": "9a2a7204",
   "metadata": {},
   "outputs": [
    {
     "data": {
      "text/plain": [
       "Date            2926\n",
       "Volume          2918\n",
       "Adj Close       2778\n",
       "Close           2777\n",
       "Low             2749\n",
       "High            2748\n",
       "Open            2738\n",
       "Dividends          2\n",
       "Stock Splits       1\n",
       "dtype: int64"
      ]
     },
     "execution_count": 14,
     "metadata": {},
     "output_type": "execute_result"
    }
   ],
   "source": [
    "#distinct values in each column\n",
    "df.nunique().sort_values(ascending=False)"
   ]
  },
  {
   "cell_type": "markdown",
   "id": "cd48a90b",
   "metadata": {},
   "source": [
    "## 🔍 4. Data Quality Analysis <a id='4-data-quality-analysis'></a>"
   ]
  },
  {
   "cell_type": "code",
   "execution_count": 15,
   "id": "fda7f18c",
   "metadata": {},
   "outputs": [],
   "source": [
    "#instantiate the DataQualityUtils class\n",
    "dq=DataQualityUtils(df)"
   ]
  },
  {
   "cell_type": "code",
   "execution_count": 16,
   "id": "402fd66b",
   "metadata": {},
   "outputs": [
    {
     "data": {
      "text/html": [
       "<div>\n",
       "<style scoped>\n",
       "    .dataframe tbody tr th:only-of-type {\n",
       "        vertical-align: middle;\n",
       "    }\n",
       "\n",
       "    .dataframe tbody tr th {\n",
       "        vertical-align: top;\n",
       "    }\n",
       "\n",
       "    .dataframe thead th {\n",
       "        text-align: right;\n",
       "    }\n",
       "</style>\n",
       "<table border=\"1\" class=\"dataframe\">\n",
       "  <thead>\n",
       "    <tr style=\"text-align: right;\">\n",
       "      <th></th>\n",
       "      <th>#missing_values</th>\n",
       "      <th>percentage</th>\n",
       "    </tr>\n",
       "  </thead>\n",
       "  <tbody>\n",
       "    <tr>\n",
       "      <th>Date</th>\n",
       "      <td>0</td>\n",
       "      <td>0.00%</td>\n",
       "    </tr>\n",
       "    <tr>\n",
       "      <th>Open</th>\n",
       "      <td>0</td>\n",
       "      <td>0.00%</td>\n",
       "    </tr>\n",
       "    <tr>\n",
       "      <th>High</th>\n",
       "      <td>0</td>\n",
       "      <td>0.00%</td>\n",
       "    </tr>\n",
       "    <tr>\n",
       "      <th>Low</th>\n",
       "      <td>0</td>\n",
       "      <td>0.00%</td>\n",
       "    </tr>\n",
       "    <tr>\n",
       "      <th>Close</th>\n",
       "      <td>0</td>\n",
       "      <td>0.00%</td>\n",
       "    </tr>\n",
       "    <tr>\n",
       "      <th>Adj Close</th>\n",
       "      <td>0</td>\n",
       "      <td>0.00%</td>\n",
       "    </tr>\n",
       "    <tr>\n",
       "      <th>Volume</th>\n",
       "      <td>0</td>\n",
       "      <td>0.00%</td>\n",
       "    </tr>\n",
       "    <tr>\n",
       "      <th>Dividends</th>\n",
       "      <td>0</td>\n",
       "      <td>0.00%</td>\n",
       "    </tr>\n",
       "    <tr>\n",
       "      <th>Stock Splits</th>\n",
       "      <td>0</td>\n",
       "      <td>0.00%</td>\n",
       "    </tr>\n",
       "  </tbody>\n",
       "</table>\n",
       "</div>"
      ],
      "text/plain": [
       "              #missing_values percentage\n",
       "Date                        0      0.00%\n",
       "Open                        0      0.00%\n",
       "High                        0      0.00%\n",
       "Low                         0      0.00%\n",
       "Close                       0      0.00%\n",
       "Adj Close                   0      0.00%\n",
       "Volume                      0      0.00%\n",
       "Dividends                   0      0.00%\n",
       "Stock Splits                0      0.00%"
      ]
     },
     "execution_count": 16,
     "metadata": {},
     "output_type": "execute_result"
    }
   ],
   "source": [
    "#count of missing values per column\n",
    "dq.summary()"
   ]
  },
  {
   "cell_type": "markdown",
   "id": "f3d4dbe5",
   "metadata": {},
   "source": [
    "### Missing Values"
   ]
  },
  {
   "cell_type": "code",
   "execution_count": 17,
   "id": "b322f8a8",
   "metadata": {},
   "outputs": [
    {
     "data": {
      "text/html": [
       "<div>\n",
       "<style scoped>\n",
       "    .dataframe tbody tr th:only-of-type {\n",
       "        vertical-align: middle;\n",
       "    }\n",
       "\n",
       "    .dataframe tbody tr th {\n",
       "        vertical-align: top;\n",
       "    }\n",
       "\n",
       "    .dataframe thead th {\n",
       "        text-align: right;\n",
       "    }\n",
       "</style>\n",
       "<table border=\"1\" class=\"dataframe\">\n",
       "  <thead>\n",
       "    <tr style=\"text-align: right;\">\n",
       "      <th></th>\n",
       "      <th>#missing_values</th>\n",
       "      <th>percentage</th>\n",
       "    </tr>\n",
       "  </thead>\n",
       "  <tbody>\n",
       "  </tbody>\n",
       "</table>\n",
       "</div>"
      ],
      "text/plain": [
       "Empty DataFrame\n",
       "Columns: [#missing_values, percentage]\n",
       "Index: []"
      ]
     },
     "execution_count": 17,
     "metadata": {},
     "output_type": "execute_result"
    }
   ],
   "source": [
    "#column with >5% nulls\n",
    "dq.columns_with_significant_missing_values(threshold=5)"
   ]
  },
  {
   "cell_type": "markdown",
   "id": "440dc15d",
   "metadata": {},
   "source": [
    "### Duplicates"
   ]
  },
  {
   "cell_type": "code",
   "execution_count": 18,
   "id": "5da9df66",
   "metadata": {},
   "outputs": [
    {
     "data": {
      "text/plain": [
       "0"
      ]
     },
     "execution_count": 18,
     "metadata": {},
     "output_type": "execute_result"
    }
   ],
   "source": [
    "#count duplicates\n",
    "dq.count_duplicates()"
   ]
  },
  {
   "cell_type": "markdown",
   "id": "b1c73167",
   "metadata": {},
   "source": [
    "### Invalid Values"
   ]
  },
  {
   "cell_type": "code",
   "execution_count": 19,
   "id": "d9e6b786",
   "metadata": {},
   "outputs": [
    {
     "data": {
      "text/plain": [
       "{}"
      ]
     },
     "execution_count": 19,
     "metadata": {},
     "output_type": "execute_result"
    }
   ],
   "source": [
    "dq.find_invalid_values()"
   ]
  },
  {
   "cell_type": "markdown",
   "id": "3aa9c9d5",
   "metadata": {},
   "source": [
    "## 🧹 5. Data Cleaning  <a id='5-data-cleaning'></a>"
   ]
  },
  {
   "cell_type": "code",
   "execution_count": 20,
   "id": "98dde7ed",
   "metadata": {},
   "outputs": [],
   "source": [
    "#saving the original dataset for later use\n",
    "df_original=df.copy()"
   ]
  },
  {
   "cell_type": "markdown",
   "id": "4581d672",
   "metadata": {},
   "source": [
    "### Inconsistencies and Inaccuracies"
   ]
  },
  {
   "cell_type": "code",
   "execution_count": 21,
   "id": "0fcea5f2",
   "metadata": {},
   "outputs": [],
   "source": [
    "#drop redundancies and clean column names\n",
    "df=dq.drop_redundant_columns()"
   ]
  },
  {
   "cell_type": "code",
   "execution_count": 22,
   "id": "a60f03c9",
   "metadata": {},
   "outputs": [
    {
     "name": "stdout",
     "output_type": "stream",
     "text": [
      "[Date] Converted: 2926/2926 (0 became NaT)\n"
     ]
    }
   ],
   "source": [
    "df=dq.convert_columns_to_datetime()"
   ]
  },
  {
   "cell_type": "code",
   "execution_count": 23,
   "id": "cad094ce",
   "metadata": {},
   "outputs": [
    {
     "name": "stdout",
     "output_type": "stream",
     "text": [
      "<class 'pandas.core.frame.DataFrame'>\n",
      "RangeIndex: 2926 entries, 0 to 2925\n",
      "Data columns (total 9 columns):\n",
      " #   Column        Non-Null Count  Dtype              \n",
      "---  ------        --------------  -----              \n",
      " 0   Date          2926 non-null   datetime64[ns, UTC]\n",
      " 1   Open          2926 non-null   float64            \n",
      " 2   High          2926 non-null   float64            \n",
      " 3   Low           2926 non-null   float64            \n",
      " 4   Close         2926 non-null   float64            \n",
      " 5   Adj Close     2926 non-null   float64            \n",
      " 6   Volume        2926 non-null   int64              \n",
      " 7   Dividends     2926 non-null   float64            \n",
      " 8   Stock Splits  2926 non-null   float64            \n",
      "dtypes: datetime64[ns, UTC](1), float64(7), int64(1)\n",
      "memory usage: 205.9 KB\n"
     ]
    }
   ],
   "source": [
    "df.info()"
   ]
  },
  {
   "cell_type": "code",
   "execution_count": 24,
   "id": "b210c10f",
   "metadata": {},
   "outputs": [
    {
     "data": {
      "text/plain": [
       "Index(['Date', 'Open', 'High', 'Low', 'Close', 'Adj Close', 'Volume',\n",
       "       'Dividends', 'Stock Splits'],\n",
       "      dtype='object')"
      ]
     },
     "execution_count": 24,
     "metadata": {},
     "output_type": "execute_result"
    }
   ],
   "source": [
    "df.columns"
   ]
  },
  {
   "cell_type": "code",
   "execution_count": 25,
   "id": "a443d88f",
   "metadata": {},
   "outputs": [
    {
     "data": {
      "text/html": [
       "<div>\n",
       "<style scoped>\n",
       "    .dataframe tbody tr th:only-of-type {\n",
       "        vertical-align: middle;\n",
       "    }\n",
       "\n",
       "    .dataframe tbody tr th {\n",
       "        vertical-align: top;\n",
       "    }\n",
       "\n",
       "    .dataframe thead th {\n",
       "        text-align: right;\n",
       "    }\n",
       "</style>\n",
       "<table border=\"1\" class=\"dataframe\">\n",
       "  <thead>\n",
       "    <tr style=\"text-align: right;\">\n",
       "      <th></th>\n",
       "      <th>Date</th>\n",
       "      <th>Open</th>\n",
       "      <th>High</th>\n",
       "      <th>Low</th>\n",
       "      <th>Close</th>\n",
       "      <th>Adj Close</th>\n",
       "      <th>Volume</th>\n",
       "      <th>Dividends</th>\n",
       "      <th>Stock Splits</th>\n",
       "    </tr>\n",
       "  </thead>\n",
       "  <tbody>\n",
       "    <tr>\n",
       "      <th>2144</th>\n",
       "      <td>2021-06-21 00:00:00+00:00</td>\n",
       "      <td>331.089996</td>\n",
       "      <td>332.920013</td>\n",
       "      <td>327.649994</td>\n",
       "      <td>332.290009</td>\n",
       "      <td>331.608582</td>\n",
       "      <td>11337500</td>\n",
       "      <td>0.0</td>\n",
       "      <td>0.0</td>\n",
       "    </tr>\n",
       "    <tr>\n",
       "      <th>2063</th>\n",
       "      <td>2021-02-24 00:00:00+00:00</td>\n",
       "      <td>262.329987</td>\n",
       "      <td>266.380005</td>\n",
       "      <td>258.390015</td>\n",
       "      <td>264.309998</td>\n",
       "      <td>263.767944</td>\n",
       "      <td>15736100</td>\n",
       "      <td>0.0</td>\n",
       "      <td>0.0</td>\n",
       "    </tr>\n",
       "    <tr>\n",
       "      <th>2016</th>\n",
       "      <td>2020-12-15 00:00:00+00:00</td>\n",
       "      <td>274.829987</td>\n",
       "      <td>276.079987</td>\n",
       "      <td>267.470001</td>\n",
       "      <td>275.549988</td>\n",
       "      <td>274.984924</td>\n",
       "      <td>23979500</td>\n",
       "      <td>0.0</td>\n",
       "      <td>0.0</td>\n",
       "    </tr>\n",
       "    <tr>\n",
       "      <th>602</th>\n",
       "      <td>2015-05-06 00:00:00+00:00</td>\n",
       "      <td>77.970001</td>\n",
       "      <td>78.809998</td>\n",
       "      <td>77.050003</td>\n",
       "      <td>78.099998</td>\n",
       "      <td>77.939835</td>\n",
       "      <td>28663000</td>\n",
       "      <td>0.0</td>\n",
       "      <td>0.0</td>\n",
       "    </tr>\n",
       "    <tr>\n",
       "      <th>1240</th>\n",
       "      <td>2017-11-14 00:00:00+00:00</td>\n",
       "      <td>178.130005</td>\n",
       "      <td>178.970001</td>\n",
       "      <td>177.179993</td>\n",
       "      <td>178.070007</td>\n",
       "      <td>177.704834</td>\n",
       "      <td>9585900</td>\n",
       "      <td>0.0</td>\n",
       "      <td>0.0</td>\n",
       "    </tr>\n",
       "    <tr>\n",
       "      <th>651</th>\n",
       "      <td>2015-07-16 00:00:00+00:00</td>\n",
       "      <td>90.279999</td>\n",
       "      <td>90.860001</td>\n",
       "      <td>89.769997</td>\n",
       "      <td>90.849998</td>\n",
       "      <td>90.663689</td>\n",
       "      <td>21804100</td>\n",
       "      <td>0.0</td>\n",
       "      <td>0.0</td>\n",
       "    </tr>\n",
       "    <tr>\n",
       "      <th>1183</th>\n",
       "      <td>2017-08-24 00:00:00+00:00</td>\n",
       "      <td>168.880005</td>\n",
       "      <td>169.289993</td>\n",
       "      <td>166.410004</td>\n",
       "      <td>167.740005</td>\n",
       "      <td>167.396011</td>\n",
       "      <td>14030400</td>\n",
       "      <td>0.0</td>\n",
       "      <td>0.0</td>\n",
       "    </tr>\n",
       "    <tr>\n",
       "      <th>1603</th>\n",
       "      <td>2019-04-29 00:00:00+00:00</td>\n",
       "      <td>190.949997</td>\n",
       "      <td>195.410004</td>\n",
       "      <td>190.649994</td>\n",
       "      <td>194.779999</td>\n",
       "      <td>194.380569</td>\n",
       "      <td>19641300</td>\n",
       "      <td>0.0</td>\n",
       "      <td>0.0</td>\n",
       "    </tr>\n",
       "    <tr>\n",
       "      <th>2209</th>\n",
       "      <td>2021-09-22 00:00:00+00:00</td>\n",
       "      <td>347.230011</td>\n",
       "      <td>349.839996</td>\n",
       "      <td>340.690002</td>\n",
       "      <td>343.209991</td>\n",
       "      <td>342.506165</td>\n",
       "      <td>43692900</td>\n",
       "      <td>0.0</td>\n",
       "      <td>0.0</td>\n",
       "    </tr>\n",
       "    <tr>\n",
       "      <th>2510</th>\n",
       "      <td>2022-12-01 00:00:00+00:00</td>\n",
       "      <td>119.199997</td>\n",
       "      <td>121.199997</td>\n",
       "      <td>118.400002</td>\n",
       "      <td>120.440002</td>\n",
       "      <td>120.193016</td>\n",
       "      <td>36551400</td>\n",
       "      <td>0.0</td>\n",
       "      <td>0.0</td>\n",
       "    </tr>\n",
       "  </tbody>\n",
       "</table>\n",
       "</div>"
      ],
      "text/plain": [
       "                          Date        Open        High         Low  \\\n",
       "2144 2021-06-21 00:00:00+00:00  331.089996  332.920013  327.649994   \n",
       "2063 2021-02-24 00:00:00+00:00  262.329987  266.380005  258.390015   \n",
       "2016 2020-12-15 00:00:00+00:00  274.829987  276.079987  267.470001   \n",
       "602  2015-05-06 00:00:00+00:00   77.970001   78.809998   77.050003   \n",
       "1240 2017-11-14 00:00:00+00:00  178.130005  178.970001  177.179993   \n",
       "651  2015-07-16 00:00:00+00:00   90.279999   90.860001   89.769997   \n",
       "1183 2017-08-24 00:00:00+00:00  168.880005  169.289993  166.410004   \n",
       "1603 2019-04-29 00:00:00+00:00  190.949997  195.410004  190.649994   \n",
       "2209 2021-09-22 00:00:00+00:00  347.230011  349.839996  340.690002   \n",
       "2510 2022-12-01 00:00:00+00:00  119.199997  121.199997  118.400002   \n",
       "\n",
       "           Close   Adj Close    Volume  Dividends  Stock Splits  \n",
       "2144  332.290009  331.608582  11337500        0.0           0.0  \n",
       "2063  264.309998  263.767944  15736100        0.0           0.0  \n",
       "2016  275.549988  274.984924  23979500        0.0           0.0  \n",
       "602    78.099998   77.939835  28663000        0.0           0.0  \n",
       "1240  178.070007  177.704834   9585900        0.0           0.0  \n",
       "651    90.849998   90.663689  21804100        0.0           0.0  \n",
       "1183  167.740005  167.396011  14030400        0.0           0.0  \n",
       "1603  194.779999  194.380569  19641300        0.0           0.0  \n",
       "2209  343.209991  342.506165  43692900        0.0           0.0  \n",
       "2510  120.440002  120.193016  36551400        0.0           0.0  "
      ]
     },
     "execution_count": 25,
     "metadata": {},
     "output_type": "execute_result"
    }
   ],
   "source": [
    "df.sample(10)"
   ]
  },
  {
   "cell_type": "code",
   "execution_count": 26,
   "id": "b1933a6a",
   "metadata": {},
   "outputs": [],
   "source": [
    "# Save to csv\n",
    "df.to_csv(CLEANED_DATA_PATH, index=False)"
   ]
  },
  {
   "cell_type": "markdown",
   "id": "15d7e3c6",
   "metadata": {},
   "source": [
    "## 6. Analyze"
   ]
  },
  {
   "cell_type": "code",
   "execution_count": 27,
   "id": "40454725",
   "metadata": {},
   "outputs": [
    {
     "data": {
      "text/html": [
       "<div>\n",
       "<style scoped>\n",
       "    .dataframe tbody tr th:only-of-type {\n",
       "        vertical-align: middle;\n",
       "    }\n",
       "\n",
       "    .dataframe tbody tr th {\n",
       "        vertical-align: top;\n",
       "    }\n",
       "\n",
       "    .dataframe thead th {\n",
       "        text-align: right;\n",
       "    }\n",
       "</style>\n",
       "<table border=\"1\" class=\"dataframe\">\n",
       "  <thead>\n",
       "    <tr style=\"text-align: right;\">\n",
       "      <th></th>\n",
       "      <th>Date</th>\n",
       "      <th>Open</th>\n",
       "      <th>High</th>\n",
       "      <th>Low</th>\n",
       "      <th>Close</th>\n",
       "      <th>Adj Close</th>\n",
       "      <th>Volume</th>\n",
       "      <th>Dividends</th>\n",
       "      <th>Stock Splits</th>\n",
       "    </tr>\n",
       "  </thead>\n",
       "  <tbody>\n",
       "    <tr>\n",
       "      <th>0</th>\n",
       "      <td>2012-12-12 00:00:00+00:00</td>\n",
       "      <td>28.000000</td>\n",
       "      <td>28.139999</td>\n",
       "      <td>27.370001</td>\n",
       "      <td>27.580000</td>\n",
       "      <td>27.523441</td>\n",
       "      <td>46704200</td>\n",
       "      <td>0.0</td>\n",
       "      <td>0.0</td>\n",
       "    </tr>\n",
       "    <tr>\n",
       "      <th>1</th>\n",
       "      <td>2012-12-13 00:00:00+00:00</td>\n",
       "      <td>27.590000</td>\n",
       "      <td>28.750000</td>\n",
       "      <td>27.430000</td>\n",
       "      <td>28.240000</td>\n",
       "      <td>28.182087</td>\n",
       "      <td>81051600</td>\n",
       "      <td>0.0</td>\n",
       "      <td>0.0</td>\n",
       "    </tr>\n",
       "    <tr>\n",
       "      <th>2</th>\n",
       "      <td>2012-12-14 00:00:00+00:00</td>\n",
       "      <td>28.180000</td>\n",
       "      <td>28.330000</td>\n",
       "      <td>26.760000</td>\n",
       "      <td>26.809999</td>\n",
       "      <td>26.755020</td>\n",
       "      <td>91631600</td>\n",
       "      <td>0.0</td>\n",
       "      <td>0.0</td>\n",
       "    </tr>\n",
       "    <tr>\n",
       "      <th>3</th>\n",
       "      <td>2012-12-17 00:00:00+00:00</td>\n",
       "      <td>26.770000</td>\n",
       "      <td>27.000000</td>\n",
       "      <td>26.320000</td>\n",
       "      <td>26.750000</td>\n",
       "      <td>26.695143</td>\n",
       "      <td>57742500</td>\n",
       "      <td>0.0</td>\n",
       "      <td>0.0</td>\n",
       "    </tr>\n",
       "    <tr>\n",
       "      <th>4</th>\n",
       "      <td>2012-12-18 00:00:00+00:00</td>\n",
       "      <td>26.959999</td>\n",
       "      <td>27.910000</td>\n",
       "      <td>26.900000</td>\n",
       "      <td>27.709999</td>\n",
       "      <td>27.653173</td>\n",
       "      <td>60512900</td>\n",
       "      <td>0.0</td>\n",
       "      <td>0.0</td>\n",
       "    </tr>\n",
       "    <tr>\n",
       "      <th>...</th>\n",
       "      <td>...</td>\n",
       "      <td>...</td>\n",
       "      <td>...</td>\n",
       "      <td>...</td>\n",
       "      <td>...</td>\n",
       "      <td>...</td>\n",
       "      <td>...</td>\n",
       "      <td>...</td>\n",
       "      <td>...</td>\n",
       "    </tr>\n",
       "    <tr>\n",
       "      <th>2921</th>\n",
       "      <td>2024-07-24 00:00:00+00:00</td>\n",
       "      <td>472.309998</td>\n",
       "      <td>476.299988</td>\n",
       "      <td>460.579987</td>\n",
       "      <td>461.269989</td>\n",
       "      <td>461.269989</td>\n",
       "      <td>17649700</td>\n",
       "      <td>0.0</td>\n",
       "      <td>0.0</td>\n",
       "    </tr>\n",
       "    <tr>\n",
       "      <th>2922</th>\n",
       "      <td>2024-07-25 00:00:00+00:00</td>\n",
       "      <td>463.260010</td>\n",
       "      <td>463.549988</td>\n",
       "      <td>442.649994</td>\n",
       "      <td>453.410004</td>\n",
       "      <td>453.410004</td>\n",
       "      <td>18240500</td>\n",
       "      <td>0.0</td>\n",
       "      <td>0.0</td>\n",
       "    </tr>\n",
       "    <tr>\n",
       "      <th>2923</th>\n",
       "      <td>2024-07-26 00:00:00+00:00</td>\n",
       "      <td>464.200012</td>\n",
       "      <td>469.769989</td>\n",
       "      <td>459.420013</td>\n",
       "      <td>465.700012</td>\n",
       "      <td>465.700012</td>\n",
       "      <td>14222400</td>\n",
       "      <td>0.0</td>\n",
       "      <td>0.0</td>\n",
       "    </tr>\n",
       "    <tr>\n",
       "      <th>2924</th>\n",
       "      <td>2024-07-29 00:00:00+00:00</td>\n",
       "      <td>469.880005</td>\n",
       "      <td>473.959991</td>\n",
       "      <td>465.019989</td>\n",
       "      <td>465.709991</td>\n",
       "      <td>465.709991</td>\n",
       "      <td>11339600</td>\n",
       "      <td>0.0</td>\n",
       "      <td>0.0</td>\n",
       "    </tr>\n",
       "    <tr>\n",
       "      <th>2925</th>\n",
       "      <td>2024-07-30 00:00:00+00:00</td>\n",
       "      <td>467.000000</td>\n",
       "      <td>472.730011</td>\n",
       "      <td>456.700012</td>\n",
       "      <td>463.190002</td>\n",
       "      <td>463.190002</td>\n",
       "      <td>11390400</td>\n",
       "      <td>0.0</td>\n",
       "      <td>0.0</td>\n",
       "    </tr>\n",
       "  </tbody>\n",
       "</table>\n",
       "<p>2926 rows × 9 columns</p>\n",
       "</div>"
      ],
      "text/plain": [
       "                          Date        Open        High         Low  \\\n",
       "0    2012-12-12 00:00:00+00:00   28.000000   28.139999   27.370001   \n",
       "1    2012-12-13 00:00:00+00:00   27.590000   28.750000   27.430000   \n",
       "2    2012-12-14 00:00:00+00:00   28.180000   28.330000   26.760000   \n",
       "3    2012-12-17 00:00:00+00:00   26.770000   27.000000   26.320000   \n",
       "4    2012-12-18 00:00:00+00:00   26.959999   27.910000   26.900000   \n",
       "...                        ...         ...         ...         ...   \n",
       "2921 2024-07-24 00:00:00+00:00  472.309998  476.299988  460.579987   \n",
       "2922 2024-07-25 00:00:00+00:00  463.260010  463.549988  442.649994   \n",
       "2923 2024-07-26 00:00:00+00:00  464.200012  469.769989  459.420013   \n",
       "2924 2024-07-29 00:00:00+00:00  469.880005  473.959991  465.019989   \n",
       "2925 2024-07-30 00:00:00+00:00  467.000000  472.730011  456.700012   \n",
       "\n",
       "           Close   Adj Close    Volume  Dividends  Stock Splits  \n",
       "0      27.580000   27.523441  46704200        0.0           0.0  \n",
       "1      28.240000   28.182087  81051600        0.0           0.0  \n",
       "2      26.809999   26.755020  91631600        0.0           0.0  \n",
       "3      26.750000   26.695143  57742500        0.0           0.0  \n",
       "4      27.709999   27.653173  60512900        0.0           0.0  \n",
       "...          ...         ...       ...        ...           ...  \n",
       "2921  461.269989  461.269989  17649700        0.0           0.0  \n",
       "2922  453.410004  453.410004  18240500        0.0           0.0  \n",
       "2923  465.700012  465.700012  14222400        0.0           0.0  \n",
       "2924  465.709991  465.709991  11339600        0.0           0.0  \n",
       "2925  463.190002  463.190002  11390400        0.0           0.0  \n",
       "\n",
       "[2926 rows x 9 columns]"
      ]
     },
     "execution_count": 27,
     "metadata": {},
     "output_type": "execute_result"
    }
   ],
   "source": [
    "# Load the ticker analyze\n",
    "ta = TickerAnalyzer(\"AAPL\")\n",
    "ta.load_price_data_from_csv(CLEANED_DATA_PATH)"
   ]
  },
  {
   "cell_type": "code",
   "execution_count": 28,
   "id": "ca5100ba",
   "metadata": {},
   "outputs": [],
   "source": [
    "# Instantiate the analyzer for a specific ticker (ticker is mostly for metadata here)\n",
    "analyzer = TickerAnalyzer(ticker=\"AAPL\", period=\"1y\", interval=\"1d\")"
   ]
  },
  {
   "cell_type": "code",
   "execution_count": 29,
   "id": "7a4ff3c1",
   "metadata": {},
   "outputs": [
    {
     "name": "stdout",
     "output_type": "stream",
     "text": [
      "Price Data Sample:\n",
      "                       Date       Open       High        Low      Close  \\\n",
      "0 2012-12-12 00:00:00+00:00  28.000000  28.139999  27.370001  27.580000   \n",
      "1 2012-12-13 00:00:00+00:00  27.590000  28.750000  27.430000  28.240000   \n",
      "2 2012-12-14 00:00:00+00:00  28.180000  28.330000  26.760000  26.809999   \n",
      "3 2012-12-17 00:00:00+00:00  26.770000  27.000000  26.320000  26.750000   \n",
      "4 2012-12-18 00:00:00+00:00  26.959999  27.910000  26.900000  27.709999   \n",
      "\n",
      "   Adj Close    Volume  Dividends  Stock Splits  \n",
      "0  27.523441  46704200        0.0           0.0  \n",
      "1  28.182087  81051600        0.0           0.0  \n",
      "2  26.755020  91631600        0.0           0.0  \n",
      "3  26.695143  57742500        0.0           0.0  \n",
      "4  27.653173  60512900        0.0           0.0  \n"
     ]
    }
   ],
   "source": [
    "# Load Price Data from CSV\n",
    "price_df = analyzer.load_price_data_from_csv(CLEANED_DATA_PATH)\n",
    "\n",
    "print(\"Price Data Sample:\")\n",
    "print(price_df.head())"
   ]
  },
  {
   "cell_type": "code",
   "execution_count": 30,
   "id": "7d831f9b",
   "metadata": {},
   "outputs": [
    {
     "name": "stdout",
     "output_type": "stream",
     "text": [
      "\n",
      "Price Data with Technical Indicators Sample:\n",
      "                       Date      Close  momentum_rsi    Volume  trend_macd\n",
      "0 2012-12-12 00:00:00+00:00  27.580000           NaN  46704200         NaN\n",
      "1 2012-12-13 00:00:00+00:00  28.240000           NaN  81051600         NaN\n",
      "2 2012-12-14 00:00:00+00:00  26.809999           NaN  91631600         NaN\n",
      "3 2012-12-17 00:00:00+00:00  26.750000           NaN  57742500         NaN\n",
      "4 2012-12-18 00:00:00+00:00  27.709999           NaN  60512900         NaN\n"
     ]
    }
   ],
   "source": [
    "# Add Technical Indicators ===\n",
    "analyzer.price_df.rename(\n",
    "    columns={\n",
    "        'date': 'Date',\n",
    "        'open': 'Open',\n",
    "        'high': 'High',\n",
    "        'low': 'Low',\n",
    "        'close': 'Close',\n",
    "        'volume': 'Volume'\n",
    "    }, inplace=True)\n",
    "price_with_indicators = analyzer.add_technical_indicators()\n",
    "print(\"\\nPrice Data with Technical Indicators Sample:\")\n",
    "print(price_with_indicators[['Date', 'Close','momentum_rsi', 'Volume','trend_macd']].head())"
   ]
  },
  {
   "cell_type": "code",
   "execution_count": 31,
   "id": "d2f1da39",
   "metadata": {},
   "outputs": [
    {
     "name": "stdout",
     "output_type": "stream",
     "text": [
      "{'Cumulative Return': 15.401912400690726, 'Annualized Volatility': 0.385387407083589, 'Sharpe Ratio': 0.7717542450046889, 'Max Drawdown': -0.7673609153644646, 'Calmar Ratio': 20.071275578813466}\n"
     ]
    },
    {
     "data": {
      "image/png": "[encoded data removed]",
      "text/plain": [
       "<Figure size 1500x1000 with 3 Axes>"
      ]
     },
     "metadata": {},
     "output_type": "display_data"
    }
   ],
   "source": [
    "metrics = analyzer.compute_financial_metrics()\n",
    "print(metrics)\n",
    "analyzer.plot_price_and_indicators()"
   ]
  }
 ],
 "metadata": {
  "kernelspec": {
   "display_name": "venv",
   "language": "python",
   "name": "python3"
  },
  "language_info": {
   "codemirror_mode": {
    "name": "ipython",
    "version": 3
   },
   "file_extension": ".py",
   "mimetype": "text/x-python",
   "name": "python",
   "nbconvert_exporter": "python",
   "pygments_lexer": "ipython3",
   "version": "3.10.12"
  }
 },
 "nbformat": 4,
 "nbformat_minor": 5
}
