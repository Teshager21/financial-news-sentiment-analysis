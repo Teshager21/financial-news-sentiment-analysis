{
 "cells": [
  {
   "cell_type": "markdown",
   "id": "8df97469",
   "metadata": {},
   "source": [
    "<div style=\"background-color:#f0f8ff; padding:10px; border-radius:10px;\">\n",
    "  <h1 style=\"text-align:center; color:#1a5276;\">\n",
    "    📈 AAPL Analysis\n",
    "  </h1>\n",
    "</div>"
   ]
  },
  {
   "cell_type": "code",
   "execution_count": 354,
   "id": "b7af41b3",
   "metadata": {},
   "outputs": [
    {
     "name": "stdout",
     "output_type": "stream",
     "text": [
      "The autoreload extension is already loaded. To reload it, use:\n",
      "  %reload_ext autoreload\n"
     ]
    }
   ],
   "source": [
    "#auto loading\n",
    "%load_ext autoreload\n",
    "%autoreload 2"
   ]
  },
  {
   "cell_type": "code",
   "execution_count": 355,
   "id": "634ee66f",
   "metadata": {},
   "outputs": [],
   "source": [
    "import warnings"
   ]
  },
  {
   "cell_type": "markdown",
   "id": "09d14dde",
   "metadata": {},
   "source": [
    "## 🧱 1. Setup & Imports"
   ]
  },
  {
   "cell_type": "code",
   "execution_count": 356,
   "id": "71b654ef",
   "metadata": {},
   "outputs": [],
   "source": [
    "import pandas as pd\n",
    "from utils.ticker_analyzer import TickerAnalyzer\n",
    "from data.load_data import load_local_data"
   ]
  },
  {
   "cell_type": "code",
   "execution_count": 357,
   "id": "ac94d536",
   "metadata": {},
   "outputs": [],
   "source": [
    "# variables\n",
    "TICKER= 'AAPL'\n",
    "RAW_DATA_PATH='../../data/raw/yfinance_data/AAPL_historical_data.csv'\n",
    "CLEANED_DATA_PATH='../../data/interim/AAPL_historical_cleaned_data.csv'"
   ]
  },
  {
   "cell_type": "markdown",
   "id": "508c1dd7",
   "metadata": {},
   "source": [
    "### 📌 Project Overview"
   ]
  },
  {
   "cell_type": "markdown",
   "id": "5fe12101",
   "metadata": {},
   "source": [
    "#### AAPL Ticker Analysis 📊\n",
    "\n",
    "**Objective:**  \n",
    "This notebook applies the `TickerAnalyzer` class to analyze Apple Inc. (AAPL) stock performance. The analysis integrates:\n",
    "\n",
    "- Historical price data via `yfinance`\n",
    "- Technical indicators using `ta`\n",
    "- News sentiment analysis with `VADER`\n",
    "- Visualization of price movements vs. sentiment trends\n",
    "\n",
    "**Period:** Last 6 months (daily intervals)  \n",
    "**Tools:** Python, `yfinance`, `ta`, `vaderSentiment`, `matplotlib`\n",
    "\n",
    "---\n"
   ]
  },
  {
   "cell_type": "markdown",
   "id": "121c314e",
   "metadata": {},
   "source": [
    "## 📦 2. Data Loading & Overview  <a id= '2-data-loading--overview'></a>"
   ]
  },
  {
   "cell_type": "code",
   "execution_count": 358,
   "id": "d8971b5b",
   "metadata": {},
   "outputs": [
    {
     "name": "stderr",
     "output_type": "stream",
     "text": [
      "INFO:data.load_data:Loading data from: /home/teshager/Documents/10Academy/repositories/projects/financial-news-sentiment-analysis/data/raw/yfinance_data/AAPL_historical_data.csv (type=csv)\n",
      "INFO:data.load_data:Data loaded successfully. Shape: (10998, 9)\n"
     ]
    },
    {
     "data": {
      "text/html": [
       "<div>\n",
       "<style scoped>\n",
       "    .dataframe tbody tr th:only-of-type {\n",
       "        vertical-align: middle;\n",
       "    }\n",
       "\n",
       "    .dataframe tbody tr th {\n",
       "        vertical-align: top;\n",
       "    }\n",
       "\n",
       "    .dataframe thead th {\n",
       "        text-align: right;\n",
       "    }\n",
       "</style>\n",
       "<table border=\"1\" class=\"dataframe\">\n",
       "  <thead>\n",
       "    <tr style=\"text-align: right;\">\n",
       "      <th></th>\n",
       "      <th>Date</th>\n",
       "      <th>Open</th>\n",
       "      <th>High</th>\n",
       "      <th>Low</th>\n",
       "      <th>Close</th>\n",
       "      <th>Adj Close</th>\n",
       "      <th>Volume</th>\n",
       "      <th>Dividends</th>\n",
       "      <th>Stock Splits</th>\n",
       "    </tr>\n",
       "  </thead>\n",
       "  <tbody>\n",
       "    <tr>\n",
       "      <th>0</th>\n",
       "      <td>1980-12-12</td>\n",
       "      <td>0.128348</td>\n",
       "      <td>0.128906</td>\n",
       "      <td>0.128348</td>\n",
       "      <td>0.128348</td>\n",
       "      <td>0.098943</td>\n",
       "      <td>469033600</td>\n",
       "      <td>0.0</td>\n",
       "      <td>0.0</td>\n",
       "    </tr>\n",
       "    <tr>\n",
       "      <th>1</th>\n",
       "      <td>1980-12-15</td>\n",
       "      <td>0.122210</td>\n",
       "      <td>0.122210</td>\n",
       "      <td>0.121652</td>\n",
       "      <td>0.121652</td>\n",
       "      <td>0.093781</td>\n",
       "      <td>175884800</td>\n",
       "      <td>0.0</td>\n",
       "      <td>0.0</td>\n",
       "    </tr>\n",
       "    <tr>\n",
       "      <th>2</th>\n",
       "      <td>1980-12-16</td>\n",
       "      <td>0.113281</td>\n",
       "      <td>0.113281</td>\n",
       "      <td>0.112723</td>\n",
       "      <td>0.112723</td>\n",
       "      <td>0.086898</td>\n",
       "      <td>105728000</td>\n",
       "      <td>0.0</td>\n",
       "      <td>0.0</td>\n",
       "    </tr>\n",
       "    <tr>\n",
       "      <th>3</th>\n",
       "      <td>1980-12-17</td>\n",
       "      <td>0.115513</td>\n",
       "      <td>0.116071</td>\n",
       "      <td>0.115513</td>\n",
       "      <td>0.115513</td>\n",
       "      <td>0.089049</td>\n",
       "      <td>86441600</td>\n",
       "      <td>0.0</td>\n",
       "      <td>0.0</td>\n",
       "    </tr>\n",
       "    <tr>\n",
       "      <th>4</th>\n",
       "      <td>1980-12-18</td>\n",
       "      <td>0.118862</td>\n",
       "      <td>0.119420</td>\n",
       "      <td>0.118862</td>\n",
       "      <td>0.118862</td>\n",
       "      <td>0.091630</td>\n",
       "      <td>73449600</td>\n",
       "      <td>0.0</td>\n",
       "      <td>0.0</td>\n",
       "    </tr>\n",
       "  </tbody>\n",
       "</table>\n",
       "</div>"
      ],
      "text/plain": [
       "         Date      Open      High       Low     Close  Adj Close     Volume  \\\n",
       "0  1980-12-12  0.128348  0.128906  0.128348  0.128348   0.098943  469033600   \n",
       "1  1980-12-15  0.122210  0.122210  0.121652  0.121652   0.093781  175884800   \n",
       "2  1980-12-16  0.113281  0.113281  0.112723  0.112723   0.086898  105728000   \n",
       "3  1980-12-17  0.115513  0.116071  0.115513  0.115513   0.089049   86441600   \n",
       "4  1980-12-18  0.118862  0.119420  0.118862  0.118862   0.091630   73449600   \n",
       "\n",
       "   Dividends  Stock Splits  \n",
       "0        0.0           0.0  \n",
       "1        0.0           0.0  \n",
       "2        0.0           0.0  \n",
       "3        0.0           0.0  \n",
       "4        0.0           0.0  "
      ]
     },
     "execution_count": 358,
     "metadata": {},
     "output_type": "execute_result"
    }
   ],
   "source": [
    "# Load the stock news sentiment data\n",
    "df = load_local_data(RAW_DATA_PATH,)\n",
    "df.head()"
   ]
  },
  {
   "cell_type": "markdown",
   "id": "637af4c7",
   "metadata": {},
   "source": [
    "### Dataset Overview"
   ]
  },
  {
   "cell_type": "code",
   "execution_count": 359,
   "id": "7d5ebc45",
   "metadata": {},
   "outputs": [
    {
     "data": {
      "text/html": [
       "<div>\n",
       "<style scoped>\n",
       "    .dataframe tbody tr th:only-of-type {\n",
       "        vertical-align: middle;\n",
       "    }\n",
       "\n",
       "    .dataframe tbody tr th {\n",
       "        vertical-align: top;\n",
       "    }\n",
       "\n",
       "    .dataframe thead th {\n",
       "        text-align: right;\n",
       "    }\n",
       "</style>\n",
       "<table border=\"1\" class=\"dataframe\">\n",
       "  <thead>\n",
       "    <tr style=\"text-align: right;\">\n",
       "      <th></th>\n",
       "      <th>Date</th>\n",
       "      <th>Open</th>\n",
       "      <th>High</th>\n",
       "      <th>Low</th>\n",
       "      <th>Close</th>\n",
       "      <th>Adj Close</th>\n",
       "      <th>Volume</th>\n",
       "      <th>Dividends</th>\n",
       "      <th>Stock Splits</th>\n",
       "    </tr>\n",
       "  </thead>\n",
       "  <tbody>\n",
       "    <tr>\n",
       "      <th>7532</th>\n",
       "      <td>2010-10-20</td>\n",
       "      <td>11.035714</td>\n",
       "      <td>11.223214</td>\n",
       "      <td>10.959643</td>\n",
       "      <td>11.090357</td>\n",
       "      <td>9.365532</td>\n",
       "      <td>721624400</td>\n",
       "      <td>0.0</td>\n",
       "      <td>0.0</td>\n",
       "    </tr>\n",
       "    <tr>\n",
       "      <th>8885</th>\n",
       "      <td>2016-03-08</td>\n",
       "      <td>25.195000</td>\n",
       "      <td>25.440001</td>\n",
       "      <td>25.100000</td>\n",
       "      <td>25.257500</td>\n",
       "      <td>23.031628</td>\n",
       "      <td>126247600</td>\n",
       "      <td>0.0</td>\n",
       "      <td>0.0</td>\n",
       "    </tr>\n",
       "    <tr>\n",
       "      <th>9266</th>\n",
       "      <td>2017-09-11</td>\n",
       "      <td>40.125000</td>\n",
       "      <td>40.512501</td>\n",
       "      <td>39.972500</td>\n",
       "      <td>40.375000</td>\n",
       "      <td>37.898605</td>\n",
       "      <td>126323200</td>\n",
       "      <td>0.0</td>\n",
       "      <td>0.0</td>\n",
       "    </tr>\n",
       "    <tr>\n",
       "      <th>8489</th>\n",
       "      <td>2014-08-11</td>\n",
       "      <td>23.817499</td>\n",
       "      <td>24.020000</td>\n",
       "      <td>23.709999</td>\n",
       "      <td>23.997499</td>\n",
       "      <td>21.307558</td>\n",
       "      <td>146340000</td>\n",
       "      <td>0.0</td>\n",
       "      <td>0.0</td>\n",
       "    </tr>\n",
       "    <tr>\n",
       "      <th>9732</th>\n",
       "      <td>2019-07-19</td>\n",
       "      <td>51.447498</td>\n",
       "      <td>51.625000</td>\n",
       "      <td>50.590000</td>\n",
       "      <td>50.647499</td>\n",
       "      <td>48.823246</td>\n",
       "      <td>83717200</td>\n",
       "      <td>0.0</td>\n",
       "      <td>0.0</td>\n",
       "    </tr>\n",
       "    <tr>\n",
       "      <th>7132</th>\n",
       "      <td>2009-03-20</td>\n",
       "      <td>3.646071</td>\n",
       "      <td>3.682500</td>\n",
       "      <td>3.591786</td>\n",
       "      <td>3.628214</td>\n",
       "      <td>3.063937</td>\n",
       "      <td>695587200</td>\n",
       "      <td>0.0</td>\n",
       "      <td>0.0</td>\n",
       "    </tr>\n",
       "    <tr>\n",
       "      <th>1419</th>\n",
       "      <td>1986-07-25</td>\n",
       "      <td>0.147879</td>\n",
       "      <td>0.151786</td>\n",
       "      <td>0.147321</td>\n",
       "      <td>0.151786</td>\n",
       "      <td>0.117012</td>\n",
       "      <td>217459200</td>\n",
       "      <td>0.0</td>\n",
       "      <td>0.0</td>\n",
       "    </tr>\n",
       "    <tr>\n",
       "      <th>8761</th>\n",
       "      <td>2015-09-09</td>\n",
       "      <td>28.440001</td>\n",
       "      <td>28.504999</td>\n",
       "      <td>27.442499</td>\n",
       "      <td>27.537500</td>\n",
       "      <td>24.868725</td>\n",
       "      <td>340043200</td>\n",
       "      <td>0.0</td>\n",
       "      <td>0.0</td>\n",
       "    </tr>\n",
       "    <tr>\n",
       "      <th>6839</th>\n",
       "      <td>2008-01-22</td>\n",
       "      <td>5.287857</td>\n",
       "      <td>5.713571</td>\n",
       "      <td>5.214286</td>\n",
       "      <td>5.558571</td>\n",
       "      <td>4.694077</td>\n",
       "      <td>2434754000</td>\n",
       "      <td>0.0</td>\n",
       "      <td>0.0</td>\n",
       "    </tr>\n",
       "    <tr>\n",
       "      <th>661</th>\n",
       "      <td>1983-07-26</td>\n",
       "      <td>0.192522</td>\n",
       "      <td>0.193638</td>\n",
       "      <td>0.167411</td>\n",
       "      <td>0.174665</td>\n",
       "      <td>0.134649</td>\n",
       "      <td>268979200</td>\n",
       "      <td>0.0</td>\n",
       "      <td>0.0</td>\n",
       "    </tr>\n",
       "  </tbody>\n",
       "</table>\n",
       "</div>"
      ],
      "text/plain": [
       "            Date       Open       High        Low      Close  Adj Close  \\\n",
       "7532  2010-10-20  11.035714  11.223214  10.959643  11.090357   9.365532   \n",
       "8885  2016-03-08  25.195000  25.440001  25.100000  25.257500  23.031628   \n",
       "9266  2017-09-11  40.125000  40.512501  39.972500  40.375000  37.898605   \n",
       "8489  2014-08-11  23.817499  24.020000  23.709999  23.997499  21.307558   \n",
       "9732  2019-07-19  51.447498  51.625000  50.590000  50.647499  48.823246   \n",
       "7132  2009-03-20   3.646071   3.682500   3.591786   3.628214   3.063937   \n",
       "1419  1986-07-25   0.147879   0.151786   0.147321   0.151786   0.117012   \n",
       "8761  2015-09-09  28.440001  28.504999  27.442499  27.537500  24.868725   \n",
       "6839  2008-01-22   5.287857   5.713571   5.214286   5.558571   4.694077   \n",
       "661   1983-07-26   0.192522   0.193638   0.167411   0.174665   0.134649   \n",
       "\n",
       "          Volume  Dividends  Stock Splits  \n",
       "7532   721624400        0.0           0.0  \n",
       "8885   126247600        0.0           0.0  \n",
       "9266   126323200        0.0           0.0  \n",
       "8489   146340000        0.0           0.0  \n",
       "9732    83717200        0.0           0.0  \n",
       "7132   695587200        0.0           0.0  \n",
       "1419   217459200        0.0           0.0  \n",
       "8761   340043200        0.0           0.0  \n",
       "6839  2434754000        0.0           0.0  \n",
       "661    268979200        0.0           0.0  "
      ]
     },
     "execution_count": 359,
     "metadata": {},
     "output_type": "execute_result"
    }
   ],
   "source": [
    "#view sample data\n",
    "df.sample(10)"
   ]
  },
  {
   "cell_type": "code",
   "execution_count": 360,
   "id": "252de09b",
   "metadata": {},
   "outputs": [
    {
     "data": {
      "text/html": [
       "<div>\n",
       "<style scoped>\n",
       "    .dataframe tbody tr th:only-of-type {\n",
       "        vertical-align: middle;\n",
       "    }\n",
       "\n",
       "    .dataframe tbody tr th {\n",
       "        vertical-align: top;\n",
       "    }\n",
       "\n",
       "    .dataframe thead th {\n",
       "        text-align: right;\n",
       "    }\n",
       "</style>\n",
       "<table border=\"1\" class=\"dataframe\">\n",
       "  <thead>\n",
       "    <tr style=\"text-align: right;\">\n",
       "      <th></th>\n",
       "      <th>Date</th>\n",
       "      <th>Open</th>\n",
       "      <th>High</th>\n",
       "      <th>Low</th>\n",
       "      <th>Close</th>\n",
       "      <th>Adj Close</th>\n",
       "      <th>Volume</th>\n",
       "      <th>Dividends</th>\n",
       "      <th>Stock Splits</th>\n",
       "    </tr>\n",
       "  </thead>\n",
       "  <tbody>\n",
       "    <tr>\n",
       "      <th>10993</th>\n",
       "      <td>2024-07-24</td>\n",
       "      <td>224.000000</td>\n",
       "      <td>224.800003</td>\n",
       "      <td>217.130005</td>\n",
       "      <td>218.539993</td>\n",
       "      <td>218.287323</td>\n",
       "      <td>61777600</td>\n",
       "      <td>0.0</td>\n",
       "      <td>0.0</td>\n",
       "    </tr>\n",
       "    <tr>\n",
       "      <th>10994</th>\n",
       "      <td>2024-07-25</td>\n",
       "      <td>218.929993</td>\n",
       "      <td>220.850006</td>\n",
       "      <td>214.619995</td>\n",
       "      <td>217.490005</td>\n",
       "      <td>217.238556</td>\n",
       "      <td>51391200</td>\n",
       "      <td>0.0</td>\n",
       "      <td>0.0</td>\n",
       "    </tr>\n",
       "    <tr>\n",
       "      <th>10995</th>\n",
       "      <td>2024-07-26</td>\n",
       "      <td>218.699997</td>\n",
       "      <td>219.490005</td>\n",
       "      <td>216.009995</td>\n",
       "      <td>217.960007</td>\n",
       "      <td>217.708008</td>\n",
       "      <td>41601300</td>\n",
       "      <td>0.0</td>\n",
       "      <td>0.0</td>\n",
       "    </tr>\n",
       "    <tr>\n",
       "      <th>10996</th>\n",
       "      <td>2024-07-29</td>\n",
       "      <td>216.960007</td>\n",
       "      <td>219.300003</td>\n",
       "      <td>215.750000</td>\n",
       "      <td>218.240005</td>\n",
       "      <td>217.987686</td>\n",
       "      <td>36311800</td>\n",
       "      <td>0.0</td>\n",
       "      <td>0.0</td>\n",
       "    </tr>\n",
       "    <tr>\n",
       "      <th>10997</th>\n",
       "      <td>2024-07-30</td>\n",
       "      <td>219.190002</td>\n",
       "      <td>220.330002</td>\n",
       "      <td>216.119995</td>\n",
       "      <td>218.800003</td>\n",
       "      <td>218.547043</td>\n",
       "      <td>41643800</td>\n",
       "      <td>0.0</td>\n",
       "      <td>0.0</td>\n",
       "    </tr>\n",
       "  </tbody>\n",
       "</table>\n",
       "</div>"
      ],
      "text/plain": [
       "             Date        Open        High         Low       Close   Adj Close  \\\n",
       "10993  2024-07-24  224.000000  224.800003  217.130005  218.539993  218.287323   \n",
       "10994  2024-07-25  218.929993  220.850006  214.619995  217.490005  217.238556   \n",
       "10995  2024-07-26  218.699997  219.490005  216.009995  217.960007  217.708008   \n",
       "10996  2024-07-29  216.960007  219.300003  215.750000  218.240005  217.987686   \n",
       "10997  2024-07-30  219.190002  220.330002  216.119995  218.800003  218.547043   \n",
       "\n",
       "         Volume  Dividends  Stock Splits  \n",
       "10993  61777600        0.0           0.0  \n",
       "10994  51391200        0.0           0.0  \n",
       "10995  41601300        0.0           0.0  \n",
       "10996  36311800        0.0           0.0  \n",
       "10997  41643800        0.0           0.0  "
      ]
     },
     "execution_count": 360,
     "metadata": {},
     "output_type": "execute_result"
    }
   ],
   "source": [
    "#see the last rows\n",
    "df.tail()"
   ]
  },
  {
   "cell_type": "code",
   "execution_count": 361,
   "id": "fba08a7a",
   "metadata": {},
   "outputs": [
    {
     "data": {
      "text/plain": [
       "(10998, 9)"
      ]
     },
     "execution_count": 361,
     "metadata": {},
     "output_type": "execute_result"
    }
   ],
   "source": [
    "#shape of the dataset\n",
    "df.shape"
   ]
  },
  {
   "cell_type": "code",
   "execution_count": 362,
   "id": "fbb3ee50",
   "metadata": {},
   "outputs": [
    {
     "data": {
      "text/plain": [
       "Index(['Date', 'Open', 'High', 'Low', 'Close', 'Adj Close', 'Volume',\n",
       "       'Dividends', 'Stock Splits'],\n",
       "      dtype='object')"
      ]
     },
     "execution_count": 362,
     "metadata": {},
     "output_type": "execute_result"
    }
   ],
   "source": [
    "df.columns"
   ]
  },
  {
   "cell_type": "markdown",
   "id": "e2111194",
   "metadata": {},
   "source": [
    "## 📐 3. Data Types & Basic Stats <a id='3-data-types--basic-stats'></a>"
   ]
  },
  {
   "cell_type": "code",
   "execution_count": 363,
   "id": "5c2b1440",
   "metadata": {},
   "outputs": [
    {
     "data": {
      "text/html": [
       "<div>\n",
       "<style scoped>\n",
       "    .dataframe tbody tr th:only-of-type {\n",
       "        vertical-align: middle;\n",
       "    }\n",
       "\n",
       "    .dataframe tbody tr th {\n",
       "        vertical-align: top;\n",
       "    }\n",
       "\n",
       "    .dataframe thead th {\n",
       "        text-align: right;\n",
       "    }\n",
       "</style>\n",
       "<table border=\"1\" class=\"dataframe\">\n",
       "  <thead>\n",
       "    <tr style=\"text-align: right;\">\n",
       "      <th></th>\n",
       "      <th>count</th>\n",
       "      <th>mean</th>\n",
       "      <th>std</th>\n",
       "      <th>min</th>\n",
       "      <th>25%</th>\n",
       "      <th>50%</th>\n",
       "      <th>75%</th>\n",
       "      <th>max</th>\n",
       "    </tr>\n",
       "  </thead>\n",
       "  <tbody>\n",
       "    <tr>\n",
       "      <th>Open</th>\n",
       "      <td>10998.0</td>\n",
       "      <td>2.229916e+01</td>\n",
       "      <td>4.600368e+01</td>\n",
       "      <td>0.049665</td>\n",
       "      <td>2.991070e-01</td>\n",
       "      <td>5.312500e-01</td>\n",
       "      <td>2.020420e+01</td>\n",
       "      <td>2.364800e+02</td>\n",
       "    </tr>\n",
       "    <tr>\n",
       "      <th>High</th>\n",
       "      <td>10998.0</td>\n",
       "      <td>2.253906e+01</td>\n",
       "      <td>4.649603e+01</td>\n",
       "      <td>0.049665</td>\n",
       "      <td>3.037105e-01</td>\n",
       "      <td>5.379460e-01</td>\n",
       "      <td>2.038955e+01</td>\n",
       "      <td>2.372300e+02</td>\n",
       "    </tr>\n",
       "    <tr>\n",
       "      <th>Low</th>\n",
       "      <td>10998.0</td>\n",
       "      <td>2.206837e+01</td>\n",
       "      <td>4.554093e+01</td>\n",
       "      <td>0.049107</td>\n",
       "      <td>2.901790e-01</td>\n",
       "      <td>5.223210e-01</td>\n",
       "      <td>1.999804e+01</td>\n",
       "      <td>2.330900e+02</td>\n",
       "    </tr>\n",
       "    <tr>\n",
       "      <th>Close</th>\n",
       "      <td>10998.0</td>\n",
       "      <td>2.231275e+01</td>\n",
       "      <td>4.603766e+01</td>\n",
       "      <td>0.049107</td>\n",
       "      <td>2.985490e-01</td>\n",
       "      <td>5.312500e-01</td>\n",
       "      <td>2.019616e+01</td>\n",
       "      <td>2.348200e+02</td>\n",
       "    </tr>\n",
       "    <tr>\n",
       "      <th>Adj Close</th>\n",
       "      <td>10998.0</td>\n",
       "      <td>2.149450e+01</td>\n",
       "      <td>4.556192e+01</td>\n",
       "      <td>0.037857</td>\n",
       "      <td>2.418399e-01</td>\n",
       "      <td>4.320787e-01</td>\n",
       "      <td>1.725303e+01</td>\n",
       "      <td>2.345485e+02</td>\n",
       "    </tr>\n",
       "    <tr>\n",
       "      <th>Volume</th>\n",
       "      <td>10998.0</td>\n",
       "      <td>3.180806e+08</td>\n",
       "      <td>3.354523e+08</td>\n",
       "      <td>0.000000</td>\n",
       "      <td>1.132545e+08</td>\n",
       "      <td>2.057412e+08</td>\n",
       "      <td>3.985275e+08</td>\n",
       "      <td>7.421641e+09</td>\n",
       "    </tr>\n",
       "    <tr>\n",
       "      <th>Dividends</th>\n",
       "      <td>10998.0</td>\n",
       "      <td>7.522790e-04</td>\n",
       "      <td>1.175308e-02</td>\n",
       "      <td>0.000000</td>\n",
       "      <td>0.000000e+00</td>\n",
       "      <td>0.000000e+00</td>\n",
       "      <td>0.000000e+00</td>\n",
       "      <td>2.500000e-01</td>\n",
       "    </tr>\n",
       "    <tr>\n",
       "      <th>Stock Splits</th>\n",
       "      <td>10998.0</td>\n",
       "      <td>1.545736e-03</td>\n",
       "      <td>8.366313e-02</td>\n",
       "      <td>0.000000</td>\n",
       "      <td>0.000000e+00</td>\n",
       "      <td>0.000000e+00</td>\n",
       "      <td>0.000000e+00</td>\n",
       "      <td>7.000000e+00</td>\n",
       "    </tr>\n",
       "  </tbody>\n",
       "</table>\n",
       "</div>"
      ],
      "text/plain": [
       "                count          mean           std       min           25%  \\\n",
       "Open          10998.0  2.229916e+01  4.600368e+01  0.049665  2.991070e-01   \n",
       "High          10998.0  2.253906e+01  4.649603e+01  0.049665  3.037105e-01   \n",
       "Low           10998.0  2.206837e+01  4.554093e+01  0.049107  2.901790e-01   \n",
       "Close         10998.0  2.231275e+01  4.603766e+01  0.049107  2.985490e-01   \n",
       "Adj Close     10998.0  2.149450e+01  4.556192e+01  0.037857  2.418399e-01   \n",
       "Volume        10998.0  3.180806e+08  3.354523e+08  0.000000  1.132545e+08   \n",
       "Dividends     10998.0  7.522790e-04  1.175308e-02  0.000000  0.000000e+00   \n",
       "Stock Splits  10998.0  1.545736e-03  8.366313e-02  0.000000  0.000000e+00   \n",
       "\n",
       "                       50%           75%           max  \n",
       "Open          5.312500e-01  2.020420e+01  2.364800e+02  \n",
       "High          5.379460e-01  2.038955e+01  2.372300e+02  \n",
       "Low           5.223210e-01  1.999804e+01  2.330900e+02  \n",
       "Close         5.312500e-01  2.019616e+01  2.348200e+02  \n",
       "Adj Close     4.320787e-01  1.725303e+01  2.345485e+02  \n",
       "Volume        2.057412e+08  3.985275e+08  7.421641e+09  \n",
       "Dividends     0.000000e+00  0.000000e+00  2.500000e-01  \n",
       "Stock Splits  0.000000e+00  0.000000e+00  7.000000e+00  "
      ]
     },
     "execution_count": 363,
     "metadata": {},
     "output_type": "execute_result"
    }
   ],
   "source": [
    "#Numerical Columns\n",
    "df.describe().T"
   ]
  },
  {
   "cell_type": "code",
   "execution_count": 364,
   "id": "e32e8398",
   "metadata": {},
   "outputs": [
    {
     "data": {
      "text/html": [
       "<div>\n",
       "<style scoped>\n",
       "    .dataframe tbody tr th:only-of-type {\n",
       "        vertical-align: middle;\n",
       "    }\n",
       "\n",
       "    .dataframe tbody tr th {\n",
       "        vertical-align: top;\n",
       "    }\n",
       "\n",
       "    .dataframe thead th {\n",
       "        text-align: right;\n",
       "    }\n",
       "</style>\n",
       "<table border=\"1\" class=\"dataframe\">\n",
       "  <thead>\n",
       "    <tr style=\"text-align: right;\">\n",
       "      <th></th>\n",
       "      <th>count</th>\n",
       "      <th>unique</th>\n",
       "      <th>top</th>\n",
       "      <th>freq</th>\n",
       "    </tr>\n",
       "  </thead>\n",
       "  <tbody>\n",
       "    <tr>\n",
       "      <th>Date</th>\n",
       "      <td>10998</td>\n",
       "      <td>10998</td>\n",
       "      <td>1980-12-12</td>\n",
       "      <td>1</td>\n",
       "    </tr>\n",
       "  </tbody>\n",
       "</table>\n",
       "</div>"
      ],
      "text/plain": [
       "      count unique         top freq\n",
       "Date  10998  10998  1980-12-12    1"
      ]
     },
     "execution_count": 364,
     "metadata": {},
     "output_type": "execute_result"
    }
   ],
   "source": [
    "#for columns of object type\n",
    "df.describe(include=['O']).T"
   ]
  },
  {
   "cell_type": "code",
   "execution_count": 365,
   "id": "12c32634",
   "metadata": {},
   "outputs": [
    {
     "name": "stdout",
     "output_type": "stream",
     "text": [
      "<class 'pandas.core.frame.DataFrame'>\n",
      "RangeIndex: 10998 entries, 0 to 10997\n",
      "Data columns (total 9 columns):\n",
      " #   Column        Non-Null Count  Dtype  \n",
      "---  ------        --------------  -----  \n",
      " 0   Date          10998 non-null  object \n",
      " 1   Open          10998 non-null  float64\n",
      " 2   High          10998 non-null  float64\n",
      " 3   Low           10998 non-null  float64\n",
      " 4   Close         10998 non-null  float64\n",
      " 5   Adj Close     10998 non-null  float64\n",
      " 6   Volume        10998 non-null  int64  \n",
      " 7   Dividends     10998 non-null  float64\n",
      " 8   Stock Splits  10998 non-null  float64\n",
      "dtypes: float64(7), int64(1), object(1)\n",
      "memory usage: 773.4+ KB\n"
     ]
    }
   ],
   "source": [
    "# data types of the columns\n",
    "df.info()"
   ]
  },
  {
   "cell_type": "code",
   "execution_count": 366,
   "id": "9a2a7204",
   "metadata": {},
   "outputs": [
    {
     "data": {
      "text/plain": [
       "Date            10998\n",
       "Volume          10434\n",
       "Adj Close        7990\n",
       "Close            6414\n",
       "Open             6305\n",
       "High             6249\n",
       "Low              6237\n",
       "Dividends          19\n",
       "Stock Splits        4\n",
       "dtype: int64"
      ]
     },
     "execution_count": 366,
     "metadata": {},
     "output_type": "execute_result"
    }
   ],
   "source": [
    "#distinct values in each column\n",
    "df.nunique().sort_values(ascending=False)"
   ]
  },
  {
   "cell_type": "markdown",
   "id": "cd48a90b",
   "metadata": {},
   "source": [
    "## 🔍 4. Data Quality Analysis <a id='4-data-quality-analysis'></a>"
   ]
  },
  {
   "cell_type": "code",
   "execution_count": 367,
   "id": "fda7f18c",
   "metadata": {},
   "outputs": [],
   "source": [
    "#instantiate the DataQualityUtils class\n",
    "dq=DataQualityUtils(df)"
   ]
  },
  {
   "cell_type": "code",
   "execution_count": 368,
   "id": "402fd66b",
   "metadata": {},
   "outputs": [
    {
     "data": {
      "text/html": [
       "<div>\n",
       "<style scoped>\n",
       "    .dataframe tbody tr th:only-of-type {\n",
       "        vertical-align: middle;\n",
       "    }\n",
       "\n",
       "    .dataframe tbody tr th {\n",
       "        vertical-align: top;\n",
       "    }\n",
       "\n",
       "    .dataframe thead th {\n",
       "        text-align: right;\n",
       "    }\n",
       "</style>\n",
       "<table border=\"1\" class=\"dataframe\">\n",
       "  <thead>\n",
       "    <tr style=\"text-align: right;\">\n",
       "      <th></th>\n",
       "      <th>#missing_values</th>\n",
       "      <th>percentage</th>\n",
       "    </tr>\n",
       "  </thead>\n",
       "  <tbody>\n",
       "    <tr>\n",
       "      <th>Date</th>\n",
       "      <td>0</td>\n",
       "      <td>0.00%</td>\n",
       "    </tr>\n",
       "    <tr>\n",
       "      <th>Open</th>\n",
       "      <td>0</td>\n",
       "      <td>0.00%</td>\n",
       "    </tr>\n",
       "    <tr>\n",
       "      <th>High</th>\n",
       "      <td>0</td>\n",
       "      <td>0.00%</td>\n",
       "    </tr>\n",
       "    <tr>\n",
       "      <th>Low</th>\n",
       "      <td>0</td>\n",
       "      <td>0.00%</td>\n",
       "    </tr>\n",
       "    <tr>\n",
       "      <th>Close</th>\n",
       "      <td>0</td>\n",
       "      <td>0.00%</td>\n",
       "    </tr>\n",
       "    <tr>\n",
       "      <th>Adj Close</th>\n",
       "      <td>0</td>\n",
       "      <td>0.00%</td>\n",
       "    </tr>\n",
       "    <tr>\n",
       "      <th>Volume</th>\n",
       "      <td>0</td>\n",
       "      <td>0.00%</td>\n",
       "    </tr>\n",
       "    <tr>\n",
       "      <th>Dividends</th>\n",
       "      <td>0</td>\n",
       "      <td>0.00%</td>\n",
       "    </tr>\n",
       "    <tr>\n",
       "      <th>Stock Splits</th>\n",
       "      <td>0</td>\n",
       "      <td>0.00%</td>\n",
       "    </tr>\n",
       "  </tbody>\n",
       "</table>\n",
       "</div>"
      ],
      "text/plain": [
       "              #missing_values percentage\n",
       "Date                        0      0.00%\n",
       "Open                        0      0.00%\n",
       "High                        0      0.00%\n",
       "Low                         0      0.00%\n",
       "Close                       0      0.00%\n",
       "Adj Close                   0      0.00%\n",
       "Volume                      0      0.00%\n",
       "Dividends                   0      0.00%\n",
       "Stock Splits                0      0.00%"
      ]
     },
     "execution_count": 368,
     "metadata": {},
     "output_type": "execute_result"
    }
   ],
   "source": [
    "#count of missing values per column\n",
    "dq.summary()"
   ]
  },
  {
   "cell_type": "markdown",
   "id": "f3d4dbe5",
   "metadata": {},
   "source": [
    "### Missing Values"
   ]
  },
  {
   "cell_type": "code",
   "execution_count": 369,
   "id": "b322f8a8",
   "metadata": {},
   "outputs": [
    {
     "data": {
      "text/html": [
       "<div>\n",
       "<style scoped>\n",
       "    .dataframe tbody tr th:only-of-type {\n",
       "        vertical-align: middle;\n",
       "    }\n",
       "\n",
       "    .dataframe tbody tr th {\n",
       "        vertical-align: top;\n",
       "    }\n",
       "\n",
       "    .dataframe thead th {\n",
       "        text-align: right;\n",
       "    }\n",
       "</style>\n",
       "<table border=\"1\" class=\"dataframe\">\n",
       "  <thead>\n",
       "    <tr style=\"text-align: right;\">\n",
       "      <th></th>\n",
       "      <th>#missing_values</th>\n",
       "      <th>percentage</th>\n",
       "    </tr>\n",
       "  </thead>\n",
       "  <tbody>\n",
       "  </tbody>\n",
       "</table>\n",
       "</div>"
      ],
      "text/plain": [
       "Empty DataFrame\n",
       "Columns: [#missing_values, percentage]\n",
       "Index: []"
      ]
     },
     "execution_count": 369,
     "metadata": {},
     "output_type": "execute_result"
    }
   ],
   "source": [
    "#column with >5% nulls\n",
    "dq.columns_with_significant_missing_values(threshold=5)"
   ]
  },
  {
   "cell_type": "markdown",
   "id": "440dc15d",
   "metadata": {},
   "source": [
    "### Duplicates"
   ]
  },
  {
   "cell_type": "code",
   "execution_count": 370,
   "id": "5da9df66",
   "metadata": {},
   "outputs": [
    {
     "data": {
      "text/plain": [
       "0"
      ]
     },
     "execution_count": 370,
     "metadata": {},
     "output_type": "execute_result"
    }
   ],
   "source": [
    "#count duplicates\n",
    "dq.count_duplicates()"
   ]
  },
  {
   "cell_type": "markdown",
   "id": "b1c73167",
   "metadata": {},
   "source": [
    "### Invalid Values"
   ]
  },
  {
   "cell_type": "code",
   "execution_count": 371,
   "id": "d9e6b786",
   "metadata": {},
   "outputs": [
    {
     "data": {
      "text/plain": [
       "{}"
      ]
     },
     "execution_count": 371,
     "metadata": {},
     "output_type": "execute_result"
    }
   ],
   "source": [
    "dq.find_invalid_values()"
   ]
  },
  {
   "cell_type": "markdown",
   "id": "3aa9c9d5",
   "metadata": {},
   "source": [
    "## 🧹 5. Data Cleaning  <a id='5-data-cleaning'></a>"
   ]
  },
  {
   "cell_type": "code",
   "execution_count": 372,
   "id": "98dde7ed",
   "metadata": {},
   "outputs": [],
   "source": [
    "#saving the original dataset for later use\n",
    "df_original=df.copy()"
   ]
  },
  {
   "cell_type": "markdown",
   "id": "4581d672",
   "metadata": {},
   "source": [
    "### Inconsistencies and Inaccuracies"
   ]
  },
  {
   "cell_type": "code",
   "execution_count": 373,
   "id": "0fcea5f2",
   "metadata": {},
   "outputs": [],
   "source": [
    "#drop redundancies and clean column names\n",
    "df=dq.drop_redundant_columns()"
   ]
  },
  {
   "cell_type": "code",
   "execution_count": 374,
   "id": "a60f03c9",
   "metadata": {},
   "outputs": [
    {
     "name": "stdout",
     "output_type": "stream",
     "text": [
      "[Date] Converted: 10998/10998 (0 became NaT)\n"
     ]
    }
   ],
   "source": [
    "df=dq.convert_columns_to_datetime()"
   ]
  },
  {
   "cell_type": "code",
   "execution_count": 375,
   "id": "cad094ce",
   "metadata": {},
   "outputs": [
    {
     "name": "stdout",
     "output_type": "stream",
     "text": [
      "<class 'pandas.core.frame.DataFrame'>\n",
      "RangeIndex: 10998 entries, 0 to 10997\n",
      "Data columns (total 9 columns):\n",
      " #   Column        Non-Null Count  Dtype              \n",
      "---  ------        --------------  -----              \n",
      " 0   Date          10998 non-null  datetime64[ns, UTC]\n",
      " 1   Open          10998 non-null  float64            \n",
      " 2   High          10998 non-null  float64            \n",
      " 3   Low           10998 non-null  float64            \n",
      " 4   Close         10998 non-null  float64            \n",
      " 5   Adj Close     10998 non-null  float64            \n",
      " 6   Volume        10998 non-null  int64              \n",
      " 7   Dividends     10998 non-null  float64            \n",
      " 8   Stock Splits  10998 non-null  float64            \n",
      "dtypes: datetime64[ns, UTC](1), float64(7), int64(1)\n",
      "memory usage: 773.4 KB\n"
     ]
    }
   ],
   "source": [
    "df.info()"
   ]
  },
  {
   "cell_type": "code",
   "execution_count": 376,
   "id": "b210c10f",
   "metadata": {},
   "outputs": [
    {
     "data": {
      "text/plain": [
       "Index(['Date', 'Open', 'High', 'Low', 'Close', 'Adj Close', 'Volume',\n",
       "       'Dividends', 'Stock Splits'],\n",
       "      dtype='object')"
      ]
     },
     "execution_count": 376,
     "metadata": {},
     "output_type": "execute_result"
    }
   ],
   "source": [
    "df.columns"
   ]
  },
  {
   "cell_type": "code",
   "execution_count": 377,
   "id": "a443d88f",
   "metadata": {},
   "outputs": [
    {
     "data": {
      "text/html": [
       "<div>\n",
       "<style scoped>\n",
       "    .dataframe tbody tr th:only-of-type {\n",
       "        vertical-align: middle;\n",
       "    }\n",
       "\n",
       "    .dataframe tbody tr th {\n",
       "        vertical-align: top;\n",
       "    }\n",
       "\n",
       "    .dataframe thead th {\n",
       "        text-align: right;\n",
       "    }\n",
       "</style>\n",
       "<table border=\"1\" class=\"dataframe\">\n",
       "  <thead>\n",
       "    <tr style=\"text-align: right;\">\n",
       "      <th></th>\n",
       "      <th>Date</th>\n",
       "      <th>Open</th>\n",
       "      <th>High</th>\n",
       "      <th>Low</th>\n",
       "      <th>Close</th>\n",
       "      <th>Adj Close</th>\n",
       "      <th>Volume</th>\n",
       "      <th>Dividends</th>\n",
       "      <th>Stock Splits</th>\n",
       "    </tr>\n",
       "  </thead>\n",
       "  <tbody>\n",
       "    <tr>\n",
       "      <th>8994</th>\n",
       "      <td>2016-08-11 00:00:00+00:00</td>\n",
       "      <td>27.129999</td>\n",
       "      <td>27.232500</td>\n",
       "      <td>26.962500</td>\n",
       "      <td>26.982500</td>\n",
       "      <td>24.888508</td>\n",
       "      <td>109938000</td>\n",
       "      <td>0.000000</td>\n",
       "      <td>0.0</td>\n",
       "    </tr>\n",
       "    <tr>\n",
       "      <th>8110</th>\n",
       "      <td>2013-02-07 00:00:00+00:00</td>\n",
       "      <td>16.544643</td>\n",
       "      <td>16.785713</td>\n",
       "      <td>16.218571</td>\n",
       "      <td>16.722143</td>\n",
       "      <td>14.329873</td>\n",
       "      <td>704580800</td>\n",
       "      <td>0.094643</td>\n",
       "      <td>0.0</td>\n",
       "    </tr>\n",
       "    <tr>\n",
       "      <th>3988</th>\n",
       "      <td>1996-09-20 00:00:00+00:00</td>\n",
       "      <td>0.208705</td>\n",
       "      <td>0.209821</td>\n",
       "      <td>0.203125</td>\n",
       "      <td>0.204241</td>\n",
       "      <td>0.172476</td>\n",
       "      <td>149150400</td>\n",
       "      <td>0.000000</td>\n",
       "      <td>0.0</td>\n",
       "    </tr>\n",
       "    <tr>\n",
       "      <th>6919</th>\n",
       "      <td>2008-05-15 00:00:00+00:00</td>\n",
       "      <td>6.671786</td>\n",
       "      <td>6.782143</td>\n",
       "      <td>6.578571</td>\n",
       "      <td>6.776071</td>\n",
       "      <td>5.722223</td>\n",
       "      <td>873208000</td>\n",
       "      <td>0.000000</td>\n",
       "      <td>0.0</td>\n",
       "    </tr>\n",
       "    <tr>\n",
       "      <th>2251</th>\n",
       "      <td>1989-11-07 00:00:00+00:00</td>\n",
       "      <td>0.386161</td>\n",
       "      <td>0.397321</td>\n",
       "      <td>0.386161</td>\n",
       "      <td>0.392857</td>\n",
       "      <td>0.309208</td>\n",
       "      <td>151323200</td>\n",
       "      <td>0.000000</td>\n",
       "      <td>0.0</td>\n",
       "    </tr>\n",
       "    <tr>\n",
       "      <th>6699</th>\n",
       "      <td>2007-07-02 00:00:00+00:00</td>\n",
       "      <td>4.323214</td>\n",
       "      <td>4.360357</td>\n",
       "      <td>4.260714</td>\n",
       "      <td>4.330714</td>\n",
       "      <td>3.657181</td>\n",
       "      <td>994862400</td>\n",
       "      <td>0.000000</td>\n",
       "      <td>0.0</td>\n",
       "    </tr>\n",
       "    <tr>\n",
       "      <th>2476</th>\n",
       "      <td>1990-09-28 00:00:00+00:00</td>\n",
       "      <td>0.254464</td>\n",
       "      <td>0.258929</td>\n",
       "      <td>0.243304</td>\n",
       "      <td>0.258929</td>\n",
       "      <td>0.206147</td>\n",
       "      <td>176041600</td>\n",
       "      <td>0.000000</td>\n",
       "      <td>0.0</td>\n",
       "    </tr>\n",
       "    <tr>\n",
       "      <th>5334</th>\n",
       "      <td>2002-01-29 00:00:00+00:00</td>\n",
       "      <td>0.414643</td>\n",
       "      <td>0.420357</td>\n",
       "      <td>0.408036</td>\n",
       "      <td>0.411964</td>\n",
       "      <td>0.347893</td>\n",
       "      <td>240324000</td>\n",
       "      <td>0.000000</td>\n",
       "      <td>0.0</td>\n",
       "    </tr>\n",
       "    <tr>\n",
       "      <th>7591</th>\n",
       "      <td>2011-01-13 00:00:00+00:00</td>\n",
       "      <td>12.327143</td>\n",
       "      <td>12.380000</td>\n",
       "      <td>12.280357</td>\n",
       "      <td>12.345714</td>\n",
       "      <td>10.425649</td>\n",
       "      <td>296780400</td>\n",
       "      <td>0.000000</td>\n",
       "      <td>0.0</td>\n",
       "    </tr>\n",
       "    <tr>\n",
       "      <th>8197</th>\n",
       "      <td>2013-06-13 00:00:00+00:00</td>\n",
       "      <td>15.446429</td>\n",
       "      <td>15.612143</td>\n",
       "      <td>15.312500</td>\n",
       "      <td>15.570000</td>\n",
       "      <td>13.430870</td>\n",
       "      <td>285832400</td>\n",
       "      <td>0.000000</td>\n",
       "      <td>0.0</td>\n",
       "    </tr>\n",
       "  </tbody>\n",
       "</table>\n",
       "</div>"
      ],
      "text/plain": [
       "                          Date       Open       High        Low      Close  \\\n",
       "8994 2016-08-11 00:00:00+00:00  27.129999  27.232500  26.962500  26.982500   \n",
       "8110 2013-02-07 00:00:00+00:00  16.544643  16.785713  16.218571  16.722143   \n",
       "3988 1996-09-20 00:00:00+00:00   0.208705   0.209821   0.203125   0.204241   \n",
       "6919 2008-05-15 00:00:00+00:00   6.671786   6.782143   6.578571   6.776071   \n",
       "2251 1989-11-07 00:00:00+00:00   0.386161   0.397321   0.386161   0.392857   \n",
       "6699 2007-07-02 00:00:00+00:00   4.323214   4.360357   4.260714   4.330714   \n",
       "2476 1990-09-28 00:00:00+00:00   0.254464   0.258929   0.243304   0.258929   \n",
       "5334 2002-01-29 00:00:00+00:00   0.414643   0.420357   0.408036   0.411964   \n",
       "7591 2011-01-13 00:00:00+00:00  12.327143  12.380000  12.280357  12.345714   \n",
       "8197 2013-06-13 00:00:00+00:00  15.446429  15.612143  15.312500  15.570000   \n",
       "\n",
       "      Adj Close     Volume  Dividends  Stock Splits  \n",
       "8994  24.888508  109938000   0.000000           0.0  \n",
       "8110  14.329873  704580800   0.094643           0.0  \n",
       "3988   0.172476  149150400   0.000000           0.0  \n",
       "6919   5.722223  873208000   0.000000           0.0  \n",
       "2251   0.309208  151323200   0.000000           0.0  \n",
       "6699   3.657181  994862400   0.000000           0.0  \n",
       "2476   0.206147  176041600   0.000000           0.0  \n",
       "5334   0.347893  240324000   0.000000           0.0  \n",
       "7591  10.425649  296780400   0.000000           0.0  \n",
       "8197  13.430870  285832400   0.000000           0.0  "
      ]
     },
     "execution_count": 377,
     "metadata": {},
     "output_type": "execute_result"
    }
   ],
   "source": [
    "df.sample(10)"
   ]
  },
  {
   "cell_type": "code",
   "execution_count": 378,
   "id": "b1933a6a",
   "metadata": {},
   "outputs": [],
   "source": [
    "# Save to csv\n",
    "df.to_csv(\"../../data/interim/AAPL_historical_cleaned_data\", index=False)"
   ]
  },
  {
   "cell_type": "markdown",
   "id": "15d7e3c6",
   "metadata": {},
   "source": [
    "## 6. Analyze"
   ]
  },
  {
   "cell_type": "code",
   "execution_count": null,
   "id": "40454725",
   "metadata": {},
   "outputs": [
    {
     "data": {
      "text/html": [
       "<div>\n",
       "<style scoped>\n",
       "    .dataframe tbody tr th:only-of-type {\n",
       "        vertical-align: middle;\n",
       "    }\n",
       "\n",
       "    .dataframe tbody tr th {\n",
       "        vertical-align: top;\n",
       "    }\n",
       "\n",
       "    .dataframe thead th {\n",
       "        text-align: right;\n",
       "    }\n",
       "</style>\n",
       "<table border=\"1\" class=\"dataframe\">\n",
       "  <thead>\n",
       "    <tr style=\"text-align: right;\">\n",
       "      <th></th>\n",
       "      <th>Date</th>\n",
       "      <th>open</th>\n",
       "      <th>high</th>\n",
       "      <th>low</th>\n",
       "      <th>close</th>\n",
       "      <th>adj_close</th>\n",
       "      <th>volume</th>\n",
       "      <th>dividends</th>\n",
       "      <th>stock_splits</th>\n",
       "    </tr>\n",
       "  </thead>\n",
       "  <tbody>\n",
       "    <tr>\n",
       "      <th>0</th>\n",
       "      <td>1980-12-12 00:00:00+00:00</td>\n",
       "      <td>0.128348</td>\n",
       "      <td>0.128906</td>\n",
       "      <td>0.128348</td>\n",
       "      <td>0.128348</td>\n",
       "      <td>0.098943</td>\n",
       "      <td>469033600</td>\n",
       "      <td>0.0</td>\n",
       "      <td>0.0</td>\n",
       "    </tr>\n",
       "    <tr>\n",
       "      <th>1</th>\n",
       "      <td>1980-12-15 00:00:00+00:00</td>\n",
       "      <td>0.122210</td>\n",
       "      <td>0.122210</td>\n",
       "      <td>0.121652</td>\n",
       "      <td>0.121652</td>\n",
       "      <td>0.093781</td>\n",
       "      <td>175884800</td>\n",
       "      <td>0.0</td>\n",
       "      <td>0.0</td>\n",
       "    </tr>\n",
       "    <tr>\n",
       "      <th>2</th>\n",
       "      <td>1980-12-16 00:00:00+00:00</td>\n",
       "      <td>0.113281</td>\n",
       "      <td>0.113281</td>\n",
       "      <td>0.112723</td>\n",
       "      <td>0.112723</td>\n",
       "      <td>0.086898</td>\n",
       "      <td>105728000</td>\n",
       "      <td>0.0</td>\n",
       "      <td>0.0</td>\n",
       "    </tr>\n",
       "    <tr>\n",
       "      <th>3</th>\n",
       "      <td>1980-12-17 00:00:00+00:00</td>\n",
       "      <td>0.115513</td>\n",
       "      <td>0.116071</td>\n",
       "      <td>0.115513</td>\n",
       "      <td>0.115513</td>\n",
       "      <td>0.089049</td>\n",
       "      <td>86441600</td>\n",
       "      <td>0.0</td>\n",
       "      <td>0.0</td>\n",
       "    </tr>\n",
       "    <tr>\n",
       "      <th>4</th>\n",
       "      <td>1980-12-18 00:00:00+00:00</td>\n",
       "      <td>0.118862</td>\n",
       "      <td>0.119420</td>\n",
       "      <td>0.118862</td>\n",
       "      <td>0.118862</td>\n",
       "      <td>0.091630</td>\n",
       "      <td>73449600</td>\n",
       "      <td>0.0</td>\n",
       "      <td>0.0</td>\n",
       "    </tr>\n",
       "    <tr>\n",
       "      <th>...</th>\n",
       "      <td>...</td>\n",
       "      <td>...</td>\n",
       "      <td>...</td>\n",
       "      <td>...</td>\n",
       "      <td>...</td>\n",
       "      <td>...</td>\n",
       "      <td>...</td>\n",
       "      <td>...</td>\n",
       "      <td>...</td>\n",
       "    </tr>\n",
       "    <tr>\n",
       "      <th>10993</th>\n",
       "      <td>2024-07-24 00:00:00+00:00</td>\n",
       "      <td>224.000000</td>\n",
       "      <td>224.800003</td>\n",
       "      <td>217.130005</td>\n",
       "      <td>218.539993</td>\n",
       "      <td>218.287323</td>\n",
       "      <td>61777600</td>\n",
       "      <td>0.0</td>\n",
       "      <td>0.0</td>\n",
       "    </tr>\n",
       "    <tr>\n",
       "      <th>10994</th>\n",
       "      <td>2024-07-25 00:00:00+00:00</td>\n",
       "      <td>218.929993</td>\n",
       "      <td>220.850006</td>\n",
       "      <td>214.619995</td>\n",
       "      <td>217.490005</td>\n",
       "      <td>217.238556</td>\n",
       "      <td>51391200</td>\n",
       "      <td>0.0</td>\n",
       "      <td>0.0</td>\n",
       "    </tr>\n",
       "    <tr>\n",
       "      <th>10995</th>\n",
       "      <td>2024-07-26 00:00:00+00:00</td>\n",
       "      <td>218.699997</td>\n",
       "      <td>219.490005</td>\n",
       "      <td>216.009995</td>\n",
       "      <td>217.960007</td>\n",
       "      <td>217.708008</td>\n",
       "      <td>41601300</td>\n",
       "      <td>0.0</td>\n",
       "      <td>0.0</td>\n",
       "    </tr>\n",
       "    <tr>\n",
       "      <th>10996</th>\n",
       "      <td>2024-07-29 00:00:00+00:00</td>\n",
       "      <td>216.960007</td>\n",
       "      <td>219.300003</td>\n",
       "      <td>215.750000</td>\n",
       "      <td>218.240005</td>\n",
       "      <td>217.987686</td>\n",
       "      <td>36311800</td>\n",
       "      <td>0.0</td>\n",
       "      <td>0.0</td>\n",
       "    </tr>\n",
       "    <tr>\n",
       "      <th>10997</th>\n",
       "      <td>2024-07-30 00:00:00+00:00</td>\n",
       "      <td>219.190002</td>\n",
       "      <td>220.330002</td>\n",
       "      <td>216.119995</td>\n",
       "      <td>218.800003</td>\n",
       "      <td>218.547043</td>\n",
       "      <td>41643800</td>\n",
       "      <td>0.0</td>\n",
       "      <td>0.0</td>\n",
       "    </tr>\n",
       "  </tbody>\n",
       "</table>\n",
       "<p>10998 rows × 9 columns</p>\n",
       "</div>"
      ],
      "text/plain": [
       "                           Date        open        high         low  \\\n",
       "0     1980-12-12 00:00:00+00:00    0.128348    0.128906    0.128348   \n",
       "1     1980-12-15 00:00:00+00:00    0.122210    0.122210    0.121652   \n",
       "2     1980-12-16 00:00:00+00:00    0.113281    0.113281    0.112723   \n",
       "3     1980-12-17 00:00:00+00:00    0.115513    0.116071    0.115513   \n",
       "4     1980-12-18 00:00:00+00:00    0.118862    0.119420    0.118862   \n",
       "...                         ...         ...         ...         ...   \n",
       "10993 2024-07-24 00:00:00+00:00  224.000000  224.800003  217.130005   \n",
       "10994 2024-07-25 00:00:00+00:00  218.929993  220.850006  214.619995   \n",
       "10995 2024-07-26 00:00:00+00:00  218.699997  219.490005  216.009995   \n",
       "10996 2024-07-29 00:00:00+00:00  216.960007  219.300003  215.750000   \n",
       "10997 2024-07-30 00:00:00+00:00  219.190002  220.330002  216.119995   \n",
       "\n",
       "            close   adj_close     volume  dividends  stock_splits  \n",
       "0        0.128348    0.098943  469033600        0.0           0.0  \n",
       "1        0.121652    0.093781  175884800        0.0           0.0  \n",
       "2        0.112723    0.086898  105728000        0.0           0.0  \n",
       "3        0.115513    0.089049   86441600        0.0           0.0  \n",
       "4        0.118862    0.091630   73449600        0.0           0.0  \n",
       "...           ...         ...        ...        ...           ...  \n",
       "10993  218.539993  218.287323   61777600        0.0           0.0  \n",
       "10994  217.490005  217.238556   51391200        0.0           0.0  \n",
       "10995  217.960007  217.708008   41601300        0.0           0.0  \n",
       "10996  218.240005  217.987686   36311800        0.0           0.0  \n",
       "10997  218.800003  218.547043   41643800        0.0           0.0  \n",
       "\n",
       "[10998 rows x 9 columns]"
      ]
     },
     "execution_count": 379,
     "metadata": {},
     "output_type": "execute_result"
    }
   ],
   "source": [
    "# Load the ticker analyze\n",
    "ta = TickerAnalyzer(\"AAPL\")\n",
    "ta.load_price_data_from_csv(\"../../data/interim/AAPL_historical_cleaned_data.csv\")"
   ]
  },
  {
   "cell_type": "code",
   "execution_count": 380,
   "id": "ca5100ba",
   "metadata": {},
   "outputs": [],
   "source": [
    "# Instantiate the analyzer for a specific ticker (ticker is mostly for metadata here)\n",
    "analyzer = TickerAnalyzer(ticker=\"AAPL\", period=\"1y\", interval=\"1d\")"
   ]
  },
  {
   "cell_type": "code",
   "execution_count": null,
   "id": "7a4ff3c1",
   "metadata": {},
   "outputs": [
    {
     "name": "stdout",
     "output_type": "stream",
     "text": [
      "Price Data Sample:\n",
      "                       Date      open      high       low     close  \\\n",
      "0 1980-12-12 00:00:00+00:00  0.128348  0.128906  0.128348  0.128348   \n",
      "1 1980-12-15 00:00:00+00:00  0.122210  0.122210  0.121652  0.121652   \n",
      "2 1980-12-16 00:00:00+00:00  0.113281  0.113281  0.112723  0.112723   \n",
      "3 1980-12-17 00:00:00+00:00  0.115513  0.116071  0.115513  0.115513   \n",
      "4 1980-12-18 00:00:00+00:00  0.118862  0.119420  0.118862  0.118862   \n",
      "\n",
      "   adj_close     volume  dividends  stock_splits  \n",
      "0   0.098943  469033600        0.0           0.0  \n",
      "1   0.093781  175884800        0.0           0.0  \n",
      "2   0.086898  105728000        0.0           0.0  \n",
      "3   0.089049   86441600        0.0           0.0  \n",
      "4   0.091630   73449600        0.0           0.0  \n"
     ]
    }
   ],
   "source": [
    "# Load Price Data from CSV\n",
    "price_df = analyzer.load_price_data_from_csv(CLEANED_DATA_PATH)\n",
    "\n",
    "print(\"Price Data Sample:\")\n",
    "print(price_df.head())"
   ]
  },
  {
   "cell_type": "code",
   "execution_count": null,
   "id": "7d831f9b",
   "metadata": {},
   "outputs": [
    {
     "name": "stdout",
     "output_type": "stream",
     "text": [
      "\n",
      "Price Data with Technical Indicators Sample:\n",
      "                       Date     Close  momentum_rsi     Volume  trend_macd\n",
      "0 1980-12-12 00:00:00+00:00  0.128348           NaN  469033600         NaN\n",
      "1 1980-12-15 00:00:00+00:00  0.121652           NaN  175884800         NaN\n",
      "2 1980-12-16 00:00:00+00:00  0.112723           NaN  105728000         NaN\n",
      "3 1980-12-17 00:00:00+00:00  0.115513           NaN   86441600         NaN\n",
      "4 1980-12-18 00:00:00+00:00  0.118862           NaN   73449600         NaN\n"
     ]
    }
   ],
   "source": [
    "# Add Technical Indicators ===\n",
    "analyzer.price_df.rename(\n",
    "    columns={\n",
    "        'date': 'Date',\n",
    "        'open': 'Open',\n",
    "        'high': 'High',\n",
    "        'low': 'Low',\n",
    "        'close': 'Close',\n",
    "        'volume': 'Volume'\n",
    "    }, inplace=True)\n",
    "price_with_indicators = analyzer.add_technical_indicators()\n",
    "print(\"\\nPrice Data with Technical Indicators Sample:\")\n",
    "print(price_with_indicators[['Date', 'Close','momentum_rsi', 'Volume','trend_macd']].head())"
   ]
  },
  {
   "cell_type": "code",
   "execution_count": 385,
   "id": "d2f1da39",
   "metadata": {},
   "outputs": [
    {
     "name": "stdout",
     "output_type": "stream",
     "text": [
      "{'Cumulative Return': 1797.5730088857356, 'Annualized Volatility': 0.4428139045746556, 'Sharpe Ratio': 0.5652068365184342, 'Max Drawdown': -0.8221656792419104, 'Calmar Ratio': 2186.3877978258756}\n"
     ]
    },
    {
     "data": {
      "image/png": "[encoded data removed]",
      "text/plain": [
       "<Figure size 1500x1000 with 3 Axes>"
      ]
     },
     "metadata": {},
     "output_type": "display_data"
    }
   ],
   "source": [
    "metrics = analyzer.compute_financial_metrics()\n",
    "print(metrics)\n",
    "analyzer.plot_price_and_indicators()"
   ]
  }
 ],
 "metadata": {
  "kernelspec": {
   "display_name": "venv",
   "language": "python",
   "name": "python3"
  },
  "language_info": {
   "codemirror_mode": {
    "name": "ipython",
    "version": 3
   },
   "file_extension": ".py",
   "mimetype": "text/x-python",
   "name": "python",
   "nbconvert_exporter": "python",
   "pygments_lexer": "ipython3",
   "version": "3.10.12"
  }
 },
 "nbformat": 4,
 "nbformat_minor": 5
}
