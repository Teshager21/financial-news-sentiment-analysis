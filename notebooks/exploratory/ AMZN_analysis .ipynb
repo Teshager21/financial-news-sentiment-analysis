{
 "cells": [
  {
   "cell_type": "markdown",
   "id": "8df97469",
   "metadata": {},
   "source": [
    "<div style=\"background-color:#f0f8ff; padding:10px; border-radius:10px;\">\n",
    "  <h1 style=\"text-align:center; color:#1a5276;\">\n",
    "    📈 AMZN Analysis\n",
    "  </h1>\n",
    "</div>"
   ]
  },
  {
   "cell_type": "code",
   "execution_count": 15,
   "id": "b7af41b3",
   "metadata": {},
   "outputs": [
    {
     "name": "stdout",
     "output_type": "stream",
     "text": [
      "The autoreload extension is already loaded. To reload it, use:\n",
      "  %reload_ext autoreload\n"
     ]
    }
   ],
   "source": [
    "#auto loading\n",
    "%load_ext autoreload\n",
    "%autoreload 2"
   ]
  },
  {
   "cell_type": "code",
   "execution_count": 16,
   "id": "634ee66f",
   "metadata": {},
   "outputs": [],
   "source": [
    "import warnings"
   ]
  },
  {
   "cell_type": "markdown",
   "id": "09d14dde",
   "metadata": {},
   "source": [
    "## 🧱 1. Setup & Imports"
   ]
  },
  {
   "cell_type": "code",
   "execution_count": 17,
   "id": "71b654ef",
   "metadata": {},
   "outputs": [],
   "source": [
    "import pandas as pd\n",
    "from utils.ticker_analyzer import TickerAnalyzer\n",
    "from eda.data_quality_utils import DataQualityUtils\n",
    "from data.load_data import load_local_data"
   ]
  },
  {
   "cell_type": "code",
   "execution_count": null,
   "id": "ac94d536",
   "metadata": {},
   "outputs": [],
   "source": [
    "# variables\n",
    "TICKER= 'AAPL'\n",
    "RAW_DATA_PATH='../../data/raw/yfinance_data/AMZN_historical_data.csv'\n",
    "CLEANED_DATA_PATH='../../data/interim/AMZN_historical_cleaned_data.csv'"
   ]
  },
  {
   "cell_type": "markdown",
   "id": "508c1dd7",
   "metadata": {},
   "source": [
    "### 📌 Project Overview"
   ]
  },
  {
   "cell_type": "markdown",
   "id": "5fe12101",
   "metadata": {},
   "source": [
    "#### AAPL Ticker Analysis 📊\n",
    "\n",
    "**Objective:**  \n",
    "This notebook applies the `TickerAnalyzer` class to analyze Apple Inc. (AAPL) stock performance. The analysis integrates:\n",
    "\n",
    "- Historical price data via `yfinance`\n",
    "- Technical indicators using `ta`\n",
    "- News sentiment analysis with `VADER`\n",
    "- Visualization of price movements vs. sentiment trends\n",
    "\n",
    "**Period:** Last 6 months (daily intervals)  \n",
    "**Tools:** Python, `yfinance`, `ta`, `vaderSentiment`, `matplotlib`\n",
    "\n",
    "---\n"
   ]
  },
  {
   "cell_type": "markdown",
   "id": "121c314e",
   "metadata": {},
   "source": [
    "## 📦 2. Data Loading & Overview  <a id= '2-data-loading--overview'></a>"
   ]
  },
  {
   "cell_type": "code",
   "execution_count": 19,
   "id": "d8971b5b",
   "metadata": {},
   "outputs": [
    {
     "name": "stderr",
     "output_type": "stream",
     "text": [
      "INFO:data.load_data:Loading data from: /home/teshager/Documents/10Academy/repositories/projects/financial-news-sentiment-analysis/data/raw/yfinance_data/AMZN_historical_data.csv (type=csv)\n",
      "INFO:data.load_data:Data loaded successfully. Shape: (6846, 9)\n"
     ]
    },
    {
     "data": {
      "text/html": [
       "<div>\n",
       "<style scoped>\n",
       "    .dataframe tbody tr th:only-of-type {\n",
       "        vertical-align: middle;\n",
       "    }\n",
       "\n",
       "    .dataframe tbody tr th {\n",
       "        vertical-align: top;\n",
       "    }\n",
       "\n",
       "    .dataframe thead th {\n",
       "        text-align: right;\n",
       "    }\n",
       "</style>\n",
       "<table border=\"1\" class=\"dataframe\">\n",
       "  <thead>\n",
       "    <tr style=\"text-align: right;\">\n",
       "      <th></th>\n",
       "      <th>Date</th>\n",
       "      <th>Open</th>\n",
       "      <th>High</th>\n",
       "      <th>Low</th>\n",
       "      <th>Close</th>\n",
       "      <th>Adj Close</th>\n",
       "      <th>Volume</th>\n",
       "      <th>Dividends</th>\n",
       "      <th>Stock Splits</th>\n",
       "    </tr>\n",
       "  </thead>\n",
       "  <tbody>\n",
       "    <tr>\n",
       "      <th>0</th>\n",
       "      <td>1997-05-15</td>\n",
       "      <td>0.121875</td>\n",
       "      <td>0.125000</td>\n",
       "      <td>0.096354</td>\n",
       "      <td>0.097917</td>\n",
       "      <td>0.097917</td>\n",
       "      <td>1443120000</td>\n",
       "      <td>0.0</td>\n",
       "      <td>0.0</td>\n",
       "    </tr>\n",
       "    <tr>\n",
       "      <th>1</th>\n",
       "      <td>1997-05-16</td>\n",
       "      <td>0.098438</td>\n",
       "      <td>0.098958</td>\n",
       "      <td>0.085417</td>\n",
       "      <td>0.086458</td>\n",
       "      <td>0.086458</td>\n",
       "      <td>294000000</td>\n",
       "      <td>0.0</td>\n",
       "      <td>0.0</td>\n",
       "    </tr>\n",
       "    <tr>\n",
       "      <th>2</th>\n",
       "      <td>1997-05-19</td>\n",
       "      <td>0.088021</td>\n",
       "      <td>0.088542</td>\n",
       "      <td>0.081250</td>\n",
       "      <td>0.085417</td>\n",
       "      <td>0.085417</td>\n",
       "      <td>122136000</td>\n",
       "      <td>0.0</td>\n",
       "      <td>0.0</td>\n",
       "    </tr>\n",
       "    <tr>\n",
       "      <th>3</th>\n",
       "      <td>1997-05-20</td>\n",
       "      <td>0.086458</td>\n",
       "      <td>0.087500</td>\n",
       "      <td>0.081771</td>\n",
       "      <td>0.081771</td>\n",
       "      <td>0.081771</td>\n",
       "      <td>109344000</td>\n",
       "      <td>0.0</td>\n",
       "      <td>0.0</td>\n",
       "    </tr>\n",
       "    <tr>\n",
       "      <th>4</th>\n",
       "      <td>1997-05-21</td>\n",
       "      <td>0.081771</td>\n",
       "      <td>0.082292</td>\n",
       "      <td>0.068750</td>\n",
       "      <td>0.071354</td>\n",
       "      <td>0.071354</td>\n",
       "      <td>377064000</td>\n",
       "      <td>0.0</td>\n",
       "      <td>0.0</td>\n",
       "    </tr>\n",
       "  </tbody>\n",
       "</table>\n",
       "</div>"
      ],
      "text/plain": [
       "         Date      Open      High       Low     Close  Adj Close      Volume  \\\n",
       "0  1997-05-15  0.121875  0.125000  0.096354  0.097917   0.097917  1443120000   \n",
       "1  1997-05-16  0.098438  0.098958  0.085417  0.086458   0.086458   294000000   \n",
       "2  1997-05-19  0.088021  0.088542  0.081250  0.085417   0.085417   122136000   \n",
       "3  1997-05-20  0.086458  0.087500  0.081771  0.081771   0.081771   109344000   \n",
       "4  1997-05-21  0.081771  0.082292  0.068750  0.071354   0.071354   377064000   \n",
       "\n",
       "   Dividends  Stock Splits  \n",
       "0        0.0           0.0  \n",
       "1        0.0           0.0  \n",
       "2        0.0           0.0  \n",
       "3        0.0           0.0  \n",
       "4        0.0           0.0  "
      ]
     },
     "execution_count": 19,
     "metadata": {},
     "output_type": "execute_result"
    }
   ],
   "source": [
    "# Load the stock news sentiment data\n",
    "df = load_local_data(RAW_DATA_PATH,)\n",
    "df.head()"
   ]
  },
  {
   "cell_type": "markdown",
   "id": "637af4c7",
   "metadata": {},
   "source": [
    "### Dataset Overview"
   ]
  },
  {
   "cell_type": "code",
   "execution_count": 20,
   "id": "7d5ebc45",
   "metadata": {},
   "outputs": [
    {
     "data": {
      "text/html": [
       "<div>\n",
       "<style scoped>\n",
       "    .dataframe tbody tr th:only-of-type {\n",
       "        vertical-align: middle;\n",
       "    }\n",
       "\n",
       "    .dataframe tbody tr th {\n",
       "        vertical-align: top;\n",
       "    }\n",
       "\n",
       "    .dataframe thead th {\n",
       "        text-align: right;\n",
       "    }\n",
       "</style>\n",
       "<table border=\"1\" class=\"dataframe\">\n",
       "  <thead>\n",
       "    <tr style=\"text-align: right;\">\n",
       "      <th></th>\n",
       "      <th>Date</th>\n",
       "      <th>Open</th>\n",
       "      <th>High</th>\n",
       "      <th>Low</th>\n",
       "      <th>Close</th>\n",
       "      <th>Adj Close</th>\n",
       "      <th>Volume</th>\n",
       "      <th>Dividends</th>\n",
       "      <th>Stock Splits</th>\n",
       "    </tr>\n",
       "  </thead>\n",
       "  <tbody>\n",
       "    <tr>\n",
       "      <th>2177</th>\n",
       "      <td>2006-01-10</td>\n",
       "      <td>2.320500</td>\n",
       "      <td>2.337500</td>\n",
       "      <td>2.268000</td>\n",
       "      <td>2.282500</td>\n",
       "      <td>2.282500</td>\n",
       "      <td>193722000</td>\n",
       "      <td>0.0</td>\n",
       "      <td>0.0</td>\n",
       "    </tr>\n",
       "    <tr>\n",
       "      <th>3029</th>\n",
       "      <td>2009-06-01</td>\n",
       "      <td>3.910500</td>\n",
       "      <td>4.240000</td>\n",
       "      <td>3.874500</td>\n",
       "      <td>4.152500</td>\n",
       "      <td>4.152500</td>\n",
       "      <td>215930000</td>\n",
       "      <td>0.0</td>\n",
       "      <td>0.0</td>\n",
       "    </tr>\n",
       "    <tr>\n",
       "      <th>5596</th>\n",
       "      <td>2019-08-12</td>\n",
       "      <td>89.799500</td>\n",
       "      <td>90.049004</td>\n",
       "      <td>88.849998</td>\n",
       "      <td>89.246002</td>\n",
       "      <td>89.246002</td>\n",
       "      <td>58110000</td>\n",
       "      <td>0.0</td>\n",
       "      <td>0.0</td>\n",
       "    </tr>\n",
       "    <tr>\n",
       "      <th>6090</th>\n",
       "      <td>2021-07-28</td>\n",
       "      <td>181.688995</td>\n",
       "      <td>182.921005</td>\n",
       "      <td>180.050003</td>\n",
       "      <td>181.516006</td>\n",
       "      <td>181.516006</td>\n",
       "      <td>59988000</td>\n",
       "      <td>0.0</td>\n",
       "      <td>0.0</td>\n",
       "    </tr>\n",
       "    <tr>\n",
       "      <th>3616</th>\n",
       "      <td>2011-09-27</td>\n",
       "      <td>11.711000</td>\n",
       "      <td>11.737500</td>\n",
       "      <td>11.120000</td>\n",
       "      <td>11.210500</td>\n",
       "      <td>11.210500</td>\n",
       "      <td>156750000</td>\n",
       "      <td>0.0</td>\n",
       "      <td>0.0</td>\n",
       "    </tr>\n",
       "    <tr>\n",
       "      <th>1363</th>\n",
       "      <td>2002-10-16</td>\n",
       "      <td>0.913500</td>\n",
       "      <td>0.983000</td>\n",
       "      <td>0.912500</td>\n",
       "      <td>0.974500</td>\n",
       "      <td>0.974500</td>\n",
       "      <td>174842000</td>\n",
       "      <td>0.0</td>\n",
       "      <td>0.0</td>\n",
       "    </tr>\n",
       "    <tr>\n",
       "      <th>1996</th>\n",
       "      <td>2005-04-22</td>\n",
       "      <td>1.674500</td>\n",
       "      <td>1.681500</td>\n",
       "      <td>1.645500</td>\n",
       "      <td>1.652000</td>\n",
       "      <td>1.652000</td>\n",
       "      <td>127840000</td>\n",
       "      <td>0.0</td>\n",
       "      <td>0.0</td>\n",
       "    </tr>\n",
       "    <tr>\n",
       "      <th>678</th>\n",
       "      <td>2000-01-24</td>\n",
       "      <td>3.378125</td>\n",
       "      <td>3.668750</td>\n",
       "      <td>3.375000</td>\n",
       "      <td>3.506250</td>\n",
       "      <td>3.506250</td>\n",
       "      <td>583404000</td>\n",
       "      <td>0.0</td>\n",
       "      <td>0.0</td>\n",
       "    </tr>\n",
       "    <tr>\n",
       "      <th>351</th>\n",
       "      <td>1998-10-06</td>\n",
       "      <td>0.929167</td>\n",
       "      <td>0.935417</td>\n",
       "      <td>0.866667</td>\n",
       "      <td>0.902604</td>\n",
       "      <td>0.902604</td>\n",
       "      <td>563436000</td>\n",
       "      <td>0.0</td>\n",
       "      <td>0.0</td>\n",
       "    </tr>\n",
       "    <tr>\n",
       "      <th>5797</th>\n",
       "      <td>2020-05-29</td>\n",
       "      <td>120.796997</td>\n",
       "      <td>122.118500</td>\n",
       "      <td>119.910004</td>\n",
       "      <td>122.118500</td>\n",
       "      <td>122.118500</td>\n",
       "      <td>70198000</td>\n",
       "      <td>0.0</td>\n",
       "      <td>0.0</td>\n",
       "    </tr>\n",
       "  </tbody>\n",
       "</table>\n",
       "</div>"
      ],
      "text/plain": [
       "            Date        Open        High         Low       Close   Adj Close  \\\n",
       "2177  2006-01-10    2.320500    2.337500    2.268000    2.282500    2.282500   \n",
       "3029  2009-06-01    3.910500    4.240000    3.874500    4.152500    4.152500   \n",
       "5596  2019-08-12   89.799500   90.049004   88.849998   89.246002   89.246002   \n",
       "6090  2021-07-28  181.688995  182.921005  180.050003  181.516006  181.516006   \n",
       "3616  2011-09-27   11.711000   11.737500   11.120000   11.210500   11.210500   \n",
       "1363  2002-10-16    0.913500    0.983000    0.912500    0.974500    0.974500   \n",
       "1996  2005-04-22    1.674500    1.681500    1.645500    1.652000    1.652000   \n",
       "678   2000-01-24    3.378125    3.668750    3.375000    3.506250    3.506250   \n",
       "351   1998-10-06    0.929167    0.935417    0.866667    0.902604    0.902604   \n",
       "5797  2020-05-29  120.796997  122.118500  119.910004  122.118500  122.118500   \n",
       "\n",
       "         Volume  Dividends  Stock Splits  \n",
       "2177  193722000        0.0           0.0  \n",
       "3029  215930000        0.0           0.0  \n",
       "5596   58110000        0.0           0.0  \n",
       "6090   59988000        0.0           0.0  \n",
       "3616  156750000        0.0           0.0  \n",
       "1363  174842000        0.0           0.0  \n",
       "1996  127840000        0.0           0.0  \n",
       "678   583404000        0.0           0.0  \n",
       "351   563436000        0.0           0.0  \n",
       "5797   70198000        0.0           0.0  "
      ]
     },
     "execution_count": 20,
     "metadata": {},
     "output_type": "execute_result"
    }
   ],
   "source": [
    "#view sample data\n",
    "df.sample(10)"
   ]
  },
  {
   "cell_type": "code",
   "execution_count": 21,
   "id": "252de09b",
   "metadata": {},
   "outputs": [
    {
     "data": {
      "text/html": [
       "<div>\n",
       "<style scoped>\n",
       "    .dataframe tbody tr th:only-of-type {\n",
       "        vertical-align: middle;\n",
       "    }\n",
       "\n",
       "    .dataframe tbody tr th {\n",
       "        vertical-align: top;\n",
       "    }\n",
       "\n",
       "    .dataframe thead th {\n",
       "        text-align: right;\n",
       "    }\n",
       "</style>\n",
       "<table border=\"1\" class=\"dataframe\">\n",
       "  <thead>\n",
       "    <tr style=\"text-align: right;\">\n",
       "      <th></th>\n",
       "      <th>Date</th>\n",
       "      <th>Open</th>\n",
       "      <th>High</th>\n",
       "      <th>Low</th>\n",
       "      <th>Close</th>\n",
       "      <th>Adj Close</th>\n",
       "      <th>Volume</th>\n",
       "      <th>Dividends</th>\n",
       "      <th>Stock Splits</th>\n",
       "    </tr>\n",
       "  </thead>\n",
       "  <tbody>\n",
       "    <tr>\n",
       "      <th>6841</th>\n",
       "      <td>2024-07-24</td>\n",
       "      <td>183.199997</td>\n",
       "      <td>185.449997</td>\n",
       "      <td>180.410004</td>\n",
       "      <td>180.830002</td>\n",
       "      <td>180.830002</td>\n",
       "      <td>41532400</td>\n",
       "      <td>0.0</td>\n",
       "      <td>0.0</td>\n",
       "    </tr>\n",
       "    <tr>\n",
       "      <th>6842</th>\n",
       "      <td>2024-07-25</td>\n",
       "      <td>182.910004</td>\n",
       "      <td>183.899994</td>\n",
       "      <td>176.800003</td>\n",
       "      <td>179.850006</td>\n",
       "      <td>179.850006</td>\n",
       "      <td>44464200</td>\n",
       "      <td>0.0</td>\n",
       "      <td>0.0</td>\n",
       "    </tr>\n",
       "    <tr>\n",
       "      <th>6843</th>\n",
       "      <td>2024-07-26</td>\n",
       "      <td>180.389999</td>\n",
       "      <td>183.190002</td>\n",
       "      <td>180.240005</td>\n",
       "      <td>182.500000</td>\n",
       "      <td>182.500000</td>\n",
       "      <td>29506000</td>\n",
       "      <td>0.0</td>\n",
       "      <td>0.0</td>\n",
       "    </tr>\n",
       "    <tr>\n",
       "      <th>6844</th>\n",
       "      <td>2024-07-29</td>\n",
       "      <td>183.839996</td>\n",
       "      <td>184.750000</td>\n",
       "      <td>182.380005</td>\n",
       "      <td>183.199997</td>\n",
       "      <td>183.199997</td>\n",
       "      <td>33270100</td>\n",
       "      <td>0.0</td>\n",
       "      <td>0.0</td>\n",
       "    </tr>\n",
       "    <tr>\n",
       "      <th>6845</th>\n",
       "      <td>2024-07-30</td>\n",
       "      <td>184.720001</td>\n",
       "      <td>185.860001</td>\n",
       "      <td>179.380005</td>\n",
       "      <td>181.710007</td>\n",
       "      <td>181.710007</td>\n",
       "      <td>39508600</td>\n",
       "      <td>0.0</td>\n",
       "      <td>0.0</td>\n",
       "    </tr>\n",
       "  </tbody>\n",
       "</table>\n",
       "</div>"
      ],
      "text/plain": [
       "            Date        Open        High         Low       Close   Adj Close  \\\n",
       "6841  2024-07-24  183.199997  185.449997  180.410004  180.830002  180.830002   \n",
       "6842  2024-07-25  182.910004  183.899994  176.800003  179.850006  179.850006   \n",
       "6843  2024-07-26  180.389999  183.190002  180.240005  182.500000  182.500000   \n",
       "6844  2024-07-29  183.839996  184.750000  182.380005  183.199997  183.199997   \n",
       "6845  2024-07-30  184.720001  185.860001  179.380005  181.710007  181.710007   \n",
       "\n",
       "        Volume  Dividends  Stock Splits  \n",
       "6841  41532400        0.0           0.0  \n",
       "6842  44464200        0.0           0.0  \n",
       "6843  29506000        0.0           0.0  \n",
       "6844  33270100        0.0           0.0  \n",
       "6845  39508600        0.0           0.0  "
      ]
     },
     "execution_count": 21,
     "metadata": {},
     "output_type": "execute_result"
    }
   ],
   "source": [
    "#see the last rows\n",
    "df.tail()"
   ]
  },
  {
   "cell_type": "code",
   "execution_count": 22,
   "id": "fba08a7a",
   "metadata": {},
   "outputs": [
    {
     "data": {
      "text/plain": [
       "(6846, 9)"
      ]
     },
     "execution_count": 22,
     "metadata": {},
     "output_type": "execute_result"
    }
   ],
   "source": [
    "#shape of the dataset\n",
    "df.shape"
   ]
  },
  {
   "cell_type": "code",
   "execution_count": 23,
   "id": "fbb3ee50",
   "metadata": {},
   "outputs": [
    {
     "data": {
      "text/plain": [
       "Index(['Date', 'Open', 'High', 'Low', 'Close', 'Adj Close', 'Volume',\n",
       "       'Dividends', 'Stock Splits'],\n",
       "      dtype='object')"
      ]
     },
     "execution_count": 23,
     "metadata": {},
     "output_type": "execute_result"
    }
   ],
   "source": [
    "df.columns"
   ]
  },
  {
   "cell_type": "markdown",
   "id": "e2111194",
   "metadata": {},
   "source": [
    "## 📐 3. Data Types & Basic Stats <a id='3-data-types--basic-stats'></a>"
   ]
  },
  {
   "cell_type": "code",
   "execution_count": 24,
   "id": "5c2b1440",
   "metadata": {},
   "outputs": [
    {
     "data": {
      "text/html": [
       "<div>\n",
       "<style scoped>\n",
       "    .dataframe tbody tr th:only-of-type {\n",
       "        vertical-align: middle;\n",
       "    }\n",
       "\n",
       "    .dataframe tbody tr th {\n",
       "        vertical-align: top;\n",
       "    }\n",
       "\n",
       "    .dataframe thead th {\n",
       "        text-align: right;\n",
       "    }\n",
       "</style>\n",
       "<table border=\"1\" class=\"dataframe\">\n",
       "  <thead>\n",
       "    <tr style=\"text-align: right;\">\n",
       "      <th></th>\n",
       "      <th>count</th>\n",
       "      <th>mean</th>\n",
       "      <th>std</th>\n",
       "      <th>min</th>\n",
       "      <th>25%</th>\n",
       "      <th>50%</th>\n",
       "      <th>75%</th>\n",
       "      <th>max</th>\n",
       "    </tr>\n",
       "  </thead>\n",
       "  <tbody>\n",
       "    <tr>\n",
       "      <th>Open</th>\n",
       "      <td>6846.0</td>\n",
       "      <td>3.736046e+01</td>\n",
       "      <td>5.375695e+01</td>\n",
       "      <td>7.031300e-02</td>\n",
       "      <td>2.070125e+00</td>\n",
       "      <td>8.574500e+00</td>\n",
       "      <td>5.045388e+01</td>\n",
       "      <td>2.000900e+02</td>\n",
       "    </tr>\n",
       "    <tr>\n",
       "      <th>High</th>\n",
       "      <td>6846.0</td>\n",
       "      <td>3.780101e+01</td>\n",
       "      <td>5.436645e+01</td>\n",
       "      <td>7.239600e-02</td>\n",
       "      <td>2.120625e+00</td>\n",
       "      <td>8.666750e+00</td>\n",
       "      <td>5.072325e+01</td>\n",
       "      <td>2.012000e+02</td>\n",
       "    </tr>\n",
       "    <tr>\n",
       "      <th>Low</th>\n",
       "      <td>6846.0</td>\n",
       "      <td>3.688256e+01</td>\n",
       "      <td>5.308705e+01</td>\n",
       "      <td>6.562500e-02</td>\n",
       "      <td>2.040156e+00</td>\n",
       "      <td>8.466500e+00</td>\n",
       "      <td>5.005987e+01</td>\n",
       "      <td>1.990500e+02</td>\n",
       "    </tr>\n",
       "    <tr>\n",
       "      <th>Close</th>\n",
       "      <td>6846.0</td>\n",
       "      <td>3.735110e+01</td>\n",
       "      <td>5.372991e+01</td>\n",
       "      <td>6.979200e-02</td>\n",
       "      <td>2.076750e+00</td>\n",
       "      <td>8.591500e+00</td>\n",
       "      <td>5.042650e+01</td>\n",
       "      <td>2.000000e+02</td>\n",
       "    </tr>\n",
       "    <tr>\n",
       "      <th>Adj Close</th>\n",
       "      <td>6846.0</td>\n",
       "      <td>3.735110e+01</td>\n",
       "      <td>5.372991e+01</td>\n",
       "      <td>6.979200e-02</td>\n",
       "      <td>2.076750e+00</td>\n",
       "      <td>8.591500e+00</td>\n",
       "      <td>5.042650e+01</td>\n",
       "      <td>2.000000e+02</td>\n",
       "    </tr>\n",
       "    <tr>\n",
       "      <th>Volume</th>\n",
       "      <td>6846.0</td>\n",
       "      <td>1.380713e+08</td>\n",
       "      <td>1.382346e+08</td>\n",
       "      <td>9.744000e+06</td>\n",
       "      <td>6.505442e+07</td>\n",
       "      <td>1.020650e+08</td>\n",
       "      <td>1.567560e+08</td>\n",
       "      <td>2.086584e+09</td>\n",
       "    </tr>\n",
       "    <tr>\n",
       "      <th>Dividends</th>\n",
       "      <td>6846.0</td>\n",
       "      <td>0.000000e+00</td>\n",
       "      <td>0.000000e+00</td>\n",
       "      <td>0.000000e+00</td>\n",
       "      <td>0.000000e+00</td>\n",
       "      <td>0.000000e+00</td>\n",
       "      <td>0.000000e+00</td>\n",
       "      <td>0.000000e+00</td>\n",
       "    </tr>\n",
       "    <tr>\n",
       "      <th>Stock Splits</th>\n",
       "      <td>6846.0</td>\n",
       "      <td>3.943909e-03</td>\n",
       "      <td>2.467890e-01</td>\n",
       "      <td>0.000000e+00</td>\n",
       "      <td>0.000000e+00</td>\n",
       "      <td>0.000000e+00</td>\n",
       "      <td>0.000000e+00</td>\n",
       "      <td>2.000000e+01</td>\n",
       "    </tr>\n",
       "  </tbody>\n",
       "</table>\n",
       "</div>"
      ],
      "text/plain": [
       "               count          mean           std           min           25%  \\\n",
       "Open          6846.0  3.736046e+01  5.375695e+01  7.031300e-02  2.070125e+00   \n",
       "High          6846.0  3.780101e+01  5.436645e+01  7.239600e-02  2.120625e+00   \n",
       "Low           6846.0  3.688256e+01  5.308705e+01  6.562500e-02  2.040156e+00   \n",
       "Close         6846.0  3.735110e+01  5.372991e+01  6.979200e-02  2.076750e+00   \n",
       "Adj Close     6846.0  3.735110e+01  5.372991e+01  6.979200e-02  2.076750e+00   \n",
       "Volume        6846.0  1.380713e+08  1.382346e+08  9.744000e+06  6.505442e+07   \n",
       "Dividends     6846.0  0.000000e+00  0.000000e+00  0.000000e+00  0.000000e+00   \n",
       "Stock Splits  6846.0  3.943909e-03  2.467890e-01  0.000000e+00  0.000000e+00   \n",
       "\n",
       "                       50%           75%           max  \n",
       "Open          8.574500e+00  5.045388e+01  2.000900e+02  \n",
       "High          8.666750e+00  5.072325e+01  2.012000e+02  \n",
       "Low           8.466500e+00  5.005987e+01  1.990500e+02  \n",
       "Close         8.591500e+00  5.042650e+01  2.000000e+02  \n",
       "Adj Close     8.591500e+00  5.042650e+01  2.000000e+02  \n",
       "Volume        1.020650e+08  1.567560e+08  2.086584e+09  \n",
       "Dividends     0.000000e+00  0.000000e+00  0.000000e+00  \n",
       "Stock Splits  0.000000e+00  0.000000e+00  2.000000e+01  "
      ]
     },
     "execution_count": 24,
     "metadata": {},
     "output_type": "execute_result"
    }
   ],
   "source": [
    "#Numerical Columns\n",
    "df.describe().T"
   ]
  },
  {
   "cell_type": "code",
   "execution_count": 25,
   "id": "e32e8398",
   "metadata": {},
   "outputs": [
    {
     "data": {
      "text/html": [
       "<div>\n",
       "<style scoped>\n",
       "    .dataframe tbody tr th:only-of-type {\n",
       "        vertical-align: middle;\n",
       "    }\n",
       "\n",
       "    .dataframe tbody tr th {\n",
       "        vertical-align: top;\n",
       "    }\n",
       "\n",
       "    .dataframe thead th {\n",
       "        text-align: right;\n",
       "    }\n",
       "</style>\n",
       "<table border=\"1\" class=\"dataframe\">\n",
       "  <thead>\n",
       "    <tr style=\"text-align: right;\">\n",
       "      <th></th>\n",
       "      <th>count</th>\n",
       "      <th>unique</th>\n",
       "      <th>top</th>\n",
       "      <th>freq</th>\n",
       "    </tr>\n",
       "  </thead>\n",
       "  <tbody>\n",
       "    <tr>\n",
       "      <th>Date</th>\n",
       "      <td>6846</td>\n",
       "      <td>6846</td>\n",
       "      <td>1997-05-15</td>\n",
       "      <td>1</td>\n",
       "    </tr>\n",
       "  </tbody>\n",
       "</table>\n",
       "</div>"
      ],
      "text/plain": [
       "     count unique         top freq\n",
       "Date  6846   6846  1997-05-15    1"
      ]
     },
     "execution_count": 25,
     "metadata": {},
     "output_type": "execute_result"
    }
   ],
   "source": [
    "#for columns of object type\n",
    "df.describe(include=['O']).T"
   ]
  },
  {
   "cell_type": "code",
   "execution_count": 26,
   "id": "12c32634",
   "metadata": {},
   "outputs": [
    {
     "name": "stdout",
     "output_type": "stream",
     "text": [
      "<class 'pandas.core.frame.DataFrame'>\n",
      "RangeIndex: 6846 entries, 0 to 6845\n",
      "Data columns (total 9 columns):\n",
      " #   Column        Non-Null Count  Dtype  \n",
      "---  ------        --------------  -----  \n",
      " 0   Date          6846 non-null   object \n",
      " 1   Open          6846 non-null   float64\n",
      " 2   High          6846 non-null   float64\n",
      " 3   Low           6846 non-null   float64\n",
      " 4   Close         6846 non-null   float64\n",
      " 5   Adj Close     6846 non-null   float64\n",
      " 6   Volume        6846 non-null   int64  \n",
      " 7   Dividends     6846 non-null   float64\n",
      " 8   Stock Splits  6846 non-null   float64\n",
      "dtypes: float64(7), int64(1), object(1)\n",
      "memory usage: 481.5+ KB\n"
     ]
    }
   ],
   "source": [
    "# data types of the columns\n",
    "df.info()"
   ]
  },
  {
   "cell_type": "code",
   "execution_count": 27,
   "id": "9a2a7204",
   "metadata": {},
   "outputs": [
    {
     "data": {
      "text/plain": [
       "Date            6846\n",
       "Volume          6652\n",
       "Close           6207\n",
       "Adj Close       6207\n",
       "Open            6109\n",
       "Low             6071\n",
       "High            6066\n",
       "Stock Splits       4\n",
       "Dividends          1\n",
       "dtype: int64"
      ]
     },
     "execution_count": 27,
     "metadata": {},
     "output_type": "execute_result"
    }
   ],
   "source": [
    "#distinct values in each column\n",
    "df.nunique().sort_values(ascending=False)"
   ]
  },
  {
   "cell_type": "markdown",
   "id": "cd48a90b",
   "metadata": {},
   "source": [
    "## 🔍 4. Data Quality Analysis <a id='4-data-quality-analysis'></a>"
   ]
  },
  {
   "cell_type": "code",
   "execution_count": 28,
   "id": "fda7f18c",
   "metadata": {},
   "outputs": [],
   "source": [
    "#instantiate the DataQualityUtils class\n",
    "dq=DataQualityUtils(df)"
   ]
  },
  {
   "cell_type": "code",
   "execution_count": 29,
   "id": "402fd66b",
   "metadata": {},
   "outputs": [
    {
     "data": {
      "text/html": [
       "<div>\n",
       "<style scoped>\n",
       "    .dataframe tbody tr th:only-of-type {\n",
       "        vertical-align: middle;\n",
       "    }\n",
       "\n",
       "    .dataframe tbody tr th {\n",
       "        vertical-align: top;\n",
       "    }\n",
       "\n",
       "    .dataframe thead th {\n",
       "        text-align: right;\n",
       "    }\n",
       "</style>\n",
       "<table border=\"1\" class=\"dataframe\">\n",
       "  <thead>\n",
       "    <tr style=\"text-align: right;\">\n",
       "      <th></th>\n",
       "      <th>#missing_values</th>\n",
       "      <th>percentage</th>\n",
       "    </tr>\n",
       "  </thead>\n",
       "  <tbody>\n",
       "    <tr>\n",
       "      <th>Date</th>\n",
       "      <td>0</td>\n",
       "      <td>0.00%</td>\n",
       "    </tr>\n",
       "    <tr>\n",
       "      <th>Open</th>\n",
       "      <td>0</td>\n",
       "      <td>0.00%</td>\n",
       "    </tr>\n",
       "    <tr>\n",
       "      <th>High</th>\n",
       "      <td>0</td>\n",
       "      <td>0.00%</td>\n",
       "    </tr>\n",
       "    <tr>\n",
       "      <th>Low</th>\n",
       "      <td>0</td>\n",
       "      <td>0.00%</td>\n",
       "    </tr>\n",
       "    <tr>\n",
       "      <th>Close</th>\n",
       "      <td>0</td>\n",
       "      <td>0.00%</td>\n",
       "    </tr>\n",
       "    <tr>\n",
       "      <th>Adj Close</th>\n",
       "      <td>0</td>\n",
       "      <td>0.00%</td>\n",
       "    </tr>\n",
       "    <tr>\n",
       "      <th>Volume</th>\n",
       "      <td>0</td>\n",
       "      <td>0.00%</td>\n",
       "    </tr>\n",
       "    <tr>\n",
       "      <th>Dividends</th>\n",
       "      <td>0</td>\n",
       "      <td>0.00%</td>\n",
       "    </tr>\n",
       "    <tr>\n",
       "      <th>Stock Splits</th>\n",
       "      <td>0</td>\n",
       "      <td>0.00%</td>\n",
       "    </tr>\n",
       "  </tbody>\n",
       "</table>\n",
       "</div>"
      ],
      "text/plain": [
       "              #missing_values percentage\n",
       "Date                        0      0.00%\n",
       "Open                        0      0.00%\n",
       "High                        0      0.00%\n",
       "Low                         0      0.00%\n",
       "Close                       0      0.00%\n",
       "Adj Close                   0      0.00%\n",
       "Volume                      0      0.00%\n",
       "Dividends                   0      0.00%\n",
       "Stock Splits                0      0.00%"
      ]
     },
     "execution_count": 29,
     "metadata": {},
     "output_type": "execute_result"
    }
   ],
   "source": [
    "#count of missing values per column\n",
    "dq.summary()"
   ]
  },
  {
   "cell_type": "markdown",
   "id": "f3d4dbe5",
   "metadata": {},
   "source": [
    "### Missing Values"
   ]
  },
  {
   "cell_type": "code",
   "execution_count": 30,
   "id": "b322f8a8",
   "metadata": {},
   "outputs": [
    {
     "data": {
      "text/html": [
       "<div>\n",
       "<style scoped>\n",
       "    .dataframe tbody tr th:only-of-type {\n",
       "        vertical-align: middle;\n",
       "    }\n",
       "\n",
       "    .dataframe tbody tr th {\n",
       "        vertical-align: top;\n",
       "    }\n",
       "\n",
       "    .dataframe thead th {\n",
       "        text-align: right;\n",
       "    }\n",
       "</style>\n",
       "<table border=\"1\" class=\"dataframe\">\n",
       "  <thead>\n",
       "    <tr style=\"text-align: right;\">\n",
       "      <th></th>\n",
       "      <th>#missing_values</th>\n",
       "      <th>percentage</th>\n",
       "    </tr>\n",
       "  </thead>\n",
       "  <tbody>\n",
       "  </tbody>\n",
       "</table>\n",
       "</div>"
      ],
      "text/plain": [
       "Empty DataFrame\n",
       "Columns: [#missing_values, percentage]\n",
       "Index: []"
      ]
     },
     "execution_count": 30,
     "metadata": {},
     "output_type": "execute_result"
    }
   ],
   "source": [
    "#column with >5% nulls\n",
    "dq.columns_with_significant_missing_values(threshold=5)"
   ]
  },
  {
   "cell_type": "markdown",
   "id": "440dc15d",
   "metadata": {},
   "source": [
    "### Duplicates"
   ]
  },
  {
   "cell_type": "code",
   "execution_count": 31,
   "id": "5da9df66",
   "metadata": {},
   "outputs": [
    {
     "data": {
      "text/plain": [
       "0"
      ]
     },
     "execution_count": 31,
     "metadata": {},
     "output_type": "execute_result"
    }
   ],
   "source": [
    "#count duplicates\n",
    "dq.count_duplicates()"
   ]
  },
  {
   "cell_type": "markdown",
   "id": "b1c73167",
   "metadata": {},
   "source": [
    "### Invalid Values"
   ]
  },
  {
   "cell_type": "code",
   "execution_count": 32,
   "id": "d9e6b786",
   "metadata": {},
   "outputs": [
    {
     "data": {
      "text/plain": [
       "{}"
      ]
     },
     "execution_count": 32,
     "metadata": {},
     "output_type": "execute_result"
    }
   ],
   "source": [
    "dq.find_invalid_values()"
   ]
  },
  {
   "cell_type": "markdown",
   "id": "3aa9c9d5",
   "metadata": {},
   "source": [
    "## 🧹 5. Data Cleaning  <a id='5-data-cleaning'></a>"
   ]
  },
  {
   "cell_type": "code",
   "execution_count": 33,
   "id": "98dde7ed",
   "metadata": {},
   "outputs": [],
   "source": [
    "#saving the original dataset for later use\n",
    "df_original=df.copy()"
   ]
  },
  {
   "cell_type": "markdown",
   "id": "4581d672",
   "metadata": {},
   "source": [
    "### Inconsistencies and Inaccuracies"
   ]
  },
  {
   "cell_type": "code",
   "execution_count": 34,
   "id": "0fcea5f2",
   "metadata": {},
   "outputs": [],
   "source": [
    "#drop redundancies and clean column names\n",
    "df=dq.drop_redundant_columns()"
   ]
  },
  {
   "cell_type": "code",
   "execution_count": 35,
   "id": "a60f03c9",
   "metadata": {},
   "outputs": [
    {
     "name": "stdout",
     "output_type": "stream",
     "text": [
      "[Date] Converted: 6846/6846 (0 became NaT)\n"
     ]
    }
   ],
   "source": [
    "df=dq.convert_columns_to_datetime()"
   ]
  },
  {
   "cell_type": "code",
   "execution_count": 36,
   "id": "cad094ce",
   "metadata": {},
   "outputs": [
    {
     "name": "stdout",
     "output_type": "stream",
     "text": [
      "<class 'pandas.core.frame.DataFrame'>\n",
      "RangeIndex: 6846 entries, 0 to 6845\n",
      "Data columns (total 9 columns):\n",
      " #   Column        Non-Null Count  Dtype              \n",
      "---  ------        --------------  -----              \n",
      " 0   Date          6846 non-null   datetime64[ns, UTC]\n",
      " 1   Open          6846 non-null   float64            \n",
      " 2   High          6846 non-null   float64            \n",
      " 3   Low           6846 non-null   float64            \n",
      " 4   Close         6846 non-null   float64            \n",
      " 5   Adj Close     6846 non-null   float64            \n",
      " 6   Volume        6846 non-null   int64              \n",
      " 7   Dividends     6846 non-null   float64            \n",
      " 8   Stock Splits  6846 non-null   float64            \n",
      "dtypes: datetime64[ns, UTC](1), float64(7), int64(1)\n",
      "memory usage: 481.5 KB\n"
     ]
    }
   ],
   "source": [
    "df.info()"
   ]
  },
  {
   "cell_type": "code",
   "execution_count": 37,
   "id": "b210c10f",
   "metadata": {},
   "outputs": [
    {
     "data": {
      "text/plain": [
       "Index(['Date', 'Open', 'High', 'Low', 'Close', 'Adj Close', 'Volume',\n",
       "       'Dividends', 'Stock Splits'],\n",
       "      dtype='object')"
      ]
     },
     "execution_count": 37,
     "metadata": {},
     "output_type": "execute_result"
    }
   ],
   "source": [
    "df.columns"
   ]
  },
  {
   "cell_type": "code",
   "execution_count": 38,
   "id": "a443d88f",
   "metadata": {},
   "outputs": [
    {
     "data": {
      "text/html": [
       "<div>\n",
       "<style scoped>\n",
       "    .dataframe tbody tr th:only-of-type {\n",
       "        vertical-align: middle;\n",
       "    }\n",
       "\n",
       "    .dataframe tbody tr th {\n",
       "        vertical-align: top;\n",
       "    }\n",
       "\n",
       "    .dataframe thead th {\n",
       "        text-align: right;\n",
       "    }\n",
       "</style>\n",
       "<table border=\"1\" class=\"dataframe\">\n",
       "  <thead>\n",
       "    <tr style=\"text-align: right;\">\n",
       "      <th></th>\n",
       "      <th>Date</th>\n",
       "      <th>Open</th>\n",
       "      <th>High</th>\n",
       "      <th>Low</th>\n",
       "      <th>Close</th>\n",
       "      <th>Adj Close</th>\n",
       "      <th>Volume</th>\n",
       "      <th>Dividends</th>\n",
       "      <th>Stock Splits</th>\n",
       "    </tr>\n",
       "  </thead>\n",
       "  <tbody>\n",
       "    <tr>\n",
       "      <th>6137</th>\n",
       "      <td>2021-10-04 00:00:00+00:00</td>\n",
       "      <td>163.969498</td>\n",
       "      <td>163.999496</td>\n",
       "      <td>158.812500</td>\n",
       "      <td>159.488998</td>\n",
       "      <td>159.488998</td>\n",
       "      <td>90462000</td>\n",
       "      <td>0.0</td>\n",
       "      <td>0.0</td>\n",
       "    </tr>\n",
       "    <tr>\n",
       "      <th>5804</th>\n",
       "      <td>2020-06-09 00:00:00+00:00</td>\n",
       "      <td>126.472000</td>\n",
       "      <td>131.321503</td>\n",
       "      <td>126.250000</td>\n",
       "      <td>130.042999</td>\n",
       "      <td>130.042999</td>\n",
       "      <td>103520000</td>\n",
       "      <td>0.0</td>\n",
       "      <td>0.0</td>\n",
       "    </tr>\n",
       "    <tr>\n",
       "      <th>4261</th>\n",
       "      <td>2014-04-23 00:00:00+00:00</td>\n",
       "      <td>16.653000</td>\n",
       "      <td>16.656500</td>\n",
       "      <td>16.169500</td>\n",
       "      <td>16.229000</td>\n",
       "      <td>16.229000</td>\n",
       "      <td>72092000</td>\n",
       "      <td>0.0</td>\n",
       "      <td>0.0</td>\n",
       "    </tr>\n",
       "    <tr>\n",
       "      <th>2105</th>\n",
       "      <td>2005-09-27 00:00:00+00:00</td>\n",
       "      <td>2.163000</td>\n",
       "      <td>2.186500</td>\n",
       "      <td>2.141000</td>\n",
       "      <td>2.158000</td>\n",
       "      <td>2.158000</td>\n",
       "      <td>83470000</td>\n",
       "      <td>0.0</td>\n",
       "      <td>0.0</td>\n",
       "    </tr>\n",
       "    <tr>\n",
       "      <th>286</th>\n",
       "      <td>1998-07-06 00:00:00+00:00</td>\n",
       "      <td>1.061458</td>\n",
       "      <td>1.172917</td>\n",
       "      <td>1.045833</td>\n",
       "      <td>1.162500</td>\n",
       "      <td>1.162500</td>\n",
       "      <td>937668000</td>\n",
       "      <td>0.0</td>\n",
       "      <td>0.0</td>\n",
       "    </tr>\n",
       "    <tr>\n",
       "      <th>2884</th>\n",
       "      <td>2008-10-30 00:00:00+00:00</td>\n",
       "      <td>2.938000</td>\n",
       "      <td>2.994500</td>\n",
       "      <td>2.754000</td>\n",
       "      <td>2.835500</td>\n",
       "      <td>2.835500</td>\n",
       "      <td>222514000</td>\n",
       "      <td>0.0</td>\n",
       "      <td>0.0</td>\n",
       "    </tr>\n",
       "    <tr>\n",
       "      <th>4957</th>\n",
       "      <td>2017-01-26 00:00:00+00:00</td>\n",
       "      <td>41.776501</td>\n",
       "      <td>42.192001</td>\n",
       "      <td>41.650002</td>\n",
       "      <td>41.957500</td>\n",
       "      <td>41.957500</td>\n",
       "      <td>71726000</td>\n",
       "      <td>0.0</td>\n",
       "      <td>0.0</td>\n",
       "    </tr>\n",
       "    <tr>\n",
       "      <th>2026</th>\n",
       "      <td>2005-06-06 00:00:00+00:00</td>\n",
       "      <td>1.777000</td>\n",
       "      <td>1.801000</td>\n",
       "      <td>1.774000</td>\n",
       "      <td>1.788500</td>\n",
       "      <td>1.788500</td>\n",
       "      <td>77630000</td>\n",
       "      <td>0.0</td>\n",
       "      <td>0.0</td>\n",
       "    </tr>\n",
       "    <tr>\n",
       "      <th>2195</th>\n",
       "      <td>2006-02-06 00:00:00+00:00</td>\n",
       "      <td>1.917000</td>\n",
       "      <td>1.917000</td>\n",
       "      <td>1.888500</td>\n",
       "      <td>1.897500</td>\n",
       "      <td>1.897500</td>\n",
       "      <td>170064000</td>\n",
       "      <td>0.0</td>\n",
       "      <td>0.0</td>\n",
       "    </tr>\n",
       "    <tr>\n",
       "      <th>64</th>\n",
       "      <td>1997-08-15 00:00:00+00:00</td>\n",
       "      <td>0.106771</td>\n",
       "      <td>0.107813</td>\n",
       "      <td>0.096875</td>\n",
       "      <td>0.105729</td>\n",
       "      <td>0.105729</td>\n",
       "      <td>31944000</td>\n",
       "      <td>0.0</td>\n",
       "      <td>0.0</td>\n",
       "    </tr>\n",
       "  </tbody>\n",
       "</table>\n",
       "</div>"
      ],
      "text/plain": [
       "                          Date        Open        High         Low  \\\n",
       "6137 2021-10-04 00:00:00+00:00  163.969498  163.999496  158.812500   \n",
       "5804 2020-06-09 00:00:00+00:00  126.472000  131.321503  126.250000   \n",
       "4261 2014-04-23 00:00:00+00:00   16.653000   16.656500   16.169500   \n",
       "2105 2005-09-27 00:00:00+00:00    2.163000    2.186500    2.141000   \n",
       "286  1998-07-06 00:00:00+00:00    1.061458    1.172917    1.045833   \n",
       "2884 2008-10-30 00:00:00+00:00    2.938000    2.994500    2.754000   \n",
       "4957 2017-01-26 00:00:00+00:00   41.776501   42.192001   41.650002   \n",
       "2026 2005-06-06 00:00:00+00:00    1.777000    1.801000    1.774000   \n",
       "2195 2006-02-06 00:00:00+00:00    1.917000    1.917000    1.888500   \n",
       "64   1997-08-15 00:00:00+00:00    0.106771    0.107813    0.096875   \n",
       "\n",
       "           Close   Adj Close     Volume  Dividends  Stock Splits  \n",
       "6137  159.488998  159.488998   90462000        0.0           0.0  \n",
       "5804  130.042999  130.042999  103520000        0.0           0.0  \n",
       "4261   16.229000   16.229000   72092000        0.0           0.0  \n",
       "2105    2.158000    2.158000   83470000        0.0           0.0  \n",
       "286     1.162500    1.162500  937668000        0.0           0.0  \n",
       "2884    2.835500    2.835500  222514000        0.0           0.0  \n",
       "4957   41.957500   41.957500   71726000        0.0           0.0  \n",
       "2026    1.788500    1.788500   77630000        0.0           0.0  \n",
       "2195    1.897500    1.897500  170064000        0.0           0.0  \n",
       "64      0.105729    0.105729   31944000        0.0           0.0  "
      ]
     },
     "execution_count": 38,
     "metadata": {},
     "output_type": "execute_result"
    }
   ],
   "source": [
    "df.sample(10)"
   ]
  },
  {
   "cell_type": "code",
   "execution_count": 47,
   "id": "b1933a6a",
   "metadata": {},
   "outputs": [],
   "source": [
    "# Save to csv\n",
    "df.to_csv(CLEANED_DATA_PATH, index=False)"
   ]
  },
  {
   "cell_type": "markdown",
   "id": "15d7e3c6",
   "metadata": {},
   "source": [
    "## 6. Analyze"
   ]
  },
  {
   "cell_type": "code",
   "execution_count": 48,
   "id": "40454725",
   "metadata": {},
   "outputs": [
    {
     "data": {
      "text/html": [
       "<div>\n",
       "<style scoped>\n",
       "    .dataframe tbody tr th:only-of-type {\n",
       "        vertical-align: middle;\n",
       "    }\n",
       "\n",
       "    .dataframe tbody tr th {\n",
       "        vertical-align: top;\n",
       "    }\n",
       "\n",
       "    .dataframe thead th {\n",
       "        text-align: right;\n",
       "    }\n",
       "</style>\n",
       "<table border=\"1\" class=\"dataframe\">\n",
       "  <thead>\n",
       "    <tr style=\"text-align: right;\">\n",
       "      <th></th>\n",
       "      <th>Date</th>\n",
       "      <th>Open</th>\n",
       "      <th>High</th>\n",
       "      <th>Low</th>\n",
       "      <th>Close</th>\n",
       "      <th>Adj Close</th>\n",
       "      <th>Volume</th>\n",
       "      <th>Dividends</th>\n",
       "      <th>Stock Splits</th>\n",
       "    </tr>\n",
       "  </thead>\n",
       "  <tbody>\n",
       "    <tr>\n",
       "      <th>0</th>\n",
       "      <td>1997-05-15 00:00:00+00:00</td>\n",
       "      <td>0.121875</td>\n",
       "      <td>0.125000</td>\n",
       "      <td>0.096354</td>\n",
       "      <td>0.097917</td>\n",
       "      <td>0.097917</td>\n",
       "      <td>1443120000</td>\n",
       "      <td>0.0</td>\n",
       "      <td>0.0</td>\n",
       "    </tr>\n",
       "    <tr>\n",
       "      <th>1</th>\n",
       "      <td>1997-05-16 00:00:00+00:00</td>\n",
       "      <td>0.098438</td>\n",
       "      <td>0.098958</td>\n",
       "      <td>0.085417</td>\n",
       "      <td>0.086458</td>\n",
       "      <td>0.086458</td>\n",
       "      <td>294000000</td>\n",
       "      <td>0.0</td>\n",
       "      <td>0.0</td>\n",
       "    </tr>\n",
       "    <tr>\n",
       "      <th>2</th>\n",
       "      <td>1997-05-19 00:00:00+00:00</td>\n",
       "      <td>0.088021</td>\n",
       "      <td>0.088542</td>\n",
       "      <td>0.081250</td>\n",
       "      <td>0.085417</td>\n",
       "      <td>0.085417</td>\n",
       "      <td>122136000</td>\n",
       "      <td>0.0</td>\n",
       "      <td>0.0</td>\n",
       "    </tr>\n",
       "    <tr>\n",
       "      <th>3</th>\n",
       "      <td>1997-05-20 00:00:00+00:00</td>\n",
       "      <td>0.086458</td>\n",
       "      <td>0.087500</td>\n",
       "      <td>0.081771</td>\n",
       "      <td>0.081771</td>\n",
       "      <td>0.081771</td>\n",
       "      <td>109344000</td>\n",
       "      <td>0.0</td>\n",
       "      <td>0.0</td>\n",
       "    </tr>\n",
       "    <tr>\n",
       "      <th>4</th>\n",
       "      <td>1997-05-21 00:00:00+00:00</td>\n",
       "      <td>0.081771</td>\n",
       "      <td>0.082292</td>\n",
       "      <td>0.068750</td>\n",
       "      <td>0.071354</td>\n",
       "      <td>0.071354</td>\n",
       "      <td>377064000</td>\n",
       "      <td>0.0</td>\n",
       "      <td>0.0</td>\n",
       "    </tr>\n",
       "    <tr>\n",
       "      <th>...</th>\n",
       "      <td>...</td>\n",
       "      <td>...</td>\n",
       "      <td>...</td>\n",
       "      <td>...</td>\n",
       "      <td>...</td>\n",
       "      <td>...</td>\n",
       "      <td>...</td>\n",
       "      <td>...</td>\n",
       "      <td>...</td>\n",
       "    </tr>\n",
       "    <tr>\n",
       "      <th>6841</th>\n",
       "      <td>2024-07-24 00:00:00+00:00</td>\n",
       "      <td>183.199997</td>\n",
       "      <td>185.449997</td>\n",
       "      <td>180.410004</td>\n",
       "      <td>180.830002</td>\n",
       "      <td>180.830002</td>\n",
       "      <td>41532400</td>\n",
       "      <td>0.0</td>\n",
       "      <td>0.0</td>\n",
       "    </tr>\n",
       "    <tr>\n",
       "      <th>6842</th>\n",
       "      <td>2024-07-25 00:00:00+00:00</td>\n",
       "      <td>182.910004</td>\n",
       "      <td>183.899994</td>\n",
       "      <td>176.800003</td>\n",
       "      <td>179.850006</td>\n",
       "      <td>179.850006</td>\n",
       "      <td>44464200</td>\n",
       "      <td>0.0</td>\n",
       "      <td>0.0</td>\n",
       "    </tr>\n",
       "    <tr>\n",
       "      <th>6843</th>\n",
       "      <td>2024-07-26 00:00:00+00:00</td>\n",
       "      <td>180.389999</td>\n",
       "      <td>183.190002</td>\n",
       "      <td>180.240005</td>\n",
       "      <td>182.500000</td>\n",
       "      <td>182.500000</td>\n",
       "      <td>29506000</td>\n",
       "      <td>0.0</td>\n",
       "      <td>0.0</td>\n",
       "    </tr>\n",
       "    <tr>\n",
       "      <th>6844</th>\n",
       "      <td>2024-07-29 00:00:00+00:00</td>\n",
       "      <td>183.839996</td>\n",
       "      <td>184.750000</td>\n",
       "      <td>182.380005</td>\n",
       "      <td>183.199997</td>\n",
       "      <td>183.199997</td>\n",
       "      <td>33270100</td>\n",
       "      <td>0.0</td>\n",
       "      <td>0.0</td>\n",
       "    </tr>\n",
       "    <tr>\n",
       "      <th>6845</th>\n",
       "      <td>2024-07-30 00:00:00+00:00</td>\n",
       "      <td>184.720001</td>\n",
       "      <td>185.860001</td>\n",
       "      <td>179.380005</td>\n",
       "      <td>181.710007</td>\n",
       "      <td>181.710007</td>\n",
       "      <td>39508600</td>\n",
       "      <td>0.0</td>\n",
       "      <td>0.0</td>\n",
       "    </tr>\n",
       "  </tbody>\n",
       "</table>\n",
       "<p>6846 rows × 9 columns</p>\n",
       "</div>"
      ],
      "text/plain": [
       "                          Date        Open        High         Low  \\\n",
       "0    1997-05-15 00:00:00+00:00    0.121875    0.125000    0.096354   \n",
       "1    1997-05-16 00:00:00+00:00    0.098438    0.098958    0.085417   \n",
       "2    1997-05-19 00:00:00+00:00    0.088021    0.088542    0.081250   \n",
       "3    1997-05-20 00:00:00+00:00    0.086458    0.087500    0.081771   \n",
       "4    1997-05-21 00:00:00+00:00    0.081771    0.082292    0.068750   \n",
       "...                        ...         ...         ...         ...   \n",
       "6841 2024-07-24 00:00:00+00:00  183.199997  185.449997  180.410004   \n",
       "6842 2024-07-25 00:00:00+00:00  182.910004  183.899994  176.800003   \n",
       "6843 2024-07-26 00:00:00+00:00  180.389999  183.190002  180.240005   \n",
       "6844 2024-07-29 00:00:00+00:00  183.839996  184.750000  182.380005   \n",
       "6845 2024-07-30 00:00:00+00:00  184.720001  185.860001  179.380005   \n",
       "\n",
       "           Close   Adj Close      Volume  Dividends  Stock Splits  \n",
       "0       0.097917    0.097917  1443120000        0.0           0.0  \n",
       "1       0.086458    0.086458   294000000        0.0           0.0  \n",
       "2       0.085417    0.085417   122136000        0.0           0.0  \n",
       "3       0.081771    0.081771   109344000        0.0           0.0  \n",
       "4       0.071354    0.071354   377064000        0.0           0.0  \n",
       "...          ...         ...         ...        ...           ...  \n",
       "6841  180.830002  180.830002    41532400        0.0           0.0  \n",
       "6842  179.850006  179.850006    44464200        0.0           0.0  \n",
       "6843  182.500000  182.500000    29506000        0.0           0.0  \n",
       "6844  183.199997  183.199997    33270100        0.0           0.0  \n",
       "6845  181.710007  181.710007    39508600        0.0           0.0  \n",
       "\n",
       "[6846 rows x 9 columns]"
      ]
     },
     "execution_count": 48,
     "metadata": {},
     "output_type": "execute_result"
    }
   ],
   "source": [
    "# Load the ticker analyze\n",
    "ta = TickerAnalyzer(\"AAPL\")\n",
    "ta.load_price_data_from_csv(CLEANED_DATA_PATH)"
   ]
  },
  {
   "cell_type": "code",
   "execution_count": 49,
   "id": "ca5100ba",
   "metadata": {},
   "outputs": [],
   "source": [
    "# Instantiate the analyzer for a specific ticker (ticker is mostly for metadata here)\n",
    "analyzer = TickerAnalyzer(ticker=\"AAPL\", period=\"1y\", interval=\"1d\")"
   ]
  },
  {
   "cell_type": "code",
   "execution_count": 50,
   "id": "7a4ff3c1",
   "metadata": {},
   "outputs": [
    {
     "name": "stdout",
     "output_type": "stream",
     "text": [
      "Price Data Sample:\n",
      "                       Date      Open      High       Low     Close  \\\n",
      "0 1997-05-15 00:00:00+00:00  0.121875  0.125000  0.096354  0.097917   \n",
      "1 1997-05-16 00:00:00+00:00  0.098438  0.098958  0.085417  0.086458   \n",
      "2 1997-05-19 00:00:00+00:00  0.088021  0.088542  0.081250  0.085417   \n",
      "3 1997-05-20 00:00:00+00:00  0.086458  0.087500  0.081771  0.081771   \n",
      "4 1997-05-21 00:00:00+00:00  0.081771  0.082292  0.068750  0.071354   \n",
      "\n",
      "   Adj Close      Volume  Dividends  Stock Splits  \n",
      "0   0.097917  1443120000        0.0           0.0  \n",
      "1   0.086458   294000000        0.0           0.0  \n",
      "2   0.085417   122136000        0.0           0.0  \n",
      "3   0.081771   109344000        0.0           0.0  \n",
      "4   0.071354   377064000        0.0           0.0  \n"
     ]
    }
   ],
   "source": [
    "# Load Price Data from CSV\n",
    "price_df = analyzer.load_price_data_from_csv(CLEANED_DATA_PATH)\n",
    "\n",
    "print(\"Price Data Sample:\")\n",
    "print(price_df.head())"
   ]
  },
  {
   "cell_type": "code",
   "execution_count": 51,
   "id": "7d831f9b",
   "metadata": {},
   "outputs": [
    {
     "name": "stdout",
     "output_type": "stream",
     "text": [
      "\n",
      "Price Data with Technical Indicators Sample:\n",
      "                       Date     Close  momentum_rsi      Volume  trend_macd\n",
      "0 1997-05-15 00:00:00+00:00  0.097917           NaN  1443120000         NaN\n",
      "1 1997-05-16 00:00:00+00:00  0.086458           NaN   294000000         NaN\n",
      "2 1997-05-19 00:00:00+00:00  0.085417           NaN   122136000         NaN\n",
      "3 1997-05-20 00:00:00+00:00  0.081771           NaN   109344000         NaN\n",
      "4 1997-05-21 00:00:00+00:00  0.071354           NaN   377064000         NaN\n"
     ]
    }
   ],
   "source": [
    "# Add Technical Indicators ===\n",
    "analyzer.price_df.rename(\n",
    "    columns={\n",
    "        'date': 'Date',\n",
    "        'open': 'Open',\n",
    "        'high': 'High',\n",
    "        'low': 'Low',\n",
    "        'close': 'Close',\n",
    "        'volume': 'Volume'\n",
    "    }, inplace=True)\n",
    "price_with_indicators = analyzer.add_technical_indicators()\n",
    "print(\"\\nPrice Data with Technical Indicators Sample:\")\n",
    "print(price_with_indicators[['Date', 'Close','momentum_rsi', 'Volume','trend_macd']].head())"
   ]
  },
  {
   "cell_type": "code",
   "execution_count": 52,
   "id": "d2f1da39",
   "metadata": {},
   "outputs": [
    {
     "name": "stdout",
     "output_type": "stream",
     "text": [
      "{'Cumulative Return': 2100.714264047246, 'Annualized Volatility': 0.5624201280659038, 'Sharpe Ratio': 0.7332506315915082, 'Max Drawdown': -0.9440421779932859, 'Calmar Ratio': 2225.233483224927}\n"
     ]
    },
    {
     "data": {
      "image/png": "[encoded data removed]",
      "text/plain": [
       "<Figure size 1500x1000 with 3 Axes>"
      ]
     },
     "metadata": {},
     "output_type": "display_data"
    }
   ],
   "source": [
    "metrics = analyzer.compute_financial_metrics()\n",
    "print(metrics)\n",
    "analyzer.plot_price_and_indicators()"
   ]
  }
 ],
 "metadata": {
  "kernelspec": {
   "display_name": "venv",
   "language": "python",
   "name": "python3"
  },
  "language_info": {
   "codemirror_mode": {
    "name": "ipython",
    "version": 3
   },
   "file_extension": ".py",
   "mimetype": "text/x-python",
   "name": "python",
   "nbconvert_exporter": "python",
   "pygments_lexer": "ipython3",
   "version": "3.10.12"
  }
 },
 "nbformat": 4,
 "nbformat_minor": 5
}
